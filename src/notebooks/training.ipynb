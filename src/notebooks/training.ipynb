{
 "cells": [
  {
   "cell_type": "code",
   "execution_count": 110,
   "metadata": {},
   "outputs": [
    {
     "name": "stdout",
     "output_type": "stream",
     "text": [
      "The autoreload extension is already loaded. To reload it, use:\n",
      "  %reload_ext autoreload\n"
     ]
    }
   ],
   "source": [
    "%load_ext autoreload\n",
    "%autoreload 2\n",
    "\n",
    "import sys\n",
    "sys.path.append('/workspace')\n",
    "\n",
    "import os\n",
    "import pytorch_lightning as pl\n",
    "from dataclasses import asdict\n",
    "from pprint import pprint\n",
    "\n",
    "from src.preare_model import ModelClassifier\n",
    "from src.prepare_data import ImageDataModule\n",
    "from config.default import TrainingConfig\n",
    "from config.list_models import list_models\n",
    "from config.list_optimizer import ListOptimizer\n",
    "from src.helper.utils import override_config"
   ]
  },
  {
   "cell_type": "code",
   "execution_count": 116,
   "metadata": {},
   "outputs": [
    {
     "name": "stderr",
     "output_type": "stream",
     "text": [
      "Global seed set to 76\n",
      "GPU available: True (cuda), used: True\n",
      "TPU available: False, using: 0 TPU cores\n",
      "IPU available: False, using: 0 IPUs\n",
      "HPU available: False, using: 0 HPUs\n"
     ]
    }
   ],
   "source": [
    "\n",
    "conf = TrainingConfig()\n",
    "# pprint(asdict(conf))\n",
    "\n",
    "pl.seed_everything(conf.data.random_seed)\n",
    "data_module = ImageDataModule(conf)\n",
    "model_classifier = ModelClassifier(conf)\n",
    "\n",
    "# create callbacks\n",
    "trainer = pl.Trainer(\n",
    "    max_epochs=conf.hyp.epoch,\n",
    "    accelerator='gpu', \n",
    "    devices=1,\n",
    "    logger=True,\n",
    "    callbacks=[]\n",
    ")\n"
   ]
  },
  {
   "cell_type": "code",
   "execution_count": 117,
   "metadata": {},
   "outputs": [
    {
     "name": "stdout",
     "output_type": "stream",
     "text": [
      "DATADIR:  /workspace/dataset/simple\n"
     ]
    },
    {
     "name": "stderr",
     "output_type": "stream",
     "text": [
      "LOCAL_RANK: 0 - CUDA_VISIBLE_DEVICES: [0]\n",
      "\n",
      "  | Name       | Type             | Params\n",
      "------------------------------------------------\n",
      "0 | model      | EdgeNeXt         | 2.1 M \n",
      "1 | train_loss | CrossEntropyLoss | 0     \n",
      "2 | val_loss   | CrossEntropyLoss | 0     \n",
      "3 | train_acc  | Accuracy         | 0     \n",
      "4 | val_acc    | Accuracy         | 0     \n",
      "5 | test_acc   | Accuracy         | 0     \n",
      "6 | train_cm   | ConfusionMatrix  | 0     \n",
      "------------------------------------------------\n",
      "2.1 M     Trainable params\n",
      "0         Non-trainable params\n",
      "2.1 M     Total params\n",
      "8.579     Total estimated model params size (MB)\n"
     ]
    },
    {
     "name": "stdout",
     "output_type": "stream",
     "text": [
      "Sanity Checking: 0it [00:00, ?it/s]"
     ]
    },
    {
     "name": "stderr",
     "output_type": "stream",
     "text": [
      "/opt/conda/lib/python3.7/site-packages/pytorch_lightning/trainer/connectors/data_connector.py:230: PossibleUserWarning: The dataloader, val_dataloader 0, does not have many workers which may be a bottleneck. Consider increasing the value of the `num_workers` argument` (try 16 which is the number of cpus on this machine) in the `DataLoader` init to improve performance.\n",
      "  category=PossibleUserWarning,\n"
     ]
    },
    {
     "name": "stdout",
     "output_type": "stream",
     "text": [
      "Sanity Checking DataLoader 0: 100%|██████████| 2/2 [00:00<00:00, 11.01it/s]\n",
      "valid_epoch_end: torch.Size([40])\n",
      "              Empty_pd  Unripe_pd  Underripe_pd  Ripe_pd  Overripe_pd\n",
      "Empty_gt             0          0             0        3            0\n",
      "Unripe_gt            0          2             0       13            0\n",
      "Underripe_gt         0          0             0       12            0\n",
      "Ripe_gt              1          0             0        6            0\n",
      "Overripe_gt          0          1             0        2            0\n",
      "tensor(0.2292, device='cuda:0') tensor(1.5623, device='cuda:0')\n",
      "                                                                           "
     ]
    },
    {
     "name": "stderr",
     "output_type": "stream",
     "text": [
      "/opt/conda/lib/python3.7/site-packages/pytorch_lightning/trainer/connectors/data_connector.py:230: PossibleUserWarning: The dataloader, train_dataloader, does not have many workers which may be a bottleneck. Consider increasing the value of the `num_workers` argument` (try 16 which is the number of cpus on this machine) in the `DataLoader` init to improve performance.\n",
      "  category=PossibleUserWarning,\n",
      "/opt/conda/lib/python3.7/site-packages/pytorch_lightning/trainer/trainer.py:1896: PossibleUserWarning: The number of training batches (14) is smaller than the logging interval Trainer(log_every_n_steps=50). Set a lower value for log_every_n_steps if you want to see logs for the training epoch.\n",
      "  category=PossibleUserWarning,\n"
     ]
    },
    {
     "name": "stdout",
     "output_type": "stream",
     "text": [
      "Epoch 0:   0%|          | 0/16 [00:00<?, ?it/s] \n",
      "len_labels_step: 24\n",
      "Epoch 0:   6%|▋         | 1/16 [00:00<00:04,  3.17it/s, loss=1.61, v_num=22]\n",
      "len_labels_step: 24\n",
      "Epoch 0:  12%|█▎        | 2/16 [00:00<00:04,  3.16it/s, loss=1.61, v_num=22]\n",
      "len_labels_step: 24\n",
      "Epoch 0:  19%|█▉        | 3/16 [00:00<00:04,  3.10it/s, loss=1.58, v_num=22]\n",
      "len_labels_step: 24\n",
      "Epoch 0:  25%|██▌       | 4/16 [00:01<00:04,  3.00it/s, loss=1.56, v_num=22]\n",
      "len_labels_step: 24\n",
      "Epoch 0:  31%|███▏      | 5/16 [00:01<00:03,  3.07it/s, loss=1.51, v_num=22]\n",
      "len_labels_step: 24\n",
      "Epoch 0:  38%|███▊      | 6/16 [00:01<00:03,  3.07it/s, loss=1.5, v_num=22] \n",
      "len_labels_step: 24\n",
      "Epoch 0:  44%|████▍     | 7/16 [00:02<00:02,  3.06it/s, loss=1.49, v_num=22]\n",
      "len_labels_step: 24\n",
      "Epoch 0:  50%|█████     | 8/16 [00:02<00:02,  3.05it/s, loss=1.5, v_num=22] \n",
      "len_labels_step: 24\n",
      "Epoch 0:  56%|█████▋    | 9/16 [00:02<00:02,  3.04it/s, loss=1.51, v_num=22]\n",
      "len_labels_step: 24\n",
      "Epoch 0:  62%|██████▎   | 10/16 [00:03<00:01,  3.03it/s, loss=1.5, v_num=22] \n",
      "len_labels_step: 24\n",
      "Epoch 0:  69%|██████▉   | 11/16 [00:03<00:01,  3.01it/s, loss=1.48, v_num=22]\n",
      "len_labels_step: 24\n",
      "Epoch 0:  75%|███████▌  | 12/16 [00:04<00:01,  2.99it/s, loss=1.49, v_num=22]\n",
      "len_labels_step: 24\n",
      "Epoch 0:  81%|████████▏ | 13/16 [00:04<00:01,  2.97it/s, loss=1.49, v_num=22]\n",
      "len_labels_step: 21\n",
      "Epoch 0: 100%|██████████| 16/16 [00:05<00:00,  3.14it/s, loss=1.49, v_num=22]\n",
      "valid_epoch_end: torch.Size([40])\n",
      "              Empty_pd  Unripe_pd  Underripe_pd  Ripe_pd  Overripe_pd\n",
      "Empty_gt             0          2             1        0            0\n",
      "Unripe_gt            0          8             6        1            0\n",
      "Underripe_gt         0          6             5        1            0\n",
      "Ripe_gt              0          3             3        0            1\n",
      "Overripe_gt          0          2             1        0            0\n",
      "tensor(0.2917, device='cuda:0') tensor(1.4801, device='cuda:0')\n",
      "Epoch 0: 100%|██████████| 16/16 [00:05<00:00,  3.14it/s, loss=1.49, v_num=22]\n",
      "training_epoch_end: torch.Size([333])\n",
      "              Empty_pd  Unripe_pd  Underripe_pd  Ripe_pd  Overripe_pd\n",
      "Empty_gt             1         18             1        8            0\n",
      "Unripe_gt            0         94            15       15            0\n",
      "Underripe_gt         1         74             9       10            2\n",
      "Ripe_gt              0         34            11       11            1\n",
      "Overripe_gt          0         20             6        1            1\n",
      "tensor(0.3486, device='cuda:0') tensor(1.4862, device='cuda:0')\n",
      "Epoch 1:   0%|          | 0/16 [00:00<?, ?it/s, loss=1.49, v_num=22]         \n",
      "len_labels_step: 24\n",
      "Epoch 1:   6%|▋         | 1/16 [00:00<00:05,  2.77it/s, loss=1.48, v_num=22]\n",
      "len_labels_step: 24\n",
      "Epoch 1:  12%|█▎        | 2/16 [00:00<00:04,  2.91it/s, loss=1.47, v_num=22]\n",
      "len_labels_step: 24\n",
      "Epoch 1:  19%|█▉        | 3/16 [00:01<00:04,  2.88it/s, loss=1.48, v_num=22]\n",
      "len_labels_step: 24\n",
      "Epoch 1:  25%|██▌       | 4/16 [00:01<00:04,  2.94it/s, loss=1.49, v_num=22]\n",
      "len_labels_step: 24\n",
      "Epoch 1:  31%|███▏      | 5/16 [00:01<00:03,  2.92it/s, loss=1.49, v_num=22]\n",
      "len_labels_step: 24\n",
      "Epoch 1:  38%|███▊      | 6/16 [00:02<00:03,  2.91it/s, loss=1.49, v_num=22]\n",
      "len_labels_step: 24\n",
      "Epoch 1:  44%|████▍     | 7/16 [00:02<00:03,  2.92it/s, loss=1.47, v_num=22]\n",
      "len_labels_step: 24\n",
      "Epoch 1:  50%|█████     | 8/16 [00:02<00:02,  2.94it/s, loss=1.47, v_num=22]\n",
      "len_labels_step: 24\n",
      "Epoch 1:  56%|█████▋    | 9/16 [00:03<00:02,  2.92it/s, loss=1.48, v_num=22]\n",
      "len_labels_step: 24\n",
      "Epoch 1:  62%|██████▎   | 10/16 [00:03<00:02,  2.93it/s, loss=1.46, v_num=22]\n",
      "len_labels_step: 24\n",
      "Epoch 1:  69%|██████▉   | 11/16 [00:03<00:01,  2.97it/s, loss=1.46, v_num=22]\n",
      "len_labels_step: 24\n",
      "Epoch 1:  75%|███████▌  | 12/16 [00:04<00:01,  2.99it/s, loss=1.46, v_num=22]\n",
      "len_labels_step: 24\n",
      "Epoch 1:  81%|████████▏ | 13/16 [00:04<00:01,  2.98it/s, loss=1.47, v_num=22]\n",
      "len_labels_step: 21\n",
      "Epoch 1: 100%|██████████| 16/16 [00:05<00:00,  3.17it/s, loss=1.46, v_num=22]\n",
      "valid_epoch_end: torch.Size([40])\n",
      "              Empty_pd  Unripe_pd  Underripe_pd  Ripe_pd  Overripe_pd\n",
      "Empty_gt             0          3             0        0            0\n",
      "Unripe_gt            0         14             0        1            0\n",
      "Underripe_gt         0         12             0        0            0\n",
      "Ripe_gt              0          7             0        0            0\n",
      "Overripe_gt          0          3             0        0            0\n",
      "tensor(0.2917, device='cuda:0') tensor(1.4830, device='cuda:0')\n",
      "Epoch 1: 100%|██████████| 16/16 [00:05<00:00,  3.17it/s, loss=1.46, v_num=22]\n",
      "training_epoch_end: torch.Size([333])\n",
      "              Empty_pd  Unripe_pd  Underripe_pd  Ripe_pd  Overripe_pd\n",
      "Empty_gt             0         26             1        1            0\n",
      "Unripe_gt            0        115             6        3            0\n",
      "Underripe_gt         0         84             2       10            0\n",
      "Ripe_gt              0         47             2        8            0\n",
      "Overripe_gt          0         26             1        1            0\n",
      "tensor(0.3750, device='cuda:0') tensor(1.4574, device='cuda:0')\n",
      "Epoch 2:   0%|          | 0/16 [00:00<?, ?it/s, loss=1.46, v_num=22]         \n",
      "len_labels_step: 24\n",
      "Epoch 2:   6%|▋         | 1/16 [00:00<00:04,  3.12it/s, loss=1.45, v_num=22]\n",
      "len_labels_step: 24\n",
      "Epoch 2:  12%|█▎        | 2/16 [00:00<00:04,  3.13it/s, loss=1.45, v_num=22]\n",
      "len_labels_step: 24\n",
      "Epoch 2:  19%|█▉        | 3/16 [00:00<00:04,  3.17it/s, loss=1.45, v_num=22]\n",
      "len_labels_step: 24\n",
      "Epoch 2:  25%|██▌       | 4/16 [00:01<00:03,  3.11it/s, loss=1.45, v_num=22]\n",
      "len_labels_step: 24\n",
      "Epoch 2:  31%|███▏      | 5/16 [00:01<00:03,  3.10it/s, loss=1.45, v_num=22]\n",
      "len_labels_step: 24\n",
      "Epoch 2:  38%|███▊      | 6/16 [00:01<00:03,  3.12it/s, loss=1.45, v_num=22]\n",
      "len_labels_step: 24\n",
      "Epoch 2:  44%|████▍     | 7/16 [00:02<00:02,  3.10it/s, loss=1.45, v_num=22]\n",
      "len_labels_step: 24\n",
      "Epoch 2:  50%|█████     | 8/16 [00:02<00:02,  3.14it/s, loss=1.45, v_num=22]\n",
      "len_labels_step: 24\n",
      "Epoch 2:  56%|█████▋    | 9/16 [00:02<00:02,  3.13it/s, loss=1.45, v_num=22]\n",
      "len_labels_step: 24\n",
      "Epoch 2:  62%|██████▎   | 10/16 [00:03<00:01,  3.14it/s, loss=1.44, v_num=22]\n",
      "len_labels_step: 24\n",
      "Epoch 2:  69%|██████▉   | 11/16 [00:03<00:01,  3.11it/s, loss=1.44, v_num=22]\n",
      "len_labels_step: 24\n",
      "Epoch 2:  75%|███████▌  | 12/16 [00:03<00:01,  3.07it/s, loss=1.43, v_num=22]\n",
      "len_labels_step: 24\n",
      "Epoch 2:  81%|████████▏ | 13/16 [00:04<00:00,  3.08it/s, loss=1.44, v_num=22]\n",
      "len_labels_step: 21\n",
      "Epoch 2: 100%|██████████| 16/16 [00:04<00:00,  3.23it/s, loss=1.43, v_num=22]\n",
      "valid_epoch_end: torch.Size([40])\n",
      "              Empty_pd  Unripe_pd  Underripe_pd  Ripe_pd  Overripe_pd\n",
      "Empty_gt             0          3             0        0            0\n",
      "Unripe_gt            0         12             0        3            0\n",
      "Underripe_gt         0         10             0        2            0\n",
      "Ripe_gt              0          5             1        1            0\n",
      "Overripe_gt          0          3             0        0            0\n",
      "tensor(0.2812, device='cuda:0') tensor(1.5217, device='cuda:0')\n",
      "Epoch 2: 100%|██████████| 16/16 [00:04<00:00,  3.23it/s, loss=1.43, v_num=22]\n",
      "training_epoch_end: torch.Size([333])\n",
      "              Empty_pd  Unripe_pd  Underripe_pd  Ripe_pd  Overripe_pd\n",
      "Empty_gt             0         17            10        1            0\n",
      "Unripe_gt            0         90            28        6            0\n",
      "Underripe_gt         0         46            41        9            0\n",
      "Ripe_gt              0         31            14       12            0\n",
      "Overripe_gt          0         16             8        4            0\n",
      "tensor(0.4298, device='cuda:0') tensor(1.4242, device='cuda:0')\n",
      "Epoch 2: 100%|██████████| 16/16 [00:04<00:00,  3.22it/s, loss=1.43, v_num=22]"
     ]
    },
    {
     "name": "stderr",
     "output_type": "stream",
     "text": [
      "`Trainer.fit` stopped: `max_epochs=3` reached.\n"
     ]
    },
    {
     "name": "stdout",
     "output_type": "stream",
     "text": [
      "Epoch 2: 100%|██████████| 16/16 [00:05<00:00,  3.17it/s, loss=1.43, v_num=22]\n"
     ]
    }
   ],
   "source": [
    "\n",
    "trainer.fit(model=model_classifier, datamodule=data_module)\n",
    "# trainer.test(datamodule=data_module)"
   ]
  },
  {
   "cell_type": "code",
   "execution_count": 5,
   "metadata": {},
   "outputs": [],
   "source": [
    "import plotly.express as px\n",
    "import pandas as pd\n",
    "import numpy as np\n",
    "\n",
    "df = px.data.medals_wide(indexed=True)\n",
    "\n"
   ]
  },
  {
   "cell_type": "code",
   "execution_count": 12,
   "metadata": {},
   "outputs": [
    {
     "ename": "ValueError",
     "evalue": "Mime type rendering requires nbformat>=4.2.0 but it is not installed",
     "output_type": "error",
     "traceback": [
      "\u001b[0;31m---------------------------------------------------------------------------\u001b[0m",
      "\u001b[0;31mValueError\u001b[0m                                Traceback (most recent call last)",
      "\u001b[0;32m/opt/conda/lib/python3.7/site-packages/IPython/core/formatters.py\u001b[0m in \u001b[0;36m__call__\u001b[0;34m(self, obj)\u001b[0m\n\u001b[1;32m    916\u001b[0m             \u001b[0mmethod\u001b[0m \u001b[0;34m=\u001b[0m \u001b[0mget_real_method\u001b[0m\u001b[0;34m(\u001b[0m\u001b[0mobj\u001b[0m\u001b[0;34m,\u001b[0m \u001b[0mself\u001b[0m\u001b[0;34m.\u001b[0m\u001b[0mprint_method\u001b[0m\u001b[0;34m)\u001b[0m\u001b[0;34m\u001b[0m\u001b[0;34m\u001b[0m\u001b[0m\n\u001b[1;32m    917\u001b[0m             \u001b[0;32mif\u001b[0m \u001b[0mmethod\u001b[0m \u001b[0;32mis\u001b[0m \u001b[0;32mnot\u001b[0m \u001b[0;32mNone\u001b[0m\u001b[0;34m:\u001b[0m\u001b[0;34m\u001b[0m\u001b[0;34m\u001b[0m\u001b[0m\n\u001b[0;32m--> 918\u001b[0;31m                 \u001b[0mmethod\u001b[0m\u001b[0;34m(\u001b[0m\u001b[0;34m)\u001b[0m\u001b[0;34m\u001b[0m\u001b[0;34m\u001b[0m\u001b[0m\n\u001b[0m\u001b[1;32m    919\u001b[0m                 \u001b[0;32mreturn\u001b[0m \u001b[0;32mTrue\u001b[0m\u001b[0;34m\u001b[0m\u001b[0;34m\u001b[0m\u001b[0m\n\u001b[1;32m    920\u001b[0m \u001b[0;34m\u001b[0m\u001b[0m\n",
      "\u001b[0;32m/opt/conda/lib/python3.7/site-packages/plotly/basedatatypes.py\u001b[0m in \u001b[0;36m_ipython_display_\u001b[0;34m(self)\u001b[0m\n\u001b[1;32m    840\u001b[0m \u001b[0;34m\u001b[0m\u001b[0m\n\u001b[1;32m    841\u001b[0m         \u001b[0;32mif\u001b[0m \u001b[0mpio\u001b[0m\u001b[0;34m.\u001b[0m\u001b[0mrenderers\u001b[0m\u001b[0;34m.\u001b[0m\u001b[0mrender_on_display\u001b[0m \u001b[0;32mand\u001b[0m \u001b[0mpio\u001b[0m\u001b[0;34m.\u001b[0m\u001b[0mrenderers\u001b[0m\u001b[0;34m.\u001b[0m\u001b[0mdefault\u001b[0m\u001b[0;34m:\u001b[0m\u001b[0;34m\u001b[0m\u001b[0;34m\u001b[0m\u001b[0m\n\u001b[0;32m--> 842\u001b[0;31m             \u001b[0mpio\u001b[0m\u001b[0;34m.\u001b[0m\u001b[0mshow\u001b[0m\u001b[0;34m(\u001b[0m\u001b[0mself\u001b[0m\u001b[0;34m)\u001b[0m\u001b[0;34m\u001b[0m\u001b[0;34m\u001b[0m\u001b[0m\n\u001b[0m\u001b[1;32m    843\u001b[0m         \u001b[0;32melse\u001b[0m\u001b[0;34m:\u001b[0m\u001b[0;34m\u001b[0m\u001b[0;34m\u001b[0m\u001b[0m\n\u001b[1;32m    844\u001b[0m             \u001b[0mprint\u001b[0m\u001b[0;34m(\u001b[0m\u001b[0mrepr\u001b[0m\u001b[0;34m(\u001b[0m\u001b[0mself\u001b[0m\u001b[0;34m)\u001b[0m\u001b[0;34m)\u001b[0m\u001b[0;34m\u001b[0m\u001b[0;34m\u001b[0m\u001b[0m\n",
      "\u001b[0;32m/opt/conda/lib/python3.7/site-packages/plotly/io/_renderers.py\u001b[0m in \u001b[0;36mshow\u001b[0;34m(fig, renderer, validate, **kwargs)\u001b[0m\n\u001b[1;32m    395\u001b[0m         \u001b[0;32mif\u001b[0m \u001b[0;32mnot\u001b[0m \u001b[0mnbformat\u001b[0m \u001b[0;32mor\u001b[0m \u001b[0mLooseVersion\u001b[0m\u001b[0;34m(\u001b[0m\u001b[0mnbformat\u001b[0m\u001b[0;34m.\u001b[0m\u001b[0m__version__\u001b[0m\u001b[0;34m)\u001b[0m \u001b[0;34m<\u001b[0m \u001b[0mLooseVersion\u001b[0m\u001b[0;34m(\u001b[0m\u001b[0;34m\"4.2.0\"\u001b[0m\u001b[0;34m)\u001b[0m\u001b[0;34m:\u001b[0m\u001b[0;34m\u001b[0m\u001b[0;34m\u001b[0m\u001b[0m\n\u001b[1;32m    396\u001b[0m             raise ValueError(\n\u001b[0;32m--> 397\u001b[0;31m                 \u001b[0;34m\"Mime type rendering requires nbformat>=4.2.0 but it is not installed\"\u001b[0m\u001b[0;34m\u001b[0m\u001b[0;34m\u001b[0m\u001b[0m\n\u001b[0m\u001b[1;32m    398\u001b[0m             )\n\u001b[1;32m    399\u001b[0m \u001b[0;34m\u001b[0m\u001b[0m\n",
      "\u001b[0;31mValueError\u001b[0m: Mime type rendering requires nbformat>=4.2.0 but it is not installed"
     ]
    },
    {
     "data": {
      "application/vnd.plotly.v1+json": {
       "config": {
        "plotlyServerURL": "https://plot.ly"
       },
       "data": [
        {
         "coloraxis": "coloraxis",
         "hovertemplate": "x: %{x}<br>y: %{y}<br>color: %{z}<extra></extra>",
         "name": "0",
         "texttemplate": "%{z}",
         "type": "heatmap",
         "x": [
          "h",
          "a",
          "i"
         ],
         "xaxis": "x",
         "y": [
          "a",
          "b",
          "c"
         ],
         "yaxis": "y",
         "z": [
          [
           1,
           2,
           3
          ],
          [
           3,
           4,
           5
          ],
          [
           0,
           0,
           1
          ]
         ]
        }
       ],
       "layout": {
        "coloraxis": {
         "colorscale": [
          [
           0,
           "rgb(247,251,255)"
          ],
          [
           0.125,
           "rgb(222,235,247)"
          ],
          [
           0.25,
           "rgb(198,219,239)"
          ],
          [
           0.375,
           "rgb(158,202,225)"
          ],
          [
           0.5,
           "rgb(107,174,214)"
          ],
          [
           0.625,
           "rgb(66,146,198)"
          ],
          [
           0.75,
           "rgb(33,113,181)"
          ],
          [
           0.875,
           "rgb(8,81,156)"
          ],
          [
           1,
           "rgb(8,48,107)"
          ]
         ]
        },
        "margin": {
         "t": 60
        },
        "template": {
         "data": {
          "bar": [
           {
            "error_x": {
             "color": "#2a3f5f"
            },
            "error_y": {
             "color": "#2a3f5f"
            },
            "marker": {
             "line": {
              "color": "#E5ECF6",
              "width": 0.5
             },
             "pattern": {
              "fillmode": "overlay",
              "size": 10,
              "solidity": 0.2
             }
            },
            "type": "bar"
           }
          ],
          "barpolar": [
           {
            "marker": {
             "line": {
              "color": "#E5ECF6",
              "width": 0.5
             },
             "pattern": {
              "fillmode": "overlay",
              "size": 10,
              "solidity": 0.2
             }
            },
            "type": "barpolar"
           }
          ],
          "carpet": [
           {
            "aaxis": {
             "endlinecolor": "#2a3f5f",
             "gridcolor": "white",
             "linecolor": "white",
             "minorgridcolor": "white",
             "startlinecolor": "#2a3f5f"
            },
            "baxis": {
             "endlinecolor": "#2a3f5f",
             "gridcolor": "white",
             "linecolor": "white",
             "minorgridcolor": "white",
             "startlinecolor": "#2a3f5f"
            },
            "type": "carpet"
           }
          ],
          "choropleth": [
           {
            "colorbar": {
             "outlinewidth": 0,
             "ticks": ""
            },
            "type": "choropleth"
           }
          ],
          "contour": [
           {
            "colorbar": {
             "outlinewidth": 0,
             "ticks": ""
            },
            "colorscale": [
             [
              0,
              "#0d0887"
             ],
             [
              0.1111111111111111,
              "#46039f"
             ],
             [
              0.2222222222222222,
              "#7201a8"
             ],
             [
              0.3333333333333333,
              "#9c179e"
             ],
             [
              0.4444444444444444,
              "#bd3786"
             ],
             [
              0.5555555555555556,
              "#d8576b"
             ],
             [
              0.6666666666666666,
              "#ed7953"
             ],
             [
              0.7777777777777778,
              "#fb9f3a"
             ],
             [
              0.8888888888888888,
              "#fdca26"
             ],
             [
              1,
              "#f0f921"
             ]
            ],
            "type": "contour"
           }
          ],
          "contourcarpet": [
           {
            "colorbar": {
             "outlinewidth": 0,
             "ticks": ""
            },
            "type": "contourcarpet"
           }
          ],
          "heatmap": [
           {
            "colorbar": {
             "outlinewidth": 0,
             "ticks": ""
            },
            "colorscale": [
             [
              0,
              "#0d0887"
             ],
             [
              0.1111111111111111,
              "#46039f"
             ],
             [
              0.2222222222222222,
              "#7201a8"
             ],
             [
              0.3333333333333333,
              "#9c179e"
             ],
             [
              0.4444444444444444,
              "#bd3786"
             ],
             [
              0.5555555555555556,
              "#d8576b"
             ],
             [
              0.6666666666666666,
              "#ed7953"
             ],
             [
              0.7777777777777778,
              "#fb9f3a"
             ],
             [
              0.8888888888888888,
              "#fdca26"
             ],
             [
              1,
              "#f0f921"
             ]
            ],
            "type": "heatmap"
           }
          ],
          "heatmapgl": [
           {
            "colorbar": {
             "outlinewidth": 0,
             "ticks": ""
            },
            "colorscale": [
             [
              0,
              "#0d0887"
             ],
             [
              0.1111111111111111,
              "#46039f"
             ],
             [
              0.2222222222222222,
              "#7201a8"
             ],
             [
              0.3333333333333333,
              "#9c179e"
             ],
             [
              0.4444444444444444,
              "#bd3786"
             ],
             [
              0.5555555555555556,
              "#d8576b"
             ],
             [
              0.6666666666666666,
              "#ed7953"
             ],
             [
              0.7777777777777778,
              "#fb9f3a"
             ],
             [
              0.8888888888888888,
              "#fdca26"
             ],
             [
              1,
              "#f0f921"
             ]
            ],
            "type": "heatmapgl"
           }
          ],
          "histogram": [
           {
            "marker": {
             "pattern": {
              "fillmode": "overlay",
              "size": 10,
              "solidity": 0.2
             }
            },
            "type": "histogram"
           }
          ],
          "histogram2d": [
           {
            "colorbar": {
             "outlinewidth": 0,
             "ticks": ""
            },
            "colorscale": [
             [
              0,
              "#0d0887"
             ],
             [
              0.1111111111111111,
              "#46039f"
             ],
             [
              0.2222222222222222,
              "#7201a8"
             ],
             [
              0.3333333333333333,
              "#9c179e"
             ],
             [
              0.4444444444444444,
              "#bd3786"
             ],
             [
              0.5555555555555556,
              "#d8576b"
             ],
             [
              0.6666666666666666,
              "#ed7953"
             ],
             [
              0.7777777777777778,
              "#fb9f3a"
             ],
             [
              0.8888888888888888,
              "#fdca26"
             ],
             [
              1,
              "#f0f921"
             ]
            ],
            "type": "histogram2d"
           }
          ],
          "histogram2dcontour": [
           {
            "colorbar": {
             "outlinewidth": 0,
             "ticks": ""
            },
            "colorscale": [
             [
              0,
              "#0d0887"
             ],
             [
              0.1111111111111111,
              "#46039f"
             ],
             [
              0.2222222222222222,
              "#7201a8"
             ],
             [
              0.3333333333333333,
              "#9c179e"
             ],
             [
              0.4444444444444444,
              "#bd3786"
             ],
             [
              0.5555555555555556,
              "#d8576b"
             ],
             [
              0.6666666666666666,
              "#ed7953"
             ],
             [
              0.7777777777777778,
              "#fb9f3a"
             ],
             [
              0.8888888888888888,
              "#fdca26"
             ],
             [
              1,
              "#f0f921"
             ]
            ],
            "type": "histogram2dcontour"
           }
          ],
          "mesh3d": [
           {
            "colorbar": {
             "outlinewidth": 0,
             "ticks": ""
            },
            "type": "mesh3d"
           }
          ],
          "parcoords": [
           {
            "line": {
             "colorbar": {
              "outlinewidth": 0,
              "ticks": ""
             }
            },
            "type": "parcoords"
           }
          ],
          "pie": [
           {
            "automargin": true,
            "type": "pie"
           }
          ],
          "scatter": [
           {
            "fillpattern": {
             "fillmode": "overlay",
             "size": 10,
             "solidity": 0.2
            },
            "type": "scatter"
           }
          ],
          "scatter3d": [
           {
            "line": {
             "colorbar": {
              "outlinewidth": 0,
              "ticks": ""
             }
            },
            "marker": {
             "colorbar": {
              "outlinewidth": 0,
              "ticks": ""
             }
            },
            "type": "scatter3d"
           }
          ],
          "scattercarpet": [
           {
            "marker": {
             "colorbar": {
              "outlinewidth": 0,
              "ticks": ""
             }
            },
            "type": "scattercarpet"
           }
          ],
          "scattergeo": [
           {
            "marker": {
             "colorbar": {
              "outlinewidth": 0,
              "ticks": ""
             }
            },
            "type": "scattergeo"
           }
          ],
          "scattergl": [
           {
            "marker": {
             "colorbar": {
              "outlinewidth": 0,
              "ticks": ""
             }
            },
            "type": "scattergl"
           }
          ],
          "scattermapbox": [
           {
            "marker": {
             "colorbar": {
              "outlinewidth": 0,
              "ticks": ""
             }
            },
            "type": "scattermapbox"
           }
          ],
          "scatterpolar": [
           {
            "marker": {
             "colorbar": {
              "outlinewidth": 0,
              "ticks": ""
             }
            },
            "type": "scatterpolar"
           }
          ],
          "scatterpolargl": [
           {
            "marker": {
             "colorbar": {
              "outlinewidth": 0,
              "ticks": ""
             }
            },
            "type": "scatterpolargl"
           }
          ],
          "scatterternary": [
           {
            "marker": {
             "colorbar": {
              "outlinewidth": 0,
              "ticks": ""
             }
            },
            "type": "scatterternary"
           }
          ],
          "surface": [
           {
            "colorbar": {
             "outlinewidth": 0,
             "ticks": ""
            },
            "colorscale": [
             [
              0,
              "#0d0887"
             ],
             [
              0.1111111111111111,
              "#46039f"
             ],
             [
              0.2222222222222222,
              "#7201a8"
             ],
             [
              0.3333333333333333,
              "#9c179e"
             ],
             [
              0.4444444444444444,
              "#bd3786"
             ],
             [
              0.5555555555555556,
              "#d8576b"
             ],
             [
              0.6666666666666666,
              "#ed7953"
             ],
             [
              0.7777777777777778,
              "#fb9f3a"
             ],
             [
              0.8888888888888888,
              "#fdca26"
             ],
             [
              1,
              "#f0f921"
             ]
            ],
            "type": "surface"
           }
          ],
          "table": [
           {
            "cells": {
             "fill": {
              "color": "#EBF0F8"
             },
             "line": {
              "color": "white"
             }
            },
            "header": {
             "fill": {
              "color": "#C8D4E3"
             },
             "line": {
              "color": "white"
             }
            },
            "type": "table"
           }
          ]
         },
         "layout": {
          "annotationdefaults": {
           "arrowcolor": "#2a3f5f",
           "arrowhead": 0,
           "arrowwidth": 1
          },
          "autotypenumbers": "strict",
          "coloraxis": {
           "colorbar": {
            "outlinewidth": 0,
            "ticks": ""
           }
          },
          "colorscale": {
           "diverging": [
            [
             0,
             "#8e0152"
            ],
            [
             0.1,
             "#c51b7d"
            ],
            [
             0.2,
             "#de77ae"
            ],
            [
             0.3,
             "#f1b6da"
            ],
            [
             0.4,
             "#fde0ef"
            ],
            [
             0.5,
             "#f7f7f7"
            ],
            [
             0.6,
             "#e6f5d0"
            ],
            [
             0.7,
             "#b8e186"
            ],
            [
             0.8,
             "#7fbc41"
            ],
            [
             0.9,
             "#4d9221"
            ],
            [
             1,
             "#276419"
            ]
           ],
           "sequential": [
            [
             0,
             "#0d0887"
            ],
            [
             0.1111111111111111,
             "#46039f"
            ],
            [
             0.2222222222222222,
             "#7201a8"
            ],
            [
             0.3333333333333333,
             "#9c179e"
            ],
            [
             0.4444444444444444,
             "#bd3786"
            ],
            [
             0.5555555555555556,
             "#d8576b"
            ],
            [
             0.6666666666666666,
             "#ed7953"
            ],
            [
             0.7777777777777778,
             "#fb9f3a"
            ],
            [
             0.8888888888888888,
             "#fdca26"
            ],
            [
             1,
             "#f0f921"
            ]
           ],
           "sequentialminus": [
            [
             0,
             "#0d0887"
            ],
            [
             0.1111111111111111,
             "#46039f"
            ],
            [
             0.2222222222222222,
             "#7201a8"
            ],
            [
             0.3333333333333333,
             "#9c179e"
            ],
            [
             0.4444444444444444,
             "#bd3786"
            ],
            [
             0.5555555555555556,
             "#d8576b"
            ],
            [
             0.6666666666666666,
             "#ed7953"
            ],
            [
             0.7777777777777778,
             "#fb9f3a"
            ],
            [
             0.8888888888888888,
             "#fdca26"
            ],
            [
             1,
             "#f0f921"
            ]
           ]
          },
          "colorway": [
           "#636efa",
           "#EF553B",
           "#00cc96",
           "#ab63fa",
           "#FFA15A",
           "#19d3f3",
           "#FF6692",
           "#B6E880",
           "#FF97FF",
           "#FECB52"
          ],
          "font": {
           "color": "#2a3f5f"
          },
          "geo": {
           "bgcolor": "white",
           "lakecolor": "white",
           "landcolor": "#E5ECF6",
           "showlakes": true,
           "showland": true,
           "subunitcolor": "white"
          },
          "hoverlabel": {
           "align": "left"
          },
          "hovermode": "closest",
          "mapbox": {
           "style": "light"
          },
          "paper_bgcolor": "white",
          "plot_bgcolor": "#E5ECF6",
          "polar": {
           "angularaxis": {
            "gridcolor": "white",
            "linecolor": "white",
            "ticks": ""
           },
           "bgcolor": "#E5ECF6",
           "radialaxis": {
            "gridcolor": "white",
            "linecolor": "white",
            "ticks": ""
           }
          },
          "scene": {
           "xaxis": {
            "backgroundcolor": "#E5ECF6",
            "gridcolor": "white",
            "gridwidth": 2,
            "linecolor": "white",
            "showbackground": true,
            "ticks": "",
            "zerolinecolor": "white"
           },
           "yaxis": {
            "backgroundcolor": "#E5ECF6",
            "gridcolor": "white",
            "gridwidth": 2,
            "linecolor": "white",
            "showbackground": true,
            "ticks": "",
            "zerolinecolor": "white"
           },
           "zaxis": {
            "backgroundcolor": "#E5ECF6",
            "gridcolor": "white",
            "gridwidth": 2,
            "linecolor": "white",
            "showbackground": true,
            "ticks": "",
            "zerolinecolor": "white"
           }
          },
          "shapedefaults": {
           "line": {
            "color": "#2a3f5f"
           }
          },
          "ternary": {
           "aaxis": {
            "gridcolor": "white",
            "linecolor": "white",
            "ticks": ""
           },
           "baxis": {
            "gridcolor": "white",
            "linecolor": "white",
            "ticks": ""
           },
           "bgcolor": "#E5ECF6",
           "caxis": {
            "gridcolor": "white",
            "linecolor": "white",
            "ticks": ""
           }
          },
          "title": {
           "x": 0.05
          },
          "xaxis": {
           "automargin": true,
           "gridcolor": "white",
           "linecolor": "white",
           "ticks": "",
           "title": {
            "standoff": 15
           },
           "zerolinecolor": "white",
           "zerolinewidth": 2
          },
          "yaxis": {
           "automargin": true,
           "gridcolor": "white",
           "linecolor": "white",
           "ticks": "",
           "title": {
            "standoff": 15
           },
           "zerolinecolor": "white",
           "zerolinewidth": 2
          }
         }
        },
        "xaxis": {
         "anchor": "y",
         "constrain": "domain",
         "domain": [
          0,
          1
         ],
         "scaleanchor": "y",
         "side": "top"
        },
        "yaxis": {
         "anchor": "x",
         "autorange": "reversed",
         "constrain": "domain",
         "domain": [
          0,
          1
         ]
        }
       }
      },
      "text/html": [
       "<div>                            <div id=\"45451ad8-5673-4dcf-a02d-d7148cc730af\" class=\"plotly-graph-div\" style=\"height:525px; width:100%;\"></div>            <script type=\"text/javascript\">                require([\"plotly\"], function(Plotly) {                    window.PLOTLYENV=window.PLOTLYENV || {};                                    if (document.getElementById(\"45451ad8-5673-4dcf-a02d-d7148cc730af\")) {                    Plotly.newPlot(                        \"45451ad8-5673-4dcf-a02d-d7148cc730af\",                        [{\"coloraxis\":\"coloraxis\",\"name\":\"0\",\"texttemplate\":\"%{z}\",\"x\":[\"h\",\"a\",\"i\"],\"y\":[\"a\",\"b\",\"c\"],\"z\":[[1,2,3],[3,4,5],[0,0,1]],\"type\":\"heatmap\",\"xaxis\":\"x\",\"yaxis\":\"y\",\"hovertemplate\":\"x: %{x}<br>y: %{y}<br>color: %{z}<extra></extra>\"}],                        {\"template\":{\"data\":{\"histogram2dcontour\":[{\"type\":\"histogram2dcontour\",\"colorbar\":{\"outlinewidth\":0,\"ticks\":\"\"},\"colorscale\":[[0.0,\"#0d0887\"],[0.1111111111111111,\"#46039f\"],[0.2222222222222222,\"#7201a8\"],[0.3333333333333333,\"#9c179e\"],[0.4444444444444444,\"#bd3786\"],[0.5555555555555556,\"#d8576b\"],[0.6666666666666666,\"#ed7953\"],[0.7777777777777778,\"#fb9f3a\"],[0.8888888888888888,\"#fdca26\"],[1.0,\"#f0f921\"]]}],\"choropleth\":[{\"type\":\"choropleth\",\"colorbar\":{\"outlinewidth\":0,\"ticks\":\"\"}}],\"histogram2d\":[{\"type\":\"histogram2d\",\"colorbar\":{\"outlinewidth\":0,\"ticks\":\"\"},\"colorscale\":[[0.0,\"#0d0887\"],[0.1111111111111111,\"#46039f\"],[0.2222222222222222,\"#7201a8\"],[0.3333333333333333,\"#9c179e\"],[0.4444444444444444,\"#bd3786\"],[0.5555555555555556,\"#d8576b\"],[0.6666666666666666,\"#ed7953\"],[0.7777777777777778,\"#fb9f3a\"],[0.8888888888888888,\"#fdca26\"],[1.0,\"#f0f921\"]]}],\"heatmap\":[{\"type\":\"heatmap\",\"colorbar\":{\"outlinewidth\":0,\"ticks\":\"\"},\"colorscale\":[[0.0,\"#0d0887\"],[0.1111111111111111,\"#46039f\"],[0.2222222222222222,\"#7201a8\"],[0.3333333333333333,\"#9c179e\"],[0.4444444444444444,\"#bd3786\"],[0.5555555555555556,\"#d8576b\"],[0.6666666666666666,\"#ed7953\"],[0.7777777777777778,\"#fb9f3a\"],[0.8888888888888888,\"#fdca26\"],[1.0,\"#f0f921\"]]}],\"heatmapgl\":[{\"type\":\"heatmapgl\",\"colorbar\":{\"outlinewidth\":0,\"ticks\":\"\"},\"colorscale\":[[0.0,\"#0d0887\"],[0.1111111111111111,\"#46039f\"],[0.2222222222222222,\"#7201a8\"],[0.3333333333333333,\"#9c179e\"],[0.4444444444444444,\"#bd3786\"],[0.5555555555555556,\"#d8576b\"],[0.6666666666666666,\"#ed7953\"],[0.7777777777777778,\"#fb9f3a\"],[0.8888888888888888,\"#fdca26\"],[1.0,\"#f0f921\"]]}],\"contourcarpet\":[{\"type\":\"contourcarpet\",\"colorbar\":{\"outlinewidth\":0,\"ticks\":\"\"}}],\"contour\":[{\"type\":\"contour\",\"colorbar\":{\"outlinewidth\":0,\"ticks\":\"\"},\"colorscale\":[[0.0,\"#0d0887\"],[0.1111111111111111,\"#46039f\"],[0.2222222222222222,\"#7201a8\"],[0.3333333333333333,\"#9c179e\"],[0.4444444444444444,\"#bd3786\"],[0.5555555555555556,\"#d8576b\"],[0.6666666666666666,\"#ed7953\"],[0.7777777777777778,\"#fb9f3a\"],[0.8888888888888888,\"#fdca26\"],[1.0,\"#f0f921\"]]}],\"surface\":[{\"type\":\"surface\",\"colorbar\":{\"outlinewidth\":0,\"ticks\":\"\"},\"colorscale\":[[0.0,\"#0d0887\"],[0.1111111111111111,\"#46039f\"],[0.2222222222222222,\"#7201a8\"],[0.3333333333333333,\"#9c179e\"],[0.4444444444444444,\"#bd3786\"],[0.5555555555555556,\"#d8576b\"],[0.6666666666666666,\"#ed7953\"],[0.7777777777777778,\"#fb9f3a\"],[0.8888888888888888,\"#fdca26\"],[1.0,\"#f0f921\"]]}],\"mesh3d\":[{\"type\":\"mesh3d\",\"colorbar\":{\"outlinewidth\":0,\"ticks\":\"\"}}],\"scatter\":[{\"fillpattern\":{\"fillmode\":\"overlay\",\"size\":10,\"solidity\":0.2},\"type\":\"scatter\"}],\"parcoords\":[{\"type\":\"parcoords\",\"line\":{\"colorbar\":{\"outlinewidth\":0,\"ticks\":\"\"}}}],\"scatterpolargl\":[{\"type\":\"scatterpolargl\",\"marker\":{\"colorbar\":{\"outlinewidth\":0,\"ticks\":\"\"}}}],\"bar\":[{\"error_x\":{\"color\":\"#2a3f5f\"},\"error_y\":{\"color\":\"#2a3f5f\"},\"marker\":{\"line\":{\"color\":\"#E5ECF6\",\"width\":0.5},\"pattern\":{\"fillmode\":\"overlay\",\"size\":10,\"solidity\":0.2}},\"type\":\"bar\"}],\"scattergeo\":[{\"type\":\"scattergeo\",\"marker\":{\"colorbar\":{\"outlinewidth\":0,\"ticks\":\"\"}}}],\"scatterpolar\":[{\"type\":\"scatterpolar\",\"marker\":{\"colorbar\":{\"outlinewidth\":0,\"ticks\":\"\"}}}],\"histogram\":[{\"marker\":{\"pattern\":{\"fillmode\":\"overlay\",\"size\":10,\"solidity\":0.2}},\"type\":\"histogram\"}],\"scattergl\":[{\"type\":\"scattergl\",\"marker\":{\"colorbar\":{\"outlinewidth\":0,\"ticks\":\"\"}}}],\"scatter3d\":[{\"type\":\"scatter3d\",\"line\":{\"colorbar\":{\"outlinewidth\":0,\"ticks\":\"\"}},\"marker\":{\"colorbar\":{\"outlinewidth\":0,\"ticks\":\"\"}}}],\"scattermapbox\":[{\"type\":\"scattermapbox\",\"marker\":{\"colorbar\":{\"outlinewidth\":0,\"ticks\":\"\"}}}],\"scatterternary\":[{\"type\":\"scatterternary\",\"marker\":{\"colorbar\":{\"outlinewidth\":0,\"ticks\":\"\"}}}],\"scattercarpet\":[{\"type\":\"scattercarpet\",\"marker\":{\"colorbar\":{\"outlinewidth\":0,\"ticks\":\"\"}}}],\"carpet\":[{\"aaxis\":{\"endlinecolor\":\"#2a3f5f\",\"gridcolor\":\"white\",\"linecolor\":\"white\",\"minorgridcolor\":\"white\",\"startlinecolor\":\"#2a3f5f\"},\"baxis\":{\"endlinecolor\":\"#2a3f5f\",\"gridcolor\":\"white\",\"linecolor\":\"white\",\"minorgridcolor\":\"white\",\"startlinecolor\":\"#2a3f5f\"},\"type\":\"carpet\"}],\"table\":[{\"cells\":{\"fill\":{\"color\":\"#EBF0F8\"},\"line\":{\"color\":\"white\"}},\"header\":{\"fill\":{\"color\":\"#C8D4E3\"},\"line\":{\"color\":\"white\"}},\"type\":\"table\"}],\"barpolar\":[{\"marker\":{\"line\":{\"color\":\"#E5ECF6\",\"width\":0.5},\"pattern\":{\"fillmode\":\"overlay\",\"size\":10,\"solidity\":0.2}},\"type\":\"barpolar\"}],\"pie\":[{\"automargin\":true,\"type\":\"pie\"}]},\"layout\":{\"autotypenumbers\":\"strict\",\"colorway\":[\"#636efa\",\"#EF553B\",\"#00cc96\",\"#ab63fa\",\"#FFA15A\",\"#19d3f3\",\"#FF6692\",\"#B6E880\",\"#FF97FF\",\"#FECB52\"],\"font\":{\"color\":\"#2a3f5f\"},\"hovermode\":\"closest\",\"hoverlabel\":{\"align\":\"left\"},\"paper_bgcolor\":\"white\",\"plot_bgcolor\":\"#E5ECF6\",\"polar\":{\"bgcolor\":\"#E5ECF6\",\"angularaxis\":{\"gridcolor\":\"white\",\"linecolor\":\"white\",\"ticks\":\"\"},\"radialaxis\":{\"gridcolor\":\"white\",\"linecolor\":\"white\",\"ticks\":\"\"}},\"ternary\":{\"bgcolor\":\"#E5ECF6\",\"aaxis\":{\"gridcolor\":\"white\",\"linecolor\":\"white\",\"ticks\":\"\"},\"baxis\":{\"gridcolor\":\"white\",\"linecolor\":\"white\",\"ticks\":\"\"},\"caxis\":{\"gridcolor\":\"white\",\"linecolor\":\"white\",\"ticks\":\"\"}},\"coloraxis\":{\"colorbar\":{\"outlinewidth\":0,\"ticks\":\"\"}},\"colorscale\":{\"sequential\":[[0.0,\"#0d0887\"],[0.1111111111111111,\"#46039f\"],[0.2222222222222222,\"#7201a8\"],[0.3333333333333333,\"#9c179e\"],[0.4444444444444444,\"#bd3786\"],[0.5555555555555556,\"#d8576b\"],[0.6666666666666666,\"#ed7953\"],[0.7777777777777778,\"#fb9f3a\"],[0.8888888888888888,\"#fdca26\"],[1.0,\"#f0f921\"]],\"sequentialminus\":[[0.0,\"#0d0887\"],[0.1111111111111111,\"#46039f\"],[0.2222222222222222,\"#7201a8\"],[0.3333333333333333,\"#9c179e\"],[0.4444444444444444,\"#bd3786\"],[0.5555555555555556,\"#d8576b\"],[0.6666666666666666,\"#ed7953\"],[0.7777777777777778,\"#fb9f3a\"],[0.8888888888888888,\"#fdca26\"],[1.0,\"#f0f921\"]],\"diverging\":[[0,\"#8e0152\"],[0.1,\"#c51b7d\"],[0.2,\"#de77ae\"],[0.3,\"#f1b6da\"],[0.4,\"#fde0ef\"],[0.5,\"#f7f7f7\"],[0.6,\"#e6f5d0\"],[0.7,\"#b8e186\"],[0.8,\"#7fbc41\"],[0.9,\"#4d9221\"],[1,\"#276419\"]]},\"xaxis\":{\"gridcolor\":\"white\",\"linecolor\":\"white\",\"ticks\":\"\",\"title\":{\"standoff\":15},\"zerolinecolor\":\"white\",\"automargin\":true,\"zerolinewidth\":2},\"yaxis\":{\"gridcolor\":\"white\",\"linecolor\":\"white\",\"ticks\":\"\",\"title\":{\"standoff\":15},\"zerolinecolor\":\"white\",\"automargin\":true,\"zerolinewidth\":2},\"scene\":{\"xaxis\":{\"backgroundcolor\":\"#E5ECF6\",\"gridcolor\":\"white\",\"linecolor\":\"white\",\"showbackground\":true,\"ticks\":\"\",\"zerolinecolor\":\"white\",\"gridwidth\":2},\"yaxis\":{\"backgroundcolor\":\"#E5ECF6\",\"gridcolor\":\"white\",\"linecolor\":\"white\",\"showbackground\":true,\"ticks\":\"\",\"zerolinecolor\":\"white\",\"gridwidth\":2},\"zaxis\":{\"backgroundcolor\":\"#E5ECF6\",\"gridcolor\":\"white\",\"linecolor\":\"white\",\"showbackground\":true,\"ticks\":\"\",\"zerolinecolor\":\"white\",\"gridwidth\":2}},\"shapedefaults\":{\"line\":{\"color\":\"#2a3f5f\"}},\"annotationdefaults\":{\"arrowcolor\":\"#2a3f5f\",\"arrowhead\":0,\"arrowwidth\":1},\"geo\":{\"bgcolor\":\"white\",\"landcolor\":\"#E5ECF6\",\"subunitcolor\":\"white\",\"showland\":true,\"showlakes\":true,\"lakecolor\":\"white\"},\"title\":{\"x\":0.05},\"mapbox\":{\"style\":\"light\"}}},\"xaxis\":{\"anchor\":\"y\",\"domain\":[0.0,1.0],\"scaleanchor\":\"y\",\"constrain\":\"domain\",\"side\":\"top\"},\"yaxis\":{\"anchor\":\"x\",\"domain\":[0.0,1.0],\"autorange\":\"reversed\",\"constrain\":\"domain\"},\"coloraxis\":{\"colorscale\":[[0.0,\"rgb(247,251,255)\"],[0.125,\"rgb(222,235,247)\"],[0.25,\"rgb(198,219,239)\"],[0.375,\"rgb(158,202,225)\"],[0.5,\"rgb(107,174,214)\"],[0.625,\"rgb(66,146,198)\"],[0.75,\"rgb(33,113,181)\"],[0.875,\"rgb(8,81,156)\"],[1.0,\"rgb(8,48,107)\"]]},\"margin\":{\"t\":60}},                        {\"responsive\": true}                    ).then(function(){\n",
       "                            \n",
       "var gd = document.getElementById('45451ad8-5673-4dcf-a02d-d7148cc730af');\n",
       "var x = new MutationObserver(function (mutations, observer) {{\n",
       "        var display = window.getComputedStyle(gd).display;\n",
       "        if (!display || display === 'none') {{\n",
       "            console.log([gd, 'removed!']);\n",
       "            Plotly.purge(gd);\n",
       "            observer.disconnect();\n",
       "        }}\n",
       "}});\n",
       "\n",
       "// Listen for the removal of the full notebook cells\n",
       "var notebookContainer = gd.closest('#notebook-container');\n",
       "if (notebookContainer) {{\n",
       "    x.observe(notebookContainer, {childList: true});\n",
       "}}\n",
       "\n",
       "// Listen for the clearing of the current output cell\n",
       "var outputEl = gd.closest('.output');\n",
       "if (outputEl) {{\n",
       "    x.observe(outputEl, {childList: true});\n",
       "}}\n",
       "\n",
       "                        })                };                });            </script>        </div>"
      ],
      "text/plain": [
       "Figure({\n",
       "    'data': [{'coloraxis': 'coloraxis',\n",
       "              'hovertemplate': 'x: %{x}<br>y: %{y}<br>color: %{z}<extra></extra>',\n",
       "              'name': '0',\n",
       "              'texttemplate': '%{z}',\n",
       "              'type': 'heatmap',\n",
       "              'x': array(['h', 'a', 'i'], dtype=object),\n",
       "              'xaxis': 'x',\n",
       "              'y': array(['a', 'b', 'c'], dtype=object),\n",
       "              'yaxis': 'y',\n",
       "              'z': array([[1, 2, 3],\n",
       "                          [3, 4, 5],\n",
       "                          [0, 0, 1]])}],\n",
       "    'layout': {'coloraxis': {'colorscale': [[0.0, 'rgb(247,251,255)'], [0.125,\n",
       "                                            'rgb(222,235,247)'], [0.25,\n",
       "                                            'rgb(198,219,239)'], [0.375,\n",
       "                                            'rgb(158,202,225)'], [0.5,\n",
       "                                            'rgb(107,174,214)'], [0.625,\n",
       "                                            'rgb(66,146,198)'], [0.75,\n",
       "                                            'rgb(33,113,181)'], [0.875,\n",
       "                                            'rgb(8,81,156)'], [1.0,\n",
       "                                            'rgb(8,48,107)']]},\n",
       "               'margin': {'t': 60},\n",
       "               'template': '...',\n",
       "               'xaxis': {'anchor': 'y', 'constrain': 'domain', 'domain': [0.0, 1.0], 'scaleanchor': 'y', 'side': 'top'},\n",
       "               'yaxis': {'anchor': 'x', 'autorange': 'reversed', 'constrain': 'domain', 'domain': [0.0, 1.0]}}\n",
       "})"
      ]
     },
     "execution_count": 12,
     "metadata": {},
     "output_type": "execute_result"
    }
   ],
   "source": [
    "df = pd.DataFrame(np.array([\n",
    "    [1,2,3],\n",
    "    [3,4,5],\n",
    "    [0,0,1]\n",
    "]), index=['a','b','c'], columns=['h','a','i'])\n",
    "fig = px.imshow(df, text_auto=True, color_continuous_scale=px.colors.sequential.Blues)\n",
    "fig.update_xaxes(side=\"top\")\n",
    "\n",
    "fig"
   ]
  },
  {
   "cell_type": "code",
   "execution_count": 7,
   "metadata": {},
   "outputs": [],
   "source": [
    "import torch\n",
    "import numpy as np"
   ]
  },
  {
   "cell_type": "code",
   "execution_count": 8,
   "metadata": {},
   "outputs": [],
   "source": [
    "thresh_t = torch.arange(start=0.1, end=0.99, step=0.025)\n",
    "thresh = np.arange(0.1, 0.99, 0.025, dtype=np.float16)"
   ]
  },
  {
   "cell_type": "code",
   "execution_count": 15,
   "metadata": {},
   "outputs": [
    {
     "data": {
      "text/plain": [
       "array([1.       , 2.       , 0.9999999], dtype=float32)"
      ]
     },
     "execution_count": 15,
     "metadata": {},
     "output_type": "execute_result"
    }
   ],
   "source": [
    "torch.tensor([1, 2, 0.99999990000000000001]).detach().cpu().numpy().astype(np.float32)"
   ]
  },
  {
   "cell_type": "code",
   "execution_count": 4,
   "metadata": {},
   "outputs": [],
   "source": [
    "from sklearn.metrics import precision_recall_fscore_support\n"
   ]
  },
  {
   "cell_type": "code",
   "execution_count": 11,
   "metadata": {},
   "outputs": [
    {
     "ename": "NameError",
     "evalue": "name 'np' is not defined",
     "output_type": "error",
     "traceback": [
      "\u001b[0;31m---------------------------------------------------------------------------\u001b[0m",
      "\u001b[0;31mNameError\u001b[0m                                 Traceback (most recent call last)",
      "\u001b[0;32m/tmp/ipykernel_10115/501897453.py\u001b[0m in \u001b[0;36m<module>\u001b[0;34m\u001b[0m\n\u001b[0;32m----> 1\u001b[0;31m \u001b[0mhasil\u001b[0m \u001b[0;34m=\u001b[0m \u001b[0mprecision_recall_fscore_support\u001b[0m\u001b[0;34m(\u001b[0m\u001b[0my_true\u001b[0m\u001b[0;34m=\u001b[0m\u001b[0;34m[\u001b[0m\u001b[0;34m'Keep'\u001b[0m\u001b[0;34m,\u001b[0m\u001b[0;34m'Drop'\u001b[0m\u001b[0;34m,\u001b[0m\u001b[0;34m'Keep'\u001b[0m\u001b[0;34m]\u001b[0m\u001b[0;34m,\u001b[0m \u001b[0my_pred\u001b[0m\u001b[0;34m=\u001b[0m\u001b[0;34m[\u001b[0m\u001b[0;34m'Keep'\u001b[0m\u001b[0;34m,\u001b[0m\u001b[0;34m'Drop'\u001b[0m\u001b[0;34m,\u001b[0m\u001b[0;34m'Drop'\u001b[0m\u001b[0;34m]\u001b[0m\u001b[0;34m,\u001b[0m \u001b[0mlabels\u001b[0m\u001b[0;34m=\u001b[0m\u001b[0mnp\u001b[0m\u001b[0;34m.\u001b[0m\u001b[0marray\u001b[0m\u001b[0;34m(\u001b[0m\u001b[0;34m[\u001b[0m\u001b[0;34m'Keep'\u001b[0m\u001b[0;34m,\u001b[0m \u001b[0;34m'Drop'\u001b[0m\u001b[0;34m]\u001b[0m\u001b[0;34m)\u001b[0m\u001b[0;34m)\u001b[0m\u001b[0;34m\u001b[0m\u001b[0;34m\u001b[0m\u001b[0m\n\u001b[0m\u001b[1;32m      2\u001b[0m \u001b[0mhasil\u001b[0m\u001b[0;34m\u001b[0m\u001b[0;34m\u001b[0m\u001b[0m\n",
      "\u001b[0;31mNameError\u001b[0m: name 'np' is not defined"
     ]
    }
   ],
   "source": [
    "hasil = precision_recall_fscore_support(y_true=['Keep','Drop','Keep'], y_pred=['Keep','Drop','Drop'], labels=np.array(['Keep', 'Drop']))\n",
    "hasil"
   ]
  },
  {
   "cell_type": "code",
   "execution_count": 12,
   "metadata": {},
   "outputs": [],
   "source": [
    "import matplotlib.pyplot as plt\n",
    "%matplotlib inline"
   ]
  },
  {
   "cell_type": "code",
   "execution_count": 20,
   "metadata": {},
   "outputs": [],
   "source": [
    "import torch\n",
    "from torchmetrics import ROC, AUROC\n",
    "import plotly.graph_objs as go\n",
    "\n",
    "# Define your targets and predicted probabilities\n",
    "targets = torch.tensor([0, 1, 1, 1, 0, 1, 0])\n",
    "probs = torch.tensor([[0.8, 0.2],\n",
    "                      [0.6, 0.4],\n",
    "                      [0.01, 0.99],\n",
    "                      [0.7, 0.3],\n",
    "                      [0.3, 0.7],\n",
    "                      [0.4, 0.6],\n",
    "                      [0.9, 0.1]])\n",
    "\n",
    "# Create instances of the ROC and AUROC classes\n",
    "roc = ROC(num_classes=2, task='multiclass')\n",
    "auroc = AUROC(num_classes=2 , task='multiclass')\n",
    "\n",
    "# Update the ROC and AUROC with the targets and predicted probabilities\n",
    "roc.update(probs, targets)\n",
    "auroc.update(probs, targets)\n",
    "\n",
    "\n",
    "fprs, tprs, _ = roc.compute()"
   ]
  },
  {
   "cell_type": "code",
   "execution_count": 49,
   "metadata": {},
   "outputs": [],
   "source": [
    "import pandas as pd\n",
    "import numpy as np\n",
    "import matplotlib.pyplot as plt\n",
    "import seaborn as sns\n",
    "from scipy import stats"
   ]
  },
  {
   "cell_type": "code",
   "execution_count": 47,
   "metadata": {},
   "outputs": [
    {
     "data": {
      "text/html": [
       "<div>\n",
       "<style scoped>\n",
       "    .dataframe tbody tr th:only-of-type {\n",
       "        vertical-align: middle;\n",
       "    }\n",
       "\n",
       "    .dataframe tbody tr th {\n",
       "        vertical-align: top;\n",
       "    }\n",
       "\n",
       "    .dataframe thead th {\n",
       "        text-align: right;\n",
       "    }\n",
       "</style>\n",
       "<table border=\"1\" class=\"dataframe\">\n",
       "  <thead>\n",
       "    <tr style=\"text-align: right;\">\n",
       "      <th></th>\n",
       "      <th>class</th>\n",
       "      <th>prob_top_1</th>\n",
       "    </tr>\n",
       "  </thead>\n",
       "  <tbody>\n",
       "    <tr>\n",
       "      <th>0</th>\n",
       "      <td>0</td>\n",
       "      <td>0.80</td>\n",
       "    </tr>\n",
       "    <tr>\n",
       "      <th>1</th>\n",
       "      <td>0</td>\n",
       "      <td>0.60</td>\n",
       "    </tr>\n",
       "    <tr>\n",
       "      <th>2</th>\n",
       "      <td>1</td>\n",
       "      <td>0.99</td>\n",
       "    </tr>\n",
       "    <tr>\n",
       "      <th>3</th>\n",
       "      <td>0</td>\n",
       "      <td>0.70</td>\n",
       "    </tr>\n",
       "    <tr>\n",
       "      <th>4</th>\n",
       "      <td>1</td>\n",
       "      <td>0.70</td>\n",
       "    </tr>\n",
       "    <tr>\n",
       "      <th>5</th>\n",
       "      <td>1</td>\n",
       "      <td>0.60</td>\n",
       "    </tr>\n",
       "    <tr>\n",
       "      <th>6</th>\n",
       "      <td>0</td>\n",
       "      <td>0.90</td>\n",
       "    </tr>\n",
       "  </tbody>\n",
       "</table>\n",
       "</div>"
      ],
      "text/plain": [
       "   class  prob_top_1\n",
       "0      0        0.80\n",
       "1      0        0.60\n",
       "2      1        0.99\n",
       "3      0        0.70\n",
       "4      1        0.70\n",
       "5      1        0.60\n",
       "6      0        0.90"
      ]
     },
     "execution_count": 47,
     "metadata": {},
     "output_type": "execute_result"
    }
   ],
   "source": [
    "import pandas as pd\n",
    "# Define your targets and predicted probabilities\n",
    "targets = torch.tensor([0, 1, 1, 1, 0, 1, 0])\n",
    "probs = torch.tensor([[0.8, 0.2],\n",
    "                      [0.6, 0.4],\n",
    "                      [0.01, 0.99],\n",
    "                      [0.7, 0.3],\n",
    "                      [0.3, 0.7],\n",
    "                      [0.4, 0.6],\n",
    "                      [0.9, 0.1]])\n",
    "\n",
    "# Get the class with the highest predicted probability for each example\n",
    "class_preds = torch.argmax(probs, dim=1)\n",
    "\n",
    "# Get the predicted probability for the top class\n",
    "prob_top_1 = torch.gather(probs, 1, class_preds.view(-1, 1)).squeeze()\n",
    "\n",
    "# Create a dataframe with the class and predicted probability for the top class\n",
    "data = {'class': class_preds.numpy(), 'prob_top_1': prob_top_1.numpy()}\n",
    "df = pd.DataFrame(data)\n",
    "df"
   ]
  },
  {
   "cell_type": "code",
   "execution_count": 50,
   "metadata": {},
   "outputs": [],
   "source": [
    "def plot_roc_curve(tpr, fpr, scatter = True, ax = None):\n",
    "    '''\n",
    "    Plots the ROC Curve by using the list of coordinates (tpr and fpr).\n",
    "    \n",
    "    Args:\n",
    "        tpr: The list of TPRs representing each coordinate.\n",
    "        fpr: The list of FPRs representing each coordinate.\n",
    "        scatter: When True, the points used on the calculation will be plotted with the line (default = True).\n",
    "    '''\n",
    "    if ax == None:\n",
    "        plt.figure(figsize = (5, 5))\n",
    "        ax = plt.axes()\n",
    "    \n",
    "    if scatter:\n",
    "        sns.scatterplot(x = fpr, y = tpr, ax = ax)\n",
    "    sns.lineplot(x = fpr, y = tpr, ax = ax)\n",
    "    sns.lineplot(x = [0, 1], y = [0, 1], color = 'green', ax = ax)\n",
    "    plt.xlim(-0.05, 1.05)\n",
    "    plt.ylim(-0.05, 1.05)\n",
    "    plt.xlabel(\"False Positive Rate\")\n",
    "    plt.ylabel(\"True Positive Rate\")"
   ]
  },
  {
   "cell_type": "code",
   "execution_count": 52,
   "metadata": {},
   "outputs": [
    {
     "data": {
      "image/png": "[encoded data removed]",
      "text/plain": [
       "<Figure size 1200x800 with 4 Axes>"
      ]
     },
     "metadata": {},
     "output_type": "display_data"
    }
   ],
   "source": [
    "# Plots the Probability Distributions and the ROC Curves One vs Rest\n",
    "plt.figure(figsize = (12, 8))\n",
    "bins = [i/20 for i in range(20)] + [1]\n",
    "roc_auc_ovr = {}\n",
    "\n",
    "classes = ['keep', 'drop']\n",
    "for i in range(len(classes)):\n",
    "    # Gets the class\n",
    "    c = classes[i]\n",
    "    \n",
    "    # # Prepares an auxiliar dataframe to help with the plots\n",
    "    # df_aux = X_test.copy()\n",
    "    # df_aux['class'] = [1 if y == c else 0 for y in y_test]\n",
    "    # df_aux['prob'] = y_proba[:, i]\n",
    "    # df_aux = df_aux.reset_index(drop = True)\n",
    "    \n",
    "    # Plots the probability distribution for the class and the rest\n",
    "    ax = plt.subplot(2, 3, i+1)\n",
    "    sns.histplot(x = \"prob_top_1\", data = df, hue = 'class', color = 'b', ax = ax, bins = bins)\n",
    "    ax.set_title(c)\n",
    "    ax.legend([f\"Class: {c}\", \"Rest\"])\n",
    "    ax.set_xlabel(f\"P(x = {c})\")\n",
    "    \n",
    "    # Calculates the ROC Coordinates and plots the ROC Curves\n",
    "    ax_bottom = plt.subplot(2, 3, i+4)\n",
    "    plot_roc_curve(tprs[i], fprs[i], scatter = True, ax = ax_bottom)\n",
    "    ax_bottom.set_title(\"ROC Curve OvR\")\n",
    "    \n",
    "    # Calculates the ROC AUC OvR\n",
    "    # roc_auc_ovr[c] = roc_auc_score(df['class'], df['prob_top_1'])\n",
    "    \n",
    "plt.tight_layout()"
   ]
  },
  {
   "cell_type": "code",
   "execution_count": 33,
   "metadata": {},
   "outputs": [
    {
     "data": {
      "application/vnd.plotly.v1+json": {
       "config": {
        "plotlyServerURL": "https://plot.ly"
       },
       "data": [
        {
         "alignmentgroup": "True",
         "bingroup": "x",
         "hovertemplate": "Class=0<br>Probability=%{x}<br>count=%{y}<extra></extra>",
         "legendgroup": "0",
         "marker": {
          "color": "#636efa",
          "opacity": 0.6,
          "pattern": {
           "shape": ""
          }
         },
         "name": "0",
         "nbinsx": 20,
         "offsetgroup": "0",
         "orientation": "v",
         "showlegend": true,
         "type": "histogram",
         "x": [
          0.800000011920929,
          0.6000000238418579,
          0.699999988079071,
          0.8999999761581421
         ],
         "xaxis": "x",
         "yaxis": "y"
        },
        {
         "alignmentgroup": "True",
         "bingroup": "x",
         "hovertemplate": "Class=1<br>Probability=%{x}<br>count=%{y}<extra></extra>",
         "legendgroup": "1",
         "marker": {
          "color": "#EF553B",
          "opacity": 0.6,
          "pattern": {
           "shape": ""
          }
         },
         "name": "1",
         "nbinsx": 20,
         "offsetgroup": "1",
         "orientation": "v",
         "showlegend": true,
         "type": "histogram",
         "x": [
          0.9900000095367432,
          0.699999988079071,
          0.6000000238418579
         ],
         "xaxis": "x",
         "yaxis": "y"
        }
       ],
       "layout": {
        "barmode": "overlay",
        "legend": {
         "title": {
          "text": "Class"
         },
         "tracegroupgap": 0
        },
        "template": {
         "data": {
          "bar": [
           {
            "error_x": {
             "color": "#2a3f5f"
            },
            "error_y": {
             "color": "#2a3f5f"
            },
            "marker": {
             "line": {
              "color": "#E5ECF6",
              "width": 0.5
             },
             "pattern": {
              "fillmode": "overlay",
              "size": 10,
              "solidity": 0.2
             }
            },
            "type": "bar"
           }
          ],
          "barpolar": [
           {
            "marker": {
             "line": {
              "color": "#E5ECF6",
              "width": 0.5
             },
             "pattern": {
              "fillmode": "overlay",
              "size": 10,
              "solidity": 0.2
             }
            },
            "type": "barpolar"
           }
          ],
          "carpet": [
           {
            "aaxis": {
             "endlinecolor": "#2a3f5f",
             "gridcolor": "white",
             "linecolor": "white",
             "minorgridcolor": "white",
             "startlinecolor": "#2a3f5f"
            },
            "baxis": {
             "endlinecolor": "#2a3f5f",
             "gridcolor": "white",
             "linecolor": "white",
             "minorgridcolor": "white",
             "startlinecolor": "#2a3f5f"
            },
            "type": "carpet"
           }
          ],
          "choropleth": [
           {
            "colorbar": {
             "outlinewidth": 0,
             "ticks": ""
            },
            "type": "choropleth"
           }
          ],
          "contour": [
           {
            "colorbar": {
             "outlinewidth": 0,
             "ticks": ""
            },
            "colorscale": [
             [
              0,
              "#0d0887"
             ],
             [
              0.1111111111111111,
              "#46039f"
             ],
             [
              0.2222222222222222,
              "#7201a8"
             ],
             [
              0.3333333333333333,
              "#9c179e"
             ],
             [
              0.4444444444444444,
              "#bd3786"
             ],
             [
              0.5555555555555556,
              "#d8576b"
             ],
             [
              0.6666666666666666,
              "#ed7953"
             ],
             [
              0.7777777777777778,
              "#fb9f3a"
             ],
             [
              0.8888888888888888,
              "#fdca26"
             ],
             [
              1,
              "#f0f921"
             ]
            ],
            "type": "contour"
           }
          ],
          "contourcarpet": [
           {
            "colorbar": {
             "outlinewidth": 0,
             "ticks": ""
            },
            "type": "contourcarpet"
           }
          ],
          "heatmap": [
           {
            "colorbar": {
             "outlinewidth": 0,
             "ticks": ""
            },
            "colorscale": [
             [
              0,
              "#0d0887"
             ],
             [
              0.1111111111111111,
              "#46039f"
             ],
             [
              0.2222222222222222,
              "#7201a8"
             ],
             [
              0.3333333333333333,
              "#9c179e"
             ],
             [
              0.4444444444444444,
              "#bd3786"
             ],
             [
              0.5555555555555556,
              "#d8576b"
             ],
             [
              0.6666666666666666,
              "#ed7953"
             ],
             [
              0.7777777777777778,
              "#fb9f3a"
             ],
             [
              0.8888888888888888,
              "#fdca26"
             ],
             [
              1,
              "#f0f921"
             ]
            ],
            "type": "heatmap"
           }
          ],
          "heatmapgl": [
           {
            "colorbar": {
             "outlinewidth": 0,
             "ticks": ""
            },
            "colorscale": [
             [
              0,
              "#0d0887"
             ],
             [
              0.1111111111111111,
              "#46039f"
             ],
             [
              0.2222222222222222,
              "#7201a8"
             ],
             [
              0.3333333333333333,
              "#9c179e"
             ],
             [
              0.4444444444444444,
              "#bd3786"
             ],
             [
              0.5555555555555556,
              "#d8576b"
             ],
             [
              0.6666666666666666,
              "#ed7953"
             ],
             [
              0.7777777777777778,
              "#fb9f3a"
             ],
             [
              0.8888888888888888,
              "#fdca26"
             ],
             [
              1,
              "#f0f921"
             ]
            ],
            "type": "heatmapgl"
           }
          ],
          "histogram": [
           {
            "marker": {
             "pattern": {
              "fillmode": "overlay",
              "size": 10,
              "solidity": 0.2
             }
            },
            "type": "histogram"
           }
          ],
          "histogram2d": [
           {
            "colorbar": {
             "outlinewidth": 0,
             "ticks": ""
            },
            "colorscale": [
             [
              0,
              "#0d0887"
             ],
             [
              0.1111111111111111,
              "#46039f"
             ],
             [
              0.2222222222222222,
              "#7201a8"
             ],
             [
              0.3333333333333333,
              "#9c179e"
             ],
             [
              0.4444444444444444,
              "#bd3786"
             ],
             [
              0.5555555555555556,
              "#d8576b"
             ],
             [
              0.6666666666666666,
              "#ed7953"
             ],
             [
              0.7777777777777778,
              "#fb9f3a"
             ],
             [
              0.8888888888888888,
              "#fdca26"
             ],
             [
              1,
              "#f0f921"
             ]
            ],
            "type": "histogram2d"
           }
          ],
          "histogram2dcontour": [
           {
            "colorbar": {
             "outlinewidth": 0,
             "ticks": ""
            },
            "colorscale": [
             [
              0,
              "#0d0887"
             ],
             [
              0.1111111111111111,
              "#46039f"
             ],
             [
              0.2222222222222222,
              "#7201a8"
             ],
             [
              0.3333333333333333,
              "#9c179e"
             ],
             [
              0.4444444444444444,
              "#bd3786"
             ],
             [
              0.5555555555555556,
              "#d8576b"
             ],
             [
              0.6666666666666666,
              "#ed7953"
             ],
             [
              0.7777777777777778,
              "#fb9f3a"
             ],
             [
              0.8888888888888888,
              "#fdca26"
             ],
             [
              1,
              "#f0f921"
             ]
            ],
            "type": "histogram2dcontour"
           }
          ],
          "mesh3d": [
           {
            "colorbar": {
             "outlinewidth": 0,
             "ticks": ""
            },
            "type": "mesh3d"
           }
          ],
          "parcoords": [
           {
            "line": {
             "colorbar": {
              "outlinewidth": 0,
              "ticks": ""
             }
            },
            "type": "parcoords"
           }
          ],
          "pie": [
           {
            "automargin": true,
            "type": "pie"
           }
          ],
          "scatter": [
           {
            "fillpattern": {
             "fillmode": "overlay",
             "size": 10,
             "solidity": 0.2
            },
            "type": "scatter"
           }
          ],
          "scatter3d": [
           {
            "line": {
             "colorbar": {
              "outlinewidth": 0,
              "ticks": ""
             }
            },
            "marker": {
             "colorbar": {
              "outlinewidth": 0,
              "ticks": ""
             }
            },
            "type": "scatter3d"
           }
          ],
          "scattercarpet": [
           {
            "marker": {
             "colorbar": {
              "outlinewidth": 0,
              "ticks": ""
             }
            },
            "type": "scattercarpet"
           }
          ],
          "scattergeo": [
           {
            "marker": {
             "colorbar": {
              "outlinewidth": 0,
              "ticks": ""
             }
            },
            "type": "scattergeo"
           }
          ],
          "scattergl": [
           {
            "marker": {
             "colorbar": {
              "outlinewidth": 0,
              "ticks": ""
             }
            },
            "type": "scattergl"
           }
          ],
          "scattermapbox": [
           {
            "marker": {
             "colorbar": {
              "outlinewidth": 0,
              "ticks": ""
             }
            },
            "type": "scattermapbox"
           }
          ],
          "scatterpolar": [
           {
            "marker": {
             "colorbar": {
              "outlinewidth": 0,
              "ticks": ""
             }
            },
            "type": "scatterpolar"
           }
          ],
          "scatterpolargl": [
           {
            "marker": {
             "colorbar": {
              "outlinewidth": 0,
              "ticks": ""
             }
            },
            "type": "scatterpolargl"
           }
          ],
          "scatterternary": [
           {
            "marker": {
             "colorbar": {
              "outlinewidth": 0,
              "ticks": ""
             }
            },
            "type": "scatterternary"
           }
          ],
          "surface": [
           {
            "colorbar": {
             "outlinewidth": 0,
             "ticks": ""
            },
            "colorscale": [
             [
              0,
              "#0d0887"
             ],
             [
              0.1111111111111111,
              "#46039f"
             ],
             [
              0.2222222222222222,
              "#7201a8"
             ],
             [
              0.3333333333333333,
              "#9c179e"
             ],
             [
              0.4444444444444444,
              "#bd3786"
             ],
             [
              0.5555555555555556,
              "#d8576b"
             ],
             [
              0.6666666666666666,
              "#ed7953"
             ],
             [
              0.7777777777777778,
              "#fb9f3a"
             ],
             [
              0.8888888888888888,
              "#fdca26"
             ],
             [
              1,
              "#f0f921"
             ]
            ],
            "type": "surface"
           }
          ],
          "table": [
           {
            "cells": {
             "fill": {
              "color": "#EBF0F8"
             },
             "line": {
              "color": "white"
             }
            },
            "header": {
             "fill": {
              "color": "#C8D4E3"
             },
             "line": {
              "color": "white"
             }
            },
            "type": "table"
           }
          ]
         },
         "layout": {
          "annotationdefaults": {
           "arrowcolor": "#2a3f5f",
           "arrowhead": 0,
           "arrowwidth": 1
          },
          "autotypenumbers": "strict",
          "coloraxis": {
           "colorbar": {
            "outlinewidth": 0,
            "ticks": ""
           }
          },
          "colorscale": {
           "diverging": [
            [
             0,
             "#8e0152"
            ],
            [
             0.1,
             "#c51b7d"
            ],
            [
             0.2,
             "#de77ae"
            ],
            [
             0.3,
             "#f1b6da"
            ],
            [
             0.4,
             "#fde0ef"
            ],
            [
             0.5,
             "#f7f7f7"
            ],
            [
             0.6,
             "#e6f5d0"
            ],
            [
             0.7,
             "#b8e186"
            ],
            [
             0.8,
             "#7fbc41"
            ],
            [
             0.9,
             "#4d9221"
            ],
            [
             1,
             "#276419"
            ]
           ],
           "sequential": [
            [
             0,
             "#0d0887"
            ],
            [
             0.1111111111111111,
             "#46039f"
            ],
            [
             0.2222222222222222,
             "#7201a8"
            ],
            [
             0.3333333333333333,
             "#9c179e"
            ],
            [
             0.4444444444444444,
             "#bd3786"
            ],
            [
             0.5555555555555556,
             "#d8576b"
            ],
            [
             0.6666666666666666,
             "#ed7953"
            ],
            [
             0.7777777777777778,
             "#fb9f3a"
            ],
            [
             0.8888888888888888,
             "#fdca26"
            ],
            [
             1,
             "#f0f921"
            ]
           ],
           "sequentialminus": [
            [
             0,
             "#0d0887"
            ],
            [
             0.1111111111111111,
             "#46039f"
            ],
            [
             0.2222222222222222,
             "#7201a8"
            ],
            [
             0.3333333333333333,
             "#9c179e"
            ],
            [
             0.4444444444444444,
             "#bd3786"
            ],
            [
             0.5555555555555556,
             "#d8576b"
            ],
            [
             0.6666666666666666,
             "#ed7953"
            ],
            [
             0.7777777777777778,
             "#fb9f3a"
            ],
            [
             0.8888888888888888,
             "#fdca26"
            ],
            [
             1,
             "#f0f921"
            ]
           ]
          },
          "colorway": [
           "#636efa",
           "#EF553B",
           "#00cc96",
           "#ab63fa",
           "#FFA15A",
           "#19d3f3",
           "#FF6692",
           "#B6E880",
           "#FF97FF",
           "#FECB52"
          ],
          "font": {
           "color": "#2a3f5f"
          },
          "geo": {
           "bgcolor": "white",
           "lakecolor": "white",
           "landcolor": "#E5ECF6",
           "showlakes": true,
           "showland": true,
           "subunitcolor": "white"
          },
          "hoverlabel": {
           "align": "left"
          },
          "hovermode": "closest",
          "mapbox": {
           "style": "light"
          },
          "paper_bgcolor": "white",
          "plot_bgcolor": "#E5ECF6",
          "polar": {
           "angularaxis": {
            "gridcolor": "white",
            "linecolor": "white",
            "ticks": ""
           },
           "bgcolor": "#E5ECF6",
           "radialaxis": {
            "gridcolor": "white",
            "linecolor": "white",
            "ticks": ""
           }
          },
          "scene": {
           "xaxis": {
            "backgroundcolor": "#E5ECF6",
            "gridcolor": "white",
            "gridwidth": 2,
            "linecolor": "white",
            "showbackground": true,
            "ticks": "",
            "zerolinecolor": "white"
           },
           "yaxis": {
            "backgroundcolor": "#E5ECF6",
            "gridcolor": "white",
            "gridwidth": 2,
            "linecolor": "white",
            "showbackground": true,
            "ticks": "",
            "zerolinecolor": "white"
           },
           "zaxis": {
            "backgroundcolor": "#E5ECF6",
            "gridcolor": "white",
            "gridwidth": 2,
            "linecolor": "white",
            "showbackground": true,
            "ticks": "",
            "zerolinecolor": "white"
           }
          },
          "shapedefaults": {
           "line": {
            "color": "#2a3f5f"
           }
          },
          "ternary": {
           "aaxis": {
            "gridcolor": "white",
            "linecolor": "white",
            "ticks": ""
           },
           "baxis": {
            "gridcolor": "white",
            "linecolor": "white",
            "ticks": ""
           },
           "bgcolor": "#E5ECF6",
           "caxis": {
            "gridcolor": "white",
            "linecolor": "white",
            "ticks": ""
           }
          },
          "title": {
           "x": 0.05
          },
          "xaxis": {
           "automargin": true,
           "gridcolor": "white",
           "linecolor": "white",
           "ticks": "",
           "title": {
            "standoff": 15
           },
           "zerolinecolor": "white",
           "zerolinewidth": 2
          },
          "yaxis": {
           "automargin": true,
           "gridcolor": "white",
           "linecolor": "white",
           "ticks": "",
           "title": {
            "standoff": 15
           },
           "zerolinecolor": "white",
           "zerolinewidth": 2
          }
         }
        },
        "title": {
         "text": "Histogram"
        },
        "xaxis": {
         "anchor": "y",
         "domain": [
          0,
          1
         ],
         "title": {
          "text": "Probability"
         }
        },
        "yaxis": {
         "anchor": "x",
         "domain": [
          0,
          1
         ],
         "title": {
          "text": "count"
         }
        }
       }
      },
      "text/html": [
       "<div>                            <div id=\"636ec83c-67ef-42f9-a0f6-448aa0660183\" class=\"plotly-graph-div\" style=\"height:525px; width:100%;\"></div>            <script type=\"text/javascript\">                require([\"plotly\"], function(Plotly) {                    window.PLOTLYENV=window.PLOTLYENV || {};                                    if (document.getElementById(\"636ec83c-67ef-42f9-a0f6-448aa0660183\")) {                    Plotly.newPlot(                        \"636ec83c-67ef-42f9-a0f6-448aa0660183\",                        [{\"alignmentgroup\":\"True\",\"bingroup\":\"x\",\"hovertemplate\":\"Class=0<br>Probability=%{x}<br>count=%{y}<extra></extra>\",\"legendgroup\":\"0\",\"marker\":{\"color\":\"#636efa\",\"opacity\":0.6,\"pattern\":{\"shape\":\"\"}},\"name\":\"0\",\"nbinsx\":20,\"offsetgroup\":\"0\",\"orientation\":\"v\",\"showlegend\":true,\"x\":[0.800000011920929,0.6000000238418579,0.699999988079071,0.8999999761581421],\"xaxis\":\"x\",\"yaxis\":\"y\",\"type\":\"histogram\"},{\"alignmentgroup\":\"True\",\"bingroup\":\"x\",\"hovertemplate\":\"Class=1<br>Probability=%{x}<br>count=%{y}<extra></extra>\",\"legendgroup\":\"1\",\"marker\":{\"color\":\"#EF553B\",\"opacity\":0.6,\"pattern\":{\"shape\":\"\"}},\"name\":\"1\",\"nbinsx\":20,\"offsetgroup\":\"1\",\"orientation\":\"v\",\"showlegend\":true,\"x\":[0.9900000095367432,0.699999988079071,0.6000000238418579],\"xaxis\":\"x\",\"yaxis\":\"y\",\"type\":\"histogram\"}],                        {\"template\":{\"data\":{\"histogram2dcontour\":[{\"type\":\"histogram2dcontour\",\"colorbar\":{\"outlinewidth\":0,\"ticks\":\"\"},\"colorscale\":[[0.0,\"#0d0887\"],[0.1111111111111111,\"#46039f\"],[0.2222222222222222,\"#7201a8\"],[0.3333333333333333,\"#9c179e\"],[0.4444444444444444,\"#bd3786\"],[0.5555555555555556,\"#d8576b\"],[0.6666666666666666,\"#ed7953\"],[0.7777777777777778,\"#fb9f3a\"],[0.8888888888888888,\"#fdca26\"],[1.0,\"#f0f921\"]]}],\"choropleth\":[{\"type\":\"choropleth\",\"colorbar\":{\"outlinewidth\":0,\"ticks\":\"\"}}],\"histogram2d\":[{\"type\":\"histogram2d\",\"colorbar\":{\"outlinewidth\":0,\"ticks\":\"\"},\"colorscale\":[[0.0,\"#0d0887\"],[0.1111111111111111,\"#46039f\"],[0.2222222222222222,\"#7201a8\"],[0.3333333333333333,\"#9c179e\"],[0.4444444444444444,\"#bd3786\"],[0.5555555555555556,\"#d8576b\"],[0.6666666666666666,\"#ed7953\"],[0.7777777777777778,\"#fb9f3a\"],[0.8888888888888888,\"#fdca26\"],[1.0,\"#f0f921\"]]}],\"heatmap\":[{\"type\":\"heatmap\",\"colorbar\":{\"outlinewidth\":0,\"ticks\":\"\"},\"colorscale\":[[0.0,\"#0d0887\"],[0.1111111111111111,\"#46039f\"],[0.2222222222222222,\"#7201a8\"],[0.3333333333333333,\"#9c179e\"],[0.4444444444444444,\"#bd3786\"],[0.5555555555555556,\"#d8576b\"],[0.6666666666666666,\"#ed7953\"],[0.7777777777777778,\"#fb9f3a\"],[0.8888888888888888,\"#fdca26\"],[1.0,\"#f0f921\"]]}],\"heatmapgl\":[{\"type\":\"heatmapgl\",\"colorbar\":{\"outlinewidth\":0,\"ticks\":\"\"},\"colorscale\":[[0.0,\"#0d0887\"],[0.1111111111111111,\"#46039f\"],[0.2222222222222222,\"#7201a8\"],[0.3333333333333333,\"#9c179e\"],[0.4444444444444444,\"#bd3786\"],[0.5555555555555556,\"#d8576b\"],[0.6666666666666666,\"#ed7953\"],[0.7777777777777778,\"#fb9f3a\"],[0.8888888888888888,\"#fdca26\"],[1.0,\"#f0f921\"]]}],\"contourcarpet\":[{\"type\":\"contourcarpet\",\"colorbar\":{\"outlinewidth\":0,\"ticks\":\"\"}}],\"contour\":[{\"type\":\"contour\",\"colorbar\":{\"outlinewidth\":0,\"ticks\":\"\"},\"colorscale\":[[0.0,\"#0d0887\"],[0.1111111111111111,\"#46039f\"],[0.2222222222222222,\"#7201a8\"],[0.3333333333333333,\"#9c179e\"],[0.4444444444444444,\"#bd3786\"],[0.5555555555555556,\"#d8576b\"],[0.6666666666666666,\"#ed7953\"],[0.7777777777777778,\"#fb9f3a\"],[0.8888888888888888,\"#fdca26\"],[1.0,\"#f0f921\"]]}],\"surface\":[{\"type\":\"surface\",\"colorbar\":{\"outlinewidth\":0,\"ticks\":\"\"},\"colorscale\":[[0.0,\"#0d0887\"],[0.1111111111111111,\"#46039f\"],[0.2222222222222222,\"#7201a8\"],[0.3333333333333333,\"#9c179e\"],[0.4444444444444444,\"#bd3786\"],[0.5555555555555556,\"#d8576b\"],[0.6666666666666666,\"#ed7953\"],[0.7777777777777778,\"#fb9f3a\"],[0.8888888888888888,\"#fdca26\"],[1.0,\"#f0f921\"]]}],\"mesh3d\":[{\"type\":\"mesh3d\",\"colorbar\":{\"outlinewidth\":0,\"ticks\":\"\"}}],\"scatter\":[{\"fillpattern\":{\"fillmode\":\"overlay\",\"size\":10,\"solidity\":0.2},\"type\":\"scatter\"}],\"parcoords\":[{\"type\":\"parcoords\",\"line\":{\"colorbar\":{\"outlinewidth\":0,\"ticks\":\"\"}}}],\"scatterpolargl\":[{\"type\":\"scatterpolargl\",\"marker\":{\"colorbar\":{\"outlinewidth\":0,\"ticks\":\"\"}}}],\"bar\":[{\"error_x\":{\"color\":\"#2a3f5f\"},\"error_y\":{\"color\":\"#2a3f5f\"},\"marker\":{\"line\":{\"color\":\"#E5ECF6\",\"width\":0.5},\"pattern\":{\"fillmode\":\"overlay\",\"size\":10,\"solidity\":0.2}},\"type\":\"bar\"}],\"scattergeo\":[{\"type\":\"scattergeo\",\"marker\":{\"colorbar\":{\"outlinewidth\":0,\"ticks\":\"\"}}}],\"scatterpolar\":[{\"type\":\"scatterpolar\",\"marker\":{\"colorbar\":{\"outlinewidth\":0,\"ticks\":\"\"}}}],\"histogram\":[{\"marker\":{\"pattern\":{\"fillmode\":\"overlay\",\"size\":10,\"solidity\":0.2}},\"type\":\"histogram\"}],\"scattergl\":[{\"type\":\"scattergl\",\"marker\":{\"colorbar\":{\"outlinewidth\":0,\"ticks\":\"\"}}}],\"scatter3d\":[{\"type\":\"scatter3d\",\"line\":{\"colorbar\":{\"outlinewidth\":0,\"ticks\":\"\"}},\"marker\":{\"colorbar\":{\"outlinewidth\":0,\"ticks\":\"\"}}}],\"scattermapbox\":[{\"type\":\"scattermapbox\",\"marker\":{\"colorbar\":{\"outlinewidth\":0,\"ticks\":\"\"}}}],\"scatterternary\":[{\"type\":\"scatterternary\",\"marker\":{\"colorbar\":{\"outlinewidth\":0,\"ticks\":\"\"}}}],\"scattercarpet\":[{\"type\":\"scattercarpet\",\"marker\":{\"colorbar\":{\"outlinewidth\":0,\"ticks\":\"\"}}}],\"carpet\":[{\"aaxis\":{\"endlinecolor\":\"#2a3f5f\",\"gridcolor\":\"white\",\"linecolor\":\"white\",\"minorgridcolor\":\"white\",\"startlinecolor\":\"#2a3f5f\"},\"baxis\":{\"endlinecolor\":\"#2a3f5f\",\"gridcolor\":\"white\",\"linecolor\":\"white\",\"minorgridcolor\":\"white\",\"startlinecolor\":\"#2a3f5f\"},\"type\":\"carpet\"}],\"table\":[{\"cells\":{\"fill\":{\"color\":\"#EBF0F8\"},\"line\":{\"color\":\"white\"}},\"header\":{\"fill\":{\"color\":\"#C8D4E3\"},\"line\":{\"color\":\"white\"}},\"type\":\"table\"}],\"barpolar\":[{\"marker\":{\"line\":{\"color\":\"#E5ECF6\",\"width\":0.5},\"pattern\":{\"fillmode\":\"overlay\",\"size\":10,\"solidity\":0.2}},\"type\":\"barpolar\"}],\"pie\":[{\"automargin\":true,\"type\":\"pie\"}]},\"layout\":{\"autotypenumbers\":\"strict\",\"colorway\":[\"#636efa\",\"#EF553B\",\"#00cc96\",\"#ab63fa\",\"#FFA15A\",\"#19d3f3\",\"#FF6692\",\"#B6E880\",\"#FF97FF\",\"#FECB52\"],\"font\":{\"color\":\"#2a3f5f\"},\"hovermode\":\"closest\",\"hoverlabel\":{\"align\":\"left\"},\"paper_bgcolor\":\"white\",\"plot_bgcolor\":\"#E5ECF6\",\"polar\":{\"bgcolor\":\"#E5ECF6\",\"angularaxis\":{\"gridcolor\":\"white\",\"linecolor\":\"white\",\"ticks\":\"\"},\"radialaxis\":{\"gridcolor\":\"white\",\"linecolor\":\"white\",\"ticks\":\"\"}},\"ternary\":{\"bgcolor\":\"#E5ECF6\",\"aaxis\":{\"gridcolor\":\"white\",\"linecolor\":\"white\",\"ticks\":\"\"},\"baxis\":{\"gridcolor\":\"white\",\"linecolor\":\"white\",\"ticks\":\"\"},\"caxis\":{\"gridcolor\":\"white\",\"linecolor\":\"white\",\"ticks\":\"\"}},\"coloraxis\":{\"colorbar\":{\"outlinewidth\":0,\"ticks\":\"\"}},\"colorscale\":{\"sequential\":[[0.0,\"#0d0887\"],[0.1111111111111111,\"#46039f\"],[0.2222222222222222,\"#7201a8\"],[0.3333333333333333,\"#9c179e\"],[0.4444444444444444,\"#bd3786\"],[0.5555555555555556,\"#d8576b\"],[0.6666666666666666,\"#ed7953\"],[0.7777777777777778,\"#fb9f3a\"],[0.8888888888888888,\"#fdca26\"],[1.0,\"#f0f921\"]],\"sequentialminus\":[[0.0,\"#0d0887\"],[0.1111111111111111,\"#46039f\"],[0.2222222222222222,\"#7201a8\"],[0.3333333333333333,\"#9c179e\"],[0.4444444444444444,\"#bd3786\"],[0.5555555555555556,\"#d8576b\"],[0.6666666666666666,\"#ed7953\"],[0.7777777777777778,\"#fb9f3a\"],[0.8888888888888888,\"#fdca26\"],[1.0,\"#f0f921\"]],\"diverging\":[[0,\"#8e0152\"],[0.1,\"#c51b7d\"],[0.2,\"#de77ae\"],[0.3,\"#f1b6da\"],[0.4,\"#fde0ef\"],[0.5,\"#f7f7f7\"],[0.6,\"#e6f5d0\"],[0.7,\"#b8e186\"],[0.8,\"#7fbc41\"],[0.9,\"#4d9221\"],[1,\"#276419\"]]},\"xaxis\":{\"gridcolor\":\"white\",\"linecolor\":\"white\",\"ticks\":\"\",\"title\":{\"standoff\":15},\"zerolinecolor\":\"white\",\"automargin\":true,\"zerolinewidth\":2},\"yaxis\":{\"gridcolor\":\"white\",\"linecolor\":\"white\",\"ticks\":\"\",\"title\":{\"standoff\":15},\"zerolinecolor\":\"white\",\"automargin\":true,\"zerolinewidth\":2},\"scene\":{\"xaxis\":{\"backgroundcolor\":\"#E5ECF6\",\"gridcolor\":\"white\",\"linecolor\":\"white\",\"showbackground\":true,\"ticks\":\"\",\"zerolinecolor\":\"white\",\"gridwidth\":2},\"yaxis\":{\"backgroundcolor\":\"#E5ECF6\",\"gridcolor\":\"white\",\"linecolor\":\"white\",\"showbackground\":true,\"ticks\":\"\",\"zerolinecolor\":\"white\",\"gridwidth\":2},\"zaxis\":{\"backgroundcolor\":\"#E5ECF6\",\"gridcolor\":\"white\",\"linecolor\":\"white\",\"showbackground\":true,\"ticks\":\"\",\"zerolinecolor\":\"white\",\"gridwidth\":2}},\"shapedefaults\":{\"line\":{\"color\":\"#2a3f5f\"}},\"annotationdefaults\":{\"arrowcolor\":\"#2a3f5f\",\"arrowhead\":0,\"arrowwidth\":1},\"geo\":{\"bgcolor\":\"white\",\"landcolor\":\"#E5ECF6\",\"subunitcolor\":\"white\",\"showland\":true,\"showlakes\":true,\"lakecolor\":\"white\"},\"title\":{\"x\":0.05},\"mapbox\":{\"style\":\"light\"}}},\"xaxis\":{\"anchor\":\"y\",\"domain\":[0.0,1.0],\"title\":{\"text\":\"Probability\"}},\"yaxis\":{\"anchor\":\"x\",\"domain\":[0.0,1.0],\"title\":{\"text\":\"count\"}},\"legend\":{\"title\":{\"text\":\"Class\"},\"tracegroupgap\":0},\"title\":{\"text\":\"Histogram\"},\"barmode\":\"overlay\"},                        {\"responsive\": true}                    ).then(function(){\n",
       "                            \n",
       "var gd = document.getElementById('636ec83c-67ef-42f9-a0f6-448aa0660183');\n",
       "var x = new MutationObserver(function (mutations, observer) {{\n",
       "        var display = window.getComputedStyle(gd).display;\n",
       "        if (!display || display === 'none') {{\n",
       "            console.log([gd, 'removed!']);\n",
       "            Plotly.purge(gd);\n",
       "            observer.disconnect();\n",
       "        }}\n",
       "}});\n",
       "\n",
       "// Listen for the removal of the full notebook cells\n",
       "var notebookContainer = gd.closest('#notebook-container');\n",
       "if (notebookContainer) {{\n",
       "    x.observe(notebookContainer, {childList: true});\n",
       "}}\n",
       "\n",
       "// Listen for the clearing of the current output cell\n",
       "var outputEl = gd.closest('.output');\n",
       "if (outputEl) {{\n",
       "    x.observe(outputEl, {childList: true});\n",
       "}}\n",
       "\n",
       "                        })                };                });            </script>        </div>"
      ]
     },
     "metadata": {},
     "output_type": "display_data"
    }
   ],
   "source": [
    "import pandas as pd\n",
    "import plotly.express as px\n",
    "\n",
    "# Create an example dataframe\n",
    "# data = {'class': [0, 1, 1, 1, 0, 1, 0], 'prob_top_1': [0.8, 0.6, 0.01, 0.7, 0.3, 0.4, 0.9]}\n",
    "# df = pd.DataFrame(data)\n",
    "\n",
    "# Create a histogram using Plotly Express\n",
    "histogram = px.histogram(df, x='prob_top_1', color='class', nbins=20, opacity=0.6)\n",
    "\n",
    "# Set the layout for the histogram\n",
    "hist_layout = dict(title='Histogram', xaxis_title='Probability', yaxis_title='Count')\n",
    "\n",
    "# Create a figure for the histogram\n",
    "fig = px.histogram(df, x='prob_top_1', color='class', nbins=20, opacity=0.6, barmode='overlay', \n",
    "                   title='Histogram', labels={'prob_top_1': 'Probability', 'class': 'Class'})\n",
    "\n",
    "# Show the figure\n",
    "fig.show()\n"
   ]
  },
  {
   "cell_type": "code",
   "execution_count": 30,
   "metadata": {},
   "outputs": [
    {
     "data": {
      "application/vnd.plotly.v1+json": {
       "config": {
        "plotlyServerURL": "https://plot.ly"
       },
       "data": [
        {
         "name": "ROC Curve Class",
         "type": "scatter",
         "x": [
          0,
          0,
          0,
          0.25,
          0.5,
          0.75,
          0.75,
          1
         ],
         "y": [
          0,
          0.3333333432674408,
          0.6666666865348816,
          0.6666666865348816,
          0.6666666865348816,
          0.6666666865348816,
          1,
          1
         ]
        },
        {
         "name": "Reference Line",
         "type": "scatter",
         "x": [
          0,
          1
         ],
         "y": [
          0,
          1
         ]
        }
       ],
       "layout": {
        "template": {
         "data": {
          "bar": [
           {
            "error_x": {
             "color": "#2a3f5f"
            },
            "error_y": {
             "color": "#2a3f5f"
            },
            "marker": {
             "line": {
              "color": "#E5ECF6",
              "width": 0.5
             },
             "pattern": {
              "fillmode": "overlay",
              "size": 10,
              "solidity": 0.2
             }
            },
            "type": "bar"
           }
          ],
          "barpolar": [
           {
            "marker": {
             "line": {
              "color": "#E5ECF6",
              "width": 0.5
             },
             "pattern": {
              "fillmode": "overlay",
              "size": 10,
              "solidity": 0.2
             }
            },
            "type": "barpolar"
           }
          ],
          "carpet": [
           {
            "aaxis": {
             "endlinecolor": "#2a3f5f",
             "gridcolor": "white",
             "linecolor": "white",
             "minorgridcolor": "white",
             "startlinecolor": "#2a3f5f"
            },
            "baxis": {
             "endlinecolor": "#2a3f5f",
             "gridcolor": "white",
             "linecolor": "white",
             "minorgridcolor": "white",
             "startlinecolor": "#2a3f5f"
            },
            "type": "carpet"
           }
          ],
          "choropleth": [
           {
            "colorbar": {
             "outlinewidth": 0,
             "ticks": ""
            },
            "type": "choropleth"
           }
          ],
          "contour": [
           {
            "colorbar": {
             "outlinewidth": 0,
             "ticks": ""
            },
            "colorscale": [
             [
              0,
              "#0d0887"
             ],
             [
              0.1111111111111111,
              "#46039f"
             ],
             [
              0.2222222222222222,
              "#7201a8"
             ],
             [
              0.3333333333333333,
              "#9c179e"
             ],
             [
              0.4444444444444444,
              "#bd3786"
             ],
             [
              0.5555555555555556,
              "#d8576b"
             ],
             [
              0.6666666666666666,
              "#ed7953"
             ],
             [
              0.7777777777777778,
              "#fb9f3a"
             ],
             [
              0.8888888888888888,
              "#fdca26"
             ],
             [
              1,
              "#f0f921"
             ]
            ],
            "type": "contour"
           }
          ],
          "contourcarpet": [
           {
            "colorbar": {
             "outlinewidth": 0,
             "ticks": ""
            },
            "type": "contourcarpet"
           }
          ],
          "heatmap": [
           {
            "colorbar": {
             "outlinewidth": 0,
             "ticks": ""
            },
            "colorscale": [
             [
              0,
              "#0d0887"
             ],
             [
              0.1111111111111111,
              "#46039f"
             ],
             [
              0.2222222222222222,
              "#7201a8"
             ],
             [
              0.3333333333333333,
              "#9c179e"
             ],
             [
              0.4444444444444444,
              "#bd3786"
             ],
             [
              0.5555555555555556,
              "#d8576b"
             ],
             [
              0.6666666666666666,
              "#ed7953"
             ],
             [
              0.7777777777777778,
              "#fb9f3a"
             ],
             [
              0.8888888888888888,
              "#fdca26"
             ],
             [
              1,
              "#f0f921"
             ]
            ],
            "type": "heatmap"
           }
          ],
          "heatmapgl": [
           {
            "colorbar": {
             "outlinewidth": 0,
             "ticks": ""
            },
            "colorscale": [
             [
              0,
              "#0d0887"
             ],
             [
              0.1111111111111111,
              "#46039f"
             ],
             [
              0.2222222222222222,
              "#7201a8"
             ],
             [
              0.3333333333333333,
              "#9c179e"
             ],
             [
              0.4444444444444444,
              "#bd3786"
             ],
             [
              0.5555555555555556,
              "#d8576b"
             ],
             [
              0.6666666666666666,
              "#ed7953"
             ],
             [
              0.7777777777777778,
              "#fb9f3a"
             ],
             [
              0.8888888888888888,
              "#fdca26"
             ],
             [
              1,
              "#f0f921"
             ]
            ],
            "type": "heatmapgl"
           }
          ],
          "histogram": [
           {
            "marker": {
             "pattern": {
              "fillmode": "overlay",
              "size": 10,
              "solidity": 0.2
             }
            },
            "type": "histogram"
           }
          ],
          "histogram2d": [
           {
            "colorbar": {
             "outlinewidth": 0,
             "ticks": ""
            },
            "colorscale": [
             [
              0,
              "#0d0887"
             ],
             [
              0.1111111111111111,
              "#46039f"
             ],
             [
              0.2222222222222222,
              "#7201a8"
             ],
             [
              0.3333333333333333,
              "#9c179e"
             ],
             [
              0.4444444444444444,
              "#bd3786"
             ],
             [
              0.5555555555555556,
              "#d8576b"
             ],
             [
              0.6666666666666666,
              "#ed7953"
             ],
             [
              0.7777777777777778,
              "#fb9f3a"
             ],
             [
              0.8888888888888888,
              "#fdca26"
             ],
             [
              1,
              "#f0f921"
             ]
            ],
            "type": "histogram2d"
           }
          ],
          "histogram2dcontour": [
           {
            "colorbar": {
             "outlinewidth": 0,
             "ticks": ""
            },
            "colorscale": [
             [
              0,
              "#0d0887"
             ],
             [
              0.1111111111111111,
              "#46039f"
             ],
             [
              0.2222222222222222,
              "#7201a8"
             ],
             [
              0.3333333333333333,
              "#9c179e"
             ],
             [
              0.4444444444444444,
              "#bd3786"
             ],
             [
              0.5555555555555556,
              "#d8576b"
             ],
             [
              0.6666666666666666,
              "#ed7953"
             ],
             [
              0.7777777777777778,
              "#fb9f3a"
             ],
             [
              0.8888888888888888,
              "#fdca26"
             ],
             [
              1,
              "#f0f921"
             ]
            ],
            "type": "histogram2dcontour"
           }
          ],
          "mesh3d": [
           {
            "colorbar": {
             "outlinewidth": 0,
             "ticks": ""
            },
            "type": "mesh3d"
           }
          ],
          "parcoords": [
           {
            "line": {
             "colorbar": {
              "outlinewidth": 0,
              "ticks": ""
             }
            },
            "type": "parcoords"
           }
          ],
          "pie": [
           {
            "automargin": true,
            "type": "pie"
           }
          ],
          "scatter": [
           {
            "fillpattern": {
             "fillmode": "overlay",
             "size": 10,
             "solidity": 0.2
            },
            "type": "scatter"
           }
          ],
          "scatter3d": [
           {
            "line": {
             "colorbar": {
              "outlinewidth": 0,
              "ticks": ""
             }
            },
            "marker": {
             "colorbar": {
              "outlinewidth": 0,
              "ticks": ""
             }
            },
            "type": "scatter3d"
           }
          ],
          "scattercarpet": [
           {
            "marker": {
             "colorbar": {
              "outlinewidth": 0,
              "ticks": ""
             }
            },
            "type": "scattercarpet"
           }
          ],
          "scattergeo": [
           {
            "marker": {
             "colorbar": {
              "outlinewidth": 0,
              "ticks": ""
             }
            },
            "type": "scattergeo"
           }
          ],
          "scattergl": [
           {
            "marker": {
             "colorbar": {
              "outlinewidth": 0,
              "ticks": ""
             }
            },
            "type": "scattergl"
           }
          ],
          "scattermapbox": [
           {
            "marker": {
             "colorbar": {
              "outlinewidth": 0,
              "ticks": ""
             }
            },
            "type": "scattermapbox"
           }
          ],
          "scatterpolar": [
           {
            "marker": {
             "colorbar": {
              "outlinewidth": 0,
              "ticks": ""
             }
            },
            "type": "scatterpolar"
           }
          ],
          "scatterpolargl": [
           {
            "marker": {
             "colorbar": {
              "outlinewidth": 0,
              "ticks": ""
             }
            },
            "type": "scatterpolargl"
           }
          ],
          "scatterternary": [
           {
            "marker": {
             "colorbar": {
              "outlinewidth": 0,
              "ticks": ""
             }
            },
            "type": "scatterternary"
           }
          ],
          "surface": [
           {
            "colorbar": {
             "outlinewidth": 0,
             "ticks": ""
            },
            "colorscale": [
             [
              0,
              "#0d0887"
             ],
             [
              0.1111111111111111,
              "#46039f"
             ],
             [
              0.2222222222222222,
              "#7201a8"
             ],
             [
              0.3333333333333333,
              "#9c179e"
             ],
             [
              0.4444444444444444,
              "#bd3786"
             ],
             [
              0.5555555555555556,
              "#d8576b"
             ],
             [
              0.6666666666666666,
              "#ed7953"
             ],
             [
              0.7777777777777778,
              "#fb9f3a"
             ],
             [
              0.8888888888888888,
              "#fdca26"
             ],
             [
              1,
              "#f0f921"
             ]
            ],
            "type": "surface"
           }
          ],
          "table": [
           {
            "cells": {
             "fill": {
              "color": "#EBF0F8"
             },
             "line": {
              "color": "white"
             }
            },
            "header": {
             "fill": {
              "color": "#C8D4E3"
             },
             "line": {
              "color": "white"
             }
            },
            "type": "table"
           }
          ]
         },
         "layout": {
          "annotationdefaults": {
           "arrowcolor": "#2a3f5f",
           "arrowhead": 0,
           "arrowwidth": 1
          },
          "autotypenumbers": "strict",
          "coloraxis": {
           "colorbar": {
            "outlinewidth": 0,
            "ticks": ""
           }
          },
          "colorscale": {
           "diverging": [
            [
             0,
             "#8e0152"
            ],
            [
             0.1,
             "#c51b7d"
            ],
            [
             0.2,
             "#de77ae"
            ],
            [
             0.3,
             "#f1b6da"
            ],
            [
             0.4,
             "#fde0ef"
            ],
            [
             0.5,
             "#f7f7f7"
            ],
            [
             0.6,
             "#e6f5d0"
            ],
            [
             0.7,
             "#b8e186"
            ],
            [
             0.8,
             "#7fbc41"
            ],
            [
             0.9,
             "#4d9221"
            ],
            [
             1,
             "#276419"
            ]
           ],
           "sequential": [
            [
             0,
             "#0d0887"
            ],
            [
             0.1111111111111111,
             "#46039f"
            ],
            [
             0.2222222222222222,
             "#7201a8"
            ],
            [
             0.3333333333333333,
             "#9c179e"
            ],
            [
             0.4444444444444444,
             "#bd3786"
            ],
            [
             0.5555555555555556,
             "#d8576b"
            ],
            [
             0.6666666666666666,
             "#ed7953"
            ],
            [
             0.7777777777777778,
             "#fb9f3a"
            ],
            [
             0.8888888888888888,
             "#fdca26"
            ],
            [
             1,
             "#f0f921"
            ]
           ],
           "sequentialminus": [
            [
             0,
             "#0d0887"
            ],
            [
             0.1111111111111111,
             "#46039f"
            ],
            [
             0.2222222222222222,
             "#7201a8"
            ],
            [
             0.3333333333333333,
             "#9c179e"
            ],
            [
             0.4444444444444444,
             "#bd3786"
            ],
            [
             0.5555555555555556,
             "#d8576b"
            ],
            [
             0.6666666666666666,
             "#ed7953"
            ],
            [
             0.7777777777777778,
             "#fb9f3a"
            ],
            [
             0.8888888888888888,
             "#fdca26"
            ],
            [
             1,
             "#f0f921"
            ]
           ]
          },
          "colorway": [
           "#636efa",
           "#EF553B",
           "#00cc96",
           "#ab63fa",
           "#FFA15A",
           "#19d3f3",
           "#FF6692",
           "#B6E880",
           "#FF97FF",
           "#FECB52"
          ],
          "font": {
           "color": "#2a3f5f"
          },
          "geo": {
           "bgcolor": "white",
           "lakecolor": "white",
           "landcolor": "#E5ECF6",
           "showlakes": true,
           "showland": true,
           "subunitcolor": "white"
          },
          "hoverlabel": {
           "align": "left"
          },
          "hovermode": "closest",
          "mapbox": {
           "style": "light"
          },
          "paper_bgcolor": "white",
          "plot_bgcolor": "#E5ECF6",
          "polar": {
           "angularaxis": {
            "gridcolor": "white",
            "linecolor": "white",
            "ticks": ""
           },
           "bgcolor": "#E5ECF6",
           "radialaxis": {
            "gridcolor": "white",
            "linecolor": "white",
            "ticks": ""
           }
          },
          "scene": {
           "xaxis": {
            "backgroundcolor": "#E5ECF6",
            "gridcolor": "white",
            "gridwidth": 2,
            "linecolor": "white",
            "showbackground": true,
            "ticks": "",
            "zerolinecolor": "white"
           },
           "yaxis": {
            "backgroundcolor": "#E5ECF6",
            "gridcolor": "white",
            "gridwidth": 2,
            "linecolor": "white",
            "showbackground": true,
            "ticks": "",
            "zerolinecolor": "white"
           },
           "zaxis": {
            "backgroundcolor": "#E5ECF6",
            "gridcolor": "white",
            "gridwidth": 2,
            "linecolor": "white",
            "showbackground": true,
            "ticks": "",
            "zerolinecolor": "white"
           }
          },
          "shapedefaults": {
           "line": {
            "color": "#2a3f5f"
           }
          },
          "ternary": {
           "aaxis": {
            "gridcolor": "white",
            "linecolor": "white",
            "ticks": ""
           },
           "baxis": {
            "gridcolor": "white",
            "linecolor": "white",
            "ticks": ""
           },
           "bgcolor": "#E5ECF6",
           "caxis": {
            "gridcolor": "white",
            "linecolor": "white",
            "ticks": ""
           }
          },
          "title": {
           "x": 0.05
          },
          "xaxis": {
           "automargin": true,
           "gridcolor": "white",
           "linecolor": "white",
           "ticks": "",
           "title": {
            "standoff": 15
           },
           "zerolinecolor": "white",
           "zerolinewidth": 2
          },
          "yaxis": {
           "automargin": true,
           "gridcolor": "white",
           "linecolor": "white",
           "ticks": "",
           "title": {
            "standoff": 15
           },
           "zerolinecolor": "white",
           "zerolinewidth": 2
          }
         }
        },
        "title": {
         "text": "ROC and AUROC Curves"
        },
        "xaxis": {
         "title": {
          "text": "False Positive Rate"
         }
        },
        "yaxis": {
         "title": {
          "text": "True Positive Rate"
         }
        }
       }
      },
      "text/html": [
       "<div>                            <div id=\"39389aaf-54ac-4403-b417-e11546308bcb\" class=\"plotly-graph-div\" style=\"height:525px; width:100%;\"></div>            <script type=\"text/javascript\">                require([\"plotly\"], function(Plotly) {                    window.PLOTLYENV=window.PLOTLYENV || {};                                    if (document.getElementById(\"39389aaf-54ac-4403-b417-e11546308bcb\")) {                    Plotly.newPlot(                        \"39389aaf-54ac-4403-b417-e11546308bcb\",                        [{\"name\":\"ROC Curve Class\",\"x\":[0.0,0.0,0.0,0.25,0.5,0.75,0.75,1.0],\"y\":[0.0,0.3333333432674408,0.6666666865348816,0.6666666865348816,0.6666666865348816,0.6666666865348816,1.0,1.0],\"type\":\"scatter\"},{\"name\":\"Reference Line\",\"x\":[0,1],\"y\":[0,1],\"type\":\"scatter\"}],                        {\"template\":{\"data\":{\"histogram2dcontour\":[{\"type\":\"histogram2dcontour\",\"colorbar\":{\"outlinewidth\":0,\"ticks\":\"\"},\"colorscale\":[[0.0,\"#0d0887\"],[0.1111111111111111,\"#46039f\"],[0.2222222222222222,\"#7201a8\"],[0.3333333333333333,\"#9c179e\"],[0.4444444444444444,\"#bd3786\"],[0.5555555555555556,\"#d8576b\"],[0.6666666666666666,\"#ed7953\"],[0.7777777777777778,\"#fb9f3a\"],[0.8888888888888888,\"#fdca26\"],[1.0,\"#f0f921\"]]}],\"choropleth\":[{\"type\":\"choropleth\",\"colorbar\":{\"outlinewidth\":0,\"ticks\":\"\"}}],\"histogram2d\":[{\"type\":\"histogram2d\",\"colorbar\":{\"outlinewidth\":0,\"ticks\":\"\"},\"colorscale\":[[0.0,\"#0d0887\"],[0.1111111111111111,\"#46039f\"],[0.2222222222222222,\"#7201a8\"],[0.3333333333333333,\"#9c179e\"],[0.4444444444444444,\"#bd3786\"],[0.5555555555555556,\"#d8576b\"],[0.6666666666666666,\"#ed7953\"],[0.7777777777777778,\"#fb9f3a\"],[0.8888888888888888,\"#fdca26\"],[1.0,\"#f0f921\"]]}],\"heatmap\":[{\"type\":\"heatmap\",\"colorbar\":{\"outlinewidth\":0,\"ticks\":\"\"},\"colorscale\":[[0.0,\"#0d0887\"],[0.1111111111111111,\"#46039f\"],[0.2222222222222222,\"#7201a8\"],[0.3333333333333333,\"#9c179e\"],[0.4444444444444444,\"#bd3786\"],[0.5555555555555556,\"#d8576b\"],[0.6666666666666666,\"#ed7953\"],[0.7777777777777778,\"#fb9f3a\"],[0.8888888888888888,\"#fdca26\"],[1.0,\"#f0f921\"]]}],\"heatmapgl\":[{\"type\":\"heatmapgl\",\"colorbar\":{\"outlinewidth\":0,\"ticks\":\"\"},\"colorscale\":[[0.0,\"#0d0887\"],[0.1111111111111111,\"#46039f\"],[0.2222222222222222,\"#7201a8\"],[0.3333333333333333,\"#9c179e\"],[0.4444444444444444,\"#bd3786\"],[0.5555555555555556,\"#d8576b\"],[0.6666666666666666,\"#ed7953\"],[0.7777777777777778,\"#fb9f3a\"],[0.8888888888888888,\"#fdca26\"],[1.0,\"#f0f921\"]]}],\"contourcarpet\":[{\"type\":\"contourcarpet\",\"colorbar\":{\"outlinewidth\":0,\"ticks\":\"\"}}],\"contour\":[{\"type\":\"contour\",\"colorbar\":{\"outlinewidth\":0,\"ticks\":\"\"},\"colorscale\":[[0.0,\"#0d0887\"],[0.1111111111111111,\"#46039f\"],[0.2222222222222222,\"#7201a8\"],[0.3333333333333333,\"#9c179e\"],[0.4444444444444444,\"#bd3786\"],[0.5555555555555556,\"#d8576b\"],[0.6666666666666666,\"#ed7953\"],[0.7777777777777778,\"#fb9f3a\"],[0.8888888888888888,\"#fdca26\"],[1.0,\"#f0f921\"]]}],\"surface\":[{\"type\":\"surface\",\"colorbar\":{\"outlinewidth\":0,\"ticks\":\"\"},\"colorscale\":[[0.0,\"#0d0887\"],[0.1111111111111111,\"#46039f\"],[0.2222222222222222,\"#7201a8\"],[0.3333333333333333,\"#9c179e\"],[0.4444444444444444,\"#bd3786\"],[0.5555555555555556,\"#d8576b\"],[0.6666666666666666,\"#ed7953\"],[0.7777777777777778,\"#fb9f3a\"],[0.8888888888888888,\"#fdca26\"],[1.0,\"#f0f921\"]]}],\"mesh3d\":[{\"type\":\"mesh3d\",\"colorbar\":{\"outlinewidth\":0,\"ticks\":\"\"}}],\"scatter\":[{\"fillpattern\":{\"fillmode\":\"overlay\",\"size\":10,\"solidity\":0.2},\"type\":\"scatter\"}],\"parcoords\":[{\"type\":\"parcoords\",\"line\":{\"colorbar\":{\"outlinewidth\":0,\"ticks\":\"\"}}}],\"scatterpolargl\":[{\"type\":\"scatterpolargl\",\"marker\":{\"colorbar\":{\"outlinewidth\":0,\"ticks\":\"\"}}}],\"bar\":[{\"error_x\":{\"color\":\"#2a3f5f\"},\"error_y\":{\"color\":\"#2a3f5f\"},\"marker\":{\"line\":{\"color\":\"#E5ECF6\",\"width\":0.5},\"pattern\":{\"fillmode\":\"overlay\",\"size\":10,\"solidity\":0.2}},\"type\":\"bar\"}],\"scattergeo\":[{\"type\":\"scattergeo\",\"marker\":{\"colorbar\":{\"outlinewidth\":0,\"ticks\":\"\"}}}],\"scatterpolar\":[{\"type\":\"scatterpolar\",\"marker\":{\"colorbar\":{\"outlinewidth\":0,\"ticks\":\"\"}}}],\"histogram\":[{\"marker\":{\"pattern\":{\"fillmode\":\"overlay\",\"size\":10,\"solidity\":0.2}},\"type\":\"histogram\"}],\"scattergl\":[{\"type\":\"scattergl\",\"marker\":{\"colorbar\":{\"outlinewidth\":0,\"ticks\":\"\"}}}],\"scatter3d\":[{\"type\":\"scatter3d\",\"line\":{\"colorbar\":{\"outlinewidth\":0,\"ticks\":\"\"}},\"marker\":{\"colorbar\":{\"outlinewidth\":0,\"ticks\":\"\"}}}],\"scattermapbox\":[{\"type\":\"scattermapbox\",\"marker\":{\"colorbar\":{\"outlinewidth\":0,\"ticks\":\"\"}}}],\"scatterternary\":[{\"type\":\"scatterternary\",\"marker\":{\"colorbar\":{\"outlinewidth\":0,\"ticks\":\"\"}}}],\"scattercarpet\":[{\"type\":\"scattercarpet\",\"marker\":{\"colorbar\":{\"outlinewidth\":0,\"ticks\":\"\"}}}],\"carpet\":[{\"aaxis\":{\"endlinecolor\":\"#2a3f5f\",\"gridcolor\":\"white\",\"linecolor\":\"white\",\"minorgridcolor\":\"white\",\"startlinecolor\":\"#2a3f5f\"},\"baxis\":{\"endlinecolor\":\"#2a3f5f\",\"gridcolor\":\"white\",\"linecolor\":\"white\",\"minorgridcolor\":\"white\",\"startlinecolor\":\"#2a3f5f\"},\"type\":\"carpet\"}],\"table\":[{\"cells\":{\"fill\":{\"color\":\"#EBF0F8\"},\"line\":{\"color\":\"white\"}},\"header\":{\"fill\":{\"color\":\"#C8D4E3\"},\"line\":{\"color\":\"white\"}},\"type\":\"table\"}],\"barpolar\":[{\"marker\":{\"line\":{\"color\":\"#E5ECF6\",\"width\":0.5},\"pattern\":{\"fillmode\":\"overlay\",\"size\":10,\"solidity\":0.2}},\"type\":\"barpolar\"}],\"pie\":[{\"automargin\":true,\"type\":\"pie\"}]},\"layout\":{\"autotypenumbers\":\"strict\",\"colorway\":[\"#636efa\",\"#EF553B\",\"#00cc96\",\"#ab63fa\",\"#FFA15A\",\"#19d3f3\",\"#FF6692\",\"#B6E880\",\"#FF97FF\",\"#FECB52\"],\"font\":{\"color\":\"#2a3f5f\"},\"hovermode\":\"closest\",\"hoverlabel\":{\"align\":\"left\"},\"paper_bgcolor\":\"white\",\"plot_bgcolor\":\"#E5ECF6\",\"polar\":{\"bgcolor\":\"#E5ECF6\",\"angularaxis\":{\"gridcolor\":\"white\",\"linecolor\":\"white\",\"ticks\":\"\"},\"radialaxis\":{\"gridcolor\":\"white\",\"linecolor\":\"white\",\"ticks\":\"\"}},\"ternary\":{\"bgcolor\":\"#E5ECF6\",\"aaxis\":{\"gridcolor\":\"white\",\"linecolor\":\"white\",\"ticks\":\"\"},\"baxis\":{\"gridcolor\":\"white\",\"linecolor\":\"white\",\"ticks\":\"\"},\"caxis\":{\"gridcolor\":\"white\",\"linecolor\":\"white\",\"ticks\":\"\"}},\"coloraxis\":{\"colorbar\":{\"outlinewidth\":0,\"ticks\":\"\"}},\"colorscale\":{\"sequential\":[[0.0,\"#0d0887\"],[0.1111111111111111,\"#46039f\"],[0.2222222222222222,\"#7201a8\"],[0.3333333333333333,\"#9c179e\"],[0.4444444444444444,\"#bd3786\"],[0.5555555555555556,\"#d8576b\"],[0.6666666666666666,\"#ed7953\"],[0.7777777777777778,\"#fb9f3a\"],[0.8888888888888888,\"#fdca26\"],[1.0,\"#f0f921\"]],\"sequentialminus\":[[0.0,\"#0d0887\"],[0.1111111111111111,\"#46039f\"],[0.2222222222222222,\"#7201a8\"],[0.3333333333333333,\"#9c179e\"],[0.4444444444444444,\"#bd3786\"],[0.5555555555555556,\"#d8576b\"],[0.6666666666666666,\"#ed7953\"],[0.7777777777777778,\"#fb9f3a\"],[0.8888888888888888,\"#fdca26\"],[1.0,\"#f0f921\"]],\"diverging\":[[0,\"#8e0152\"],[0.1,\"#c51b7d\"],[0.2,\"#de77ae\"],[0.3,\"#f1b6da\"],[0.4,\"#fde0ef\"],[0.5,\"#f7f7f7\"],[0.6,\"#e6f5d0\"],[0.7,\"#b8e186\"],[0.8,\"#7fbc41\"],[0.9,\"#4d9221\"],[1,\"#276419\"]]},\"xaxis\":{\"gridcolor\":\"white\",\"linecolor\":\"white\",\"ticks\":\"\",\"title\":{\"standoff\":15},\"zerolinecolor\":\"white\",\"automargin\":true,\"zerolinewidth\":2},\"yaxis\":{\"gridcolor\":\"white\",\"linecolor\":\"white\",\"ticks\":\"\",\"title\":{\"standoff\":15},\"zerolinecolor\":\"white\",\"automargin\":true,\"zerolinewidth\":2},\"scene\":{\"xaxis\":{\"backgroundcolor\":\"#E5ECF6\",\"gridcolor\":\"white\",\"linecolor\":\"white\",\"showbackground\":true,\"ticks\":\"\",\"zerolinecolor\":\"white\",\"gridwidth\":2},\"yaxis\":{\"backgroundcolor\":\"#E5ECF6\",\"gridcolor\":\"white\",\"linecolor\":\"white\",\"showbackground\":true,\"ticks\":\"\",\"zerolinecolor\":\"white\",\"gridwidth\":2},\"zaxis\":{\"backgroundcolor\":\"#E5ECF6\",\"gridcolor\":\"white\",\"linecolor\":\"white\",\"showbackground\":true,\"ticks\":\"\",\"zerolinecolor\":\"white\",\"gridwidth\":2}},\"shapedefaults\":{\"line\":{\"color\":\"#2a3f5f\"}},\"annotationdefaults\":{\"arrowcolor\":\"#2a3f5f\",\"arrowhead\":0,\"arrowwidth\":1},\"geo\":{\"bgcolor\":\"white\",\"landcolor\":\"#E5ECF6\",\"subunitcolor\":\"white\",\"showland\":true,\"showlakes\":true,\"lakecolor\":\"white\"},\"title\":{\"x\":0.05},\"mapbox\":{\"style\":\"light\"}}},\"title\":{\"text\":\"ROC and AUROC Curves\"},\"xaxis\":{\"title\":{\"text\":\"False Positive Rate\"}},\"yaxis\":{\"title\":{\"text\":\"True Positive Rate\"}}},                        {\"responsive\": true}                    ).then(function(){\n",
       "                            \n",
       "var gd = document.getElementById('39389aaf-54ac-4403-b417-e11546308bcb');\n",
       "var x = new MutationObserver(function (mutations, observer) {{\n",
       "        var display = window.getComputedStyle(gd).display;\n",
       "        if (!display || display === 'none') {{\n",
       "            console.log([gd, 'removed!']);\n",
       "            Plotly.purge(gd);\n",
       "            observer.disconnect();\n",
       "        }}\n",
       "}});\n",
       "\n",
       "// Listen for the removal of the full notebook cells\n",
       "var notebookContainer = gd.closest('#notebook-container');\n",
       "if (notebookContainer) {{\n",
       "    x.observe(notebookContainer, {childList: true});\n",
       "}}\n",
       "\n",
       "// Listen for the clearing of the current output cell\n",
       "var outputEl = gd.closest('.output');\n",
       "if (outputEl) {{\n",
       "    x.observe(outputEl, {childList: true});\n",
       "}}\n",
       "\n",
       "                        })                };                });            </script>        </div>"
      ]
     },
     "metadata": {},
     "output_type": "display_data"
    }
   ],
   "source": [
    "# Create a plotly graph of the ROC curve and the AUROC curve for each class\n",
    "fig = go.Figure()\n",
    "\n",
    "fig.add_trace(go.Scatter(x=fprs[0], y=tprs[0], name=f'ROC Curve Class'))\n",
    "fig.add_trace(go.Scatter(x=[0,1], y=[0, 1], name=f'Reference Line'))\n",
    "\n",
    "# Update the layout of the graph\n",
    "fig.update_layout(title='ROC and AUROC Curves', xaxis_title='False Positive Rate', yaxis_title='True Positive Rate')\n",
    "fig.show()"
   ]
  },
  {
   "cell_type": "code",
   "execution_count": 38,
   "metadata": {},
   "outputs": [
    {
     "data": {
      "application/vnd.plotly.v1+json": {
       "config": {
        "plotlyServerURL": "https://plot.ly"
       },
       "data": [
        {
         "histnorm": "probability",
         "marker": {
          "color": "#1f77b4"
         },
         "name": "X1",
         "nbinsx": 20,
         "opacity": 0.6,
         "type": "histogram",
         "x": [
          -0.46879540609549947,
          -0.3939953197986961,
          -0.8568727681584105,
          -0.6075460284188483,
          -0.9737858287140488,
          0.8818897441808118,
          -0.49880574841512804,
          0.5828496563387292,
          0.05196831564803919,
          -0.24319728792165296,
          0.9568370903097673,
          -0.3974078724220671,
          1.09937206771101,
          -0.7107916104930577,
          -0.0015332907898900742,
          -0.2786149321769914,
          0.7554984328697234,
          -1.4217535565714805,
          1.3913001073192368,
          -1.133253471541556,
          0.15520519341883887,
          0.19625838267591875,
          -0.028607176982040634,
          0.34320698167767,
          0.024574167845161293,
          1.0951914293355907,
          1.6316498845232101,
          -0.2431677526812887,
          1.348220003273598,
          -0.450377835250384,
          0.7082288218271262,
          0.20507558200970682,
          0.5233031719534965,
          -0.6812116778222497,
          1.1939965901091054,
          1.0405377101695579,
          -2.032477700549728,
          -0.4956108190767122,
          0.7824772212719112,
          -0.5622674605795276,
          -2.1929367095903776,
          1.0495313454052642,
          -0.7416034306538652,
          0.19564502706197986,
          -0.5544314557681488,
          -1.7924148053642066,
          -1.6158917625733749,
          -0.12705711446553042,
          -0.4602584463408882,
          -1.1452575634497861,
          -1.2080243389353191,
          -0.005539648071757754,
          -0.4536023093841922,
          -0.6002696694469756,
          -1.500653425330832,
          1.5824668090258827,
          -0.37252397564598044,
          0.5242244944465732,
          0.3802408047586748,
          1.026335287820432,
          -0.7256619006595871,
          -1.6988773872654228,
          1.4656521191572616,
          -0.3940443482581999,
          2.1899282957128743,
          -0.727989822376828,
          0.16772967392365268,
          -0.038188427420881216,
          -0.9203231784815185,
          -0.7436988531075218,
          1.5695987586698883,
          -1.9997457764585072,
          1.1649780137116141,
          0.22209664481399674,
          -1.0511033191007326,
          0.9121679918183193,
          -1.903147989195432,
          -0.13157682742485413,
          0.6797818968797347,
          -0.04777745074363329,
          0.28867470204506857,
          1.30736407783623,
          -0.251617388950533,
          1.4783837526752306,
          -0.6848634005692833,
          -2.2586228400097386,
          -0.8273328784823455,
          -0.804949818838474,
          0.18170679591681896,
          -1.8723072427329313,
          0.1445972193209032,
          1.728620520011418,
          0.49023497187563925,
          -0.637449704393984,
          -1.2925644153891902,
          0.2743946843295363,
          0.2260545524867902,
          -0.6162400819069873,
          -0.5710039511291329,
          -0.35530127577727966,
          1.1539870897655833,
          -1.6539261546018194,
          0.8813176431357088,
          -1.266383772715925,
          1.3942182934907965,
          -1.0109653614230394,
          -0.22819059965257507,
          0.5167369253217772,
          -0.17074469441675272,
          -1.3441876722791282,
          1.012105965890007,
          1.231688036324592,
          -0.7101048415924526,
          1.1516423145978918,
          -1.1558071379233468,
          1.3850742141516577,
          -0.1083017936998114,
          -0.4694683498386455,
          2.28371864487429,
          1.404820540810288,
          -2.5943597381871673,
          -0.09223643828013389,
          -1.1525323167534476,
          -1.0006030834324793,
          0.6129776657171883,
          -1.3099509857983207,
          0.3694324468603867,
          2.0065589122031566,
          0.7006272487235553,
          -0.4985648337554638,
          -0.5273368010069757,
          -0.16257083617072027,
          0.10438033810215867,
          0.7462694179742121,
          -0.03253252862671959,
          -0.1414704954851232,
          0.04486271824015287,
          0.5009982442692875,
          -0.8992893863019138,
          -0.11650784375300975,
          0.25766777149707937,
          -1.0951024662708517,
          -1.5893755358260064,
          0.05496431991730809,
          -1.2157223953522722,
          -0.09893967211637067,
          0.11102205847695017,
          0.4696463116990956,
          2.1591014558829404,
          -0.8229125641441274,
          0.9187560176908216,
          -0.21387291834942115,
          2.401229103545183,
          0.319758729702332,
          -0.1812399913390098,
          0.259089272480007,
          1.2585817642611732,
          0.09260387405840567,
          -0.04820348632362103,
          -0.9635207512633471,
          0.5478741248086703,
          1.5359637846114762,
          -1.241903935561315,
          0.241470748792081,
          0.8132832502189475,
          1.0293260097675543,
          0.8439187189243254,
          -1.184256269249955,
          -0.07147722827706234,
          -0.02186537814533521,
          0.3106658720317222,
          -0.03148291044882952,
          -1.021473335401159,
          -0.1324894099171047,
          1.1200991780615344,
          0.047570131096918204,
          0.237987258104147,
          -0.24779803515070828,
          -0.48565141789830424,
          -2.824753752723003,
          0.623549829297309,
          0.5547917201955873,
          -0.04977180555476406,
          -0.7567547018440811,
          0.21520788023811413,
          0.6571653433645409,
          0.848315688537104,
          0.6687514926088074,
          1.504224732772404,
          -1.4427624265692203,
          0.3701981521026104,
          -0.005612979333724512,
          -0.18010221887539418,
          -0.10497386973601994,
          -0.06536557979331811,
          0.75152972697217,
          -0.051913187934843306,
          -0.5976517979510687,
          -1.6694842768308742,
          0.29592851408310356,
          -1.4049362721473884,
          0.9999047820861833,
          1.035286562671453,
          0.07725731374903,
          1.1643507228147156,
          -1.8077883572217022,
          -0.04221428691684349,
          -0.4269333590260929,
          -1.1607741237201414,
          2.431926610813237,
          1.313690703726148,
          -0.742744303809935,
          0.359010634418398,
          1.3330622658783347,
          1.192515252492545,
          1.0572954332527744,
          1.133389398081124,
          -0.2588001995830624,
          -0.9925656491468741,
          -0.6835831611442774,
          -1.5643661043816721,
          -1.1019561503390074,
          -0.2553587739890719,
          -1.0115373823174276,
          -0.6868896430479121,
          -0.6133852514176042,
          -0.06721955728588659,
          2.1435038227187864,
          -0.5511060280085942,
          0.2057948997922574,
          1.3252807919907257,
          -0.2035281098031806,
          -0.20753668383401735,
          -1.1284552448039071,
          0.929856541896971,
          1.9275929169292116,
          -1.2081358756195448,
          -0.5608315501378739,
          -0.08198631352099801,
          0.22002626165866732,
          -0.18468779295057722,
          -1.4183954604305884,
          -1.034117916046981,
          0.9689025504138004,
          -0.9939885342173315,
          0.022271506342840232,
          -0.6487130579165568,
          1.729578294228387,
          0.0766548223285015,
          -0.6575067714553937,
          0.30888715855814,
          -0.025215927869088564,
          1.3849927464238314,
          -1.8106972009524431,
          -1.3684042236790948,
          -0.21793273208522168,
          -0.06113604063963225,
          0.16215971304829643,
          1.569398007673217,
          0.8618666826882383,
          1.7970865920454238,
          -1.9408745927715814,
          -1.5335373862124484,
          0.3456646243347347,
          0.1617252969764937,
          -0.05281026655431006,
          -0.4164318238785116,
          0.5133675152237956,
          -0.09257368292472032,
          -0.6671653269556962,
          -0.09906739785130454,
          2.025920126698142,
          2.2099100316795006,
          0.8755800174198557,
          -1.5643261085299889,
          0.44300794255325143,
          -0.5285852642265586,
          0.26079743939228744,
          0.08277383247345599,
          0.6032328808916928,
          -0.06686418283191504,
          0.9311448949908965,
          -1.3280800147798717,
          0.31688465755123835,
          0.41506556646117226,
          1.5956888983711572,
          -1.7741808539792872,
          0.15725594267436122,
          1.0912434834729754,
          -1.1923073734951262,
          -0.36393233732417885,
          2.8411987539108403,
          -1.5460008804656689,
          0.41140661727601774,
          0.9252141346051931,
          1.364091340237695,
          -1.56869377693574,
          -1.2168760615647818,
          1.110082450954914,
          0.8577626273933998,
          0.38521271295655274,
          -0.9916240135265347,
          0.558767423802551,
          0.9329900622966953,
          -0.22218573374926578,
          1.2819105739801864,
          0.05441186324818821,
          -0.6755106058320657,
          -0.9497220051591182,
          -0.9934781277466596,
          -0.40173802933199143,
          -0.7984551844365166,
          0.9816182947235851,
          -1.3332414212822612,
          0.7960992965576211,
          -0.5505559699164396,
          -0.09733464792863569,
          0.7840207400430962,
          1.1325823847110683,
          0.3216887504523095,
          1.4025256869091713,
          0.24647714334525206,
          0.5371324872159663,
          -1.514172411809326,
          -0.7583101972304982,
          0.09219271125191186,
          -1.1534247253142513,
          -0.1371093836657055,
          0.568555303140865,
          0.12626096900406567,
          -0.5977037862106804,
          1.0354895543985616,
          -0.822926696741623,
          0.4975109724573081,
          0.7380569206194162,
          -0.3337146497897657,
          -0.4896558229431874,
          -0.815888581365005,
          -0.489600367948312,
          0.2244641214721021,
          -1.9952875796846608,
          -1.061347353745488,
          0.635030894897906,
          -1.1325870279799983,
          -0.809745094802567,
          0.0385356300845479,
          -0.5650156417649481,
          0.8986111890823175,
          -0.5499287271493348,
          -0.6812501526588356,
          -0.364150429819086,
          -0.1516196523691261,
          2.8875842617543297,
          -1.6844206807486015,
          -1.4364795230021254,
          -0.3387507767911608,
          -0.9309661500948221,
          -0.3253788137161444,
          0.9374415420325596,
          0.08535106740131848,
          1.0127362196243404,
          0.8696499501282796,
          -2.1672746444804063,
          -1.131504963753836,
          -0.5972529875444372,
          1.4309237816309914,
          2.379321727854714,
          1.6879583657787738,
          -1.3444339799231864,
          -0.41996238596822444,
          0.4519046653401816,
          -1.363223833708324,
          2.0414951653919964,
          -1.0589268435582688,
          -1.2447289524599738,
          0.7982317613635534,
          -0.4365758214038877,
          -0.6472912218046853,
          0.48992515616477944,
          -0.173909685958939,
          0.11566675682357566,
          -1.3785810241831375,
          -0.575289833457207,
          -0.7518980591500185,
          1.8903344944306832,
          2.140847786920989,
          1.130670313321436,
          0.34225326898869735,
          -0.12660930927007966,
          -0.8601320950510711,
          -1.635886109491606,
          -0.3009309732795265,
          -1.6798887738167896,
          -0.7678495899133063,
          0.741528661301442,
          0.3766680000840731,
          -0.9281206339282406,
          0.7239122741008924,
          1.6027321891033766,
          -1.161464111057878,
          -1.6325944263132772,
          -0.17858556626162078,
          -0.4118245864620777,
          1.8680257754019982,
          -0.26547684972115976,
          0.8180691042612047,
          1.5287828396266754,
          0.134285656202383,
          0.04310169187111383,
          1.1676351125437336,
          -1.7700210697285252,
          -0.02300474486653889,
          -1.4801884466435529,
          0.8903910680242729,
          0.31191622354197623,
          1.3894554902396246,
          1.3710643570737897,
          -1.3697680840104347,
          -0.6568593560727847,
          0.5583016623555483,
          -0.12256702889579078,
          0.8712349062910738,
          0.25840606174205155,
          1.9608693081001096,
          1.7369408455327406,
          1.750268450804709,
          0.023094440858515412,
          -0.5645301627006839,
          -0.2277406262222922,
          0.9148132800935525,
          1.0177159305057413,
          -1.3163041363726593,
          -1.2843576151615548,
          -2.2381143220662767,
          0.43030251095643757,
          1.7567353594195096,
          0.9123860893439644,
          0.7096623488940613,
          -1.1329379096325982,
          -2.3522084627712516,
          -0.3985049276250286,
          -0.33292129824096345,
          -0.6117526954924927,
          0.16170239225108074,
          -0.3623324833186256,
          1.6427345356233987,
          0.4205199460969169,
          0.14788620313766376,
          -0.08882974489884363,
          1.341941510444363,
          1.9833500351462705,
          -0.07008932840205627,
          -0.15846247354366766,
          1.3760769596627462,
          -0.9097551551157286,
          0.05274529007219952,
          -1.5108333231665314,
          -1.3690608349329896,
          -0.92390984892042,
          0.052415824122690365,
          1.475472867563514,
          -0.5783729531043093,
          0.06681021564108997,
          -0.6675602746908312,
          0.18086264491696255,
          1.377445179471553,
          -1.524030802545425,
          1.45960002084935,
          -0.39771117193286665,
          -0.7667134008661328,
          0.18425778246134997,
          -0.1463719301946754,
          -0.08432850478860031,
          1.2147749441892886,
          -1.4306152774053464,
          0.24226123455202989,
          1.0127386389436437,
          -1.650030300496446,
          -1.2143934712717661,
          -1.3489603999378095,
          0.1591339463938501,
          0.2461856499861855,
          0.7962884268164041,
          -0.2193950064267525,
          -1.7135908998213127,
          -0.19543395118489584,
          0.05498108426836721,
          -0.9078613875434003,
          0.14959925148628775,
          -0.6253833444146933,
          -0.6385953513825158,
          -3.1897704020171016,
          -0.5772444425737866,
          1.1551919298733266,
          0.3901098757437074,
          0.5168745103226888,
          -0.4667962514980724,
          0.8175540881651069,
          -0.5846427839198419,
          0.11678585720532997,
          0.5366364058031114,
          -0.11626878227596611,
          1.1806457410767917,
          -0.6046743076039827,
          0.42746741397911353,
          0.6809876730639864,
          1.0951093379396954,
          0.9799571263559763,
          1.4410289951863453,
          0.06605870617081258,
          -1.4976887811007187,
          -1.8053863525434208,
          -0.5177536591175932,
          -1.3676186005237878,
          0.879916685438946,
          -0.008368820158502875,
          0.17453671276569535,
          -0.4025172069301654,
          0.1451919885539957,
          -0.5482029926031622,
          -1.6186084145782522,
          -1.6759340570042693,
          0.6769873612209731,
          1.5474662777875479,
          0.45115929125564874,
          0.5822844717740825,
          0.6591903862683841,
          -0.8156020506756464,
          1.163525600369807,
          -0.7809803790695408,
          0.14926416047190968,
          1.3692746287238684,
          -0.2188024142620991,
          2.045717944818412,
          -1.0662480673669767,
          -1.1805702780625438,
          0.03441579623271502,
          -1.2854831498883397,
          0.9393440782673993,
          0.636469254481273,
          -0.8612521357523879,
          -1.9133400857590028,
          -1.4574400662234432,
          0.6538397097290124,
          -1.2541225519820283,
          -1.5581980924961614,
          0.7290092042008705,
          -1.2650476081113022,
          0.6176544000379859,
          -0.972162802845272,
          -3.4220535503192617,
          -1.0282372379297207,
          -0.563932961637426,
          -1.0835083339895795,
          0.07494141270748263,
          0.3413557158309882,
          -0.7839531284310345,
          -1.2045276507368372,
          0.08724355510802938,
          1.0053761173442703,
          0.5809824177703191,
          -0.15879432638619354,
          -1.4919267491158532,
          0.25776546471536915,
          1.642760718419894,
          -0.08173464111189038,
          -0.3132504194554134,
          -0.9073095768931738,
          -0.7200179351577602,
          1.2854795926856963,
          -0.38453323731326905,
          -0.856894683574129,
          1.0958688088066697,
          1.7810221286113876,
          2.399768820767811,
          0.12479348521765461,
          -0.9276186944331917,
          -0.044158602592978796,
          2.870365301154904,
          0.39521481710514145,
          -1.3712602741942277,
          1.341997587678811,
          -0.04244296059458249,
          -0.26839274963312376,
          0.6109486340925565,
          -0.3772103553517753,
          -1.7374200927829895,
          -1.1140277871102835,
          -0.27463321017635495,
          0.3101789536990948,
          -0.37678580243338705,
          2.624995453786249,
          1.1307054245696002,
          0.11663002483634036,
          1.62269471474191,
          -0.9457657618535634,
          -0.5001150150270897,
          -0.04194792980404899,
          1.644426683518541,
          0.3391951351413588,
          1.6476705076603664,
          -0.9592358607403737,
          0.0301302281610723,
          0.46097097315465857,
          -0.8774063400489577,
          0.5266404633713123,
          0.5243139269787954,
          1.2689921791627767,
          -1.0154520409897858,
          -0.16305817052526697,
          -0.24950719187668274,
          -0.6718510212427248,
          1.542738132869285,
          0.8761838121431789,
          -0.7664624189578393,
          -0.3778044782547536,
          0.4025844328989942,
          0.17507551591563184,
          -0.47467721452155265,
          0.21033078531275304,
          -2.0170508151578814,
          -0.14526060575734717,
          0.6659161525407913,
          0.6318438441664327,
          0.8742862095790742,
          2.4061098178706595,
          0.8302785803192291,
          1.2972779974456734,
          0.20324221045729837,
          0.7277889545330699,
          -0.46799236620184287,
          -1.7737652838222309,
          0.4200453963096636,
          -0.7568248274432827,
          -0.5083791256874272,
          0.6171850515067326,
          1.2559600411235494,
          -0.8339842436693612,
          -0.08573270091122216,
          0.9853824646137468,
          1.1366447490954417,
          -1.1221688106719443,
          0.04874542348860243,
          -2.0912091093580174,
          1.4021111363673824,
          -1.8042742422368652,
          -1.2525259425113477,
          -0.0013601377224232787,
          -0.4585127189111821,
          -0.48676497713415345,
          -0.3167006538085382,
          -0.03172013249599761,
          -0.5029939992833997,
          -1.1676374530066806,
          0.2945738771794898,
          0.2394198527657507,
          -1.7360224435746665,
          0.22708063526325817,
          0.26628106785557765,
          1.6543626620492076,
          -0.17343282276793337,
          0.08958989160542266,
          -1.071060213084441,
          0.004116808090052353,
          0.5317017487186719,
          0.8261381800380917,
          -0.3648030062359082,
          0.13457419468436135,
          -0.38143584950431464,
          -1.0224051473620874,
          -1.1591811682652104,
          -2.428110000490078,
          0.05570984832336713,
          1.3684215245321818,
          -1.1311299098806893,
          -0.31682913018665154,
          -2.251202554142556,
          -0.6279796524607261,
          -0.5930082890007499,
          2.3833045794977985,
          1.5063536756493665,
          1.8438975558851087,
          0.2074961084967295,
          -0.223523106525003,
          0.5567259587754224,
          0.9596038656907991,
          0.8621726555378619,
          -0.5063116074140976,
          -0.2534838289131607,
          0.7712160984331519,
          -0.5225061806441545,
          -1.0776490447797007,
          -0.6332064712623553,
          1.6891098824179815,
          -0.5140741506591799,
          -0.2736737020267372,
          0.0875304859575037,
          -0.23641591580945054,
          -0.39588811031978466,
          0.814969873354662,
          0.7041599030636231,
          1.2206744371160636,
          -0.2811133824455531,
          1.513140277830852,
          1.5780423927263578,
          0.22759545427360492,
          1.4568450790460152,
          -0.7440078425513349,
          1.2791285842604578,
          0.0003791529048640473,
          -0.5454588326384978,
          0.26885258316454846,
          -2.601998914708477,
          -0.7543670659941005,
          -0.03848224421500349,
          3.0723100237767142,
          -1.0210651754181348,
          -1.6473826801796698,
          -1.4817028754734094,
          0.4688582314377003,
          -0.8750795950287477,
          0.18287134712134198,
          1.683888096828788,
          0.629035643787653,
          0.5732925794832631,
          -1.1595894741952826,
          0.99550400049532,
          0.11744797684522715,
          1.847966926061096,
          -1.540272787254216,
          0.6692238131094292,
          0.7724875609409879,
          1.356276386316626,
          1.4604228366064953,
          -0.16942330317988888,
          0.902023311192647,
          -0.8239127395414254,
          -0.16157980056568558,
          -0.018720389074519894,
          -0.5074184376700548,
          -0.5155740721587624,
          -0.22605078105599907,
          0.5194534379050895,
          0.09980681960989105,
          -0.3684633362327306,
          -0.699092394360948,
          1.0138360361105119,
          -1.0823214481920047,
          -0.43797945474496697,
          1.7013212863683513,
          0.8851070324837671,
          0.1932761132700751,
          -0.4313507462890247,
          -0.12438062607446305,
          -0.48501875680170875,
          0.29521372840028176,
          -0.99274578583236,
          0.49620622738183073,
          -0.37798394066303825,
          -0.6798657529564915,
          -0.27060190565832476,
          -0.6424461588642832,
          -1.6509872985214475,
          -0.09695903692788709,
          -1.0767214388729869,
          0.9573032042479163,
          -0.6795584005058212,
          1.8860012366419725,
          -0.40884875172568774,
          0.8089196914140158,
          0.333292085262041,
          -0.9208597123521646,
          -0.7707569796012869,
          0.8067854470028665,
          1.2697600584716262,
          -0.816771858774786,
          1.6995156252504515,
          1.3154954422378464,
          -1.0558251641603724,
          0.18332915704184938,
          0.4700114467724943,
          0.3544710227157253,
          -0.8697321183793135,
          0.27133721487767526,
          -0.47487722326707016,
          -0.865510379696104,
          -1.2477316819197162,
          -1.1392296769032997,
          -0.4155866072156006,
          1.3086654559824256,
          -0.11569367881101499,
          0.22510993529032197,
          0.9007946361406387,
          -0.7551819448968385,
          0.632050265982337,
          1.1178905374252839,
          -0.3763926416796444,
          -0.8597450990577364,
          -1.0435849185413248,
          0.4260985455548907,
          -1.5535506157078012,
          0.029144599944858098,
          0.4400980672504425,
          1.0930228846903616,
          -1.035797508501726,
          -1.3418647384689737,
          -0.4719786460156429,
          0.21597421688357152,
          0.28789894948950256,
          0.4066328394349006,
          1.389613290016931,
          0.7033007089514266,
          -0.016905235209911586,
          -0.5495185373959889,
          -0.30156378730244093,
          0.5873200047402138,
          0.3883956736587363,
          -0.42678376130229345,
          0.3230866796039623,
          -1.3921285211703402,
          1.0020736911516785,
          -0.5866781196679576,
          0.52982332190837,
          -1.0383791085315586,
          0.15624486743334176,
          -1.6235067616330663,
          0.30630183869671596,
          -2.1184874917738106,
          0.5021740087561922,
          -2.0235343842040137,
          -0.9340601974500746,
          -0.7436963432604624,
          1.2639945134375354,
          1.1691552367514944,
          0.2228300916833538,
          -0.548511692158105,
          0.8185800666909883,
          1.5861736071662123,
          -1.0780380582020455,
          -1.0044563922957916,
          0.6824112794879967,
          0.5480144612833412,
          0.1081062093365306,
          0.7075304253402899,
          -0.8981727000167943,
          0.03321213901118758,
          -0.3257028443430874,
          -0.32311465080845925,
          0.496865178850489,
          -0.4833074146388537,
          -0.02463725298109226,
          -1.079655927027645,
          -0.5842694176410705,
          1.176361219546735,
          -0.24720190024235417,
          0.9718438680832525,
          -0.7942788787465972,
          0.7355184362543247,
          -0.6720738652430999,
          2.0710228915726128,
          0.5236890110948463,
          0.4171401836329822,
          0.29888737939523063,
          0.3471023389210145,
          -1.2171790962572877,
          0.3816140605353044,
          1.4824719236637554,
          -0.5290981804481603,
          -0.722133002180783,
          -0.4768426285160224,
          0.6762041558667675,
          -1.1983702577917743,
          0.4821088859690885,
          -1.566981474247361,
          0.48738654371998286,
          1.6944785137435783,
          1.5989746641464553,
          0.43783169774448966,
          1.3203901805247085,
          -0.6017595366488918,
          0.4327091678431844,
          0.13196627197827523,
          -0.7799062953602262,
          0.004809873888435642,
          -0.5230835266446268,
          -1.1677594594254286,
          -1.6780168608292165,
          0.6827348697122418,
          -0.04155142813771083,
          -0.3442494851035607,
          -0.2145234063452119,
          -2.088732107046732,
          0.7153345837611623,
          -0.16355216390697513,
          1.622059974773205,
          -0.3695603249605767,
          0.4408639149359979,
          1.4493341875141492,
          -1.688145304581001,
          -1.2408307346140655,
          0.5255356611389345,
          -0.6651187154726885,
          -0.3546140475490031,
          0.5912144531518351,
          -1.8795101242282974,
          0.597378386871151,
          -0.4928580593203646,
          -0.12815408206739742,
          -0.03590225728733947,
          -0.08977738196786152,
          0.047282112912232624,
          0.866250998699488,
          1.651822491194874,
          0.23276236399254197,
          -1.9333215073753416,
          -0.9481286904505044,
          -0.916298043353477,
          0.6792945217933953,
          0.04058873445439246,
          1.2969831661418008,
          0.16158066910236765,
          1.0193600209261287,
          0.18673487339975073,
          0.5176671373945764,
          -1.1777481602333952,
          0.1806722403092,
          0.7881928851314042,
          1.1856747811075552,
          0.0263585043692963,
          -0.620320635424467,
          -1.2315093090606237,
          0.3126046066678163,
          0.18459195879763166,
          -1.8269253603230327,
          -2.767626632957734,
          -1.4074117283022656,
          -1.8235733920330603,
          2.0506885801141475,
          -0.37229795032432905,
          1.562001383202234,
          0.5106164585590958,
          1.5708810182768986,
          -0.677149087329866,
          0.3451791326020714,
          -0.6524539837383351,
          1.1189934795186451,
          0.5336348228193533,
          -0.6765135650847434,
          1.5125009800781097,
          0.7727793113511543,
          -1.453767066737095,
          -0.6444965104069221,
          -0.26259908182501046,
          1.5760519775566293,
          0.6666112461293603,
          -1.385100736118708,
          0.6587374140268646,
          1.0769936137233298,
          0.05218000213084547,
          -0.35918920421716494,
          0.4028711212872749,
          -1.613301767174587,
          1.1313220804400934,
          -0.16530604674683863,
          -1.8294801197063832,
          0.7386338356280879,
          -1.2333524840463315,
          1.0169116917776646,
          1.7741600260807269,
          -1.086058029808166,
          2.2320039327379058,
          1.7267106580599845,
          -2.0646752074071437,
          1.3628486582380486,
          -0.6047000822398299,
          -0.6932252636803244,
          1.7237087606521386,
          0.27292265883656136,
          -0.1332589096847275,
          -0.44606383234169317,
          -0.5260479374913767,
          -0.9534859599425474,
          1.3406525476156557,
          -1.7878240604185238,
          -0.29253472165928923,
          0.7059345802586562,
          -0.31623854853685185,
          -2.156336839387323,
          -0.3173550611191272,
          0.6175627568786629,
          -1.7346709527191888,
          1.2086072878267757,
          0.38724402600157093,
          -0.8085777990100904,
          1.9769731764641316,
          -0.9413944083406783,
          0.35212122437071,
          -1.4711935985160698,
          -0.36451783325196163,
          -0.7603225154160927
         ]
        },
        {
         "histnorm": "probability",
         "marker": {
          "color": "#ff7f0e"
         },
         "name": "X2",
         "nbinsx": 20,
         "opacity": 0.6,
         "type": "histogram",
         "x": [
          2.9362923803007477,
          1.8172059557606686,
          2.2873532111470136,
          0.4492246260198107,
          2.0508116994414802,
          -0.41533990821328026,
          2.403803487202863,
          1.0722270004341115,
          2.0905876603704088,
          1.828211009098219,
          2.49433678123113,
          0.3957488838176324,
          1.7397694666321342,
          2.370798950731472,
          1.0409915320321486,
          2.059761702547322,
          1.7732938246219951,
          1.4051508406899076,
          3.360707332290401,
          2.2943222643786862,
          0.46169386717047645,
          1.71278582081389,
          0.8890185225494026,
          2.655323055069096,
          3.6859951382811844,
          1.2564916993801587,
          2.515657127193851,
          1.7986389747793763,
          1.2934256662328634,
          1.4145246319901958,
          -0.059599838899347946,
          0.9892974497134052,
          0.7883865092358602,
          1.3709266810836986,
          3.076851262421826,
          0.8383265598191588,
          1.6733056583509913,
          1.6069633636389415,
          0.3021208422696191,
          0.6570735158001514,
          1.4687652557133861,
          1.2934507762074834,
          -0.03305459005344247,
          0.6129294437634856,
          0.9782424751238026,
          2.6448502898052766,
          1.8325800526869456,
          2.8267853124763653,
          0.3686751733241873,
          2.3145797412450233,
          2.7429867849907654,
          0.5485112612688468,
          0.8916706155206933,
          0.8035688028911302,
          0.09316776782802183,
          2.857333762318521,
          1.7947065525717267,
          0.29516768262734705,
          1.2125084763623981,
          -0.4339810706628613,
          1.9175130507258578,
          1.9956378477286096,
          2.079205053180927,
          1.651374873103625,
          1.09354382144762,
          1.3069943419587633,
          2.097486212522429,
          1.129523811733172,
          2.760007239467133,
          2.7068524510537575,
          0.6004669190743953,
          2.6129991878922585,
          0.14404324094405152,
          2.3868039965656394,
          0.223230798013627,
          1.2900134196258861,
          1.49753087620946,
          1.3428647830715577,
          3.031007149769416,
          3.2468786639423177,
          1.5622087081363716,
          1.96812636024376,
          2.347884341378422,
          2.343330595709126,
          0.8148347028745939,
          0.4895562055038638,
          3.121056397099796,
          0.7582880345677614,
          2.8780753565548,
          2.9507953757183567,
          1.7955890081729535,
          2.508898423481945,
          2.742259234333086,
          1.706638874081075,
          0.336327618300577,
          0.9215982004997598,
          3.143476714856569,
          3.1008644967042804,
          2.396747999975026,
          1.2594682022474377,
          3.517240202860438,
          1.571307988467247,
          0.8000975248254791,
          2.0809525910763504,
          1.6121176573898262,
          1.675546764625392,
          0.8184147601690216,
          1.7729341890215846,
          1.7939098860160805,
          1.3041659498693223,
          -0.03408008444233612,
          1.3495975578735273,
          2.0349112516740018,
          1.8264146302059514,
          0.19832654808826744,
          0.9207687795518165,
          1.0865829043023385,
          0.5549921783643886,
          0.9494629529240877,
          -0.5318636542534576,
          2.1327303023876985,
          3.2538575351991526,
          1.3518711455876609,
          1.3703660059337905,
          1.6693874224202436,
          2.172138610445849,
          2.4094319463274587,
          1.1089029432315005,
          3.5759208009050725,
          2.394765229730452,
          1.748555965318955,
          2.4339302731210144,
          1.4551378441816363,
          1.3834888675335189,
          1.5580873177944612,
          1.2819047792151925,
          -0.023411126770221724,
          2.369322149551531,
          0.9191537306695927,
          0.6901234997090465,
          0.008952084902078106,
          1.4952791335715556,
          1.9887863620691502,
          0.9190399256107725,
          0.9029267626454691,
          3.200205684171612,
          1.7114736024570112,
          2.3777541278453613,
          0.3569175021595006,
          2.843857910366903,
          3.4469229923537563,
          0.3393749868155942,
          1.987805488832971,
          2.830440574987757,
          0.4413510014575197,
          3.6814000199846575,
          2.59170382194419,
          2.5569194454276616,
          0.1963473156107851,
          1.9415106117941887,
          2.5260607233160126,
          1.3148885526782534,
          0.9618517750741232,
          0.2440049923999943,
          0.9986446169147809,
          1.5875309478245825,
          2.02237057601588,
          1.2211306048039958,
          0.9442622600391561,
          1.0627544065901164,
          0.7895818707412133,
          0.8300061280831045,
          2.95869791941937,
          0.7248695795949884,
          -0.030651030691700054,
          1.1340259182724584,
          1.6229693349878056,
          -0.11443194526746492,
          0.6767314758971446,
          1.634671623200601,
          0.7104796720755903,
          1.9674134303816897,
          1.8738425218029287,
          2.4491538632245486,
          3.4897707864687195,
          2.397183118845314,
          0.5271825405780363,
          2.2702781629734705,
          3.266842327120831,
          1.1882531673791896,
          1.3642641147939538,
          3.4687856182486687,
          1.5845182083889777,
          1.537442474552755,
          1.4345927127794507,
          1.962350221934623,
          -1.2530338212709236,
          -0.3761627047573577,
          0.25794127742393447,
          0.7373989340640312,
          0.9009070694203024,
          1.4760161268470706,
          1.1447536856458722,
          2.081849158346704,
          2.2026990326234377,
          2.2526613579116788,
          1.4973845131010757,
          -0.32781954054596674,
          3.1211174189803055,
          0.9276983016733577,
          1.8938764128188899,
          2.327409387218399,
          1.109703617147036,
          1.4118906945382,
          1.5020928287381665,
          1.4418390986082212,
          2.6111045968088864,
          1.911484886325979,
          2.135914954070243,
          2.5389062120390244,
          3.278813820649707,
          1.3849174830330377,
          1.7791197203027305,
          2.024163538748504,
          2.3174326270470735,
          1.7789681435102298,
          -0.738485182812072,
          1.5565141828264037,
          2.090683084282911,
          2.0174891169994127,
          -0.6016210777740438,
          2.019801657943372,
          3.058428853343244,
          1.4905266914185298,
          2.167688817489921,
          3.706980834836666,
          2.749035856913844,
          -0.22760175152344653,
          1.595472984690031,
          2.5733935994382007,
          3.3778354506190795,
          2.8000881299312628,
          1.744305621640537,
          2.0198089457327,
          2.257178358489768,
          1.93369372113511,
          2.648115177792076,
          -0.1512765995821863,
          1.1928363613142698,
          0.927845224624514,
          0.3140287329609377,
          1.4589653174856752,
          2.0845057130982667,
          0.240012662918063,
          1.3495665101773793,
          1.6864309409950604,
          3.247454610929526,
          0.4747238090170194,
          -0.2049812038917711,
          0.47799896338786496,
          0.3955532859362927,
          2.0794382620280367,
          2.1815636178050615,
          0.6310386321034464,
          0.9361334748830424,
          0.5836791587521059,
          2.0653166187066065,
          3.134898927535753,
          2.413087308637612,
          2.0335483524784097,
          1.7112158237434372,
          0.5670543340884541,
          1.1825920691014953,
          2.321995147197832,
          -0.5511537344942194,
          3.2038796760903847,
          0.8265967003811161,
          1.0879131898968377,
          2.3238662150893648,
          1.8871626438952005,
          0.6362211123234806,
          1.9721715027960378,
          1.5965660424421386,
          1.1366477328476008,
          0.34823868615035747,
          1.5092920105968493,
          0.006513574180013304,
          2.302287054273853,
          2.3214908741805336,
          1.8512361616663129,
          1.1192646086615263,
          2.296531051336668,
          1.1372699360415834,
          1.7921390686163081,
          -0.3781913821927658,
          -0.21192123687103082,
          3.248012226367428,
          1.0013126297191208,
          1.7134633333775844,
          1.231216032698979,
          1.099222266601402,
          0.04443518358325571,
          2.2267369417131366,
          0.5815710874784372,
          1.4059586122795864,
          0.813347356844582,
          3.4794476091067432,
          1.8299987080344955,
          2.1957955070846795,
          1.973448580048818,
          0.4195788068299444,
          2.3745881312749417,
          1.0378591286560588,
          0.41216980549161497,
          1.6151544210811226,
          0.2631200958972113,
          0.912720168169528,
          2.35318722329415,
          1.7181660237076846,
          0.3063118064925072,
          1.3334910719244906,
          2.9791505967247405,
          -0.17538313711454845,
          -0.12839369114526988,
          1.8641528611433469,
          0.3164410375120381,
          -0.21476996272958626,
          2.973868569116399,
          2.68352289368935,
          2.8227471925946963,
          0.6966543469762307,
          2.2951370097867967,
          1.7425788601860706,
          2.046028584232602,
          1.934765241945425,
          1.4214192873284808,
          4.677116325194488,
          2.0680482922955266,
          4.0078848383992245,
          1.7504400971961185,
          0.42953853248315865,
          0.9186246231732049,
          2.0987717171211666,
          2.1595625391105107,
          -0.734430095798666,
          2.2811715184100283,
          2.2858969412827794,
          1.27153151420814,
          3.0137082660989574,
          1.2682866868499665,
          0.5626716510863485,
          0.7034334774112212,
          1.2226143147300848,
          2.2426901481118415,
          1.8225639696447162,
          0.1714508664566654,
          2.112760362727706,
          1.3312258532514,
          2.1001538278378384,
          2.212801597201055,
          1.5951316232569985,
          0.21404322606956305,
          1.3668666913915588,
          2.194661270023256,
          2.7138212916781903,
          1.3575643659888719,
          1.6365546232352826,
          2.572297613556283,
          -0.07562190072122732,
          1.2395925199902025,
          1.057136533575382,
          1.421394027131822,
          3.4633009254744733,
          -0.3966041246869092,
          -0.09715636149288431,
          2.0006427473560087,
          1.1081495312410348,
          0.31409248330925443,
          0.7639920219766047,
          3.475054545061364,
          -0.297396887336012,
          -0.1235814817798302,
          1.236699946242086,
          1.8935091046030497,
          2.151719184687517,
          0.25766162912538215,
          1.8695952255392363,
          1.712478519207362,
          0.7993043291244237,
          1.8368589266250122,
          1.891939856140554,
          1.7541023081813854,
          1.8134595574219814,
          0.14969273644315373,
          1.323393874628635,
          0.3044136325383284,
          -1.6798400468441579,
          0.5159651741187253,
          0.7299872220651629,
          0.3067666194780325,
          1.8316019588005772,
          1.8702832589971559,
          2.66476574432051,
          0.14441546380044357,
          2.1434554386726283,
          -0.4806277337019451,
          3.319048022036592,
          2.3397712212234305,
          1.8380570303032808,
          1.5785716839613195,
          1.3391517431148023,
          2.0742752533751263,
          2.4922110922796166,
          2.1478080662829413,
          2.7229896922314314,
          1.721576204066996,
          0.9046600184133389,
          1.7066515911831692,
          2.903412016649612,
          1.9286052311598696,
          1.5434152567017,
          1.371899947919112,
          2.88427324831117,
          0.5616501528632952,
          1.8843307487187728,
          2.411531268677035,
          1.4630695593375678,
          0.7236321219028103,
          2.2128443487062137,
          2.141425155772981,
          2.7971874506375727,
          2.2454270441784447,
          2.63093467334384,
          1.7450405691062816,
          1.9182515004560114,
          1.794050506529911,
          0.6483325585499952,
          0.5784319587006294,
          3.8172343152117842,
          0.9708294206382316,
          0.28863804153736594,
          2.507867770221118,
          1.472472252636528,
          0.5761095221915545,
          2.876667246229008,
          1.4585589839928603,
          1.143558453173629,
          0.36614755174905533,
          3.1969458534247464,
          1.8520260373247028,
          2.310618298366011,
          2.9958785845254643,
          1.1175455604593625,
          3.0222915920957956,
          0.6390928910220077,
          1.6362274773865821,
          2.6312394017793883,
          1.6033688058470537,
          0.46666116476368913,
          3.316584408486034,
          -0.5397313509637174,
          2.3282686146180676,
          1.589012635305611,
          3.351793873782065,
          -0.17494608583530113,
          3.8491428784841095,
          -0.6337991234848817,
          2.317169901442023,
          1.4804360239166234,
          2.2448988794343756,
          2.847417022132087,
          2.8214687841743036,
          1.8970860357765522,
          0.7232694110384359,
          -0.41269097767130214,
          -0.15893287250817978,
          1.5295994538810194,
          0.9144018051271362,
          3.446270448308472,
          0.5061486028911698,
          1.195970722523565,
          2.6622151897152837,
          2.1390795183638645,
          2.04595275328753,
          1.5396511338208962,
          0.8624201982385213,
          -0.09687406345098504,
          3.628657655084446,
          2.4180951718618595,
          2.0460626521818037,
          1.7380263564348197,
          2.8936554456092276,
          1.8120462607773673,
          0.8826668344299894,
          0.2083510023131685,
          1.027951502689749,
          1.5247599522527562,
          2.7042938269028416,
          -0.11443677295454435,
          1.0552797354092576,
          2.648490878796645,
          1.5817574413929252,
          1.1839456687564556,
          0.2527273794164917,
          1.444955155945153,
          1.3388598097915836,
          2.8309824104181067,
          3.1958249222312487,
          2.9312239236748945,
          2.0839586822453984,
          2.2326396571741913,
          1.860425571943785,
          3.0988394823448404,
          0.39645933376918396,
          0.10754889545772928,
          0.7982433412988105,
          2.653782239396701,
          1.2535286473130964,
          1.7856453853315248,
          0.5187326468107207,
          3.1100757150211056,
          0.622907566712505,
          3.1368304095616137,
          1.8567264855401655,
          0.8731641258909845,
          2.0497701856567945,
          1.300716971468813,
          1.540444162952029,
          -0.0950584800944303,
          1.6679788374048972,
          2.161228689165007,
          -1.430640351999953,
          1.5916946775107093,
          1.8855493132439198,
          1.6457667519772148,
          1.0287938435584545,
          3.194109550515,
          0.06555765306026173,
          1.145452993023262,
          2.275149628698647,
          3.279992127758463,
          2.477027557703098,
          1.5646391709615528,
          2.2172163707022308,
          0.8957858142866107,
          1.6083843369528708,
          1.8458180753474622,
          1.4652741580724253,
          0.5192798165993633,
          1.426642776218128,
          1.161501888612529,
          0.8582201376970987,
          1.407081836245097,
          0.4382211067583779,
          3.778877708580315,
          2.212035023888498,
          3.0071347999210394,
          2.2441713311334754,
          0.36242213906888887,
          0.13855325980517574,
          1.287085230276908,
          0.524594873595477,
          1.7465667767848683,
          1.1622396883072472,
          -0.22724185421189302,
          1.4432908077431281,
          1.3371985299913272,
          2.5082639023843836,
          1.3114699458533285,
          0.8770474426170687,
          2.394775784454464,
          1.5858013159639806,
          0.9685629822569353,
          1.1217745275946849,
          0.8244694766782745,
          1.1806948871328027,
          0.8210884890995983,
          1.6141876711862775,
          3.5516020990694277,
          2.597434151999934,
          2.767228309757459,
          2.0830102930589156,
          0.1995825025626925,
          1.096586832372104,
          2.0825431106213292,
          0.4834289023250993,
          0.2720255513095913,
          2.4924445611525514,
          2.66895091911625,
          0.9548040820528728,
          2.938371682270893,
          2.0436340561913635,
          2.1817204670350177,
          0.6712103136417552,
          2.8272000180732717,
          1.3696541086087433,
          3.719788010422853,
          1.8911950768626404,
          3.0318836826055016,
          1.1064402947808087,
          1.5956202363699812,
          0.45865296690850954,
          3.986427679087891,
          1.4552578844370045,
          2.5512825147813087,
          2.618889478294541,
          0.34295756856821624,
          0.6281144541361643,
          1.2073429378718683,
          0.671299973455837,
          1.180964080055749,
          -0.5857045773628333,
          0.6383153679087225,
          1.6448375182451862,
          1.3573556684804116,
          3.3711981804335065,
          0.8553667051912521,
          1.5651770941997414,
          3.1306172054593624,
          -0.02914563659993097,
          2.082422352927327,
          0.9565019414278301,
          1.8223155170657943,
          0.43462918288398766,
          0.5017375736334777,
          1.9881682443176087,
          1.8929803344122185,
          2.0701989488115426,
          0.7652357857873953,
          2.0529286480058797,
          0.5631822146622102,
          2.4692420884257436,
          0.0054332121813245315,
          1.4696419802259921,
          0.6251311588988174,
          0.8788690622107908,
          3.5998364173564146,
          2.1192638900766823,
          0.556712738012917,
          3.2090022340179893,
          -0.19470316394251141,
          1.374962166459199,
          0.8837671975264881,
          0.788095376598641,
          2.496322106082556,
          2.722722487734181,
          0.745978760920434,
          1.1865989203920977,
          1.20202512823542,
          3.0503215384478137,
          1.5372966066706226,
          1.5686120738661753,
          1.3461834954961363,
          1.082917548740658,
          1.1540204626436101,
          1.082362201171333,
          2.311446766364503,
          2.0101425110327664,
          1.3816545742680573,
          2.9610052829141593,
          0.5873206231187581,
          3.1414754813592003,
          2.0992211790125745,
          1.8535665588942594,
          -0.9861928362138599,
          2.9641462301562296,
          1.3772380767635155,
          0.9910704945738192,
          1.128610896495362,
          1.9023610677854714,
          0.9208897352471345,
          2.0090670389086402,
          -0.8767007100029951,
          1.562374496506128,
          2.1432420544226813,
          2.05295687304686,
          2.2535320845277784,
          2.53284285816913,
          3.9237045063584626,
          2.0921803733143998,
          -0.0308848202719485,
          1.7404189060936364,
          1.3410809421569154,
          2.2619360360793572,
          1.6986010427562412,
          1.0574933454179227,
          1.4568972922049368,
          1.0099338012687478,
          0.4990153440911067,
          -0.027690731855910755,
          1.052864991036996,
          2.4426751464387317,
          3.247281566606855,
          3.3281933917368187,
          0.5837858052822882,
          3.2139021431844377,
          -0.004782100558562874,
          2.489771624554718,
          0.1661327863977644,
          -0.12505233350011835,
          1.2285466920001433,
          1.3265473876759772,
          1.4483298350401264,
          2.814244546471199,
          3.2755020327890922,
          1.829040026921749,
          2.131062253402998,
          1.825787047544671,
          -0.8111334863591062,
          0.8186445831597302,
          2.1089364298845656,
          2.003592967059208,
          1.5055219537983966,
          3.4807633128403683,
          3.5483162319734864,
          0.9525957074873216,
          1.6561514739825889,
          1.6930129525810904,
          0.7755923839252934,
          4.070711636198645,
          0.9069858065563766,
          0.49713563765621793,
          0.7321198051505344,
          2.2277739974750674,
          0.2567287339844939,
          1.0388557809767902,
          1.2972474431697127,
          1.158532683603024,
          3.042797896848964,
          0.5613966737810313,
          1.524487917919591,
          0.940453691926136,
          2.8393044185258773,
          1.4402025881666625,
          -0.13708841971384156,
          1.9606538872527164,
          3.2777657006313277,
          0.33847189630793495,
          3.5050439611325945,
          0.9786690618214287,
          2.224950730667306,
          0.12496139636237569,
          3.201619285654366,
          2.1903344261565016,
          -0.22125770743335949,
          0.9666757370349072,
          0.5726108772934638,
          3.321318779115662,
          1.1885754804474193,
          1.951653746207826,
          1.679319110680101,
          0.5702857442965648,
          2.4778998759340203,
          1.609466760481301,
          1.3158147211603812,
          2.587390790209067,
          1.5384903924033897,
          1.2912090365556967,
          2.7954617931599497,
          1.787118866548705,
          0.14809135853494948,
          1.1094113988916416,
          0.46144404567793207,
          1.3947998280233411,
          3.793265247215799,
          0.8125643252703216,
          0.21459472357057008,
          1.9912857925328438,
          0.7303994626612166,
          1.1062959457026884,
          2.847057034663834,
          0.6662622496960807,
          2.3970352108461164,
          1.2154205427867493,
          1.5600642277210153,
          2.56462462564427,
          0.4953031711179796,
          0.37647901172286513,
          1.6093880677957004,
          1.6623291829177482,
          -0.23918847955270683,
          1.6910528896943204,
          2.6942875201603336,
          1.0065154241282646,
          1.2163463977626359,
          1.1873934669217263,
          1.3632748706705358,
          1.8654169116882275,
          2.383839485934089,
          2.281025488338852,
          -0.1063083093277366,
          -0.04450899786294249,
          1.2920246512930451,
          1.0504718146733703,
          2.305163813883224,
          1.1100339246829343,
          0.7873011356870802,
          1.3950145280427313,
          0.9903529066454014,
          1.819341268667068,
          1.8015284201414303,
          0.051109802446320796,
          0.6290743731025795,
          -1.365158148620218,
          3.0682143541850415,
          0.424066192711426,
          0.48029355519399797,
          -0.24869569640610956,
          0.8845441561678107,
          1.5695700558374917,
          -0.10618003749386506,
          1.2883867226866794,
          1.0030903535369537,
          1.6847314480054063,
          2.1321258567048176,
          0.3103110127983395,
          1.1243976875646706,
          1.7770796053475046,
          1.8828024183304364,
          1.1746439536521,
          1.1863619936588934,
          2.8972094838127256,
          2.5100399421962263,
          0.7152518861830398,
          1.2740943650845282,
          -2.065278830223525,
          1.0238157311170002,
          0.6164967123499802,
          1.6927028821722454,
          1.7503925732751602,
          0.9959841143153939,
          2.9360709759059747,
          0.29971827245697646,
          1.884150167851947,
          2.228822205137004,
          -0.7426928667422672,
          1.8288882318513788,
          1.2788857715843045,
          1.565681818744255,
          1.026085796149006,
          2.313774027180011,
          1.4627460316227754,
          1.2359766313289988,
          1.5542536342870443,
          0.8140646601428118,
          1.545489540749768,
          2.1052450281934982,
          1.0454503037573677,
          2.019604701148613,
          0.6652585920819082,
          0.9089998187128064,
          2.420927397157933,
          -0.23458661728878827,
          0.9274141271316807,
          2.4597904065083127,
          1.5336069882864272,
          0.06622999042617317,
          0.3658115689420194,
          -0.11751700396904385,
          2.675166990258723,
          2.0686833285316566,
          2.0248249606965505,
          2.202277191999529,
          1.9567038038614653,
          0.9562721216195655,
          1.2655702812440381,
          1.840977354002613,
          3.4024399553967326,
          2.927018534048756,
          1.7798439300544853,
          1.449745295287638,
          3.9591949918017013,
          0.9324652935404177,
          3.1125228971509555,
          2.50598543483833,
          1.3301587639266148,
          0.7136927196076999,
          1.4637638052261102,
          -0.5243217235909232,
          0.28581097221297513,
          2.3392125993338584,
          -0.32474759503743655,
          1.687012116126084,
          2.4328638739035977,
          0.6925523274342972,
          1.2788706981928475,
          -0.33210046065824494,
          1.9903775747980572,
          2.6897953046221934,
          3.52523499356963,
          1.763691913273156,
          1.5418630671976674,
          1.078901334890113,
          1.6315713565631724,
          0.7344618451137619,
          1.3101869675249889,
          1.8228786482402644,
          1.5980440663897895,
          0.9545187849120355,
          1.2075216997804965,
          2.4337293668935613,
          -0.7499175942772465,
          2.599250244716652,
          1.3093526396155455,
          3.145469362624328,
          2.157543987956669,
          0.0789960311872262,
          3.0299230503756434,
          0.695235693334556,
          1.32740517622328,
          -0.2433139998923335,
          2.5584515980645066,
          1.8520177266075375,
          2.5897416229851293,
          1.7394958044704194,
          1.5178788347877736,
          0.5903690741848595,
          3.368067427374695,
          1.0857876952589147,
          1.063508739452136,
          2.4119476147697942,
          1.1960843105538004,
          1.9506639893584659,
          0.09468664131712745,
          1.700684453662097,
          1.8297558383781898,
          1.8753600704241122,
          0.23633437986588324,
          4.603226249420732,
          -0.18518487733515032,
          1.3196923342167994,
          1.4716279508650685,
          0.6555347525220869,
          1.5126112349824044,
          1.666450548329081,
          0.640223867613621,
          1.2500730645632976,
          1.3158296604988098,
          1.7319933209738791,
          1.1899511510668135,
          0.9495328452869018,
          1.021767162323959,
          0.11810578709118968,
          2.0440805257643087,
          1.531958764831085,
          1.4275968511090569,
          2.7823618138142656,
          -0.3725075876965911,
          1.5641334783550487,
          3.9023404727154993,
          2.6425192411356746,
          1.8995044391584834,
          1.728546344072151,
          1.624848403708496,
          2.638905099547718,
          2.3317503846711864,
          1.2484165803656877,
          2.466845567128643,
          2.7919496728227498,
          0.975677841336842,
          0.8398684522824367,
          2.5001851118756537,
          2.4069346768054776,
          2.2900904537707403,
          1.449698946333716,
          3.1099942362806146,
          3.095877231262733,
          1.7920732649461142,
          0.47890095846684555,
          0.09172648774477654,
          2.759767165225697,
          -1.2493545458813102,
          2.6187201204264605,
          0.15793399148821763,
          1.3293937977761139,
          -0.7367693764982133,
          1.2417752250530876,
          2.773366084511529,
          3.264889860857543,
          1.793444698256737,
          1.0515632335391545,
          0.7401617507760336,
          1.828805638807126,
          0.5512455520405535,
          2.0067987276751578,
          2.1501799202319343,
          2.0484387782058415,
          1.034209684716359,
          2.3177508979891623,
          0.68581756711796,
          -1.5145439606528606,
          1.5082028096429503,
          2.685202783747421,
          1.0467346805838265,
          0.9864670483540221,
          2.985009925566511,
          1.5747244531795026,
          1.4076785680680326,
          1.8559785200910954,
          3.2297763846631975
         ]
        }
       ],
       "layout": {
        "bargap": 0.1,
        "bargroupgap": 0.1,
        "barmode": "overlay",
        "font": {
         "family": "Arial",
         "size": 16
        },
        "paper_bgcolor": "#F9F9F9",
        "plot_bgcolor": "#F9F9F9",
        "template": {
         "data": {
          "bar": [
           {
            "error_x": {
             "color": "#2a3f5f"
            },
            "error_y": {
             "color": "#2a3f5f"
            },
            "marker": {
             "line": {
              "color": "#E5ECF6",
              "width": 0.5
             },
             "pattern": {
              "fillmode": "overlay",
              "size": 10,
              "solidity": 0.2
             }
            },
            "type": "bar"
           }
          ],
          "barpolar": [
           {
            "marker": {
             "line": {
              "color": "#E5ECF6",
              "width": 0.5
             },
             "pattern": {
              "fillmode": "overlay",
              "size": 10,
              "solidity": 0.2
             }
            },
            "type": "barpolar"
           }
          ],
          "carpet": [
           {
            "aaxis": {
             "endlinecolor": "#2a3f5f",
             "gridcolor": "white",
             "linecolor": "white",
             "minorgridcolor": "white",
             "startlinecolor": "#2a3f5f"
            },
            "baxis": {
             "endlinecolor": "#2a3f5f",
             "gridcolor": "white",
             "linecolor": "white",
             "minorgridcolor": "white",
             "startlinecolor": "#2a3f5f"
            },
            "type": "carpet"
           }
          ],
          "choropleth": [
           {
            "colorbar": {
             "outlinewidth": 0,
             "ticks": ""
            },
            "type": "choropleth"
           }
          ],
          "contour": [
           {
            "colorbar": {
             "outlinewidth": 0,
             "ticks": ""
            },
            "colorscale": [
             [
              0,
              "#0d0887"
             ],
             [
              0.1111111111111111,
              "#46039f"
             ],
             [
              0.2222222222222222,
              "#7201a8"
             ],
             [
              0.3333333333333333,
              "#9c179e"
             ],
             [
              0.4444444444444444,
              "#bd3786"
             ],
             [
              0.5555555555555556,
              "#d8576b"
             ],
             [
              0.6666666666666666,
              "#ed7953"
             ],
             [
              0.7777777777777778,
              "#fb9f3a"
             ],
             [
              0.8888888888888888,
              "#fdca26"
             ],
             [
              1,
              "#f0f921"
             ]
            ],
            "type": "contour"
           }
          ],
          "contourcarpet": [
           {
            "colorbar": {
             "outlinewidth": 0,
             "ticks": ""
            },
            "type": "contourcarpet"
           }
          ],
          "heatmap": [
           {
            "colorbar": {
             "outlinewidth": 0,
             "ticks": ""
            },
            "colorscale": [
             [
              0,
              "#0d0887"
             ],
             [
              0.1111111111111111,
              "#46039f"
             ],
             [
              0.2222222222222222,
              "#7201a8"
             ],
             [
              0.3333333333333333,
              "#9c179e"
             ],
             [
              0.4444444444444444,
              "#bd3786"
             ],
             [
              0.5555555555555556,
              "#d8576b"
             ],
             [
              0.6666666666666666,
              "#ed7953"
             ],
             [
              0.7777777777777778,
              "#fb9f3a"
             ],
             [
              0.8888888888888888,
              "#fdca26"
             ],
             [
              1,
              "#f0f921"
             ]
            ],
            "type": "heatmap"
           }
          ],
          "heatmapgl": [
           {
            "colorbar": {
             "outlinewidth": 0,
             "ticks": ""
            },
            "colorscale": [
             [
              0,
              "#0d0887"
             ],
             [
              0.1111111111111111,
              "#46039f"
             ],
             [
              0.2222222222222222,
              "#7201a8"
             ],
             [
              0.3333333333333333,
              "#9c179e"
             ],
             [
              0.4444444444444444,
              "#bd3786"
             ],
             [
              0.5555555555555556,
              "#d8576b"
             ],
             [
              0.6666666666666666,
              "#ed7953"
             ],
             [
              0.7777777777777778,
              "#fb9f3a"
             ],
             [
              0.8888888888888888,
              "#fdca26"
             ],
             [
              1,
              "#f0f921"
             ]
            ],
            "type": "heatmapgl"
           }
          ],
          "histogram": [
           {
            "marker": {
             "pattern": {
              "fillmode": "overlay",
              "size": 10,
              "solidity": 0.2
             }
            },
            "type": "histogram"
           }
          ],
          "histogram2d": [
           {
            "colorbar": {
             "outlinewidth": 0,
             "ticks": ""
            },
            "colorscale": [
             [
              0,
              "#0d0887"
             ],
             [
              0.1111111111111111,
              "#46039f"
             ],
             [
              0.2222222222222222,
              "#7201a8"
             ],
             [
              0.3333333333333333,
              "#9c179e"
             ],
             [
              0.4444444444444444,
              "#bd3786"
             ],
             [
              0.5555555555555556,
              "#d8576b"
             ],
             [
              0.6666666666666666,
              "#ed7953"
             ],
             [
              0.7777777777777778,
              "#fb9f3a"
             ],
             [
              0.8888888888888888,
              "#fdca26"
             ],
             [
              1,
              "#f0f921"
             ]
            ],
            "type": "histogram2d"
           }
          ],
          "histogram2dcontour": [
           {
            "colorbar": {
             "outlinewidth": 0,
             "ticks": ""
            },
            "colorscale": [
             [
              0,
              "#0d0887"
             ],
             [
              0.1111111111111111,
              "#46039f"
             ],
             [
              0.2222222222222222,
              "#7201a8"
             ],
             [
              0.3333333333333333,
              "#9c179e"
             ],
             [
              0.4444444444444444,
              "#bd3786"
             ],
             [
              0.5555555555555556,
              "#d8576b"
             ],
             [
              0.6666666666666666,
              "#ed7953"
             ],
             [
              0.7777777777777778,
              "#fb9f3a"
             ],
             [
              0.8888888888888888,
              "#fdca26"
             ],
             [
              1,
              "#f0f921"
             ]
            ],
            "type": "histogram2dcontour"
           }
          ],
          "mesh3d": [
           {
            "colorbar": {
             "outlinewidth": 0,
             "ticks": ""
            },
            "type": "mesh3d"
           }
          ],
          "parcoords": [
           {
            "line": {
             "colorbar": {
              "outlinewidth": 0,
              "ticks": ""
             }
            },
            "type": "parcoords"
           }
          ],
          "pie": [
           {
            "automargin": true,
            "type": "pie"
           }
          ],
          "scatter": [
           {
            "fillpattern": {
             "fillmode": "overlay",
             "size": 10,
             "solidity": 0.2
            },
            "type": "scatter"
           }
          ],
          "scatter3d": [
           {
            "line": {
             "colorbar": {
              "outlinewidth": 0,
              "ticks": ""
             }
            },
            "marker": {
             "colorbar": {
              "outlinewidth": 0,
              "ticks": ""
             }
            },
            "type": "scatter3d"
           }
          ],
          "scattercarpet": [
           {
            "marker": {
             "colorbar": {
              "outlinewidth": 0,
              "ticks": ""
             }
            },
            "type": "scattercarpet"
           }
          ],
          "scattergeo": [
           {
            "marker": {
             "colorbar": {
              "outlinewidth": 0,
              "ticks": ""
             }
            },
            "type": "scattergeo"
           }
          ],
          "scattergl": [
           {
            "marker": {
             "colorbar": {
              "outlinewidth": 0,
              "ticks": ""
             }
            },
            "type": "scattergl"
           }
          ],
          "scattermapbox": [
           {
            "marker": {
             "colorbar": {
              "outlinewidth": 0,
              "ticks": ""
             }
            },
            "type": "scattermapbox"
           }
          ],
          "scatterpolar": [
           {
            "marker": {
             "colorbar": {
              "outlinewidth": 0,
              "ticks": ""
             }
            },
            "type": "scatterpolar"
           }
          ],
          "scatterpolargl": [
           {
            "marker": {
             "colorbar": {
              "outlinewidth": 0,
              "ticks": ""
             }
            },
            "type": "scatterpolargl"
           }
          ],
          "scatterternary": [
           {
            "marker": {
             "colorbar": {
              "outlinewidth": 0,
              "ticks": ""
             }
            },
            "type": "scatterternary"
           }
          ],
          "surface": [
           {
            "colorbar": {
             "outlinewidth": 0,
             "ticks": ""
            },
            "colorscale": [
             [
              0,
              "#0d0887"
             ],
             [
              0.1111111111111111,
              "#46039f"
             ],
             [
              0.2222222222222222,
              "#7201a8"
             ],
             [
              0.3333333333333333,
              "#9c179e"
             ],
             [
              0.4444444444444444,
              "#bd3786"
             ],
             [
              0.5555555555555556,
              "#d8576b"
             ],
             [
              0.6666666666666666,
              "#ed7953"
             ],
             [
              0.7777777777777778,
              "#fb9f3a"
             ],
             [
              0.8888888888888888,
              "#fdca26"
             ],
             [
              1,
              "#f0f921"
             ]
            ],
            "type": "surface"
           }
          ],
          "table": [
           {
            "cells": {
             "fill": {
              "color": "#EBF0F8"
             },
             "line": {
              "color": "white"
             }
            },
            "header": {
             "fill": {
              "color": "#C8D4E3"
             },
             "line": {
              "color": "white"
             }
            },
            "type": "table"
           }
          ]
         },
         "layout": {
          "annotationdefaults": {
           "arrowcolor": "#2a3f5f",
           "arrowhead": 0,
           "arrowwidth": 1
          },
          "autotypenumbers": "strict",
          "coloraxis": {
           "colorbar": {
            "outlinewidth": 0,
            "ticks": ""
           }
          },
          "colorscale": {
           "diverging": [
            [
             0,
             "#8e0152"
            ],
            [
             0.1,
             "#c51b7d"
            ],
            [
             0.2,
             "#de77ae"
            ],
            [
             0.3,
             "#f1b6da"
            ],
            [
             0.4,
             "#fde0ef"
            ],
            [
             0.5,
             "#f7f7f7"
            ],
            [
             0.6,
             "#e6f5d0"
            ],
            [
             0.7,
             "#b8e186"
            ],
            [
             0.8,
             "#7fbc41"
            ],
            [
             0.9,
             "#4d9221"
            ],
            [
             1,
             "#276419"
            ]
           ],
           "sequential": [
            [
             0,
             "#0d0887"
            ],
            [
             0.1111111111111111,
             "#46039f"
            ],
            [
             0.2222222222222222,
             "#7201a8"
            ],
            [
             0.3333333333333333,
             "#9c179e"
            ],
            [
             0.4444444444444444,
             "#bd3786"
            ],
            [
             0.5555555555555556,
             "#d8576b"
            ],
            [
             0.6666666666666666,
             "#ed7953"
            ],
            [
             0.7777777777777778,
             "#fb9f3a"
            ],
            [
             0.8888888888888888,
             "#fdca26"
            ],
            [
             1,
             "#f0f921"
            ]
           ],
           "sequentialminus": [
            [
             0,
             "#0d0887"
            ],
            [
             0.1111111111111111,
             "#46039f"
            ],
            [
             0.2222222222222222,
             "#7201a8"
            ],
            [
             0.3333333333333333,
             "#9c179e"
            ],
            [
             0.4444444444444444,
             "#bd3786"
            ],
            [
             0.5555555555555556,
             "#d8576b"
            ],
            [
             0.6666666666666666,
             "#ed7953"
            ],
            [
             0.7777777777777778,
             "#fb9f3a"
            ],
            [
             0.8888888888888888,
             "#fdca26"
            ],
            [
             1,
             "#f0f921"
            ]
           ]
          },
          "colorway": [
           "#636efa",
           "#EF553B",
           "#00cc96",
           "#ab63fa",
           "#FFA15A",
           "#19d3f3",
           "#FF6692",
           "#B6E880",
           "#FF97FF",
           "#FECB52"
          ],
          "font": {
           "color": "#2a3f5f"
          },
          "geo": {
           "bgcolor": "white",
           "lakecolor": "white",
           "landcolor": "#E5ECF6",
           "showlakes": true,
           "showland": true,
           "subunitcolor": "white"
          },
          "hoverlabel": {
           "align": "left"
          },
          "hovermode": "closest",
          "mapbox": {
           "style": "light"
          },
          "paper_bgcolor": "white",
          "plot_bgcolor": "#E5ECF6",
          "polar": {
           "angularaxis": {
            "gridcolor": "white",
            "linecolor": "white",
            "ticks": ""
           },
           "bgcolor": "#E5ECF6",
           "radialaxis": {
            "gridcolor": "white",
            "linecolor": "white",
            "ticks": ""
           }
          },
          "scene": {
           "xaxis": {
            "backgroundcolor": "#E5ECF6",
            "gridcolor": "white",
            "gridwidth": 2,
            "linecolor": "white",
            "showbackground": true,
            "ticks": "",
            "zerolinecolor": "white"
           },
           "yaxis": {
            "backgroundcolor": "#E5ECF6",
            "gridcolor": "white",
            "gridwidth": 2,
            "linecolor": "white",
            "showbackground": true,
            "ticks": "",
            "zerolinecolor": "white"
           },
           "zaxis": {
            "backgroundcolor": "#E5ECF6",
            "gridcolor": "white",
            "gridwidth": 2,
            "linecolor": "white",
            "showbackground": true,
            "ticks": "",
            "zerolinecolor": "white"
           }
          },
          "shapedefaults": {
           "line": {
            "color": "#2a3f5f"
           }
          },
          "ternary": {
           "aaxis": {
            "gridcolor": "white",
            "linecolor": "white",
            "ticks": ""
           },
           "baxis": {
            "gridcolor": "white",
            "linecolor": "white",
            "ticks": ""
           },
           "bgcolor": "#E5ECF6",
           "caxis": {
            "gridcolor": "white",
            "linecolor": "white",
            "ticks": ""
           }
          },
          "title": {
           "x": 0.05
          },
          "xaxis": {
           "automargin": true,
           "gridcolor": "white",
           "linecolor": "white",
           "ticks": "",
           "title": {
            "standoff": 15
           },
           "zerolinecolor": "white",
           "zerolinewidth": 2
          },
          "yaxis": {
           "automargin": true,
           "gridcolor": "white",
           "linecolor": "white",
           "ticks": "",
           "title": {
            "standoff": 15
           },
           "zerolinecolor": "white",
           "zerolinewidth": 2
          }
         }
        },
        "title": {
         "text": "Histogram"
        },
        "xaxis": {
         "title": {
          "text": "Value"
         }
        },
        "yaxis": {
         "title": {
          "text": "Probability"
         }
        }
       }
      },
      "text/html": [
       "<div>                            <div id=\"5c90df9f-4b2a-45e4-a9a9-a7b79e167fb0\" class=\"plotly-graph-div\" style=\"height:525px; width:100%;\"></div>            <script type=\"text/javascript\">                require([\"plotly\"], function(Plotly) {                    window.PLOTLYENV=window.PLOTLYENV || {};                                    if (document.getElementById(\"5c90df9f-4b2a-45e4-a9a9-a7b79e167fb0\")) {                    Plotly.newPlot(                        \"5c90df9f-4b2a-45e4-a9a9-a7b79e167fb0\",                        [{\"histnorm\":\"probability\",\"marker\":{\"color\":\"#1f77b4\"},\"name\":\"X1\",\"nbinsx\":20,\"opacity\":0.6,\"x\":[-0.46879540609549947,-0.3939953197986961,-0.8568727681584105,-0.6075460284188483,-0.9737858287140488,0.8818897441808118,-0.49880574841512804,0.5828496563387292,0.05196831564803919,-0.24319728792165296,0.9568370903097673,-0.3974078724220671,1.09937206771101,-0.7107916104930577,-0.0015332907898900742,-0.2786149321769914,0.7554984328697234,-1.4217535565714805,1.3913001073192368,-1.133253471541556,0.15520519341883887,0.19625838267591875,-0.028607176982040634,0.34320698167767,0.024574167845161293,1.0951914293355907,1.6316498845232101,-0.2431677526812887,1.348220003273598,-0.450377835250384,0.7082288218271262,0.20507558200970682,0.5233031719534965,-0.6812116778222497,1.1939965901091054,1.0405377101695579,-2.032477700549728,-0.4956108190767122,0.7824772212719112,-0.5622674605795276,-2.1929367095903776,1.0495313454052642,-0.7416034306538652,0.19564502706197986,-0.5544314557681488,-1.7924148053642066,-1.6158917625733749,-0.12705711446553042,-0.4602584463408882,-1.1452575634497861,-1.2080243389353191,-0.005539648071757754,-0.4536023093841922,-0.6002696694469756,-1.500653425330832,1.5824668090258827,-0.37252397564598044,0.5242244944465732,0.3802408047586748,1.026335287820432,-0.7256619006595871,-1.6988773872654228,1.4656521191572616,-0.3940443482581999,2.1899282957128743,-0.727989822376828,0.16772967392365268,-0.038188427420881216,-0.9203231784815185,-0.7436988531075218,1.5695987586698883,-1.9997457764585072,1.1649780137116141,0.22209664481399674,-1.0511033191007326,0.9121679918183193,-1.903147989195432,-0.13157682742485413,0.6797818968797347,-0.04777745074363329,0.28867470204506857,1.30736407783623,-0.251617388950533,1.4783837526752306,-0.6848634005692833,-2.2586228400097386,-0.8273328784823455,-0.804949818838474,0.18170679591681896,-1.8723072427329313,0.1445972193209032,1.728620520011418,0.49023497187563925,-0.637449704393984,-1.2925644153891902,0.2743946843295363,0.2260545524867902,-0.6162400819069873,-0.5710039511291329,-0.35530127577727966,1.1539870897655833,-1.6539261546018194,0.8813176431357088,-1.266383772715925,1.3942182934907965,-1.0109653614230394,-0.22819059965257507,0.5167369253217772,-0.17074469441675272,-1.3441876722791282,1.012105965890007,1.231688036324592,-0.7101048415924526,1.1516423145978918,-1.1558071379233468,1.3850742141516577,-0.1083017936998114,-0.4694683498386455,2.28371864487429,1.404820540810288,-2.5943597381871673,-0.09223643828013389,-1.1525323167534476,-1.0006030834324793,0.6129776657171883,-1.3099509857983207,0.3694324468603867,2.0065589122031566,0.7006272487235553,-0.4985648337554638,-0.5273368010069757,-0.16257083617072027,0.10438033810215867,0.7462694179742121,-0.03253252862671959,-0.1414704954851232,0.04486271824015287,0.5009982442692875,-0.8992893863019138,-0.11650784375300975,0.25766777149707937,-1.0951024662708517,-1.5893755358260064,0.05496431991730809,-1.2157223953522722,-0.09893967211637067,0.11102205847695017,0.4696463116990956,2.1591014558829404,-0.8229125641441274,0.9187560176908216,-0.21387291834942115,2.401229103545183,0.319758729702332,-0.1812399913390098,0.259089272480007,1.2585817642611732,0.09260387405840567,-0.04820348632362103,-0.9635207512633471,0.5478741248086703,1.5359637846114762,-1.241903935561315,0.241470748792081,0.8132832502189475,1.0293260097675543,0.8439187189243254,-1.184256269249955,-0.07147722827706234,-0.02186537814533521,0.3106658720317222,-0.03148291044882952,-1.021473335401159,-0.1324894099171047,1.1200991780615344,0.047570131096918204,0.237987258104147,-0.24779803515070828,-0.48565141789830424,-2.824753752723003,0.623549829297309,0.5547917201955873,-0.04977180555476406,-0.7567547018440811,0.21520788023811413,0.6571653433645409,0.848315688537104,0.6687514926088074,1.504224732772404,-1.4427624265692203,0.3701981521026104,-0.005612979333724512,-0.18010221887539418,-0.10497386973601994,-0.06536557979331811,0.75152972697217,-0.051913187934843306,-0.5976517979510687,-1.6694842768308742,0.29592851408310356,-1.4049362721473884,0.9999047820861833,1.035286562671453,0.07725731374903,1.1643507228147156,-1.8077883572217022,-0.04221428691684349,-0.4269333590260929,-1.1607741237201414,2.431926610813237,1.313690703726148,-0.742744303809935,0.359010634418398,1.3330622658783347,1.192515252492545,1.0572954332527744,1.133389398081124,-0.2588001995830624,-0.9925656491468741,-0.6835831611442774,-1.5643661043816721,-1.1019561503390074,-0.2553587739890719,-1.0115373823174276,-0.6868896430479121,-0.6133852514176042,-0.06721955728588659,2.1435038227187864,-0.5511060280085942,0.2057948997922574,1.3252807919907257,-0.2035281098031806,-0.20753668383401735,-1.1284552448039071,0.929856541896971,1.9275929169292116,-1.2081358756195448,-0.5608315501378739,-0.08198631352099801,0.22002626165866732,-0.18468779295057722,-1.4183954604305884,-1.034117916046981,0.9689025504138004,-0.9939885342173315,0.022271506342840232,-0.6487130579165568,1.729578294228387,0.0766548223285015,-0.6575067714553937,0.30888715855814,-0.025215927869088564,1.3849927464238314,-1.8106972009524431,-1.3684042236790948,-0.21793273208522168,-0.06113604063963225,0.16215971304829643,1.569398007673217,0.8618666826882383,1.7970865920454238,-1.9408745927715814,-1.5335373862124484,0.3456646243347347,0.1617252969764937,-0.05281026655431006,-0.4164318238785116,0.5133675152237956,-0.09257368292472032,-0.6671653269556962,-0.09906739785130454,2.025920126698142,2.2099100316795006,0.8755800174198557,-1.5643261085299889,0.44300794255325143,-0.5285852642265586,0.26079743939228744,0.08277383247345599,0.6032328808916928,-0.06686418283191504,0.9311448949908965,-1.3280800147798717,0.31688465755123835,0.41506556646117226,1.5956888983711572,-1.7741808539792872,0.15725594267436122,1.0912434834729754,-1.1923073734951262,-0.36393233732417885,2.8411987539108403,-1.5460008804656689,0.41140661727601774,0.9252141346051931,1.364091340237695,-1.56869377693574,-1.2168760615647818,1.110082450954914,0.8577626273933998,0.38521271295655274,-0.9916240135265347,0.558767423802551,0.9329900622966953,-0.22218573374926578,1.2819105739801864,0.05441186324818821,-0.6755106058320657,-0.9497220051591182,-0.9934781277466596,-0.40173802933199143,-0.7984551844365166,0.9816182947235851,-1.3332414212822612,0.7960992965576211,-0.5505559699164396,-0.09733464792863569,0.7840207400430962,1.1325823847110683,0.3216887504523095,1.4025256869091713,0.24647714334525206,0.5371324872159663,-1.514172411809326,-0.7583101972304982,0.09219271125191186,-1.1534247253142513,-0.1371093836657055,0.568555303140865,0.12626096900406567,-0.5977037862106804,1.0354895543985616,-0.822926696741623,0.4975109724573081,0.7380569206194162,-0.3337146497897657,-0.4896558229431874,-0.815888581365005,-0.489600367948312,0.2244641214721021,-1.9952875796846608,-1.061347353745488,0.635030894897906,-1.1325870279799983,-0.809745094802567,0.0385356300845479,-0.5650156417649481,0.8986111890823175,-0.5499287271493348,-0.6812501526588356,-0.364150429819086,-0.1516196523691261,2.8875842617543297,-1.6844206807486015,-1.4364795230021254,-0.3387507767911608,-0.9309661500948221,-0.3253788137161444,0.9374415420325596,0.08535106740131848,1.0127362196243404,0.8696499501282796,-2.1672746444804063,-1.131504963753836,-0.5972529875444372,1.4309237816309914,2.379321727854714,1.6879583657787738,-1.3444339799231864,-0.41996238596822444,0.4519046653401816,-1.363223833708324,2.0414951653919964,-1.0589268435582688,-1.2447289524599738,0.7982317613635534,-0.4365758214038877,-0.6472912218046853,0.48992515616477944,-0.173909685958939,0.11566675682357566,-1.3785810241831375,-0.575289833457207,-0.7518980591500185,1.8903344944306832,2.140847786920989,1.130670313321436,0.34225326898869735,-0.12660930927007966,-0.8601320950510711,-1.635886109491606,-0.3009309732795265,-1.6798887738167896,-0.7678495899133063,0.741528661301442,0.3766680000840731,-0.9281206339282406,0.7239122741008924,1.6027321891033766,-1.161464111057878,-1.6325944263132772,-0.17858556626162078,-0.4118245864620777,1.8680257754019982,-0.26547684972115976,0.8180691042612047,1.5287828396266754,0.134285656202383,0.04310169187111383,1.1676351125437336,-1.7700210697285252,-0.02300474486653889,-1.4801884466435529,0.8903910680242729,0.31191622354197623,1.3894554902396246,1.3710643570737897,-1.3697680840104347,-0.6568593560727847,0.5583016623555483,-0.12256702889579078,0.8712349062910738,0.25840606174205155,1.9608693081001096,1.7369408455327406,1.750268450804709,0.023094440858515412,-0.5645301627006839,-0.2277406262222922,0.9148132800935525,1.0177159305057413,-1.3163041363726593,-1.2843576151615548,-2.2381143220662767,0.43030251095643757,1.7567353594195096,0.9123860893439644,0.7096623488940613,-1.1329379096325982,-2.3522084627712516,-0.3985049276250286,-0.33292129824096345,-0.6117526954924927,0.16170239225108074,-0.3623324833186256,1.6427345356233987,0.4205199460969169,0.14788620313766376,-0.08882974489884363,1.341941510444363,1.9833500351462705,-0.07008932840205627,-0.15846247354366766,1.3760769596627462,-0.9097551551157286,0.05274529007219952,-1.5108333231665314,-1.3690608349329896,-0.92390984892042,0.052415824122690365,1.475472867563514,-0.5783729531043093,0.06681021564108997,-0.6675602746908312,0.18086264491696255,1.377445179471553,-1.524030802545425,1.45960002084935,-0.39771117193286665,-0.7667134008661328,0.18425778246134997,-0.1463719301946754,-0.08432850478860031,1.2147749441892886,-1.4306152774053464,0.24226123455202989,1.0127386389436437,-1.650030300496446,-1.2143934712717661,-1.3489603999378095,0.1591339463938501,0.2461856499861855,0.7962884268164041,-0.2193950064267525,-1.7135908998213127,-0.19543395118489584,0.05498108426836721,-0.9078613875434003,0.14959925148628775,-0.6253833444146933,-0.6385953513825158,-3.1897704020171016,-0.5772444425737866,1.1551919298733266,0.3901098757437074,0.5168745103226888,-0.4667962514980724,0.8175540881651069,-0.5846427839198419,0.11678585720532997,0.5366364058031114,-0.11626878227596611,1.1806457410767917,-0.6046743076039827,0.42746741397911353,0.6809876730639864,1.0951093379396954,0.9799571263559763,1.4410289951863453,0.06605870617081258,-1.4976887811007187,-1.8053863525434208,-0.5177536591175932,-1.3676186005237878,0.879916685438946,-0.008368820158502875,0.17453671276569535,-0.4025172069301654,0.1451919885539957,-0.5482029926031622,-1.6186084145782522,-1.6759340570042693,0.6769873612209731,1.5474662777875479,0.45115929125564874,0.5822844717740825,0.6591903862683841,-0.8156020506756464,1.163525600369807,-0.7809803790695408,0.14926416047190968,1.3692746287238684,-0.2188024142620991,2.045717944818412,-1.0662480673669767,-1.1805702780625438,0.03441579623271502,-1.2854831498883397,0.9393440782673993,0.636469254481273,-0.8612521357523879,-1.9133400857590028,-1.4574400662234432,0.6538397097290124,-1.2541225519820283,-1.5581980924961614,0.7290092042008705,-1.2650476081113022,0.6176544000379859,-0.972162802845272,-3.4220535503192617,-1.0282372379297207,-0.563932961637426,-1.0835083339895795,0.07494141270748263,0.3413557158309882,-0.7839531284310345,-1.2045276507368372,0.08724355510802938,1.0053761173442703,0.5809824177703191,-0.15879432638619354,-1.4919267491158532,0.25776546471536915,1.642760718419894,-0.08173464111189038,-0.3132504194554134,-0.9073095768931738,-0.7200179351577602,1.2854795926856963,-0.38453323731326905,-0.856894683574129,1.0958688088066697,1.7810221286113876,2.399768820767811,0.12479348521765461,-0.9276186944331917,-0.044158602592978796,2.870365301154904,0.39521481710514145,-1.3712602741942277,1.341997587678811,-0.04244296059458249,-0.26839274963312376,0.6109486340925565,-0.3772103553517753,-1.7374200927829895,-1.1140277871102835,-0.27463321017635495,0.3101789536990948,-0.37678580243338705,2.624995453786249,1.1307054245696002,0.11663002483634036,1.62269471474191,-0.9457657618535634,-0.5001150150270897,-0.04194792980404899,1.644426683518541,0.3391951351413588,1.6476705076603664,-0.9592358607403737,0.0301302281610723,0.46097097315465857,-0.8774063400489577,0.5266404633713123,0.5243139269787954,1.2689921791627767,-1.0154520409897858,-0.16305817052526697,-0.24950719187668274,-0.6718510212427248,1.542738132869285,0.8761838121431789,-0.7664624189578393,-0.3778044782547536,0.4025844328989942,0.17507551591563184,-0.47467721452155265,0.21033078531275304,-2.0170508151578814,-0.14526060575734717,0.6659161525407913,0.6318438441664327,0.8742862095790742,2.4061098178706595,0.8302785803192291,1.2972779974456734,0.20324221045729837,0.7277889545330699,-0.46799236620184287,-1.7737652838222309,0.4200453963096636,-0.7568248274432827,-0.5083791256874272,0.6171850515067326,1.2559600411235494,-0.8339842436693612,-0.08573270091122216,0.9853824646137468,1.1366447490954417,-1.1221688106719443,0.04874542348860243,-2.0912091093580174,1.4021111363673824,-1.8042742422368652,-1.2525259425113477,-0.0013601377224232787,-0.4585127189111821,-0.48676497713415345,-0.3167006538085382,-0.03172013249599761,-0.5029939992833997,-1.1676374530066806,0.2945738771794898,0.2394198527657507,-1.7360224435746665,0.22708063526325817,0.26628106785557765,1.6543626620492076,-0.17343282276793337,0.08958989160542266,-1.071060213084441,0.004116808090052353,0.5317017487186719,0.8261381800380917,-0.3648030062359082,0.13457419468436135,-0.38143584950431464,-1.0224051473620874,-1.1591811682652104,-2.428110000490078,0.05570984832336713,1.3684215245321818,-1.1311299098806893,-0.31682913018665154,-2.251202554142556,-0.6279796524607261,-0.5930082890007499,2.3833045794977985,1.5063536756493665,1.8438975558851087,0.2074961084967295,-0.223523106525003,0.5567259587754224,0.9596038656907991,0.8621726555378619,-0.5063116074140976,-0.2534838289131607,0.7712160984331519,-0.5225061806441545,-1.0776490447797007,-0.6332064712623553,1.6891098824179815,-0.5140741506591799,-0.2736737020267372,0.0875304859575037,-0.23641591580945054,-0.39588811031978466,0.814969873354662,0.7041599030636231,1.2206744371160636,-0.2811133824455531,1.513140277830852,1.5780423927263578,0.22759545427360492,1.4568450790460152,-0.7440078425513349,1.2791285842604578,0.0003791529048640473,-0.5454588326384978,0.26885258316454846,-2.601998914708477,-0.7543670659941005,-0.03848224421500349,3.0723100237767142,-1.0210651754181348,-1.6473826801796698,-1.4817028754734094,0.4688582314377003,-0.8750795950287477,0.18287134712134198,1.683888096828788,0.629035643787653,0.5732925794832631,-1.1595894741952826,0.99550400049532,0.11744797684522715,1.847966926061096,-1.540272787254216,0.6692238131094292,0.7724875609409879,1.356276386316626,1.4604228366064953,-0.16942330317988888,0.902023311192647,-0.8239127395414254,-0.16157980056568558,-0.018720389074519894,-0.5074184376700548,-0.5155740721587624,-0.22605078105599907,0.5194534379050895,0.09980681960989105,-0.3684633362327306,-0.699092394360948,1.0138360361105119,-1.0823214481920047,-0.43797945474496697,1.7013212863683513,0.8851070324837671,0.1932761132700751,-0.4313507462890247,-0.12438062607446305,-0.48501875680170875,0.29521372840028176,-0.99274578583236,0.49620622738183073,-0.37798394066303825,-0.6798657529564915,-0.27060190565832476,-0.6424461588642832,-1.6509872985214475,-0.09695903692788709,-1.0767214388729869,0.9573032042479163,-0.6795584005058212,1.8860012366419725,-0.40884875172568774,0.8089196914140158,0.333292085262041,-0.9208597123521646,-0.7707569796012869,0.8067854470028665,1.2697600584716262,-0.816771858774786,1.6995156252504515,1.3154954422378464,-1.0558251641603724,0.18332915704184938,0.4700114467724943,0.3544710227157253,-0.8697321183793135,0.27133721487767526,-0.47487722326707016,-0.865510379696104,-1.2477316819197162,-1.1392296769032997,-0.4155866072156006,1.3086654559824256,-0.11569367881101499,0.22510993529032197,0.9007946361406387,-0.7551819448968385,0.632050265982337,1.1178905374252839,-0.3763926416796444,-0.8597450990577364,-1.0435849185413248,0.4260985455548907,-1.5535506157078012,0.029144599944858098,0.4400980672504425,1.0930228846903616,-1.035797508501726,-1.3418647384689737,-0.4719786460156429,0.21597421688357152,0.28789894948950256,0.4066328394349006,1.389613290016931,0.7033007089514266,-0.016905235209911586,-0.5495185373959889,-0.30156378730244093,0.5873200047402138,0.3883956736587363,-0.42678376130229345,0.3230866796039623,-1.3921285211703402,1.0020736911516785,-0.5866781196679576,0.52982332190837,-1.0383791085315586,0.15624486743334176,-1.6235067616330663,0.30630183869671596,-2.1184874917738106,0.5021740087561922,-2.0235343842040137,-0.9340601974500746,-0.7436963432604624,1.2639945134375354,1.1691552367514944,0.2228300916833538,-0.548511692158105,0.8185800666909883,1.5861736071662123,-1.0780380582020455,-1.0044563922957916,0.6824112794879967,0.5480144612833412,0.1081062093365306,0.7075304253402899,-0.8981727000167943,0.03321213901118758,-0.3257028443430874,-0.32311465080845925,0.496865178850489,-0.4833074146388537,-0.02463725298109226,-1.079655927027645,-0.5842694176410705,1.176361219546735,-0.24720190024235417,0.9718438680832525,-0.7942788787465972,0.7355184362543247,-0.6720738652430999,2.0710228915726128,0.5236890110948463,0.4171401836329822,0.29888737939523063,0.3471023389210145,-1.2171790962572877,0.3816140605353044,1.4824719236637554,-0.5290981804481603,-0.722133002180783,-0.4768426285160224,0.6762041558667675,-1.1983702577917743,0.4821088859690885,-1.566981474247361,0.48738654371998286,1.6944785137435783,1.5989746641464553,0.43783169774448966,1.3203901805247085,-0.6017595366488918,0.4327091678431844,0.13196627197827523,-0.7799062953602262,0.004809873888435642,-0.5230835266446268,-1.1677594594254286,-1.6780168608292165,0.6827348697122418,-0.04155142813771083,-0.3442494851035607,-0.2145234063452119,-2.088732107046732,0.7153345837611623,-0.16355216390697513,1.622059974773205,-0.3695603249605767,0.4408639149359979,1.4493341875141492,-1.688145304581001,-1.2408307346140655,0.5255356611389345,-0.6651187154726885,-0.3546140475490031,0.5912144531518351,-1.8795101242282974,0.597378386871151,-0.4928580593203646,-0.12815408206739742,-0.03590225728733947,-0.08977738196786152,0.047282112912232624,0.866250998699488,1.651822491194874,0.23276236399254197,-1.9333215073753416,-0.9481286904505044,-0.916298043353477,0.6792945217933953,0.04058873445439246,1.2969831661418008,0.16158066910236765,1.0193600209261287,0.18673487339975073,0.5176671373945764,-1.1777481602333952,0.1806722403092,0.7881928851314042,1.1856747811075552,0.0263585043692963,-0.620320635424467,-1.2315093090606237,0.3126046066678163,0.18459195879763166,-1.8269253603230327,-2.767626632957734,-1.4074117283022656,-1.8235733920330603,2.0506885801141475,-0.37229795032432905,1.562001383202234,0.5106164585590958,1.5708810182768986,-0.677149087329866,0.3451791326020714,-0.6524539837383351,1.1189934795186451,0.5336348228193533,-0.6765135650847434,1.5125009800781097,0.7727793113511543,-1.453767066737095,-0.6444965104069221,-0.26259908182501046,1.5760519775566293,0.6666112461293603,-1.385100736118708,0.6587374140268646,1.0769936137233298,0.05218000213084547,-0.35918920421716494,0.4028711212872749,-1.613301767174587,1.1313220804400934,-0.16530604674683863,-1.8294801197063832,0.7386338356280879,-1.2333524840463315,1.0169116917776646,1.7741600260807269,-1.086058029808166,2.2320039327379058,1.7267106580599845,-2.0646752074071437,1.3628486582380486,-0.6047000822398299,-0.6932252636803244,1.7237087606521386,0.27292265883656136,-0.1332589096847275,-0.44606383234169317,-0.5260479374913767,-0.9534859599425474,1.3406525476156557,-1.7878240604185238,-0.29253472165928923,0.7059345802586562,-0.31623854853685185,-2.156336839387323,-0.3173550611191272,0.6175627568786629,-1.7346709527191888,1.2086072878267757,0.38724402600157093,-0.8085777990100904,1.9769731764641316,-0.9413944083406783,0.35212122437071,-1.4711935985160698,-0.36451783325196163,-0.7603225154160927],\"type\":\"histogram\"},{\"histnorm\":\"probability\",\"marker\":{\"color\":\"#ff7f0e\"},\"name\":\"X2\",\"nbinsx\":20,\"opacity\":0.6,\"x\":[2.9362923803007477,1.8172059557606686,2.2873532111470136,0.4492246260198107,2.0508116994414802,-0.41533990821328026,2.403803487202863,1.0722270004341115,2.0905876603704088,1.828211009098219,2.49433678123113,0.3957488838176324,1.7397694666321342,2.370798950731472,1.0409915320321486,2.059761702547322,1.7732938246219951,1.4051508406899076,3.360707332290401,2.2943222643786862,0.46169386717047645,1.71278582081389,0.8890185225494026,2.655323055069096,3.6859951382811844,1.2564916993801587,2.515657127193851,1.7986389747793763,1.2934256662328634,1.4145246319901958,-0.059599838899347946,0.9892974497134052,0.7883865092358602,1.3709266810836986,3.076851262421826,0.8383265598191588,1.6733056583509913,1.6069633636389415,0.3021208422696191,0.6570735158001514,1.4687652557133861,1.2934507762074834,-0.03305459005344247,0.6129294437634856,0.9782424751238026,2.6448502898052766,1.8325800526869456,2.8267853124763653,0.3686751733241873,2.3145797412450233,2.7429867849907654,0.5485112612688468,0.8916706155206933,0.8035688028911302,0.09316776782802183,2.857333762318521,1.7947065525717267,0.29516768262734705,1.2125084763623981,-0.4339810706628613,1.9175130507258578,1.9956378477286096,2.079205053180927,1.651374873103625,1.09354382144762,1.3069943419587633,2.097486212522429,1.129523811733172,2.760007239467133,2.7068524510537575,0.6004669190743953,2.6129991878922585,0.14404324094405152,2.3868039965656394,0.223230798013627,1.2900134196258861,1.49753087620946,1.3428647830715577,3.031007149769416,3.2468786639423177,1.5622087081363716,1.96812636024376,2.347884341378422,2.343330595709126,0.8148347028745939,0.4895562055038638,3.121056397099796,0.7582880345677614,2.8780753565548,2.9507953757183567,1.7955890081729535,2.508898423481945,2.742259234333086,1.706638874081075,0.336327618300577,0.9215982004997598,3.143476714856569,3.1008644967042804,2.396747999975026,1.2594682022474377,3.517240202860438,1.571307988467247,0.8000975248254791,2.0809525910763504,1.6121176573898262,1.675546764625392,0.8184147601690216,1.7729341890215846,1.7939098860160805,1.3041659498693223,-0.03408008444233612,1.3495975578735273,2.0349112516740018,1.8264146302059514,0.19832654808826744,0.9207687795518165,1.0865829043023385,0.5549921783643886,0.9494629529240877,-0.5318636542534576,2.1327303023876985,3.2538575351991526,1.3518711455876609,1.3703660059337905,1.6693874224202436,2.172138610445849,2.4094319463274587,1.1089029432315005,3.5759208009050725,2.394765229730452,1.748555965318955,2.4339302731210144,1.4551378441816363,1.3834888675335189,1.5580873177944612,1.2819047792151925,-0.023411126770221724,2.369322149551531,0.9191537306695927,0.6901234997090465,0.008952084902078106,1.4952791335715556,1.9887863620691502,0.9190399256107725,0.9029267626454691,3.200205684171612,1.7114736024570112,2.3777541278453613,0.3569175021595006,2.843857910366903,3.4469229923537563,0.3393749868155942,1.987805488832971,2.830440574987757,0.4413510014575197,3.6814000199846575,2.59170382194419,2.5569194454276616,0.1963473156107851,1.9415106117941887,2.5260607233160126,1.3148885526782534,0.9618517750741232,0.2440049923999943,0.9986446169147809,1.5875309478245825,2.02237057601588,1.2211306048039958,0.9442622600391561,1.0627544065901164,0.7895818707412133,0.8300061280831045,2.95869791941937,0.7248695795949884,-0.030651030691700054,1.1340259182724584,1.6229693349878056,-0.11443194526746492,0.6767314758971446,1.634671623200601,0.7104796720755903,1.9674134303816897,1.8738425218029287,2.4491538632245486,3.4897707864687195,2.397183118845314,0.5271825405780363,2.2702781629734705,3.266842327120831,1.1882531673791896,1.3642641147939538,3.4687856182486687,1.5845182083889777,1.537442474552755,1.4345927127794507,1.962350221934623,-1.2530338212709236,-0.3761627047573577,0.25794127742393447,0.7373989340640312,0.9009070694203024,1.4760161268470706,1.1447536856458722,2.081849158346704,2.2026990326234377,2.2526613579116788,1.4973845131010757,-0.32781954054596674,3.1211174189803055,0.9276983016733577,1.8938764128188899,2.327409387218399,1.109703617147036,1.4118906945382,1.5020928287381665,1.4418390986082212,2.6111045968088864,1.911484886325979,2.135914954070243,2.5389062120390244,3.278813820649707,1.3849174830330377,1.7791197203027305,2.024163538748504,2.3174326270470735,1.7789681435102298,-0.738485182812072,1.5565141828264037,2.090683084282911,2.0174891169994127,-0.6016210777740438,2.019801657943372,3.058428853343244,1.4905266914185298,2.167688817489921,3.706980834836666,2.749035856913844,-0.22760175152344653,1.595472984690031,2.5733935994382007,3.3778354506190795,2.8000881299312628,1.744305621640537,2.0198089457327,2.257178358489768,1.93369372113511,2.648115177792076,-0.1512765995821863,1.1928363613142698,0.927845224624514,0.3140287329609377,1.4589653174856752,2.0845057130982667,0.240012662918063,1.3495665101773793,1.6864309409950604,3.247454610929526,0.4747238090170194,-0.2049812038917711,0.47799896338786496,0.3955532859362927,2.0794382620280367,2.1815636178050615,0.6310386321034464,0.9361334748830424,0.5836791587521059,2.0653166187066065,3.134898927535753,2.413087308637612,2.0335483524784097,1.7112158237434372,0.5670543340884541,1.1825920691014953,2.321995147197832,-0.5511537344942194,3.2038796760903847,0.8265967003811161,1.0879131898968377,2.3238662150893648,1.8871626438952005,0.6362211123234806,1.9721715027960378,1.5965660424421386,1.1366477328476008,0.34823868615035747,1.5092920105968493,0.006513574180013304,2.302287054273853,2.3214908741805336,1.8512361616663129,1.1192646086615263,2.296531051336668,1.1372699360415834,1.7921390686163081,-0.3781913821927658,-0.21192123687103082,3.248012226367428,1.0013126297191208,1.7134633333775844,1.231216032698979,1.099222266601402,0.04443518358325571,2.2267369417131366,0.5815710874784372,1.4059586122795864,0.813347356844582,3.4794476091067432,1.8299987080344955,2.1957955070846795,1.973448580048818,0.4195788068299444,2.3745881312749417,1.0378591286560588,0.41216980549161497,1.6151544210811226,0.2631200958972113,0.912720168169528,2.35318722329415,1.7181660237076846,0.3063118064925072,1.3334910719244906,2.9791505967247405,-0.17538313711454845,-0.12839369114526988,1.8641528611433469,0.3164410375120381,-0.21476996272958626,2.973868569116399,2.68352289368935,2.8227471925946963,0.6966543469762307,2.2951370097867967,1.7425788601860706,2.046028584232602,1.934765241945425,1.4214192873284808,4.677116325194488,2.0680482922955266,4.0078848383992245,1.7504400971961185,0.42953853248315865,0.9186246231732049,2.0987717171211666,2.1595625391105107,-0.734430095798666,2.2811715184100283,2.2858969412827794,1.27153151420814,3.0137082660989574,1.2682866868499665,0.5626716510863485,0.7034334774112212,1.2226143147300848,2.2426901481118415,1.8225639696447162,0.1714508664566654,2.112760362727706,1.3312258532514,2.1001538278378384,2.212801597201055,1.5951316232569985,0.21404322606956305,1.3668666913915588,2.194661270023256,2.7138212916781903,1.3575643659888719,1.6365546232352826,2.572297613556283,-0.07562190072122732,1.2395925199902025,1.057136533575382,1.421394027131822,3.4633009254744733,-0.3966041246869092,-0.09715636149288431,2.0006427473560087,1.1081495312410348,0.31409248330925443,0.7639920219766047,3.475054545061364,-0.297396887336012,-0.1235814817798302,1.236699946242086,1.8935091046030497,2.151719184687517,0.25766162912538215,1.8695952255392363,1.712478519207362,0.7993043291244237,1.8368589266250122,1.891939856140554,1.7541023081813854,1.8134595574219814,0.14969273644315373,1.323393874628635,0.3044136325383284,-1.6798400468441579,0.5159651741187253,0.7299872220651629,0.3067666194780325,1.8316019588005772,1.8702832589971559,2.66476574432051,0.14441546380044357,2.1434554386726283,-0.4806277337019451,3.319048022036592,2.3397712212234305,1.8380570303032808,1.5785716839613195,1.3391517431148023,2.0742752533751263,2.4922110922796166,2.1478080662829413,2.7229896922314314,1.721576204066996,0.9046600184133389,1.7066515911831692,2.903412016649612,1.9286052311598696,1.5434152567017,1.371899947919112,2.88427324831117,0.5616501528632952,1.8843307487187728,2.411531268677035,1.4630695593375678,0.7236321219028103,2.2128443487062137,2.141425155772981,2.7971874506375727,2.2454270441784447,2.63093467334384,1.7450405691062816,1.9182515004560114,1.794050506529911,0.6483325585499952,0.5784319587006294,3.8172343152117842,0.9708294206382316,0.28863804153736594,2.507867770221118,1.472472252636528,0.5761095221915545,2.876667246229008,1.4585589839928603,1.143558453173629,0.36614755174905533,3.1969458534247464,1.8520260373247028,2.310618298366011,2.9958785845254643,1.1175455604593625,3.0222915920957956,0.6390928910220077,1.6362274773865821,2.6312394017793883,1.6033688058470537,0.46666116476368913,3.316584408486034,-0.5397313509637174,2.3282686146180676,1.589012635305611,3.351793873782065,-0.17494608583530113,3.8491428784841095,-0.6337991234848817,2.317169901442023,1.4804360239166234,2.2448988794343756,2.847417022132087,2.8214687841743036,1.8970860357765522,0.7232694110384359,-0.41269097767130214,-0.15893287250817978,1.5295994538810194,0.9144018051271362,3.446270448308472,0.5061486028911698,1.195970722523565,2.6622151897152837,2.1390795183638645,2.04595275328753,1.5396511338208962,0.8624201982385213,-0.09687406345098504,3.628657655084446,2.4180951718618595,2.0460626521818037,1.7380263564348197,2.8936554456092276,1.8120462607773673,0.8826668344299894,0.2083510023131685,1.027951502689749,1.5247599522527562,2.7042938269028416,-0.11443677295454435,1.0552797354092576,2.648490878796645,1.5817574413929252,1.1839456687564556,0.2527273794164917,1.444955155945153,1.3388598097915836,2.8309824104181067,3.1958249222312487,2.9312239236748945,2.0839586822453984,2.2326396571741913,1.860425571943785,3.0988394823448404,0.39645933376918396,0.10754889545772928,0.7982433412988105,2.653782239396701,1.2535286473130964,1.7856453853315248,0.5187326468107207,3.1100757150211056,0.622907566712505,3.1368304095616137,1.8567264855401655,0.8731641258909845,2.0497701856567945,1.300716971468813,1.540444162952029,-0.0950584800944303,1.6679788374048972,2.161228689165007,-1.430640351999953,1.5916946775107093,1.8855493132439198,1.6457667519772148,1.0287938435584545,3.194109550515,0.06555765306026173,1.145452993023262,2.275149628698647,3.279992127758463,2.477027557703098,1.5646391709615528,2.2172163707022308,0.8957858142866107,1.6083843369528708,1.8458180753474622,1.4652741580724253,0.5192798165993633,1.426642776218128,1.161501888612529,0.8582201376970987,1.407081836245097,0.4382211067583779,3.778877708580315,2.212035023888498,3.0071347999210394,2.2441713311334754,0.36242213906888887,0.13855325980517574,1.287085230276908,0.524594873595477,1.7465667767848683,1.1622396883072472,-0.22724185421189302,1.4432908077431281,1.3371985299913272,2.5082639023843836,1.3114699458533285,0.8770474426170687,2.394775784454464,1.5858013159639806,0.9685629822569353,1.1217745275946849,0.8244694766782745,1.1806948871328027,0.8210884890995983,1.6141876711862775,3.5516020990694277,2.597434151999934,2.767228309757459,2.0830102930589156,0.1995825025626925,1.096586832372104,2.0825431106213292,0.4834289023250993,0.2720255513095913,2.4924445611525514,2.66895091911625,0.9548040820528728,2.938371682270893,2.0436340561913635,2.1817204670350177,0.6712103136417552,2.8272000180732717,1.3696541086087433,3.719788010422853,1.8911950768626404,3.0318836826055016,1.1064402947808087,1.5956202363699812,0.45865296690850954,3.986427679087891,1.4552578844370045,2.5512825147813087,2.618889478294541,0.34295756856821624,0.6281144541361643,1.2073429378718683,0.671299973455837,1.180964080055749,-0.5857045773628333,0.6383153679087225,1.6448375182451862,1.3573556684804116,3.3711981804335065,0.8553667051912521,1.5651770941997414,3.1306172054593624,-0.02914563659993097,2.082422352927327,0.9565019414278301,1.8223155170657943,0.43462918288398766,0.5017375736334777,1.9881682443176087,1.8929803344122185,2.0701989488115426,0.7652357857873953,2.0529286480058797,0.5631822146622102,2.4692420884257436,0.0054332121813245315,1.4696419802259921,0.6251311588988174,0.8788690622107908,3.5998364173564146,2.1192638900766823,0.556712738012917,3.2090022340179893,-0.19470316394251141,1.374962166459199,0.8837671975264881,0.788095376598641,2.496322106082556,2.722722487734181,0.745978760920434,1.1865989203920977,1.20202512823542,3.0503215384478137,1.5372966066706226,1.5686120738661753,1.3461834954961363,1.082917548740658,1.1540204626436101,1.082362201171333,2.311446766364503,2.0101425110327664,1.3816545742680573,2.9610052829141593,0.5873206231187581,3.1414754813592003,2.0992211790125745,1.8535665588942594,-0.9861928362138599,2.9641462301562296,1.3772380767635155,0.9910704945738192,1.128610896495362,1.9023610677854714,0.9208897352471345,2.0090670389086402,-0.8767007100029951,1.562374496506128,2.1432420544226813,2.05295687304686,2.2535320845277784,2.53284285816913,3.9237045063584626,2.0921803733143998,-0.0308848202719485,1.7404189060936364,1.3410809421569154,2.2619360360793572,1.6986010427562412,1.0574933454179227,1.4568972922049368,1.0099338012687478,0.4990153440911067,-0.027690731855910755,1.052864991036996,2.4426751464387317,3.247281566606855,3.3281933917368187,0.5837858052822882,3.2139021431844377,-0.004782100558562874,2.489771624554718,0.1661327863977644,-0.12505233350011835,1.2285466920001433,1.3265473876759772,1.4483298350401264,2.814244546471199,3.2755020327890922,1.829040026921749,2.131062253402998,1.825787047544671,-0.8111334863591062,0.8186445831597302,2.1089364298845656,2.003592967059208,1.5055219537983966,3.4807633128403683,3.5483162319734864,0.9525957074873216,1.6561514739825889,1.6930129525810904,0.7755923839252934,4.070711636198645,0.9069858065563766,0.49713563765621793,0.7321198051505344,2.2277739974750674,0.2567287339844939,1.0388557809767902,1.2972474431697127,1.158532683603024,3.042797896848964,0.5613966737810313,1.524487917919591,0.940453691926136,2.8393044185258773,1.4402025881666625,-0.13708841971384156,1.9606538872527164,3.2777657006313277,0.33847189630793495,3.5050439611325945,0.9786690618214287,2.224950730667306,0.12496139636237569,3.201619285654366,2.1903344261565016,-0.22125770743335949,0.9666757370349072,0.5726108772934638,3.321318779115662,1.1885754804474193,1.951653746207826,1.679319110680101,0.5702857442965648,2.4778998759340203,1.609466760481301,1.3158147211603812,2.587390790209067,1.5384903924033897,1.2912090365556967,2.7954617931599497,1.787118866548705,0.14809135853494948,1.1094113988916416,0.46144404567793207,1.3947998280233411,3.793265247215799,0.8125643252703216,0.21459472357057008,1.9912857925328438,0.7303994626612166,1.1062959457026884,2.847057034663834,0.6662622496960807,2.3970352108461164,1.2154205427867493,1.5600642277210153,2.56462462564427,0.4953031711179796,0.37647901172286513,1.6093880677957004,1.6623291829177482,-0.23918847955270683,1.6910528896943204,2.6942875201603336,1.0065154241282646,1.2163463977626359,1.1873934669217263,1.3632748706705358,1.8654169116882275,2.383839485934089,2.281025488338852,-0.1063083093277366,-0.04450899786294249,1.2920246512930451,1.0504718146733703,2.305163813883224,1.1100339246829343,0.7873011356870802,1.3950145280427313,0.9903529066454014,1.819341268667068,1.8015284201414303,0.051109802446320796,0.6290743731025795,-1.365158148620218,3.0682143541850415,0.424066192711426,0.48029355519399797,-0.24869569640610956,0.8845441561678107,1.5695700558374917,-0.10618003749386506,1.2883867226866794,1.0030903535369537,1.6847314480054063,2.1321258567048176,0.3103110127983395,1.1243976875646706,1.7770796053475046,1.8828024183304364,1.1746439536521,1.1863619936588934,2.8972094838127256,2.5100399421962263,0.7152518861830398,1.2740943650845282,-2.065278830223525,1.0238157311170002,0.6164967123499802,1.6927028821722454,1.7503925732751602,0.9959841143153939,2.9360709759059747,0.29971827245697646,1.884150167851947,2.228822205137004,-0.7426928667422672,1.8288882318513788,1.2788857715843045,1.565681818744255,1.026085796149006,2.313774027180011,1.4627460316227754,1.2359766313289988,1.5542536342870443,0.8140646601428118,1.545489540749768,2.1052450281934982,1.0454503037573677,2.019604701148613,0.6652585920819082,0.9089998187128064,2.420927397157933,-0.23458661728878827,0.9274141271316807,2.4597904065083127,1.5336069882864272,0.06622999042617317,0.3658115689420194,-0.11751700396904385,2.675166990258723,2.0686833285316566,2.0248249606965505,2.202277191999529,1.9567038038614653,0.9562721216195655,1.2655702812440381,1.840977354002613,3.4024399553967326,2.927018534048756,1.7798439300544853,1.449745295287638,3.9591949918017013,0.9324652935404177,3.1125228971509555,2.50598543483833,1.3301587639266148,0.7136927196076999,1.4637638052261102,-0.5243217235909232,0.28581097221297513,2.3392125993338584,-0.32474759503743655,1.687012116126084,2.4328638739035977,0.6925523274342972,1.2788706981928475,-0.33210046065824494,1.9903775747980572,2.6897953046221934,3.52523499356963,1.763691913273156,1.5418630671976674,1.078901334890113,1.6315713565631724,0.7344618451137619,1.3101869675249889,1.8228786482402644,1.5980440663897895,0.9545187849120355,1.2075216997804965,2.4337293668935613,-0.7499175942772465,2.599250244716652,1.3093526396155455,3.145469362624328,2.157543987956669,0.0789960311872262,3.0299230503756434,0.695235693334556,1.32740517622328,-0.2433139998923335,2.5584515980645066,1.8520177266075375,2.5897416229851293,1.7394958044704194,1.5178788347877736,0.5903690741848595,3.368067427374695,1.0857876952589147,1.063508739452136,2.4119476147697942,1.1960843105538004,1.9506639893584659,0.09468664131712745,1.700684453662097,1.8297558383781898,1.8753600704241122,0.23633437986588324,4.603226249420732,-0.18518487733515032,1.3196923342167994,1.4716279508650685,0.6555347525220869,1.5126112349824044,1.666450548329081,0.640223867613621,1.2500730645632976,1.3158296604988098,1.7319933209738791,1.1899511510668135,0.9495328452869018,1.021767162323959,0.11810578709118968,2.0440805257643087,1.531958764831085,1.4275968511090569,2.7823618138142656,-0.3725075876965911,1.5641334783550487,3.9023404727154993,2.6425192411356746,1.8995044391584834,1.728546344072151,1.624848403708496,2.638905099547718,2.3317503846711864,1.2484165803656877,2.466845567128643,2.7919496728227498,0.975677841336842,0.8398684522824367,2.5001851118756537,2.4069346768054776,2.2900904537707403,1.449698946333716,3.1099942362806146,3.095877231262733,1.7920732649461142,0.47890095846684555,0.09172648774477654,2.759767165225697,-1.2493545458813102,2.6187201204264605,0.15793399148821763,1.3293937977761139,-0.7367693764982133,1.2417752250530876,2.773366084511529,3.264889860857543,1.793444698256737,1.0515632335391545,0.7401617507760336,1.828805638807126,0.5512455520405535,2.0067987276751578,2.1501799202319343,2.0484387782058415,1.034209684716359,2.3177508979891623,0.68581756711796,-1.5145439606528606,1.5082028096429503,2.685202783747421,1.0467346805838265,0.9864670483540221,2.985009925566511,1.5747244531795026,1.4076785680680326,1.8559785200910954,3.2297763846631975],\"type\":\"histogram\"}],                        {\"bargap\":0.1,\"bargroupgap\":0.1,\"barmode\":\"overlay\",\"font\":{\"family\":\"Arial\",\"size\":16},\"paper_bgcolor\":\"#F9F9F9\",\"plot_bgcolor\":\"#F9F9F9\",\"title\":{\"text\":\"Histogram\"},\"xaxis\":{\"title\":{\"text\":\"Value\"}},\"yaxis\":{\"title\":{\"text\":\"Probability\"}},\"template\":{\"data\":{\"histogram2dcontour\":[{\"type\":\"histogram2dcontour\",\"colorbar\":{\"outlinewidth\":0,\"ticks\":\"\"},\"colorscale\":[[0.0,\"#0d0887\"],[0.1111111111111111,\"#46039f\"],[0.2222222222222222,\"#7201a8\"],[0.3333333333333333,\"#9c179e\"],[0.4444444444444444,\"#bd3786\"],[0.5555555555555556,\"#d8576b\"],[0.6666666666666666,\"#ed7953\"],[0.7777777777777778,\"#fb9f3a\"],[0.8888888888888888,\"#fdca26\"],[1.0,\"#f0f921\"]]}],\"choropleth\":[{\"type\":\"choropleth\",\"colorbar\":{\"outlinewidth\":0,\"ticks\":\"\"}}],\"histogram2d\":[{\"type\":\"histogram2d\",\"colorbar\":{\"outlinewidth\":0,\"ticks\":\"\"},\"colorscale\":[[0.0,\"#0d0887\"],[0.1111111111111111,\"#46039f\"],[0.2222222222222222,\"#7201a8\"],[0.3333333333333333,\"#9c179e\"],[0.4444444444444444,\"#bd3786\"],[0.5555555555555556,\"#d8576b\"],[0.6666666666666666,\"#ed7953\"],[0.7777777777777778,\"#fb9f3a\"],[0.8888888888888888,\"#fdca26\"],[1.0,\"#f0f921\"]]}],\"heatmap\":[{\"type\":\"heatmap\",\"colorbar\":{\"outlinewidth\":0,\"ticks\":\"\"},\"colorscale\":[[0.0,\"#0d0887\"],[0.1111111111111111,\"#46039f\"],[0.2222222222222222,\"#7201a8\"],[0.3333333333333333,\"#9c179e\"],[0.4444444444444444,\"#bd3786\"],[0.5555555555555556,\"#d8576b\"],[0.6666666666666666,\"#ed7953\"],[0.7777777777777778,\"#fb9f3a\"],[0.8888888888888888,\"#fdca26\"],[1.0,\"#f0f921\"]]}],\"heatmapgl\":[{\"type\":\"heatmapgl\",\"colorbar\":{\"outlinewidth\":0,\"ticks\":\"\"},\"colorscale\":[[0.0,\"#0d0887\"],[0.1111111111111111,\"#46039f\"],[0.2222222222222222,\"#7201a8\"],[0.3333333333333333,\"#9c179e\"],[0.4444444444444444,\"#bd3786\"],[0.5555555555555556,\"#d8576b\"],[0.6666666666666666,\"#ed7953\"],[0.7777777777777778,\"#fb9f3a\"],[0.8888888888888888,\"#fdca26\"],[1.0,\"#f0f921\"]]}],\"contourcarpet\":[{\"type\":\"contourcarpet\",\"colorbar\":{\"outlinewidth\":0,\"ticks\":\"\"}}],\"contour\":[{\"type\":\"contour\",\"colorbar\":{\"outlinewidth\":0,\"ticks\":\"\"},\"colorscale\":[[0.0,\"#0d0887\"],[0.1111111111111111,\"#46039f\"],[0.2222222222222222,\"#7201a8\"],[0.3333333333333333,\"#9c179e\"],[0.4444444444444444,\"#bd3786\"],[0.5555555555555556,\"#d8576b\"],[0.6666666666666666,\"#ed7953\"],[0.7777777777777778,\"#fb9f3a\"],[0.8888888888888888,\"#fdca26\"],[1.0,\"#f0f921\"]]}],\"surface\":[{\"type\":\"surface\",\"colorbar\":{\"outlinewidth\":0,\"ticks\":\"\"},\"colorscale\":[[0.0,\"#0d0887\"],[0.1111111111111111,\"#46039f\"],[0.2222222222222222,\"#7201a8\"],[0.3333333333333333,\"#9c179e\"],[0.4444444444444444,\"#bd3786\"],[0.5555555555555556,\"#d8576b\"],[0.6666666666666666,\"#ed7953\"],[0.7777777777777778,\"#fb9f3a\"],[0.8888888888888888,\"#fdca26\"],[1.0,\"#f0f921\"]]}],\"mesh3d\":[{\"type\":\"mesh3d\",\"colorbar\":{\"outlinewidth\":0,\"ticks\":\"\"}}],\"scatter\":[{\"fillpattern\":{\"fillmode\":\"overlay\",\"size\":10,\"solidity\":0.2},\"type\":\"scatter\"}],\"parcoords\":[{\"type\":\"parcoords\",\"line\":{\"colorbar\":{\"outlinewidth\":0,\"ticks\":\"\"}}}],\"scatterpolargl\":[{\"type\":\"scatterpolargl\",\"marker\":{\"colorbar\":{\"outlinewidth\":0,\"ticks\":\"\"}}}],\"bar\":[{\"error_x\":{\"color\":\"#2a3f5f\"},\"error_y\":{\"color\":\"#2a3f5f\"},\"marker\":{\"line\":{\"color\":\"#E5ECF6\",\"width\":0.5},\"pattern\":{\"fillmode\":\"overlay\",\"size\":10,\"solidity\":0.2}},\"type\":\"bar\"}],\"scattergeo\":[{\"type\":\"scattergeo\",\"marker\":{\"colorbar\":{\"outlinewidth\":0,\"ticks\":\"\"}}}],\"scatterpolar\":[{\"type\":\"scatterpolar\",\"marker\":{\"colorbar\":{\"outlinewidth\":0,\"ticks\":\"\"}}}],\"histogram\":[{\"marker\":{\"pattern\":{\"fillmode\":\"overlay\",\"size\":10,\"solidity\":0.2}},\"type\":\"histogram\"}],\"scattergl\":[{\"type\":\"scattergl\",\"marker\":{\"colorbar\":{\"outlinewidth\":0,\"ticks\":\"\"}}}],\"scatter3d\":[{\"type\":\"scatter3d\",\"line\":{\"colorbar\":{\"outlinewidth\":0,\"ticks\":\"\"}},\"marker\":{\"colorbar\":{\"outlinewidth\":0,\"ticks\":\"\"}}}],\"scattermapbox\":[{\"type\":\"scattermapbox\",\"marker\":{\"colorbar\":{\"outlinewidth\":0,\"ticks\":\"\"}}}],\"scatterternary\":[{\"type\":\"scatterternary\",\"marker\":{\"colorbar\":{\"outlinewidth\":0,\"ticks\":\"\"}}}],\"scattercarpet\":[{\"type\":\"scattercarpet\",\"marker\":{\"colorbar\":{\"outlinewidth\":0,\"ticks\":\"\"}}}],\"carpet\":[{\"aaxis\":{\"endlinecolor\":\"#2a3f5f\",\"gridcolor\":\"white\",\"linecolor\":\"white\",\"minorgridcolor\":\"white\",\"startlinecolor\":\"#2a3f5f\"},\"baxis\":{\"endlinecolor\":\"#2a3f5f\",\"gridcolor\":\"white\",\"linecolor\":\"white\",\"minorgridcolor\":\"white\",\"startlinecolor\":\"#2a3f5f\"},\"type\":\"carpet\"}],\"table\":[{\"cells\":{\"fill\":{\"color\":\"#EBF0F8\"},\"line\":{\"color\":\"white\"}},\"header\":{\"fill\":{\"color\":\"#C8D4E3\"},\"line\":{\"color\":\"white\"}},\"type\":\"table\"}],\"barpolar\":[{\"marker\":{\"line\":{\"color\":\"#E5ECF6\",\"width\":0.5},\"pattern\":{\"fillmode\":\"overlay\",\"size\":10,\"solidity\":0.2}},\"type\":\"barpolar\"}],\"pie\":[{\"automargin\":true,\"type\":\"pie\"}]},\"layout\":{\"autotypenumbers\":\"strict\",\"colorway\":[\"#636efa\",\"#EF553B\",\"#00cc96\",\"#ab63fa\",\"#FFA15A\",\"#19d3f3\",\"#FF6692\",\"#B6E880\",\"#FF97FF\",\"#FECB52\"],\"font\":{\"color\":\"#2a3f5f\"},\"hovermode\":\"closest\",\"hoverlabel\":{\"align\":\"left\"},\"paper_bgcolor\":\"white\",\"plot_bgcolor\":\"#E5ECF6\",\"polar\":{\"bgcolor\":\"#E5ECF6\",\"angularaxis\":{\"gridcolor\":\"white\",\"linecolor\":\"white\",\"ticks\":\"\"},\"radialaxis\":{\"gridcolor\":\"white\",\"linecolor\":\"white\",\"ticks\":\"\"}},\"ternary\":{\"bgcolor\":\"#E5ECF6\",\"aaxis\":{\"gridcolor\":\"white\",\"linecolor\":\"white\",\"ticks\":\"\"},\"baxis\":{\"gridcolor\":\"white\",\"linecolor\":\"white\",\"ticks\":\"\"},\"caxis\":{\"gridcolor\":\"white\",\"linecolor\":\"white\",\"ticks\":\"\"}},\"coloraxis\":{\"colorbar\":{\"outlinewidth\":0,\"ticks\":\"\"}},\"colorscale\":{\"sequential\":[[0.0,\"#0d0887\"],[0.1111111111111111,\"#46039f\"],[0.2222222222222222,\"#7201a8\"],[0.3333333333333333,\"#9c179e\"],[0.4444444444444444,\"#bd3786\"],[0.5555555555555556,\"#d8576b\"],[0.6666666666666666,\"#ed7953\"],[0.7777777777777778,\"#fb9f3a\"],[0.8888888888888888,\"#fdca26\"],[1.0,\"#f0f921\"]],\"sequentialminus\":[[0.0,\"#0d0887\"],[0.1111111111111111,\"#46039f\"],[0.2222222222222222,\"#7201a8\"],[0.3333333333333333,\"#9c179e\"],[0.4444444444444444,\"#bd3786\"],[0.5555555555555556,\"#d8576b\"],[0.6666666666666666,\"#ed7953\"],[0.7777777777777778,\"#fb9f3a\"],[0.8888888888888888,\"#fdca26\"],[1.0,\"#f0f921\"]],\"diverging\":[[0,\"#8e0152\"],[0.1,\"#c51b7d\"],[0.2,\"#de77ae\"],[0.3,\"#f1b6da\"],[0.4,\"#fde0ef\"],[0.5,\"#f7f7f7\"],[0.6,\"#e6f5d0\"],[0.7,\"#b8e186\"],[0.8,\"#7fbc41\"],[0.9,\"#4d9221\"],[1,\"#276419\"]]},\"xaxis\":{\"gridcolor\":\"white\",\"linecolor\":\"white\",\"ticks\":\"\",\"title\":{\"standoff\":15},\"zerolinecolor\":\"white\",\"automargin\":true,\"zerolinewidth\":2},\"yaxis\":{\"gridcolor\":\"white\",\"linecolor\":\"white\",\"ticks\":\"\",\"title\":{\"standoff\":15},\"zerolinecolor\":\"white\",\"automargin\":true,\"zerolinewidth\":2},\"scene\":{\"xaxis\":{\"backgroundcolor\":\"#E5ECF6\",\"gridcolor\":\"white\",\"linecolor\":\"white\",\"showbackground\":true,\"ticks\":\"\",\"zerolinecolor\":\"white\",\"gridwidth\":2},\"yaxis\":{\"backgroundcolor\":\"#E5ECF6\",\"gridcolor\":\"white\",\"linecolor\":\"white\",\"showbackground\":true,\"ticks\":\"\",\"zerolinecolor\":\"white\",\"gridwidth\":2},\"zaxis\":{\"backgroundcolor\":\"#E5ECF6\",\"gridcolor\":\"white\",\"linecolor\":\"white\",\"showbackground\":true,\"ticks\":\"\",\"zerolinecolor\":\"white\",\"gridwidth\":2}},\"shapedefaults\":{\"line\":{\"color\":\"#2a3f5f\"}},\"annotationdefaults\":{\"arrowcolor\":\"#2a3f5f\",\"arrowhead\":0,\"arrowwidth\":1},\"geo\":{\"bgcolor\":\"white\",\"landcolor\":\"#E5ECF6\",\"subunitcolor\":\"white\",\"showland\":true,\"showlakes\":true,\"lakecolor\":\"white\"},\"title\":{\"x\":0.05},\"mapbox\":{\"style\":\"light\"}}}},                        {\"responsive\": true}                    ).then(function(){\n",
       "                            \n",
       "var gd = document.getElementById('5c90df9f-4b2a-45e4-a9a9-a7b79e167fb0');\n",
       "var x = new MutationObserver(function (mutations, observer) {{\n",
       "        var display = window.getComputedStyle(gd).display;\n",
       "        if (!display || display === 'none') {{\n",
       "            console.log([gd, 'removed!']);\n",
       "            Plotly.purge(gd);\n",
       "            observer.disconnect();\n",
       "        }}\n",
       "}});\n",
       "\n",
       "// Listen for the removal of the full notebook cells\n",
       "var notebookContainer = gd.closest('#notebook-container');\n",
       "if (notebookContainer) {{\n",
       "    x.observe(notebookContainer, {childList: true});\n",
       "}}\n",
       "\n",
       "// Listen for the clearing of the current output cell\n",
       "var outputEl = gd.closest('.output');\n",
       "if (outputEl) {{\n",
       "    x.observe(outputEl, {childList: true});\n",
       "}}\n",
       "\n",
       "                        })                };                });            </script>        </div>"
      ]
     },
     "metadata": {},
     "output_type": "display_data"
    }
   ],
   "source": [
    "import numpy as np\n",
    "import plotly.graph_objs as go\n",
    "\n",
    "# Generate some example data\n",
    "x1 = np.random.randn(1000)\n",
    "x2 = np.random.randn(1000) + 1.5\n",
    "\n",
    "# Create histogram traces\n",
    "histogram1 = go.Histogram(x=x1, nbinsx=20, histnorm='probability', opacity=0.6, name='X1', marker=dict(color='#1f77b4'))\n",
    "histogram2 = go.Histogram(x=x2, nbinsx=20, histnorm='probability', opacity=0.6, name='X2', marker=dict(color='#ff7f0e'))\n",
    "\n",
    "# Combine the histogram traces into a single data object\n",
    "data = [histogram1, histogram2]\n",
    "\n",
    "# Create a layout for the histogram\n",
    "hist_layout = go.Layout(title='Histogram', xaxis_title='Value', yaxis_title='Probability', barmode='overlay', \n",
    "                        bargap=0.1, bargroupgap=0.1, font=dict(family='Arial', size=16), \n",
    "                        plot_bgcolor='#F9F9F9', paper_bgcolor='#F9F9F9')\n",
    "\n",
    "# Create a figure for the histogram\n",
    "fig_hist = go.Figure(data=data, layout=hist_layout)\n",
    "\n",
    "# Show the figure\n",
    "fig_hist.show()\n"
   ]
  },
  {
   "cell_type": "code",
   "execution_count": 46,
   "metadata": {},
   "outputs": [
    {
     "data": {
      "application/vnd.plotly.v1+json": {
       "config": {
        "plotlyServerURL": "https://plot.ly"
       },
       "data": [
        {
         "histnorm": "probability",
         "marker": {
          "color": "#ff7f0e"
         },
         "name": "X2",
         "nbinsx": 20,
         "opacity": 0.6,
         "type": "histogram",
         "x": [
          2.9362923803007477,
          1.8172059557606686,
          2.2873532111470136,
          0.4492246260198107,
          2.0508116994414802,
          -0.41533990821328026,
          2.403803487202863,
          1.0722270004341115,
          2.0905876603704088,
          1.828211009098219,
          2.49433678123113,
          0.3957488838176324,
          1.7397694666321342,
          2.370798950731472,
          1.0409915320321486,
          2.059761702547322,
          1.7732938246219951,
          1.4051508406899076,
          3.360707332290401,
          2.2943222643786862,
          0.46169386717047645,
          1.71278582081389,
          0.8890185225494026,
          2.655323055069096,
          3.6859951382811844,
          1.2564916993801587,
          2.515657127193851,
          1.7986389747793763,
          1.2934256662328634,
          1.4145246319901958,
          -0.059599838899347946,
          0.9892974497134052,
          0.7883865092358602,
          1.3709266810836986,
          3.076851262421826,
          0.8383265598191588,
          1.6733056583509913,
          1.6069633636389415,
          0.3021208422696191,
          0.6570735158001514,
          1.4687652557133861,
          1.2934507762074834,
          -0.03305459005344247,
          0.6129294437634856,
          0.9782424751238026,
          2.6448502898052766,
          1.8325800526869456,
          2.8267853124763653,
          0.3686751733241873,
          2.3145797412450233,
          2.7429867849907654,
          0.5485112612688468,
          0.8916706155206933,
          0.8035688028911302,
          0.09316776782802183,
          2.857333762318521,
          1.7947065525717267,
          0.29516768262734705,
          1.2125084763623981,
          -0.4339810706628613,
          1.9175130507258578,
          1.9956378477286096,
          2.079205053180927,
          1.651374873103625,
          1.09354382144762,
          1.3069943419587633,
          2.097486212522429,
          1.129523811733172,
          2.760007239467133,
          2.7068524510537575,
          0.6004669190743953,
          2.6129991878922585,
          0.14404324094405152,
          2.3868039965656394,
          0.223230798013627,
          1.2900134196258861,
          1.49753087620946,
          1.3428647830715577,
          3.031007149769416,
          3.2468786639423177,
          1.5622087081363716,
          1.96812636024376,
          2.347884341378422,
          2.343330595709126,
          0.8148347028745939,
          0.4895562055038638,
          3.121056397099796,
          0.7582880345677614,
          2.8780753565548,
          2.9507953757183567,
          1.7955890081729535,
          2.508898423481945,
          2.742259234333086,
          1.706638874081075,
          0.336327618300577,
          0.9215982004997598,
          3.143476714856569,
          3.1008644967042804,
          2.396747999975026,
          1.2594682022474377,
          3.517240202860438,
          1.571307988467247,
          0.8000975248254791,
          2.0809525910763504,
          1.6121176573898262,
          1.675546764625392,
          0.8184147601690216,
          1.7729341890215846,
          1.7939098860160805,
          1.3041659498693223,
          -0.03408008444233612,
          1.3495975578735273,
          2.0349112516740018,
          1.8264146302059514,
          0.19832654808826744,
          0.9207687795518165,
          1.0865829043023385,
          0.5549921783643886,
          0.9494629529240877,
          -0.5318636542534576,
          2.1327303023876985,
          3.2538575351991526,
          1.3518711455876609,
          1.3703660059337905,
          1.6693874224202436,
          2.172138610445849,
          2.4094319463274587,
          1.1089029432315005,
          3.5759208009050725,
          2.394765229730452,
          1.748555965318955,
          2.4339302731210144,
          1.4551378441816363,
          1.3834888675335189,
          1.5580873177944612,
          1.2819047792151925,
          -0.023411126770221724,
          2.369322149551531,
          0.9191537306695927,
          0.6901234997090465,
          0.008952084902078106,
          1.4952791335715556,
          1.9887863620691502,
          0.9190399256107725,
          0.9029267626454691,
          3.200205684171612,
          1.7114736024570112,
          2.3777541278453613,
          0.3569175021595006,
          2.843857910366903,
          3.4469229923537563,
          0.3393749868155942,
          1.987805488832971,
          2.830440574987757,
          0.4413510014575197,
          3.6814000199846575,
          2.59170382194419,
          2.5569194454276616,
          0.1963473156107851,
          1.9415106117941887,
          2.5260607233160126,
          1.3148885526782534,
          0.9618517750741232,
          0.2440049923999943,
          0.9986446169147809,
          1.5875309478245825,
          2.02237057601588,
          1.2211306048039958,
          0.9442622600391561,
          1.0627544065901164,
          0.7895818707412133,
          0.8300061280831045,
          2.95869791941937,
          0.7248695795949884,
          -0.030651030691700054,
          1.1340259182724584,
          1.6229693349878056,
          -0.11443194526746492,
          0.6767314758971446,
          1.634671623200601,
          0.7104796720755903,
          1.9674134303816897,
          1.8738425218029287,
          2.4491538632245486,
          3.4897707864687195,
          2.397183118845314,
          0.5271825405780363,
          2.2702781629734705,
          3.266842327120831,
          1.1882531673791896,
          1.3642641147939538,
          3.4687856182486687,
          1.5845182083889777,
          1.537442474552755,
          1.4345927127794507,
          1.962350221934623,
          -1.2530338212709236,
          -0.3761627047573577,
          0.25794127742393447,
          0.7373989340640312,
          0.9009070694203024,
          1.4760161268470706,
          1.1447536856458722,
          2.081849158346704,
          2.2026990326234377,
          2.2526613579116788,
          1.4973845131010757,
          -0.32781954054596674,
          3.1211174189803055,
          0.9276983016733577,
          1.8938764128188899,
          2.327409387218399,
          1.109703617147036,
          1.4118906945382,
          1.5020928287381665,
          1.4418390986082212,
          2.6111045968088864,
          1.911484886325979,
          2.135914954070243,
          2.5389062120390244,
          3.278813820649707,
          1.3849174830330377,
          1.7791197203027305,
          2.024163538748504,
          2.3174326270470735,
          1.7789681435102298,
          -0.738485182812072,
          1.5565141828264037,
          2.090683084282911,
          2.0174891169994127,
          -0.6016210777740438,
          2.019801657943372,
          3.058428853343244,
          1.4905266914185298,
          2.167688817489921,
          3.706980834836666,
          2.749035856913844,
          -0.22760175152344653,
          1.595472984690031,
          2.5733935994382007,
          3.3778354506190795,
          2.8000881299312628,
          1.744305621640537,
          2.0198089457327,
          2.257178358489768,
          1.93369372113511,
          2.648115177792076,
          -0.1512765995821863,
          1.1928363613142698,
          0.927845224624514,
          0.3140287329609377,
          1.4589653174856752,
          2.0845057130982667,
          0.240012662918063,
          1.3495665101773793,
          1.6864309409950604,
          3.247454610929526,
          0.4747238090170194,
          -0.2049812038917711,
          0.47799896338786496,
          0.3955532859362927,
          2.0794382620280367,
          2.1815636178050615,
          0.6310386321034464,
          0.9361334748830424,
          0.5836791587521059,
          2.0653166187066065,
          3.134898927535753,
          2.413087308637612,
          2.0335483524784097,
          1.7112158237434372,
          0.5670543340884541,
          1.1825920691014953,
          2.321995147197832,
          -0.5511537344942194,
          3.2038796760903847,
          0.8265967003811161,
          1.0879131898968377,
          2.3238662150893648,
          1.8871626438952005,
          0.6362211123234806,
          1.9721715027960378,
          1.5965660424421386,
          1.1366477328476008,
          0.34823868615035747,
          1.5092920105968493,
          0.006513574180013304,
          2.302287054273853,
          2.3214908741805336,
          1.8512361616663129,
          1.1192646086615263,
          2.296531051336668,
          1.1372699360415834,
          1.7921390686163081,
          -0.3781913821927658,
          -0.21192123687103082,
          3.248012226367428,
          1.0013126297191208,
          1.7134633333775844,
          1.231216032698979,
          1.099222266601402,
          0.04443518358325571,
          2.2267369417131366,
          0.5815710874784372,
          1.4059586122795864,
          0.813347356844582,
          3.4794476091067432,
          1.8299987080344955,
          2.1957955070846795,
          1.973448580048818,
          0.4195788068299444,
          2.3745881312749417,
          1.0378591286560588,
          0.41216980549161497,
          1.6151544210811226,
          0.2631200958972113,
          0.912720168169528,
          2.35318722329415,
          1.7181660237076846,
          0.3063118064925072,
          1.3334910719244906,
          2.9791505967247405,
          -0.17538313711454845,
          -0.12839369114526988,
          1.8641528611433469,
          0.3164410375120381,
          -0.21476996272958626,
          2.973868569116399,
          2.68352289368935,
          2.8227471925946963,
          0.6966543469762307,
          2.2951370097867967,
          1.7425788601860706,
          2.046028584232602,
          1.934765241945425,
          1.4214192873284808,
          4.677116325194488,
          2.0680482922955266,
          4.0078848383992245,
          1.7504400971961185,
          0.42953853248315865,
          0.9186246231732049,
          2.0987717171211666,
          2.1595625391105107,
          -0.734430095798666,
          2.2811715184100283,
          2.2858969412827794,
          1.27153151420814,
          3.0137082660989574,
          1.2682866868499665,
          0.5626716510863485,
          0.7034334774112212,
          1.2226143147300848,
          2.2426901481118415,
          1.8225639696447162,
          0.1714508664566654,
          2.112760362727706,
          1.3312258532514,
          2.1001538278378384,
          2.212801597201055,
          1.5951316232569985,
          0.21404322606956305,
          1.3668666913915588,
          2.194661270023256,
          2.7138212916781903,
          1.3575643659888719,
          1.6365546232352826,
          2.572297613556283,
          -0.07562190072122732,
          1.2395925199902025,
          1.057136533575382,
          1.421394027131822,
          3.4633009254744733,
          -0.3966041246869092,
          -0.09715636149288431,
          2.0006427473560087,
          1.1081495312410348,
          0.31409248330925443,
          0.7639920219766047,
          3.475054545061364,
          -0.297396887336012,
          -0.1235814817798302,
          1.236699946242086,
          1.8935091046030497,
          2.151719184687517,
          0.25766162912538215,
          1.8695952255392363,
          1.712478519207362,
          0.7993043291244237,
          1.8368589266250122,
          1.891939856140554,
          1.7541023081813854,
          1.8134595574219814,
          0.14969273644315373,
          1.323393874628635,
          0.3044136325383284,
          -1.6798400468441579,
          0.5159651741187253,
          0.7299872220651629,
          0.3067666194780325,
          1.8316019588005772,
          1.8702832589971559,
          2.66476574432051,
          0.14441546380044357,
          2.1434554386726283,
          -0.4806277337019451,
          3.319048022036592,
          2.3397712212234305,
          1.8380570303032808,
          1.5785716839613195,
          1.3391517431148023,
          2.0742752533751263,
          2.4922110922796166,
          2.1478080662829413,
          2.7229896922314314,
          1.721576204066996,
          0.9046600184133389,
          1.7066515911831692,
          2.903412016649612,
          1.9286052311598696,
          1.5434152567017,
          1.371899947919112,
          2.88427324831117,
          0.5616501528632952,
          1.8843307487187728,
          2.411531268677035,
          1.4630695593375678,
          0.7236321219028103,
          2.2128443487062137,
          2.141425155772981,
          2.7971874506375727,
          2.2454270441784447,
          2.63093467334384,
          1.7450405691062816,
          1.9182515004560114,
          1.794050506529911,
          0.6483325585499952,
          0.5784319587006294,
          3.8172343152117842,
          0.9708294206382316,
          0.28863804153736594,
          2.507867770221118,
          1.472472252636528,
          0.5761095221915545,
          2.876667246229008,
          1.4585589839928603,
          1.143558453173629,
          0.36614755174905533,
          3.1969458534247464,
          1.8520260373247028,
          2.310618298366011,
          2.9958785845254643,
          1.1175455604593625,
          3.0222915920957956,
          0.6390928910220077,
          1.6362274773865821,
          2.6312394017793883,
          1.6033688058470537,
          0.46666116476368913,
          3.316584408486034,
          -0.5397313509637174,
          2.3282686146180676,
          1.589012635305611,
          3.351793873782065,
          -0.17494608583530113,
          3.8491428784841095,
          -0.6337991234848817,
          2.317169901442023,
          1.4804360239166234,
          2.2448988794343756,
          2.847417022132087,
          2.8214687841743036,
          1.8970860357765522,
          0.7232694110384359,
          -0.41269097767130214,
          -0.15893287250817978,
          1.5295994538810194,
          0.9144018051271362,
          3.446270448308472,
          0.5061486028911698,
          1.195970722523565,
          2.6622151897152837,
          2.1390795183638645,
          2.04595275328753,
          1.5396511338208962,
          0.8624201982385213,
          -0.09687406345098504,
          3.628657655084446,
          2.4180951718618595,
          2.0460626521818037,
          1.7380263564348197,
          2.8936554456092276,
          1.8120462607773673,
          0.8826668344299894,
          0.2083510023131685,
          1.027951502689749,
          1.5247599522527562,
          2.7042938269028416,
          -0.11443677295454435,
          1.0552797354092576,
          2.648490878796645,
          1.5817574413929252,
          1.1839456687564556,
          0.2527273794164917,
          1.444955155945153,
          1.3388598097915836,
          2.8309824104181067,
          3.1958249222312487,
          2.9312239236748945,
          2.0839586822453984,
          2.2326396571741913,
          1.860425571943785,
          3.0988394823448404,
          0.39645933376918396,
          0.10754889545772928,
          0.7982433412988105,
          2.653782239396701,
          1.2535286473130964,
          1.7856453853315248,
          0.5187326468107207,
          3.1100757150211056,
          0.622907566712505,
          3.1368304095616137,
          1.8567264855401655,
          0.8731641258909845,
          2.0497701856567945,
          1.300716971468813,
          1.540444162952029,
          -0.0950584800944303,
          1.6679788374048972,
          2.161228689165007,
          -1.430640351999953,
          1.5916946775107093,
          1.8855493132439198,
          1.6457667519772148,
          1.0287938435584545,
          3.194109550515,
          0.06555765306026173,
          1.145452993023262,
          2.275149628698647,
          3.279992127758463,
          2.477027557703098,
          1.5646391709615528,
          2.2172163707022308,
          0.8957858142866107,
          1.6083843369528708,
          1.8458180753474622,
          1.4652741580724253,
          0.5192798165993633,
          1.426642776218128,
          1.161501888612529,
          0.8582201376970987,
          1.407081836245097,
          0.4382211067583779,
          3.778877708580315,
          2.212035023888498,
          3.0071347999210394,
          2.2441713311334754,
          0.36242213906888887,
          0.13855325980517574,
          1.287085230276908,
          0.524594873595477,
          1.7465667767848683,
          1.1622396883072472,
          -0.22724185421189302,
          1.4432908077431281,
          1.3371985299913272,
          2.5082639023843836,
          1.3114699458533285,
          0.8770474426170687,
          2.394775784454464,
          1.5858013159639806,
          0.9685629822569353,
          1.1217745275946849,
          0.8244694766782745,
          1.1806948871328027,
          0.8210884890995983,
          1.6141876711862775,
          3.5516020990694277,
          2.597434151999934,
          2.767228309757459,
          2.0830102930589156,
          0.1995825025626925,
          1.096586832372104,
          2.0825431106213292,
          0.4834289023250993,
          0.2720255513095913,
          2.4924445611525514,
          2.66895091911625,
          0.9548040820528728,
          2.938371682270893,
          2.0436340561913635,
          2.1817204670350177,
          0.6712103136417552,
          2.8272000180732717,
          1.3696541086087433,
          3.719788010422853,
          1.8911950768626404,
          3.0318836826055016,
          1.1064402947808087,
          1.5956202363699812,
          0.45865296690850954,
          3.986427679087891,
          1.4552578844370045,
          2.5512825147813087,
          2.618889478294541,
          0.34295756856821624,
          0.6281144541361643,
          1.2073429378718683,
          0.671299973455837,
          1.180964080055749,
          -0.5857045773628333,
          0.6383153679087225,
          1.6448375182451862,
          1.3573556684804116,
          3.3711981804335065,
          0.8553667051912521,
          1.5651770941997414,
          3.1306172054593624,
          -0.02914563659993097,
          2.082422352927327,
          0.9565019414278301,
          1.8223155170657943,
          0.43462918288398766,
          0.5017375736334777,
          1.9881682443176087,
          1.8929803344122185,
          2.0701989488115426,
          0.7652357857873953,
          2.0529286480058797,
          0.5631822146622102,
          2.4692420884257436,
          0.0054332121813245315,
          1.4696419802259921,
          0.6251311588988174,
          0.8788690622107908,
          3.5998364173564146,
          2.1192638900766823,
          0.556712738012917,
          3.2090022340179893,
          -0.19470316394251141,
          1.374962166459199,
          0.8837671975264881,
          0.788095376598641,
          2.496322106082556,
          2.722722487734181,
          0.745978760920434,
          1.1865989203920977,
          1.20202512823542,
          3.0503215384478137,
          1.5372966066706226,
          1.5686120738661753,
          1.3461834954961363,
          1.082917548740658,
          1.1540204626436101,
          1.082362201171333,
          2.311446766364503,
          2.0101425110327664,
          1.3816545742680573,
          2.9610052829141593,
          0.5873206231187581,
          3.1414754813592003,
          2.0992211790125745,
          1.8535665588942594,
          -0.9861928362138599,
          2.9641462301562296,
          1.3772380767635155,
          0.9910704945738192,
          1.128610896495362,
          1.9023610677854714,
          0.9208897352471345,
          2.0090670389086402,
          -0.8767007100029951,
          1.562374496506128,
          2.1432420544226813,
          2.05295687304686,
          2.2535320845277784,
          2.53284285816913,
          3.9237045063584626,
          2.0921803733143998,
          -0.0308848202719485,
          1.7404189060936364,
          1.3410809421569154,
          2.2619360360793572,
          1.6986010427562412,
          1.0574933454179227,
          1.4568972922049368,
          1.0099338012687478,
          0.4990153440911067,
          -0.027690731855910755,
          1.052864991036996,
          2.4426751464387317,
          3.247281566606855,
          3.3281933917368187,
          0.5837858052822882,
          3.2139021431844377,
          -0.004782100558562874,
          2.489771624554718,
          0.1661327863977644,
          -0.12505233350011835,
          1.2285466920001433,
          1.3265473876759772,
          1.4483298350401264,
          2.814244546471199,
          3.2755020327890922,
          1.829040026921749,
          2.131062253402998,
          1.825787047544671,
          -0.8111334863591062,
          0.8186445831597302,
          2.1089364298845656,
          2.003592967059208,
          1.5055219537983966,
          3.4807633128403683,
          3.5483162319734864,
          0.9525957074873216,
          1.6561514739825889,
          1.6930129525810904,
          0.7755923839252934,
          4.070711636198645,
          0.9069858065563766,
          0.49713563765621793,
          0.7321198051505344,
          2.2277739974750674,
          0.2567287339844939,
          1.0388557809767902,
          1.2972474431697127,
          1.158532683603024,
          3.042797896848964,
          0.5613966737810313,
          1.524487917919591,
          0.940453691926136,
          2.8393044185258773,
          1.4402025881666625,
          -0.13708841971384156,
          1.9606538872527164,
          3.2777657006313277,
          0.33847189630793495,
          3.5050439611325945,
          0.9786690618214287,
          2.224950730667306,
          0.12496139636237569,
          3.201619285654366,
          2.1903344261565016,
          -0.22125770743335949,
          0.9666757370349072,
          0.5726108772934638,
          3.321318779115662,
          1.1885754804474193,
          1.951653746207826,
          1.679319110680101,
          0.5702857442965648,
          2.4778998759340203,
          1.609466760481301,
          1.3158147211603812,
          2.587390790209067,
          1.5384903924033897,
          1.2912090365556967,
          2.7954617931599497,
          1.787118866548705,
          0.14809135853494948,
          1.1094113988916416,
          0.46144404567793207,
          1.3947998280233411,
          3.793265247215799,
          0.8125643252703216,
          0.21459472357057008,
          1.9912857925328438,
          0.7303994626612166,
          1.1062959457026884,
          2.847057034663834,
          0.6662622496960807,
          2.3970352108461164,
          1.2154205427867493,
          1.5600642277210153,
          2.56462462564427,
          0.4953031711179796,
          0.37647901172286513,
          1.6093880677957004,
          1.6623291829177482,
          -0.23918847955270683,
          1.6910528896943204,
          2.6942875201603336,
          1.0065154241282646,
          1.2163463977626359,
          1.1873934669217263,
          1.3632748706705358,
          1.8654169116882275,
          2.383839485934089,
          2.281025488338852,
          -0.1063083093277366,
          -0.04450899786294249,
          1.2920246512930451,
          1.0504718146733703,
          2.305163813883224,
          1.1100339246829343,
          0.7873011356870802,
          1.3950145280427313,
          0.9903529066454014,
          1.819341268667068,
          1.8015284201414303,
          0.051109802446320796,
          0.6290743731025795,
          -1.365158148620218,
          3.0682143541850415,
          0.424066192711426,
          0.48029355519399797,
          -0.24869569640610956,
          0.8845441561678107,
          1.5695700558374917,
          -0.10618003749386506,
          1.2883867226866794,
          1.0030903535369537,
          1.6847314480054063,
          2.1321258567048176,
          0.3103110127983395,
          1.1243976875646706,
          1.7770796053475046,
          1.8828024183304364,
          1.1746439536521,
          1.1863619936588934,
          2.8972094838127256,
          2.5100399421962263,
          0.7152518861830398,
          1.2740943650845282,
          -2.065278830223525,
          1.0238157311170002,
          0.6164967123499802,
          1.6927028821722454,
          1.7503925732751602,
          0.9959841143153939,
          2.9360709759059747,
          0.29971827245697646,
          1.884150167851947,
          2.228822205137004,
          -0.7426928667422672,
          1.8288882318513788,
          1.2788857715843045,
          1.565681818744255,
          1.026085796149006,
          2.313774027180011,
          1.4627460316227754,
          1.2359766313289988,
          1.5542536342870443,
          0.8140646601428118,
          1.545489540749768,
          2.1052450281934982,
          1.0454503037573677,
          2.019604701148613,
          0.6652585920819082,
          0.9089998187128064,
          2.420927397157933,
          -0.23458661728878827,
          0.9274141271316807,
          2.4597904065083127,
          1.5336069882864272,
          0.06622999042617317,
          0.3658115689420194,
          -0.11751700396904385,
          2.675166990258723,
          2.0686833285316566,
          2.0248249606965505,
          2.202277191999529,
          1.9567038038614653,
          0.9562721216195655,
          1.2655702812440381,
          1.840977354002613,
          3.4024399553967326,
          2.927018534048756,
          1.7798439300544853,
          1.449745295287638,
          3.9591949918017013,
          0.9324652935404177,
          3.1125228971509555,
          2.50598543483833,
          1.3301587639266148,
          0.7136927196076999,
          1.4637638052261102,
          -0.5243217235909232,
          0.28581097221297513,
          2.3392125993338584,
          -0.32474759503743655,
          1.687012116126084,
          2.4328638739035977,
          0.6925523274342972,
          1.2788706981928475,
          -0.33210046065824494,
          1.9903775747980572,
          2.6897953046221934,
          3.52523499356963,
          1.763691913273156,
          1.5418630671976674,
          1.078901334890113,
          1.6315713565631724,
          0.7344618451137619,
          1.3101869675249889,
          1.8228786482402644,
          1.5980440663897895,
          0.9545187849120355,
          1.2075216997804965,
          2.4337293668935613,
          -0.7499175942772465,
          2.599250244716652,
          1.3093526396155455,
          3.145469362624328,
          2.157543987956669,
          0.0789960311872262,
          3.0299230503756434,
          0.695235693334556,
          1.32740517622328,
          -0.2433139998923335,
          2.5584515980645066,
          1.8520177266075375,
          2.5897416229851293,
          1.7394958044704194,
          1.5178788347877736,
          0.5903690741848595,
          3.368067427374695,
          1.0857876952589147,
          1.063508739452136,
          2.4119476147697942,
          1.1960843105538004,
          1.9506639893584659,
          0.09468664131712745,
          1.700684453662097,
          1.8297558383781898,
          1.8753600704241122,
          0.23633437986588324,
          4.603226249420732,
          -0.18518487733515032,
          1.3196923342167994,
          1.4716279508650685,
          0.6555347525220869,
          1.5126112349824044,
          1.666450548329081,
          0.640223867613621,
          1.2500730645632976,
          1.3158296604988098,
          1.7319933209738791,
          1.1899511510668135,
          0.9495328452869018,
          1.021767162323959,
          0.11810578709118968,
          2.0440805257643087,
          1.531958764831085,
          1.4275968511090569,
          2.7823618138142656,
          -0.3725075876965911,
          1.5641334783550487,
          3.9023404727154993,
          2.6425192411356746,
          1.8995044391584834,
          1.728546344072151,
          1.624848403708496,
          2.638905099547718,
          2.3317503846711864,
          1.2484165803656877,
          2.466845567128643,
          2.7919496728227498,
          0.975677841336842,
          0.8398684522824367,
          2.5001851118756537,
          2.4069346768054776,
          2.2900904537707403,
          1.449698946333716,
          3.1099942362806146,
          3.095877231262733,
          1.7920732649461142,
          0.47890095846684555,
          0.09172648774477654,
          2.759767165225697,
          -1.2493545458813102,
          2.6187201204264605,
          0.15793399148821763,
          1.3293937977761139,
          -0.7367693764982133,
          1.2417752250530876,
          2.773366084511529,
          3.264889860857543,
          1.793444698256737,
          1.0515632335391545,
          0.7401617507760336,
          1.828805638807126,
          0.5512455520405535,
          2.0067987276751578,
          2.1501799202319343,
          2.0484387782058415,
          1.034209684716359,
          2.3177508979891623,
          0.68581756711796,
          -1.5145439606528606,
          1.5082028096429503,
          2.685202783747421,
          1.0467346805838265,
          0.9864670483540221,
          2.985009925566511,
          1.5747244531795026,
          1.4076785680680326,
          1.8559785200910954,
          3.2297763846631975
         ],
         "xaxis": "x",
         "yaxis": "y"
        },
        {
         "histnorm": "probability",
         "marker": {
          "color": "#1f77b4"
         },
         "name": "X1",
         "nbinsx": 20,
         "opacity": 0.6,
         "type": "histogram",
         "x": [
          -0.46879540609549947,
          -0.3939953197986961,
          -0.8568727681584105,
          -0.6075460284188483,
          -0.9737858287140488,
          0.8818897441808118,
          -0.49880574841512804,
          0.5828496563387292,
          0.05196831564803919,
          -0.24319728792165296,
          0.9568370903097673,
          -0.3974078724220671,
          1.09937206771101,
          -0.7107916104930577,
          -0.0015332907898900742,
          -0.2786149321769914,
          0.7554984328697234,
          -1.4217535565714805,
          1.3913001073192368,
          -1.133253471541556,
          0.15520519341883887,
          0.19625838267591875,
          -0.028607176982040634,
          0.34320698167767,
          0.024574167845161293,
          1.0951914293355907,
          1.6316498845232101,
          -0.2431677526812887,
          1.348220003273598,
          -0.450377835250384,
          0.7082288218271262,
          0.20507558200970682,
          0.5233031719534965,
          -0.6812116778222497,
          1.1939965901091054,
          1.0405377101695579,
          -2.032477700549728,
          -0.4956108190767122,
          0.7824772212719112,
          -0.5622674605795276,
          -2.1929367095903776,
          1.0495313454052642,
          -0.7416034306538652,
          0.19564502706197986,
          -0.5544314557681488,
          -1.7924148053642066,
          -1.6158917625733749,
          -0.12705711446553042,
          -0.4602584463408882,
          -1.1452575634497861,
          -1.2080243389353191,
          -0.005539648071757754,
          -0.4536023093841922,
          -0.6002696694469756,
          -1.500653425330832,
          1.5824668090258827,
          -0.37252397564598044,
          0.5242244944465732,
          0.3802408047586748,
          1.026335287820432,
          -0.7256619006595871,
          -1.6988773872654228,
          1.4656521191572616,
          -0.3940443482581999,
          2.1899282957128743,
          -0.727989822376828,
          0.16772967392365268,
          -0.038188427420881216,
          -0.9203231784815185,
          -0.7436988531075218,
          1.5695987586698883,
          -1.9997457764585072,
          1.1649780137116141,
          0.22209664481399674,
          -1.0511033191007326,
          0.9121679918183193,
          -1.903147989195432,
          -0.13157682742485413,
          0.6797818968797347,
          -0.04777745074363329,
          0.28867470204506857,
          1.30736407783623,
          -0.251617388950533,
          1.4783837526752306,
          -0.6848634005692833,
          -2.2586228400097386,
          -0.8273328784823455,
          -0.804949818838474,
          0.18170679591681896,
          -1.8723072427329313,
          0.1445972193209032,
          1.728620520011418,
          0.49023497187563925,
          -0.637449704393984,
          -1.2925644153891902,
          0.2743946843295363,
          0.2260545524867902,
          -0.6162400819069873,
          -0.5710039511291329,
          -0.35530127577727966,
          1.1539870897655833,
          -1.6539261546018194,
          0.8813176431357088,
          -1.266383772715925,
          1.3942182934907965,
          -1.0109653614230394,
          -0.22819059965257507,
          0.5167369253217772,
          -0.17074469441675272,
          -1.3441876722791282,
          1.012105965890007,
          1.231688036324592,
          -0.7101048415924526,
          1.1516423145978918,
          -1.1558071379233468,
          1.3850742141516577,
          -0.1083017936998114,
          -0.4694683498386455,
          2.28371864487429,
          1.404820540810288,
          -2.5943597381871673,
          -0.09223643828013389,
          -1.1525323167534476,
          -1.0006030834324793,
          0.6129776657171883,
          -1.3099509857983207,
          0.3694324468603867,
          2.0065589122031566,
          0.7006272487235553,
          -0.4985648337554638,
          -0.5273368010069757,
          -0.16257083617072027,
          0.10438033810215867,
          0.7462694179742121,
          -0.03253252862671959,
          -0.1414704954851232,
          0.04486271824015287,
          0.5009982442692875,
          -0.8992893863019138,
          -0.11650784375300975,
          0.25766777149707937,
          -1.0951024662708517,
          -1.5893755358260064,
          0.05496431991730809,
          -1.2157223953522722,
          -0.09893967211637067,
          0.11102205847695017,
          0.4696463116990956,
          2.1591014558829404,
          -0.8229125641441274,
          0.9187560176908216,
          -0.21387291834942115,
          2.401229103545183,
          0.319758729702332,
          -0.1812399913390098,
          0.259089272480007,
          1.2585817642611732,
          0.09260387405840567,
          -0.04820348632362103,
          -0.9635207512633471,
          0.5478741248086703,
          1.5359637846114762,
          -1.241903935561315,
          0.241470748792081,
          0.8132832502189475,
          1.0293260097675543,
          0.8439187189243254,
          -1.184256269249955,
          -0.07147722827706234,
          -0.02186537814533521,
          0.3106658720317222,
          -0.03148291044882952,
          -1.021473335401159,
          -0.1324894099171047,
          1.1200991780615344,
          0.047570131096918204,
          0.237987258104147,
          -0.24779803515070828,
          -0.48565141789830424,
          -2.824753752723003,
          0.623549829297309,
          0.5547917201955873,
          -0.04977180555476406,
          -0.7567547018440811,
          0.21520788023811413,
          0.6571653433645409,
          0.848315688537104,
          0.6687514926088074,
          1.504224732772404,
          -1.4427624265692203,
          0.3701981521026104,
          -0.005612979333724512,
          -0.18010221887539418,
          -0.10497386973601994,
          -0.06536557979331811,
          0.75152972697217,
          -0.051913187934843306,
          -0.5976517979510687,
          -1.6694842768308742,
          0.29592851408310356,
          -1.4049362721473884,
          0.9999047820861833,
          1.035286562671453,
          0.07725731374903,
          1.1643507228147156,
          -1.8077883572217022,
          -0.04221428691684349,
          -0.4269333590260929,
          -1.1607741237201414,
          2.431926610813237,
          1.313690703726148,
          -0.742744303809935,
          0.359010634418398,
          1.3330622658783347,
          1.192515252492545,
          1.0572954332527744,
          1.133389398081124,
          -0.2588001995830624,
          -0.9925656491468741,
          -0.6835831611442774,
          -1.5643661043816721,
          -1.1019561503390074,
          -0.2553587739890719,
          -1.0115373823174276,
          -0.6868896430479121,
          -0.6133852514176042,
          -0.06721955728588659,
          2.1435038227187864,
          -0.5511060280085942,
          0.2057948997922574,
          1.3252807919907257,
          -0.2035281098031806,
          -0.20753668383401735,
          -1.1284552448039071,
          0.929856541896971,
          1.9275929169292116,
          -1.2081358756195448,
          -0.5608315501378739,
          -0.08198631352099801,
          0.22002626165866732,
          -0.18468779295057722,
          -1.4183954604305884,
          -1.034117916046981,
          0.9689025504138004,
          -0.9939885342173315,
          0.022271506342840232,
          -0.6487130579165568,
          1.729578294228387,
          0.0766548223285015,
          -0.6575067714553937,
          0.30888715855814,
          -0.025215927869088564,
          1.3849927464238314,
          -1.8106972009524431,
          -1.3684042236790948,
          -0.21793273208522168,
          -0.06113604063963225,
          0.16215971304829643,
          1.569398007673217,
          0.8618666826882383,
          1.7970865920454238,
          -1.9408745927715814,
          -1.5335373862124484,
          0.3456646243347347,
          0.1617252969764937,
          -0.05281026655431006,
          -0.4164318238785116,
          0.5133675152237956,
          -0.09257368292472032,
          -0.6671653269556962,
          -0.09906739785130454,
          2.025920126698142,
          2.2099100316795006,
          0.8755800174198557,
          -1.5643261085299889,
          0.44300794255325143,
          -0.5285852642265586,
          0.26079743939228744,
          0.08277383247345599,
          0.6032328808916928,
          -0.06686418283191504,
          0.9311448949908965,
          -1.3280800147798717,
          0.31688465755123835,
          0.41506556646117226,
          1.5956888983711572,
          -1.7741808539792872,
          0.15725594267436122,
          1.0912434834729754,
          -1.1923073734951262,
          -0.36393233732417885,
          2.8411987539108403,
          -1.5460008804656689,
          0.41140661727601774,
          0.9252141346051931,
          1.364091340237695,
          -1.56869377693574,
          -1.2168760615647818,
          1.110082450954914,
          0.8577626273933998,
          0.38521271295655274,
          -0.9916240135265347,
          0.558767423802551,
          0.9329900622966953,
          -0.22218573374926578,
          1.2819105739801864,
          0.05441186324818821,
          -0.6755106058320657,
          -0.9497220051591182,
          -0.9934781277466596,
          -0.40173802933199143,
          -0.7984551844365166,
          0.9816182947235851,
          -1.3332414212822612,
          0.7960992965576211,
          -0.5505559699164396,
          -0.09733464792863569,
          0.7840207400430962,
          1.1325823847110683,
          0.3216887504523095,
          1.4025256869091713,
          0.24647714334525206,
          0.5371324872159663,
          -1.514172411809326,
          -0.7583101972304982,
          0.09219271125191186,
          -1.1534247253142513,
          -0.1371093836657055,
          0.568555303140865,
          0.12626096900406567,
          -0.5977037862106804,
          1.0354895543985616,
          -0.822926696741623,
          0.4975109724573081,
          0.7380569206194162,
          -0.3337146497897657,
          -0.4896558229431874,
          -0.815888581365005,
          -0.489600367948312,
          0.2244641214721021,
          -1.9952875796846608,
          -1.061347353745488,
          0.635030894897906,
          -1.1325870279799983,
          -0.809745094802567,
          0.0385356300845479,
          -0.5650156417649481,
          0.8986111890823175,
          -0.5499287271493348,
          -0.6812501526588356,
          -0.364150429819086,
          -0.1516196523691261,
          2.8875842617543297,
          -1.6844206807486015,
          -1.4364795230021254,
          -0.3387507767911608,
          -0.9309661500948221,
          -0.3253788137161444,
          0.9374415420325596,
          0.08535106740131848,
          1.0127362196243404,
          0.8696499501282796,
          -2.1672746444804063,
          -1.131504963753836,
          -0.5972529875444372,
          1.4309237816309914,
          2.379321727854714,
          1.6879583657787738,
          -1.3444339799231864,
          -0.41996238596822444,
          0.4519046653401816,
          -1.363223833708324,
          2.0414951653919964,
          -1.0589268435582688,
          -1.2447289524599738,
          0.7982317613635534,
          -0.4365758214038877,
          -0.6472912218046853,
          0.48992515616477944,
          -0.173909685958939,
          0.11566675682357566,
          -1.3785810241831375,
          -0.575289833457207,
          -0.7518980591500185,
          1.8903344944306832,
          2.140847786920989,
          1.130670313321436,
          0.34225326898869735,
          -0.12660930927007966,
          -0.8601320950510711,
          -1.635886109491606,
          -0.3009309732795265,
          -1.6798887738167896,
          -0.7678495899133063,
          0.741528661301442,
          0.3766680000840731,
          -0.9281206339282406,
          0.7239122741008924,
          1.6027321891033766,
          -1.161464111057878,
          -1.6325944263132772,
          -0.17858556626162078,
          -0.4118245864620777,
          1.8680257754019982,
          -0.26547684972115976,
          0.8180691042612047,
          1.5287828396266754,
          0.134285656202383,
          0.04310169187111383,
          1.1676351125437336,
          -1.7700210697285252,
          -0.02300474486653889,
          -1.4801884466435529,
          0.8903910680242729,
          0.31191622354197623,
          1.3894554902396246,
          1.3710643570737897,
          -1.3697680840104347,
          -0.6568593560727847,
          0.5583016623555483,
          -0.12256702889579078,
          0.8712349062910738,
          0.25840606174205155,
          1.9608693081001096,
          1.7369408455327406,
          1.750268450804709,
          0.023094440858515412,
          -0.5645301627006839,
          -0.2277406262222922,
          0.9148132800935525,
          1.0177159305057413,
          -1.3163041363726593,
          -1.2843576151615548,
          -2.2381143220662767,
          0.43030251095643757,
          1.7567353594195096,
          0.9123860893439644,
          0.7096623488940613,
          -1.1329379096325982,
          -2.3522084627712516,
          -0.3985049276250286,
          -0.33292129824096345,
          -0.6117526954924927,
          0.16170239225108074,
          -0.3623324833186256,
          1.6427345356233987,
          0.4205199460969169,
          0.14788620313766376,
          -0.08882974489884363,
          1.341941510444363,
          1.9833500351462705,
          -0.07008932840205627,
          -0.15846247354366766,
          1.3760769596627462,
          -0.9097551551157286,
          0.05274529007219952,
          -1.5108333231665314,
          -1.3690608349329896,
          -0.92390984892042,
          0.052415824122690365,
          1.475472867563514,
          -0.5783729531043093,
          0.06681021564108997,
          -0.6675602746908312,
          0.18086264491696255,
          1.377445179471553,
          -1.524030802545425,
          1.45960002084935,
          -0.39771117193286665,
          -0.7667134008661328,
          0.18425778246134997,
          -0.1463719301946754,
          -0.08432850478860031,
          1.2147749441892886,
          -1.4306152774053464,
          0.24226123455202989,
          1.0127386389436437,
          -1.650030300496446,
          -1.2143934712717661,
          -1.3489603999378095,
          0.1591339463938501,
          0.2461856499861855,
          0.7962884268164041,
          -0.2193950064267525,
          -1.7135908998213127,
          -0.19543395118489584,
          0.05498108426836721,
          -0.9078613875434003,
          0.14959925148628775,
          -0.6253833444146933,
          -0.6385953513825158,
          -3.1897704020171016,
          -0.5772444425737866,
          1.1551919298733266,
          0.3901098757437074,
          0.5168745103226888,
          -0.4667962514980724,
          0.8175540881651069,
          -0.5846427839198419,
          0.11678585720532997,
          0.5366364058031114,
          -0.11626878227596611,
          1.1806457410767917,
          -0.6046743076039827,
          0.42746741397911353,
          0.6809876730639864,
          1.0951093379396954,
          0.9799571263559763,
          1.4410289951863453,
          0.06605870617081258,
          -1.4976887811007187,
          -1.8053863525434208,
          -0.5177536591175932,
          -1.3676186005237878,
          0.879916685438946,
          -0.008368820158502875,
          0.17453671276569535,
          -0.4025172069301654,
          0.1451919885539957,
          -0.5482029926031622,
          -1.6186084145782522,
          -1.6759340570042693,
          0.6769873612209731,
          1.5474662777875479,
          0.45115929125564874,
          0.5822844717740825,
          0.6591903862683841,
          -0.8156020506756464,
          1.163525600369807,
          -0.7809803790695408,
          0.14926416047190968,
          1.3692746287238684,
          -0.2188024142620991,
          2.045717944818412,
          -1.0662480673669767,
          -1.1805702780625438,
          0.03441579623271502,
          -1.2854831498883397,
          0.9393440782673993,
          0.636469254481273,
          -0.8612521357523879,
          -1.9133400857590028,
          -1.4574400662234432,
          0.6538397097290124,
          -1.2541225519820283,
          -1.5581980924961614,
          0.7290092042008705,
          -1.2650476081113022,
          0.6176544000379859,
          -0.972162802845272,
          -3.4220535503192617,
          -1.0282372379297207,
          -0.563932961637426,
          -1.0835083339895795,
          0.07494141270748263,
          0.3413557158309882,
          -0.7839531284310345,
          -1.2045276507368372,
          0.08724355510802938,
          1.0053761173442703,
          0.5809824177703191,
          -0.15879432638619354,
          -1.4919267491158532,
          0.25776546471536915,
          1.642760718419894,
          -0.08173464111189038,
          -0.3132504194554134,
          -0.9073095768931738,
          -0.7200179351577602,
          1.2854795926856963,
          -0.38453323731326905,
          -0.856894683574129,
          1.0958688088066697,
          1.7810221286113876,
          2.399768820767811,
          0.12479348521765461,
          -0.9276186944331917,
          -0.044158602592978796,
          2.870365301154904,
          0.39521481710514145,
          -1.3712602741942277,
          1.341997587678811,
          -0.04244296059458249,
          -0.26839274963312376,
          0.6109486340925565,
          -0.3772103553517753,
          -1.7374200927829895,
          -1.1140277871102835,
          -0.27463321017635495,
          0.3101789536990948,
          -0.37678580243338705,
          2.624995453786249,
          1.1307054245696002,
          0.11663002483634036,
          1.62269471474191,
          -0.9457657618535634,
          -0.5001150150270897,
          -0.04194792980404899,
          1.644426683518541,
          0.3391951351413588,
          1.6476705076603664,
          -0.9592358607403737,
          0.0301302281610723,
          0.46097097315465857,
          -0.8774063400489577,
          0.5266404633713123,
          0.5243139269787954,
          1.2689921791627767,
          -1.0154520409897858,
          -0.16305817052526697,
          -0.24950719187668274,
          -0.6718510212427248,
          1.542738132869285,
          0.8761838121431789,
          -0.7664624189578393,
          -0.3778044782547536,
          0.4025844328989942,
          0.17507551591563184,
          -0.47467721452155265,
          0.21033078531275304,
          -2.0170508151578814,
          -0.14526060575734717,
          0.6659161525407913,
          0.6318438441664327,
          0.8742862095790742,
          2.4061098178706595,
          0.8302785803192291,
          1.2972779974456734,
          0.20324221045729837,
          0.7277889545330699,
          -0.46799236620184287,
          -1.7737652838222309,
          0.4200453963096636,
          -0.7568248274432827,
          -0.5083791256874272,
          0.6171850515067326,
          1.2559600411235494,
          -0.8339842436693612,
          -0.08573270091122216,
          0.9853824646137468,
          1.1366447490954417,
          -1.1221688106719443,
          0.04874542348860243,
          -2.0912091093580174,
          1.4021111363673824,
          -1.8042742422368652,
          -1.2525259425113477,
          -0.0013601377224232787,
          -0.4585127189111821,
          -0.48676497713415345,
          -0.3167006538085382,
          -0.03172013249599761,
          -0.5029939992833997,
          -1.1676374530066806,
          0.2945738771794898,
          0.2394198527657507,
          -1.7360224435746665,
          0.22708063526325817,
          0.26628106785557765,
          1.6543626620492076,
          -0.17343282276793337,
          0.08958989160542266,
          -1.071060213084441,
          0.004116808090052353,
          0.5317017487186719,
          0.8261381800380917,
          -0.3648030062359082,
          0.13457419468436135,
          -0.38143584950431464,
          -1.0224051473620874,
          -1.1591811682652104,
          -2.428110000490078,
          0.05570984832336713,
          1.3684215245321818,
          -1.1311299098806893,
          -0.31682913018665154,
          -2.251202554142556,
          -0.6279796524607261,
          -0.5930082890007499,
          2.3833045794977985,
          1.5063536756493665,
          1.8438975558851087,
          0.2074961084967295,
          -0.223523106525003,
          0.5567259587754224,
          0.9596038656907991,
          0.8621726555378619,
          -0.5063116074140976,
          -0.2534838289131607,
          0.7712160984331519,
          -0.5225061806441545,
          -1.0776490447797007,
          -0.6332064712623553,
          1.6891098824179815,
          -0.5140741506591799,
          -0.2736737020267372,
          0.0875304859575037,
          -0.23641591580945054,
          -0.39588811031978466,
          0.814969873354662,
          0.7041599030636231,
          1.2206744371160636,
          -0.2811133824455531,
          1.513140277830852,
          1.5780423927263578,
          0.22759545427360492,
          1.4568450790460152,
          -0.7440078425513349,
          1.2791285842604578,
          0.0003791529048640473,
          -0.5454588326384978,
          0.26885258316454846,
          -2.601998914708477,
          -0.7543670659941005,
          -0.03848224421500349,
          3.0723100237767142,
          -1.0210651754181348,
          -1.6473826801796698,
          -1.4817028754734094,
          0.4688582314377003,
          -0.8750795950287477,
          0.18287134712134198,
          1.683888096828788,
          0.629035643787653,
          0.5732925794832631,
          -1.1595894741952826,
          0.99550400049532,
          0.11744797684522715,
          1.847966926061096,
          -1.540272787254216,
          0.6692238131094292,
          0.7724875609409879,
          1.356276386316626,
          1.4604228366064953,
          -0.16942330317988888,
          0.902023311192647,
          -0.8239127395414254,
          -0.16157980056568558,
          -0.018720389074519894,
          -0.5074184376700548,
          -0.5155740721587624,
          -0.22605078105599907,
          0.5194534379050895,
          0.09980681960989105,
          -0.3684633362327306,
          -0.699092394360948,
          1.0138360361105119,
          -1.0823214481920047,
          -0.43797945474496697,
          1.7013212863683513,
          0.8851070324837671,
          0.1932761132700751,
          -0.4313507462890247,
          -0.12438062607446305,
          -0.48501875680170875,
          0.29521372840028176,
          -0.99274578583236,
          0.49620622738183073,
          -0.37798394066303825,
          -0.6798657529564915,
          -0.27060190565832476,
          -0.6424461588642832,
          -1.6509872985214475,
          -0.09695903692788709,
          -1.0767214388729869,
          0.9573032042479163,
          -0.6795584005058212,
          1.8860012366419725,
          -0.40884875172568774,
          0.8089196914140158,
          0.333292085262041,
          -0.9208597123521646,
          -0.7707569796012869,
          0.8067854470028665,
          1.2697600584716262,
          -0.816771858774786,
          1.6995156252504515,
          1.3154954422378464,
          -1.0558251641603724,
          0.18332915704184938,
          0.4700114467724943,
          0.3544710227157253,
          -0.8697321183793135,
          0.27133721487767526,
          -0.47487722326707016,
          -0.865510379696104,
          -1.2477316819197162,
          -1.1392296769032997,
          -0.4155866072156006,
          1.3086654559824256,
          -0.11569367881101499,
          0.22510993529032197,
          0.9007946361406387,
          -0.7551819448968385,
          0.632050265982337,
          1.1178905374252839,
          -0.3763926416796444,
          -0.8597450990577364,
          -1.0435849185413248,
          0.4260985455548907,
          -1.5535506157078012,
          0.029144599944858098,
          0.4400980672504425,
          1.0930228846903616,
          -1.035797508501726,
          -1.3418647384689737,
          -0.4719786460156429,
          0.21597421688357152,
          0.28789894948950256,
          0.4066328394349006,
          1.389613290016931,
          0.7033007089514266,
          -0.016905235209911586,
          -0.5495185373959889,
          -0.30156378730244093,
          0.5873200047402138,
          0.3883956736587363,
          -0.42678376130229345,
          0.3230866796039623,
          -1.3921285211703402,
          1.0020736911516785,
          -0.5866781196679576,
          0.52982332190837,
          -1.0383791085315586,
          0.15624486743334176,
          -1.6235067616330663,
          0.30630183869671596,
          -2.1184874917738106,
          0.5021740087561922,
          -2.0235343842040137,
          -0.9340601974500746,
          -0.7436963432604624,
          1.2639945134375354,
          1.1691552367514944,
          0.2228300916833538,
          -0.548511692158105,
          0.8185800666909883,
          1.5861736071662123,
          -1.0780380582020455,
          -1.0044563922957916,
          0.6824112794879967,
          0.5480144612833412,
          0.1081062093365306,
          0.7075304253402899,
          -0.8981727000167943,
          0.03321213901118758,
          -0.3257028443430874,
          -0.32311465080845925,
          0.496865178850489,
          -0.4833074146388537,
          -0.02463725298109226,
          -1.079655927027645,
          -0.5842694176410705,
          1.176361219546735,
          -0.24720190024235417,
          0.9718438680832525,
          -0.7942788787465972,
          0.7355184362543247,
          -0.6720738652430999,
          2.0710228915726128,
          0.5236890110948463,
          0.4171401836329822,
          0.29888737939523063,
          0.3471023389210145,
          -1.2171790962572877,
          0.3816140605353044,
          1.4824719236637554,
          -0.5290981804481603,
          -0.722133002180783,
          -0.4768426285160224,
          0.6762041558667675,
          -1.1983702577917743,
          0.4821088859690885,
          -1.566981474247361,
          0.48738654371998286,
          1.6944785137435783,
          1.5989746641464553,
          0.43783169774448966,
          1.3203901805247085,
          -0.6017595366488918,
          0.4327091678431844,
          0.13196627197827523,
          -0.7799062953602262,
          0.004809873888435642,
          -0.5230835266446268,
          -1.1677594594254286,
          -1.6780168608292165,
          0.6827348697122418,
          -0.04155142813771083,
          -0.3442494851035607,
          -0.2145234063452119,
          -2.088732107046732,
          0.7153345837611623,
          -0.16355216390697513,
          1.622059974773205,
          -0.3695603249605767,
          0.4408639149359979,
          1.4493341875141492,
          -1.688145304581001,
          -1.2408307346140655,
          0.5255356611389345,
          -0.6651187154726885,
          -0.3546140475490031,
          0.5912144531518351,
          -1.8795101242282974,
          0.597378386871151,
          -0.4928580593203646,
          -0.12815408206739742,
          -0.03590225728733947,
          -0.08977738196786152,
          0.047282112912232624,
          0.866250998699488,
          1.651822491194874,
          0.23276236399254197,
          -1.9333215073753416,
          -0.9481286904505044,
          -0.916298043353477,
          0.6792945217933953,
          0.04058873445439246,
          1.2969831661418008,
          0.16158066910236765,
          1.0193600209261287,
          0.18673487339975073,
          0.5176671373945764,
          -1.1777481602333952,
          0.1806722403092,
          0.7881928851314042,
          1.1856747811075552,
          0.0263585043692963,
          -0.620320635424467,
          -1.2315093090606237,
          0.3126046066678163,
          0.18459195879763166,
          -1.8269253603230327,
          -2.767626632957734,
          -1.4074117283022656,
          -1.8235733920330603,
          2.0506885801141475,
          -0.37229795032432905,
          1.562001383202234,
          0.5106164585590958,
          1.5708810182768986,
          -0.677149087329866,
          0.3451791326020714,
          -0.6524539837383351,
          1.1189934795186451,
          0.5336348228193533,
          -0.6765135650847434,
          1.5125009800781097,
          0.7727793113511543,
          -1.453767066737095,
          -0.6444965104069221,
          -0.26259908182501046,
          1.5760519775566293,
          0.6666112461293603,
          -1.385100736118708,
          0.6587374140268646,
          1.0769936137233298,
          0.05218000213084547,
          -0.35918920421716494,
          0.4028711212872749,
          -1.613301767174587,
          1.1313220804400934,
          -0.16530604674683863,
          -1.8294801197063832,
          0.7386338356280879,
          -1.2333524840463315,
          1.0169116917776646,
          1.7741600260807269,
          -1.086058029808166,
          2.2320039327379058,
          1.7267106580599845,
          -2.0646752074071437,
          1.3628486582380486,
          -0.6047000822398299,
          -0.6932252636803244,
          1.7237087606521386,
          0.27292265883656136,
          -0.1332589096847275,
          -0.44606383234169317,
          -0.5260479374913767,
          -0.9534859599425474,
          1.3406525476156557,
          -1.7878240604185238,
          -0.29253472165928923,
          0.7059345802586562,
          -0.31623854853685185,
          -2.156336839387323,
          -0.3173550611191272,
          0.6175627568786629,
          -1.7346709527191888,
          1.2086072878267757,
          0.38724402600157093,
          -0.8085777990100904,
          1.9769731764641316,
          -0.9413944083406783,
          0.35212122437071,
          -1.4711935985160698,
          -0.36451783325196163,
          -0.7603225154160927
         ],
         "xaxis": "x",
         "yaxis": "y"
        },
        {
         "name": "Scatter Plot",
         "type": "scatter",
         "x": [
          1,
          2,
          3,
          4,
          5
         ],
         "xaxis": "x2",
         "y": [
          6,
          7,
          8,
          9,
          10
         ],
         "yaxis": "y2"
        }
       ],
       "layout": {
        "height": 600,
        "template": {
         "data": {
          "bar": [
           {
            "error_x": {
             "color": "#2a3f5f"
            },
            "error_y": {
             "color": "#2a3f5f"
            },
            "marker": {
             "line": {
              "color": "#E5ECF6",
              "width": 0.5
             },
             "pattern": {
              "fillmode": "overlay",
              "size": 10,
              "solidity": 0.2
             }
            },
            "type": "bar"
           }
          ],
          "barpolar": [
           {
            "marker": {
             "line": {
              "color": "#E5ECF6",
              "width": 0.5
             },
             "pattern": {
              "fillmode": "overlay",
              "size": 10,
              "solidity": 0.2
             }
            },
            "type": "barpolar"
           }
          ],
          "carpet": [
           {
            "aaxis": {
             "endlinecolor": "#2a3f5f",
             "gridcolor": "white",
             "linecolor": "white",
             "minorgridcolor": "white",
             "startlinecolor": "#2a3f5f"
            },
            "baxis": {
             "endlinecolor": "#2a3f5f",
             "gridcolor": "white",
             "linecolor": "white",
             "minorgridcolor": "white",
             "startlinecolor": "#2a3f5f"
            },
            "type": "carpet"
           }
          ],
          "choropleth": [
           {
            "colorbar": {
             "outlinewidth": 0,
             "ticks": ""
            },
            "type": "choropleth"
           }
          ],
          "contour": [
           {
            "colorbar": {
             "outlinewidth": 0,
             "ticks": ""
            },
            "colorscale": [
             [
              0,
              "#0d0887"
             ],
             [
              0.1111111111111111,
              "#46039f"
             ],
             [
              0.2222222222222222,
              "#7201a8"
             ],
             [
              0.3333333333333333,
              "#9c179e"
             ],
             [
              0.4444444444444444,
              "#bd3786"
             ],
             [
              0.5555555555555556,
              "#d8576b"
             ],
             [
              0.6666666666666666,
              "#ed7953"
             ],
             [
              0.7777777777777778,
              "#fb9f3a"
             ],
             [
              0.8888888888888888,
              "#fdca26"
             ],
             [
              1,
              "#f0f921"
             ]
            ],
            "type": "contour"
           }
          ],
          "contourcarpet": [
           {
            "colorbar": {
             "outlinewidth": 0,
             "ticks": ""
            },
            "type": "contourcarpet"
           }
          ],
          "heatmap": [
           {
            "colorbar": {
             "outlinewidth": 0,
             "ticks": ""
            },
            "colorscale": [
             [
              0,
              "#0d0887"
             ],
             [
              0.1111111111111111,
              "#46039f"
             ],
             [
              0.2222222222222222,
              "#7201a8"
             ],
             [
              0.3333333333333333,
              "#9c179e"
             ],
             [
              0.4444444444444444,
              "#bd3786"
             ],
             [
              0.5555555555555556,
              "#d8576b"
             ],
             [
              0.6666666666666666,
              "#ed7953"
             ],
             [
              0.7777777777777778,
              "#fb9f3a"
             ],
             [
              0.8888888888888888,
              "#fdca26"
             ],
             [
              1,
              "#f0f921"
             ]
            ],
            "type": "heatmap"
           }
          ],
          "heatmapgl": [
           {
            "colorbar": {
             "outlinewidth": 0,
             "ticks": ""
            },
            "colorscale": [
             [
              0,
              "#0d0887"
             ],
             [
              0.1111111111111111,
              "#46039f"
             ],
             [
              0.2222222222222222,
              "#7201a8"
             ],
             [
              0.3333333333333333,
              "#9c179e"
             ],
             [
              0.4444444444444444,
              "#bd3786"
             ],
             [
              0.5555555555555556,
              "#d8576b"
             ],
             [
              0.6666666666666666,
              "#ed7953"
             ],
             [
              0.7777777777777778,
              "#fb9f3a"
             ],
             [
              0.8888888888888888,
              "#fdca26"
             ],
             [
              1,
              "#f0f921"
             ]
            ],
            "type": "heatmapgl"
           }
          ],
          "histogram": [
           {
            "marker": {
             "pattern": {
              "fillmode": "overlay",
              "size": 10,
              "solidity": 0.2
             }
            },
            "type": "histogram"
           }
          ],
          "histogram2d": [
           {
            "colorbar": {
             "outlinewidth": 0,
             "ticks": ""
            },
            "colorscale": [
             [
              0,
              "#0d0887"
             ],
             [
              0.1111111111111111,
              "#46039f"
             ],
             [
              0.2222222222222222,
              "#7201a8"
             ],
             [
              0.3333333333333333,
              "#9c179e"
             ],
             [
              0.4444444444444444,
              "#bd3786"
             ],
             [
              0.5555555555555556,
              "#d8576b"
             ],
             [
              0.6666666666666666,
              "#ed7953"
             ],
             [
              0.7777777777777778,
              "#fb9f3a"
             ],
             [
              0.8888888888888888,
              "#fdca26"
             ],
             [
              1,
              "#f0f921"
             ]
            ],
            "type": "histogram2d"
           }
          ],
          "histogram2dcontour": [
           {
            "colorbar": {
             "outlinewidth": 0,
             "ticks": ""
            },
            "colorscale": [
             [
              0,
              "#0d0887"
             ],
             [
              0.1111111111111111,
              "#46039f"
             ],
             [
              0.2222222222222222,
              "#7201a8"
             ],
             [
              0.3333333333333333,
              "#9c179e"
             ],
             [
              0.4444444444444444,
              "#bd3786"
             ],
             [
              0.5555555555555556,
              "#d8576b"
             ],
             [
              0.6666666666666666,
              "#ed7953"
             ],
             [
              0.7777777777777778,
              "#fb9f3a"
             ],
             [
              0.8888888888888888,
              "#fdca26"
             ],
             [
              1,
              "#f0f921"
             ]
            ],
            "type": "histogram2dcontour"
           }
          ],
          "mesh3d": [
           {
            "colorbar": {
             "outlinewidth": 0,
             "ticks": ""
            },
            "type": "mesh3d"
           }
          ],
          "parcoords": [
           {
            "line": {
             "colorbar": {
              "outlinewidth": 0,
              "ticks": ""
             }
            },
            "type": "parcoords"
           }
          ],
          "pie": [
           {
            "automargin": true,
            "type": "pie"
           }
          ],
          "scatter": [
           {
            "fillpattern": {
             "fillmode": "overlay",
             "size": 10,
             "solidity": 0.2
            },
            "type": "scatter"
           }
          ],
          "scatter3d": [
           {
            "line": {
             "colorbar": {
              "outlinewidth": 0,
              "ticks": ""
             }
            },
            "marker": {
             "colorbar": {
              "outlinewidth": 0,
              "ticks": ""
             }
            },
            "type": "scatter3d"
           }
          ],
          "scattercarpet": [
           {
            "marker": {
             "colorbar": {
              "outlinewidth": 0,
              "ticks": ""
             }
            },
            "type": "scattercarpet"
           }
          ],
          "scattergeo": [
           {
            "marker": {
             "colorbar": {
              "outlinewidth": 0,
              "ticks": ""
             }
            },
            "type": "scattergeo"
           }
          ],
          "scattergl": [
           {
            "marker": {
             "colorbar": {
              "outlinewidth": 0,
              "ticks": ""
             }
            },
            "type": "scattergl"
           }
          ],
          "scattermapbox": [
           {
            "marker": {
             "colorbar": {
              "outlinewidth": 0,
              "ticks": ""
             }
            },
            "type": "scattermapbox"
           }
          ],
          "scatterpolar": [
           {
            "marker": {
             "colorbar": {
              "outlinewidth": 0,
              "ticks": ""
             }
            },
            "type": "scatterpolar"
           }
          ],
          "scatterpolargl": [
           {
            "marker": {
             "colorbar": {
              "outlinewidth": 0,
              "ticks": ""
             }
            },
            "type": "scatterpolargl"
           }
          ],
          "scatterternary": [
           {
            "marker": {
             "colorbar": {
              "outlinewidth": 0,
              "ticks": ""
             }
            },
            "type": "scatterternary"
           }
          ],
          "surface": [
           {
            "colorbar": {
             "outlinewidth": 0,
             "ticks": ""
            },
            "colorscale": [
             [
              0,
              "#0d0887"
             ],
             [
              0.1111111111111111,
              "#46039f"
             ],
             [
              0.2222222222222222,
              "#7201a8"
             ],
             [
              0.3333333333333333,
              "#9c179e"
             ],
             [
              0.4444444444444444,
              "#bd3786"
             ],
             [
              0.5555555555555556,
              "#d8576b"
             ],
             [
              0.6666666666666666,
              "#ed7953"
             ],
             [
              0.7777777777777778,
              "#fb9f3a"
             ],
             [
              0.8888888888888888,
              "#fdca26"
             ],
             [
              1,
              "#f0f921"
             ]
            ],
            "type": "surface"
           }
          ],
          "table": [
           {
            "cells": {
             "fill": {
              "color": "#EBF0F8"
             },
             "line": {
              "color": "white"
             }
            },
            "header": {
             "fill": {
              "color": "#C8D4E3"
             },
             "line": {
              "color": "white"
             }
            },
            "type": "table"
           }
          ]
         },
         "layout": {
          "annotationdefaults": {
           "arrowcolor": "#2a3f5f",
           "arrowhead": 0,
           "arrowwidth": 1
          },
          "autotypenumbers": "strict",
          "coloraxis": {
           "colorbar": {
            "outlinewidth": 0,
            "ticks": ""
           }
          },
          "colorscale": {
           "diverging": [
            [
             0,
             "#8e0152"
            ],
            [
             0.1,
             "#c51b7d"
            ],
            [
             0.2,
             "#de77ae"
            ],
            [
             0.3,
             "#f1b6da"
            ],
            [
             0.4,
             "#fde0ef"
            ],
            [
             0.5,
             "#f7f7f7"
            ],
            [
             0.6,
             "#e6f5d0"
            ],
            [
             0.7,
             "#b8e186"
            ],
            [
             0.8,
             "#7fbc41"
            ],
            [
             0.9,
             "#4d9221"
            ],
            [
             1,
             "#276419"
            ]
           ],
           "sequential": [
            [
             0,
             "#0d0887"
            ],
            [
             0.1111111111111111,
             "#46039f"
            ],
            [
             0.2222222222222222,
             "#7201a8"
            ],
            [
             0.3333333333333333,
             "#9c179e"
            ],
            [
             0.4444444444444444,
             "#bd3786"
            ],
            [
             0.5555555555555556,
             "#d8576b"
            ],
            [
             0.6666666666666666,
             "#ed7953"
            ],
            [
             0.7777777777777778,
             "#fb9f3a"
            ],
            [
             0.8888888888888888,
             "#fdca26"
            ],
            [
             1,
             "#f0f921"
            ]
           ],
           "sequentialminus": [
            [
             0,
             "#0d0887"
            ],
            [
             0.1111111111111111,
             "#46039f"
            ],
            [
             0.2222222222222222,
             "#7201a8"
            ],
            [
             0.3333333333333333,
             "#9c179e"
            ],
            [
             0.4444444444444444,
             "#bd3786"
            ],
            [
             0.5555555555555556,
             "#d8576b"
            ],
            [
             0.6666666666666666,
             "#ed7953"
            ],
            [
             0.7777777777777778,
             "#fb9f3a"
            ],
            [
             0.8888888888888888,
             "#fdca26"
            ],
            [
             1,
             "#f0f921"
            ]
           ]
          },
          "colorway": [
           "#636efa",
           "#EF553B",
           "#00cc96",
           "#ab63fa",
           "#FFA15A",
           "#19d3f3",
           "#FF6692",
           "#B6E880",
           "#FF97FF",
           "#FECB52"
          ],
          "font": {
           "color": "#2a3f5f"
          },
          "geo": {
           "bgcolor": "white",
           "lakecolor": "white",
           "landcolor": "#E5ECF6",
           "showlakes": true,
           "showland": true,
           "subunitcolor": "white"
          },
          "hoverlabel": {
           "align": "left"
          },
          "hovermode": "closest",
          "mapbox": {
           "style": "light"
          },
          "paper_bgcolor": "white",
          "plot_bgcolor": "#E5ECF6",
          "polar": {
           "angularaxis": {
            "gridcolor": "white",
            "linecolor": "white",
            "ticks": ""
           },
           "bgcolor": "#E5ECF6",
           "radialaxis": {
            "gridcolor": "white",
            "linecolor": "white",
            "ticks": ""
           }
          },
          "scene": {
           "xaxis": {
            "backgroundcolor": "#E5ECF6",
            "gridcolor": "white",
            "gridwidth": 2,
            "linecolor": "white",
            "showbackground": true,
            "ticks": "",
            "zerolinecolor": "white"
           },
           "yaxis": {
            "backgroundcolor": "#E5ECF6",
            "gridcolor": "white",
            "gridwidth": 2,
            "linecolor": "white",
            "showbackground": true,
            "ticks": "",
            "zerolinecolor": "white"
           },
           "zaxis": {
            "backgroundcolor": "#E5ECF6",
            "gridcolor": "white",
            "gridwidth": 2,
            "linecolor": "white",
            "showbackground": true,
            "ticks": "",
            "zerolinecolor": "white"
           }
          },
          "shapedefaults": {
           "line": {
            "color": "#2a3f5f"
           }
          },
          "ternary": {
           "aaxis": {
            "gridcolor": "white",
            "linecolor": "white",
            "ticks": ""
           },
           "baxis": {
            "gridcolor": "white",
            "linecolor": "white",
            "ticks": ""
           },
           "bgcolor": "#E5ECF6",
           "caxis": {
            "gridcolor": "white",
            "linecolor": "white",
            "ticks": ""
           }
          },
          "title": {
           "x": 0.05
          },
          "xaxis": {
           "automargin": true,
           "gridcolor": "white",
           "linecolor": "white",
           "ticks": "",
           "title": {
            "standoff": 15
           },
           "zerolinecolor": "white",
           "zerolinewidth": 2
          },
          "yaxis": {
           "automargin": true,
           "gridcolor": "white",
           "linecolor": "white",
           "ticks": "",
           "title": {
            "standoff": 15
           },
           "zerolinecolor": "white",
           "zerolinewidth": 2
          }
         }
        },
        "title": {
         "text": "Combined Figure"
        },
        "width": 600,
        "xaxis": {
         "anchor": "y",
         "domain": [
          0,
          1
         ],
         "matches": "x2",
         "showticklabels": false
        },
        "xaxis2": {
         "anchor": "y2",
         "domain": [
          0,
          1
         ]
        },
        "yaxis": {
         "anchor": "x",
         "domain": [
          0.575,
          1
         ]
        },
        "yaxis2": {
         "anchor": "x2",
         "domain": [
          0,
          0.425
         ]
        }
       }
      },
      "text/html": [
       "<div>                            <div id=\"3b6cd1d8-8f43-4f67-b30e-3560d7d8ae5e\" class=\"plotly-graph-div\" style=\"height:600px; width:600px;\"></div>            <script type=\"text/javascript\">                require([\"plotly\"], function(Plotly) {                    window.PLOTLYENV=window.PLOTLYENV || {};                                    if (document.getElementById(\"3b6cd1d8-8f43-4f67-b30e-3560d7d8ae5e\")) {                    Plotly.newPlot(                        \"3b6cd1d8-8f43-4f67-b30e-3560d7d8ae5e\",                        [{\"histnorm\":\"probability\",\"marker\":{\"color\":\"#ff7f0e\"},\"name\":\"X2\",\"nbinsx\":20,\"opacity\":0.6,\"x\":[2.9362923803007477,1.8172059557606686,2.2873532111470136,0.4492246260198107,2.0508116994414802,-0.41533990821328026,2.403803487202863,1.0722270004341115,2.0905876603704088,1.828211009098219,2.49433678123113,0.3957488838176324,1.7397694666321342,2.370798950731472,1.0409915320321486,2.059761702547322,1.7732938246219951,1.4051508406899076,3.360707332290401,2.2943222643786862,0.46169386717047645,1.71278582081389,0.8890185225494026,2.655323055069096,3.6859951382811844,1.2564916993801587,2.515657127193851,1.7986389747793763,1.2934256662328634,1.4145246319901958,-0.059599838899347946,0.9892974497134052,0.7883865092358602,1.3709266810836986,3.076851262421826,0.8383265598191588,1.6733056583509913,1.6069633636389415,0.3021208422696191,0.6570735158001514,1.4687652557133861,1.2934507762074834,-0.03305459005344247,0.6129294437634856,0.9782424751238026,2.6448502898052766,1.8325800526869456,2.8267853124763653,0.3686751733241873,2.3145797412450233,2.7429867849907654,0.5485112612688468,0.8916706155206933,0.8035688028911302,0.09316776782802183,2.857333762318521,1.7947065525717267,0.29516768262734705,1.2125084763623981,-0.4339810706628613,1.9175130507258578,1.9956378477286096,2.079205053180927,1.651374873103625,1.09354382144762,1.3069943419587633,2.097486212522429,1.129523811733172,2.760007239467133,2.7068524510537575,0.6004669190743953,2.6129991878922585,0.14404324094405152,2.3868039965656394,0.223230798013627,1.2900134196258861,1.49753087620946,1.3428647830715577,3.031007149769416,3.2468786639423177,1.5622087081363716,1.96812636024376,2.347884341378422,2.343330595709126,0.8148347028745939,0.4895562055038638,3.121056397099796,0.7582880345677614,2.8780753565548,2.9507953757183567,1.7955890081729535,2.508898423481945,2.742259234333086,1.706638874081075,0.336327618300577,0.9215982004997598,3.143476714856569,3.1008644967042804,2.396747999975026,1.2594682022474377,3.517240202860438,1.571307988467247,0.8000975248254791,2.0809525910763504,1.6121176573898262,1.675546764625392,0.8184147601690216,1.7729341890215846,1.7939098860160805,1.3041659498693223,-0.03408008444233612,1.3495975578735273,2.0349112516740018,1.8264146302059514,0.19832654808826744,0.9207687795518165,1.0865829043023385,0.5549921783643886,0.9494629529240877,-0.5318636542534576,2.1327303023876985,3.2538575351991526,1.3518711455876609,1.3703660059337905,1.6693874224202436,2.172138610445849,2.4094319463274587,1.1089029432315005,3.5759208009050725,2.394765229730452,1.748555965318955,2.4339302731210144,1.4551378441816363,1.3834888675335189,1.5580873177944612,1.2819047792151925,-0.023411126770221724,2.369322149551531,0.9191537306695927,0.6901234997090465,0.008952084902078106,1.4952791335715556,1.9887863620691502,0.9190399256107725,0.9029267626454691,3.200205684171612,1.7114736024570112,2.3777541278453613,0.3569175021595006,2.843857910366903,3.4469229923537563,0.3393749868155942,1.987805488832971,2.830440574987757,0.4413510014575197,3.6814000199846575,2.59170382194419,2.5569194454276616,0.1963473156107851,1.9415106117941887,2.5260607233160126,1.3148885526782534,0.9618517750741232,0.2440049923999943,0.9986446169147809,1.5875309478245825,2.02237057601588,1.2211306048039958,0.9442622600391561,1.0627544065901164,0.7895818707412133,0.8300061280831045,2.95869791941937,0.7248695795949884,-0.030651030691700054,1.1340259182724584,1.6229693349878056,-0.11443194526746492,0.6767314758971446,1.634671623200601,0.7104796720755903,1.9674134303816897,1.8738425218029287,2.4491538632245486,3.4897707864687195,2.397183118845314,0.5271825405780363,2.2702781629734705,3.266842327120831,1.1882531673791896,1.3642641147939538,3.4687856182486687,1.5845182083889777,1.537442474552755,1.4345927127794507,1.962350221934623,-1.2530338212709236,-0.3761627047573577,0.25794127742393447,0.7373989340640312,0.9009070694203024,1.4760161268470706,1.1447536856458722,2.081849158346704,2.2026990326234377,2.2526613579116788,1.4973845131010757,-0.32781954054596674,3.1211174189803055,0.9276983016733577,1.8938764128188899,2.327409387218399,1.109703617147036,1.4118906945382,1.5020928287381665,1.4418390986082212,2.6111045968088864,1.911484886325979,2.135914954070243,2.5389062120390244,3.278813820649707,1.3849174830330377,1.7791197203027305,2.024163538748504,2.3174326270470735,1.7789681435102298,-0.738485182812072,1.5565141828264037,2.090683084282911,2.0174891169994127,-0.6016210777740438,2.019801657943372,3.058428853343244,1.4905266914185298,2.167688817489921,3.706980834836666,2.749035856913844,-0.22760175152344653,1.595472984690031,2.5733935994382007,3.3778354506190795,2.8000881299312628,1.744305621640537,2.0198089457327,2.257178358489768,1.93369372113511,2.648115177792076,-0.1512765995821863,1.1928363613142698,0.927845224624514,0.3140287329609377,1.4589653174856752,2.0845057130982667,0.240012662918063,1.3495665101773793,1.6864309409950604,3.247454610929526,0.4747238090170194,-0.2049812038917711,0.47799896338786496,0.3955532859362927,2.0794382620280367,2.1815636178050615,0.6310386321034464,0.9361334748830424,0.5836791587521059,2.0653166187066065,3.134898927535753,2.413087308637612,2.0335483524784097,1.7112158237434372,0.5670543340884541,1.1825920691014953,2.321995147197832,-0.5511537344942194,3.2038796760903847,0.8265967003811161,1.0879131898968377,2.3238662150893648,1.8871626438952005,0.6362211123234806,1.9721715027960378,1.5965660424421386,1.1366477328476008,0.34823868615035747,1.5092920105968493,0.006513574180013304,2.302287054273853,2.3214908741805336,1.8512361616663129,1.1192646086615263,2.296531051336668,1.1372699360415834,1.7921390686163081,-0.3781913821927658,-0.21192123687103082,3.248012226367428,1.0013126297191208,1.7134633333775844,1.231216032698979,1.099222266601402,0.04443518358325571,2.2267369417131366,0.5815710874784372,1.4059586122795864,0.813347356844582,3.4794476091067432,1.8299987080344955,2.1957955070846795,1.973448580048818,0.4195788068299444,2.3745881312749417,1.0378591286560588,0.41216980549161497,1.6151544210811226,0.2631200958972113,0.912720168169528,2.35318722329415,1.7181660237076846,0.3063118064925072,1.3334910719244906,2.9791505967247405,-0.17538313711454845,-0.12839369114526988,1.8641528611433469,0.3164410375120381,-0.21476996272958626,2.973868569116399,2.68352289368935,2.8227471925946963,0.6966543469762307,2.2951370097867967,1.7425788601860706,2.046028584232602,1.934765241945425,1.4214192873284808,4.677116325194488,2.0680482922955266,4.0078848383992245,1.7504400971961185,0.42953853248315865,0.9186246231732049,2.0987717171211666,2.1595625391105107,-0.734430095798666,2.2811715184100283,2.2858969412827794,1.27153151420814,3.0137082660989574,1.2682866868499665,0.5626716510863485,0.7034334774112212,1.2226143147300848,2.2426901481118415,1.8225639696447162,0.1714508664566654,2.112760362727706,1.3312258532514,2.1001538278378384,2.212801597201055,1.5951316232569985,0.21404322606956305,1.3668666913915588,2.194661270023256,2.7138212916781903,1.3575643659888719,1.6365546232352826,2.572297613556283,-0.07562190072122732,1.2395925199902025,1.057136533575382,1.421394027131822,3.4633009254744733,-0.3966041246869092,-0.09715636149288431,2.0006427473560087,1.1081495312410348,0.31409248330925443,0.7639920219766047,3.475054545061364,-0.297396887336012,-0.1235814817798302,1.236699946242086,1.8935091046030497,2.151719184687517,0.25766162912538215,1.8695952255392363,1.712478519207362,0.7993043291244237,1.8368589266250122,1.891939856140554,1.7541023081813854,1.8134595574219814,0.14969273644315373,1.323393874628635,0.3044136325383284,-1.6798400468441579,0.5159651741187253,0.7299872220651629,0.3067666194780325,1.8316019588005772,1.8702832589971559,2.66476574432051,0.14441546380044357,2.1434554386726283,-0.4806277337019451,3.319048022036592,2.3397712212234305,1.8380570303032808,1.5785716839613195,1.3391517431148023,2.0742752533751263,2.4922110922796166,2.1478080662829413,2.7229896922314314,1.721576204066996,0.9046600184133389,1.7066515911831692,2.903412016649612,1.9286052311598696,1.5434152567017,1.371899947919112,2.88427324831117,0.5616501528632952,1.8843307487187728,2.411531268677035,1.4630695593375678,0.7236321219028103,2.2128443487062137,2.141425155772981,2.7971874506375727,2.2454270441784447,2.63093467334384,1.7450405691062816,1.9182515004560114,1.794050506529911,0.6483325585499952,0.5784319587006294,3.8172343152117842,0.9708294206382316,0.28863804153736594,2.507867770221118,1.472472252636528,0.5761095221915545,2.876667246229008,1.4585589839928603,1.143558453173629,0.36614755174905533,3.1969458534247464,1.8520260373247028,2.310618298366011,2.9958785845254643,1.1175455604593625,3.0222915920957956,0.6390928910220077,1.6362274773865821,2.6312394017793883,1.6033688058470537,0.46666116476368913,3.316584408486034,-0.5397313509637174,2.3282686146180676,1.589012635305611,3.351793873782065,-0.17494608583530113,3.8491428784841095,-0.6337991234848817,2.317169901442023,1.4804360239166234,2.2448988794343756,2.847417022132087,2.8214687841743036,1.8970860357765522,0.7232694110384359,-0.41269097767130214,-0.15893287250817978,1.5295994538810194,0.9144018051271362,3.446270448308472,0.5061486028911698,1.195970722523565,2.6622151897152837,2.1390795183638645,2.04595275328753,1.5396511338208962,0.8624201982385213,-0.09687406345098504,3.628657655084446,2.4180951718618595,2.0460626521818037,1.7380263564348197,2.8936554456092276,1.8120462607773673,0.8826668344299894,0.2083510023131685,1.027951502689749,1.5247599522527562,2.7042938269028416,-0.11443677295454435,1.0552797354092576,2.648490878796645,1.5817574413929252,1.1839456687564556,0.2527273794164917,1.444955155945153,1.3388598097915836,2.8309824104181067,3.1958249222312487,2.9312239236748945,2.0839586822453984,2.2326396571741913,1.860425571943785,3.0988394823448404,0.39645933376918396,0.10754889545772928,0.7982433412988105,2.653782239396701,1.2535286473130964,1.7856453853315248,0.5187326468107207,3.1100757150211056,0.622907566712505,3.1368304095616137,1.8567264855401655,0.8731641258909845,2.0497701856567945,1.300716971468813,1.540444162952029,-0.0950584800944303,1.6679788374048972,2.161228689165007,-1.430640351999953,1.5916946775107093,1.8855493132439198,1.6457667519772148,1.0287938435584545,3.194109550515,0.06555765306026173,1.145452993023262,2.275149628698647,3.279992127758463,2.477027557703098,1.5646391709615528,2.2172163707022308,0.8957858142866107,1.6083843369528708,1.8458180753474622,1.4652741580724253,0.5192798165993633,1.426642776218128,1.161501888612529,0.8582201376970987,1.407081836245097,0.4382211067583779,3.778877708580315,2.212035023888498,3.0071347999210394,2.2441713311334754,0.36242213906888887,0.13855325980517574,1.287085230276908,0.524594873595477,1.7465667767848683,1.1622396883072472,-0.22724185421189302,1.4432908077431281,1.3371985299913272,2.5082639023843836,1.3114699458533285,0.8770474426170687,2.394775784454464,1.5858013159639806,0.9685629822569353,1.1217745275946849,0.8244694766782745,1.1806948871328027,0.8210884890995983,1.6141876711862775,3.5516020990694277,2.597434151999934,2.767228309757459,2.0830102930589156,0.1995825025626925,1.096586832372104,2.0825431106213292,0.4834289023250993,0.2720255513095913,2.4924445611525514,2.66895091911625,0.9548040820528728,2.938371682270893,2.0436340561913635,2.1817204670350177,0.6712103136417552,2.8272000180732717,1.3696541086087433,3.719788010422853,1.8911950768626404,3.0318836826055016,1.1064402947808087,1.5956202363699812,0.45865296690850954,3.986427679087891,1.4552578844370045,2.5512825147813087,2.618889478294541,0.34295756856821624,0.6281144541361643,1.2073429378718683,0.671299973455837,1.180964080055749,-0.5857045773628333,0.6383153679087225,1.6448375182451862,1.3573556684804116,3.3711981804335065,0.8553667051912521,1.5651770941997414,3.1306172054593624,-0.02914563659993097,2.082422352927327,0.9565019414278301,1.8223155170657943,0.43462918288398766,0.5017375736334777,1.9881682443176087,1.8929803344122185,2.0701989488115426,0.7652357857873953,2.0529286480058797,0.5631822146622102,2.4692420884257436,0.0054332121813245315,1.4696419802259921,0.6251311588988174,0.8788690622107908,3.5998364173564146,2.1192638900766823,0.556712738012917,3.2090022340179893,-0.19470316394251141,1.374962166459199,0.8837671975264881,0.788095376598641,2.496322106082556,2.722722487734181,0.745978760920434,1.1865989203920977,1.20202512823542,3.0503215384478137,1.5372966066706226,1.5686120738661753,1.3461834954961363,1.082917548740658,1.1540204626436101,1.082362201171333,2.311446766364503,2.0101425110327664,1.3816545742680573,2.9610052829141593,0.5873206231187581,3.1414754813592003,2.0992211790125745,1.8535665588942594,-0.9861928362138599,2.9641462301562296,1.3772380767635155,0.9910704945738192,1.128610896495362,1.9023610677854714,0.9208897352471345,2.0090670389086402,-0.8767007100029951,1.562374496506128,2.1432420544226813,2.05295687304686,2.2535320845277784,2.53284285816913,3.9237045063584626,2.0921803733143998,-0.0308848202719485,1.7404189060936364,1.3410809421569154,2.2619360360793572,1.6986010427562412,1.0574933454179227,1.4568972922049368,1.0099338012687478,0.4990153440911067,-0.027690731855910755,1.052864991036996,2.4426751464387317,3.247281566606855,3.3281933917368187,0.5837858052822882,3.2139021431844377,-0.004782100558562874,2.489771624554718,0.1661327863977644,-0.12505233350011835,1.2285466920001433,1.3265473876759772,1.4483298350401264,2.814244546471199,3.2755020327890922,1.829040026921749,2.131062253402998,1.825787047544671,-0.8111334863591062,0.8186445831597302,2.1089364298845656,2.003592967059208,1.5055219537983966,3.4807633128403683,3.5483162319734864,0.9525957074873216,1.6561514739825889,1.6930129525810904,0.7755923839252934,4.070711636198645,0.9069858065563766,0.49713563765621793,0.7321198051505344,2.2277739974750674,0.2567287339844939,1.0388557809767902,1.2972474431697127,1.158532683603024,3.042797896848964,0.5613966737810313,1.524487917919591,0.940453691926136,2.8393044185258773,1.4402025881666625,-0.13708841971384156,1.9606538872527164,3.2777657006313277,0.33847189630793495,3.5050439611325945,0.9786690618214287,2.224950730667306,0.12496139636237569,3.201619285654366,2.1903344261565016,-0.22125770743335949,0.9666757370349072,0.5726108772934638,3.321318779115662,1.1885754804474193,1.951653746207826,1.679319110680101,0.5702857442965648,2.4778998759340203,1.609466760481301,1.3158147211603812,2.587390790209067,1.5384903924033897,1.2912090365556967,2.7954617931599497,1.787118866548705,0.14809135853494948,1.1094113988916416,0.46144404567793207,1.3947998280233411,3.793265247215799,0.8125643252703216,0.21459472357057008,1.9912857925328438,0.7303994626612166,1.1062959457026884,2.847057034663834,0.6662622496960807,2.3970352108461164,1.2154205427867493,1.5600642277210153,2.56462462564427,0.4953031711179796,0.37647901172286513,1.6093880677957004,1.6623291829177482,-0.23918847955270683,1.6910528896943204,2.6942875201603336,1.0065154241282646,1.2163463977626359,1.1873934669217263,1.3632748706705358,1.8654169116882275,2.383839485934089,2.281025488338852,-0.1063083093277366,-0.04450899786294249,1.2920246512930451,1.0504718146733703,2.305163813883224,1.1100339246829343,0.7873011356870802,1.3950145280427313,0.9903529066454014,1.819341268667068,1.8015284201414303,0.051109802446320796,0.6290743731025795,-1.365158148620218,3.0682143541850415,0.424066192711426,0.48029355519399797,-0.24869569640610956,0.8845441561678107,1.5695700558374917,-0.10618003749386506,1.2883867226866794,1.0030903535369537,1.6847314480054063,2.1321258567048176,0.3103110127983395,1.1243976875646706,1.7770796053475046,1.8828024183304364,1.1746439536521,1.1863619936588934,2.8972094838127256,2.5100399421962263,0.7152518861830398,1.2740943650845282,-2.065278830223525,1.0238157311170002,0.6164967123499802,1.6927028821722454,1.7503925732751602,0.9959841143153939,2.9360709759059747,0.29971827245697646,1.884150167851947,2.228822205137004,-0.7426928667422672,1.8288882318513788,1.2788857715843045,1.565681818744255,1.026085796149006,2.313774027180011,1.4627460316227754,1.2359766313289988,1.5542536342870443,0.8140646601428118,1.545489540749768,2.1052450281934982,1.0454503037573677,2.019604701148613,0.6652585920819082,0.9089998187128064,2.420927397157933,-0.23458661728878827,0.9274141271316807,2.4597904065083127,1.5336069882864272,0.06622999042617317,0.3658115689420194,-0.11751700396904385,2.675166990258723,2.0686833285316566,2.0248249606965505,2.202277191999529,1.9567038038614653,0.9562721216195655,1.2655702812440381,1.840977354002613,3.4024399553967326,2.927018534048756,1.7798439300544853,1.449745295287638,3.9591949918017013,0.9324652935404177,3.1125228971509555,2.50598543483833,1.3301587639266148,0.7136927196076999,1.4637638052261102,-0.5243217235909232,0.28581097221297513,2.3392125993338584,-0.32474759503743655,1.687012116126084,2.4328638739035977,0.6925523274342972,1.2788706981928475,-0.33210046065824494,1.9903775747980572,2.6897953046221934,3.52523499356963,1.763691913273156,1.5418630671976674,1.078901334890113,1.6315713565631724,0.7344618451137619,1.3101869675249889,1.8228786482402644,1.5980440663897895,0.9545187849120355,1.2075216997804965,2.4337293668935613,-0.7499175942772465,2.599250244716652,1.3093526396155455,3.145469362624328,2.157543987956669,0.0789960311872262,3.0299230503756434,0.695235693334556,1.32740517622328,-0.2433139998923335,2.5584515980645066,1.8520177266075375,2.5897416229851293,1.7394958044704194,1.5178788347877736,0.5903690741848595,3.368067427374695,1.0857876952589147,1.063508739452136,2.4119476147697942,1.1960843105538004,1.9506639893584659,0.09468664131712745,1.700684453662097,1.8297558383781898,1.8753600704241122,0.23633437986588324,4.603226249420732,-0.18518487733515032,1.3196923342167994,1.4716279508650685,0.6555347525220869,1.5126112349824044,1.666450548329081,0.640223867613621,1.2500730645632976,1.3158296604988098,1.7319933209738791,1.1899511510668135,0.9495328452869018,1.021767162323959,0.11810578709118968,2.0440805257643087,1.531958764831085,1.4275968511090569,2.7823618138142656,-0.3725075876965911,1.5641334783550487,3.9023404727154993,2.6425192411356746,1.8995044391584834,1.728546344072151,1.624848403708496,2.638905099547718,2.3317503846711864,1.2484165803656877,2.466845567128643,2.7919496728227498,0.975677841336842,0.8398684522824367,2.5001851118756537,2.4069346768054776,2.2900904537707403,1.449698946333716,3.1099942362806146,3.095877231262733,1.7920732649461142,0.47890095846684555,0.09172648774477654,2.759767165225697,-1.2493545458813102,2.6187201204264605,0.15793399148821763,1.3293937977761139,-0.7367693764982133,1.2417752250530876,2.773366084511529,3.264889860857543,1.793444698256737,1.0515632335391545,0.7401617507760336,1.828805638807126,0.5512455520405535,2.0067987276751578,2.1501799202319343,2.0484387782058415,1.034209684716359,2.3177508979891623,0.68581756711796,-1.5145439606528606,1.5082028096429503,2.685202783747421,1.0467346805838265,0.9864670483540221,2.985009925566511,1.5747244531795026,1.4076785680680326,1.8559785200910954,3.2297763846631975],\"type\":\"histogram\",\"xaxis\":\"x\",\"yaxis\":\"y\"},{\"histnorm\":\"probability\",\"marker\":{\"color\":\"#1f77b4\"},\"name\":\"X1\",\"nbinsx\":20,\"opacity\":0.6,\"x\":[-0.46879540609549947,-0.3939953197986961,-0.8568727681584105,-0.6075460284188483,-0.9737858287140488,0.8818897441808118,-0.49880574841512804,0.5828496563387292,0.05196831564803919,-0.24319728792165296,0.9568370903097673,-0.3974078724220671,1.09937206771101,-0.7107916104930577,-0.0015332907898900742,-0.2786149321769914,0.7554984328697234,-1.4217535565714805,1.3913001073192368,-1.133253471541556,0.15520519341883887,0.19625838267591875,-0.028607176982040634,0.34320698167767,0.024574167845161293,1.0951914293355907,1.6316498845232101,-0.2431677526812887,1.348220003273598,-0.450377835250384,0.7082288218271262,0.20507558200970682,0.5233031719534965,-0.6812116778222497,1.1939965901091054,1.0405377101695579,-2.032477700549728,-0.4956108190767122,0.7824772212719112,-0.5622674605795276,-2.1929367095903776,1.0495313454052642,-0.7416034306538652,0.19564502706197986,-0.5544314557681488,-1.7924148053642066,-1.6158917625733749,-0.12705711446553042,-0.4602584463408882,-1.1452575634497861,-1.2080243389353191,-0.005539648071757754,-0.4536023093841922,-0.6002696694469756,-1.500653425330832,1.5824668090258827,-0.37252397564598044,0.5242244944465732,0.3802408047586748,1.026335287820432,-0.7256619006595871,-1.6988773872654228,1.4656521191572616,-0.3940443482581999,2.1899282957128743,-0.727989822376828,0.16772967392365268,-0.038188427420881216,-0.9203231784815185,-0.7436988531075218,1.5695987586698883,-1.9997457764585072,1.1649780137116141,0.22209664481399674,-1.0511033191007326,0.9121679918183193,-1.903147989195432,-0.13157682742485413,0.6797818968797347,-0.04777745074363329,0.28867470204506857,1.30736407783623,-0.251617388950533,1.4783837526752306,-0.6848634005692833,-2.2586228400097386,-0.8273328784823455,-0.804949818838474,0.18170679591681896,-1.8723072427329313,0.1445972193209032,1.728620520011418,0.49023497187563925,-0.637449704393984,-1.2925644153891902,0.2743946843295363,0.2260545524867902,-0.6162400819069873,-0.5710039511291329,-0.35530127577727966,1.1539870897655833,-1.6539261546018194,0.8813176431357088,-1.266383772715925,1.3942182934907965,-1.0109653614230394,-0.22819059965257507,0.5167369253217772,-0.17074469441675272,-1.3441876722791282,1.012105965890007,1.231688036324592,-0.7101048415924526,1.1516423145978918,-1.1558071379233468,1.3850742141516577,-0.1083017936998114,-0.4694683498386455,2.28371864487429,1.404820540810288,-2.5943597381871673,-0.09223643828013389,-1.1525323167534476,-1.0006030834324793,0.6129776657171883,-1.3099509857983207,0.3694324468603867,2.0065589122031566,0.7006272487235553,-0.4985648337554638,-0.5273368010069757,-0.16257083617072027,0.10438033810215867,0.7462694179742121,-0.03253252862671959,-0.1414704954851232,0.04486271824015287,0.5009982442692875,-0.8992893863019138,-0.11650784375300975,0.25766777149707937,-1.0951024662708517,-1.5893755358260064,0.05496431991730809,-1.2157223953522722,-0.09893967211637067,0.11102205847695017,0.4696463116990956,2.1591014558829404,-0.8229125641441274,0.9187560176908216,-0.21387291834942115,2.401229103545183,0.319758729702332,-0.1812399913390098,0.259089272480007,1.2585817642611732,0.09260387405840567,-0.04820348632362103,-0.9635207512633471,0.5478741248086703,1.5359637846114762,-1.241903935561315,0.241470748792081,0.8132832502189475,1.0293260097675543,0.8439187189243254,-1.184256269249955,-0.07147722827706234,-0.02186537814533521,0.3106658720317222,-0.03148291044882952,-1.021473335401159,-0.1324894099171047,1.1200991780615344,0.047570131096918204,0.237987258104147,-0.24779803515070828,-0.48565141789830424,-2.824753752723003,0.623549829297309,0.5547917201955873,-0.04977180555476406,-0.7567547018440811,0.21520788023811413,0.6571653433645409,0.848315688537104,0.6687514926088074,1.504224732772404,-1.4427624265692203,0.3701981521026104,-0.005612979333724512,-0.18010221887539418,-0.10497386973601994,-0.06536557979331811,0.75152972697217,-0.051913187934843306,-0.5976517979510687,-1.6694842768308742,0.29592851408310356,-1.4049362721473884,0.9999047820861833,1.035286562671453,0.07725731374903,1.1643507228147156,-1.8077883572217022,-0.04221428691684349,-0.4269333590260929,-1.1607741237201414,2.431926610813237,1.313690703726148,-0.742744303809935,0.359010634418398,1.3330622658783347,1.192515252492545,1.0572954332527744,1.133389398081124,-0.2588001995830624,-0.9925656491468741,-0.6835831611442774,-1.5643661043816721,-1.1019561503390074,-0.2553587739890719,-1.0115373823174276,-0.6868896430479121,-0.6133852514176042,-0.06721955728588659,2.1435038227187864,-0.5511060280085942,0.2057948997922574,1.3252807919907257,-0.2035281098031806,-0.20753668383401735,-1.1284552448039071,0.929856541896971,1.9275929169292116,-1.2081358756195448,-0.5608315501378739,-0.08198631352099801,0.22002626165866732,-0.18468779295057722,-1.4183954604305884,-1.034117916046981,0.9689025504138004,-0.9939885342173315,0.022271506342840232,-0.6487130579165568,1.729578294228387,0.0766548223285015,-0.6575067714553937,0.30888715855814,-0.025215927869088564,1.3849927464238314,-1.8106972009524431,-1.3684042236790948,-0.21793273208522168,-0.06113604063963225,0.16215971304829643,1.569398007673217,0.8618666826882383,1.7970865920454238,-1.9408745927715814,-1.5335373862124484,0.3456646243347347,0.1617252969764937,-0.05281026655431006,-0.4164318238785116,0.5133675152237956,-0.09257368292472032,-0.6671653269556962,-0.09906739785130454,2.025920126698142,2.2099100316795006,0.8755800174198557,-1.5643261085299889,0.44300794255325143,-0.5285852642265586,0.26079743939228744,0.08277383247345599,0.6032328808916928,-0.06686418283191504,0.9311448949908965,-1.3280800147798717,0.31688465755123835,0.41506556646117226,1.5956888983711572,-1.7741808539792872,0.15725594267436122,1.0912434834729754,-1.1923073734951262,-0.36393233732417885,2.8411987539108403,-1.5460008804656689,0.41140661727601774,0.9252141346051931,1.364091340237695,-1.56869377693574,-1.2168760615647818,1.110082450954914,0.8577626273933998,0.38521271295655274,-0.9916240135265347,0.558767423802551,0.9329900622966953,-0.22218573374926578,1.2819105739801864,0.05441186324818821,-0.6755106058320657,-0.9497220051591182,-0.9934781277466596,-0.40173802933199143,-0.7984551844365166,0.9816182947235851,-1.3332414212822612,0.7960992965576211,-0.5505559699164396,-0.09733464792863569,0.7840207400430962,1.1325823847110683,0.3216887504523095,1.4025256869091713,0.24647714334525206,0.5371324872159663,-1.514172411809326,-0.7583101972304982,0.09219271125191186,-1.1534247253142513,-0.1371093836657055,0.568555303140865,0.12626096900406567,-0.5977037862106804,1.0354895543985616,-0.822926696741623,0.4975109724573081,0.7380569206194162,-0.3337146497897657,-0.4896558229431874,-0.815888581365005,-0.489600367948312,0.2244641214721021,-1.9952875796846608,-1.061347353745488,0.635030894897906,-1.1325870279799983,-0.809745094802567,0.0385356300845479,-0.5650156417649481,0.8986111890823175,-0.5499287271493348,-0.6812501526588356,-0.364150429819086,-0.1516196523691261,2.8875842617543297,-1.6844206807486015,-1.4364795230021254,-0.3387507767911608,-0.9309661500948221,-0.3253788137161444,0.9374415420325596,0.08535106740131848,1.0127362196243404,0.8696499501282796,-2.1672746444804063,-1.131504963753836,-0.5972529875444372,1.4309237816309914,2.379321727854714,1.6879583657787738,-1.3444339799231864,-0.41996238596822444,0.4519046653401816,-1.363223833708324,2.0414951653919964,-1.0589268435582688,-1.2447289524599738,0.7982317613635534,-0.4365758214038877,-0.6472912218046853,0.48992515616477944,-0.173909685958939,0.11566675682357566,-1.3785810241831375,-0.575289833457207,-0.7518980591500185,1.8903344944306832,2.140847786920989,1.130670313321436,0.34225326898869735,-0.12660930927007966,-0.8601320950510711,-1.635886109491606,-0.3009309732795265,-1.6798887738167896,-0.7678495899133063,0.741528661301442,0.3766680000840731,-0.9281206339282406,0.7239122741008924,1.6027321891033766,-1.161464111057878,-1.6325944263132772,-0.17858556626162078,-0.4118245864620777,1.8680257754019982,-0.26547684972115976,0.8180691042612047,1.5287828396266754,0.134285656202383,0.04310169187111383,1.1676351125437336,-1.7700210697285252,-0.02300474486653889,-1.4801884466435529,0.8903910680242729,0.31191622354197623,1.3894554902396246,1.3710643570737897,-1.3697680840104347,-0.6568593560727847,0.5583016623555483,-0.12256702889579078,0.8712349062910738,0.25840606174205155,1.9608693081001096,1.7369408455327406,1.750268450804709,0.023094440858515412,-0.5645301627006839,-0.2277406262222922,0.9148132800935525,1.0177159305057413,-1.3163041363726593,-1.2843576151615548,-2.2381143220662767,0.43030251095643757,1.7567353594195096,0.9123860893439644,0.7096623488940613,-1.1329379096325982,-2.3522084627712516,-0.3985049276250286,-0.33292129824096345,-0.6117526954924927,0.16170239225108074,-0.3623324833186256,1.6427345356233987,0.4205199460969169,0.14788620313766376,-0.08882974489884363,1.341941510444363,1.9833500351462705,-0.07008932840205627,-0.15846247354366766,1.3760769596627462,-0.9097551551157286,0.05274529007219952,-1.5108333231665314,-1.3690608349329896,-0.92390984892042,0.052415824122690365,1.475472867563514,-0.5783729531043093,0.06681021564108997,-0.6675602746908312,0.18086264491696255,1.377445179471553,-1.524030802545425,1.45960002084935,-0.39771117193286665,-0.7667134008661328,0.18425778246134997,-0.1463719301946754,-0.08432850478860031,1.2147749441892886,-1.4306152774053464,0.24226123455202989,1.0127386389436437,-1.650030300496446,-1.2143934712717661,-1.3489603999378095,0.1591339463938501,0.2461856499861855,0.7962884268164041,-0.2193950064267525,-1.7135908998213127,-0.19543395118489584,0.05498108426836721,-0.9078613875434003,0.14959925148628775,-0.6253833444146933,-0.6385953513825158,-3.1897704020171016,-0.5772444425737866,1.1551919298733266,0.3901098757437074,0.5168745103226888,-0.4667962514980724,0.8175540881651069,-0.5846427839198419,0.11678585720532997,0.5366364058031114,-0.11626878227596611,1.1806457410767917,-0.6046743076039827,0.42746741397911353,0.6809876730639864,1.0951093379396954,0.9799571263559763,1.4410289951863453,0.06605870617081258,-1.4976887811007187,-1.8053863525434208,-0.5177536591175932,-1.3676186005237878,0.879916685438946,-0.008368820158502875,0.17453671276569535,-0.4025172069301654,0.1451919885539957,-0.5482029926031622,-1.6186084145782522,-1.6759340570042693,0.6769873612209731,1.5474662777875479,0.45115929125564874,0.5822844717740825,0.6591903862683841,-0.8156020506756464,1.163525600369807,-0.7809803790695408,0.14926416047190968,1.3692746287238684,-0.2188024142620991,2.045717944818412,-1.0662480673669767,-1.1805702780625438,0.03441579623271502,-1.2854831498883397,0.9393440782673993,0.636469254481273,-0.8612521357523879,-1.9133400857590028,-1.4574400662234432,0.6538397097290124,-1.2541225519820283,-1.5581980924961614,0.7290092042008705,-1.2650476081113022,0.6176544000379859,-0.972162802845272,-3.4220535503192617,-1.0282372379297207,-0.563932961637426,-1.0835083339895795,0.07494141270748263,0.3413557158309882,-0.7839531284310345,-1.2045276507368372,0.08724355510802938,1.0053761173442703,0.5809824177703191,-0.15879432638619354,-1.4919267491158532,0.25776546471536915,1.642760718419894,-0.08173464111189038,-0.3132504194554134,-0.9073095768931738,-0.7200179351577602,1.2854795926856963,-0.38453323731326905,-0.856894683574129,1.0958688088066697,1.7810221286113876,2.399768820767811,0.12479348521765461,-0.9276186944331917,-0.044158602592978796,2.870365301154904,0.39521481710514145,-1.3712602741942277,1.341997587678811,-0.04244296059458249,-0.26839274963312376,0.6109486340925565,-0.3772103553517753,-1.7374200927829895,-1.1140277871102835,-0.27463321017635495,0.3101789536990948,-0.37678580243338705,2.624995453786249,1.1307054245696002,0.11663002483634036,1.62269471474191,-0.9457657618535634,-0.5001150150270897,-0.04194792980404899,1.644426683518541,0.3391951351413588,1.6476705076603664,-0.9592358607403737,0.0301302281610723,0.46097097315465857,-0.8774063400489577,0.5266404633713123,0.5243139269787954,1.2689921791627767,-1.0154520409897858,-0.16305817052526697,-0.24950719187668274,-0.6718510212427248,1.542738132869285,0.8761838121431789,-0.7664624189578393,-0.3778044782547536,0.4025844328989942,0.17507551591563184,-0.47467721452155265,0.21033078531275304,-2.0170508151578814,-0.14526060575734717,0.6659161525407913,0.6318438441664327,0.8742862095790742,2.4061098178706595,0.8302785803192291,1.2972779974456734,0.20324221045729837,0.7277889545330699,-0.46799236620184287,-1.7737652838222309,0.4200453963096636,-0.7568248274432827,-0.5083791256874272,0.6171850515067326,1.2559600411235494,-0.8339842436693612,-0.08573270091122216,0.9853824646137468,1.1366447490954417,-1.1221688106719443,0.04874542348860243,-2.0912091093580174,1.4021111363673824,-1.8042742422368652,-1.2525259425113477,-0.0013601377224232787,-0.4585127189111821,-0.48676497713415345,-0.3167006538085382,-0.03172013249599761,-0.5029939992833997,-1.1676374530066806,0.2945738771794898,0.2394198527657507,-1.7360224435746665,0.22708063526325817,0.26628106785557765,1.6543626620492076,-0.17343282276793337,0.08958989160542266,-1.071060213084441,0.004116808090052353,0.5317017487186719,0.8261381800380917,-0.3648030062359082,0.13457419468436135,-0.38143584950431464,-1.0224051473620874,-1.1591811682652104,-2.428110000490078,0.05570984832336713,1.3684215245321818,-1.1311299098806893,-0.31682913018665154,-2.251202554142556,-0.6279796524607261,-0.5930082890007499,2.3833045794977985,1.5063536756493665,1.8438975558851087,0.2074961084967295,-0.223523106525003,0.5567259587754224,0.9596038656907991,0.8621726555378619,-0.5063116074140976,-0.2534838289131607,0.7712160984331519,-0.5225061806441545,-1.0776490447797007,-0.6332064712623553,1.6891098824179815,-0.5140741506591799,-0.2736737020267372,0.0875304859575037,-0.23641591580945054,-0.39588811031978466,0.814969873354662,0.7041599030636231,1.2206744371160636,-0.2811133824455531,1.513140277830852,1.5780423927263578,0.22759545427360492,1.4568450790460152,-0.7440078425513349,1.2791285842604578,0.0003791529048640473,-0.5454588326384978,0.26885258316454846,-2.601998914708477,-0.7543670659941005,-0.03848224421500349,3.0723100237767142,-1.0210651754181348,-1.6473826801796698,-1.4817028754734094,0.4688582314377003,-0.8750795950287477,0.18287134712134198,1.683888096828788,0.629035643787653,0.5732925794832631,-1.1595894741952826,0.99550400049532,0.11744797684522715,1.847966926061096,-1.540272787254216,0.6692238131094292,0.7724875609409879,1.356276386316626,1.4604228366064953,-0.16942330317988888,0.902023311192647,-0.8239127395414254,-0.16157980056568558,-0.018720389074519894,-0.5074184376700548,-0.5155740721587624,-0.22605078105599907,0.5194534379050895,0.09980681960989105,-0.3684633362327306,-0.699092394360948,1.0138360361105119,-1.0823214481920047,-0.43797945474496697,1.7013212863683513,0.8851070324837671,0.1932761132700751,-0.4313507462890247,-0.12438062607446305,-0.48501875680170875,0.29521372840028176,-0.99274578583236,0.49620622738183073,-0.37798394066303825,-0.6798657529564915,-0.27060190565832476,-0.6424461588642832,-1.6509872985214475,-0.09695903692788709,-1.0767214388729869,0.9573032042479163,-0.6795584005058212,1.8860012366419725,-0.40884875172568774,0.8089196914140158,0.333292085262041,-0.9208597123521646,-0.7707569796012869,0.8067854470028665,1.2697600584716262,-0.816771858774786,1.6995156252504515,1.3154954422378464,-1.0558251641603724,0.18332915704184938,0.4700114467724943,0.3544710227157253,-0.8697321183793135,0.27133721487767526,-0.47487722326707016,-0.865510379696104,-1.2477316819197162,-1.1392296769032997,-0.4155866072156006,1.3086654559824256,-0.11569367881101499,0.22510993529032197,0.9007946361406387,-0.7551819448968385,0.632050265982337,1.1178905374252839,-0.3763926416796444,-0.8597450990577364,-1.0435849185413248,0.4260985455548907,-1.5535506157078012,0.029144599944858098,0.4400980672504425,1.0930228846903616,-1.035797508501726,-1.3418647384689737,-0.4719786460156429,0.21597421688357152,0.28789894948950256,0.4066328394349006,1.389613290016931,0.7033007089514266,-0.016905235209911586,-0.5495185373959889,-0.30156378730244093,0.5873200047402138,0.3883956736587363,-0.42678376130229345,0.3230866796039623,-1.3921285211703402,1.0020736911516785,-0.5866781196679576,0.52982332190837,-1.0383791085315586,0.15624486743334176,-1.6235067616330663,0.30630183869671596,-2.1184874917738106,0.5021740087561922,-2.0235343842040137,-0.9340601974500746,-0.7436963432604624,1.2639945134375354,1.1691552367514944,0.2228300916833538,-0.548511692158105,0.8185800666909883,1.5861736071662123,-1.0780380582020455,-1.0044563922957916,0.6824112794879967,0.5480144612833412,0.1081062093365306,0.7075304253402899,-0.8981727000167943,0.03321213901118758,-0.3257028443430874,-0.32311465080845925,0.496865178850489,-0.4833074146388537,-0.02463725298109226,-1.079655927027645,-0.5842694176410705,1.176361219546735,-0.24720190024235417,0.9718438680832525,-0.7942788787465972,0.7355184362543247,-0.6720738652430999,2.0710228915726128,0.5236890110948463,0.4171401836329822,0.29888737939523063,0.3471023389210145,-1.2171790962572877,0.3816140605353044,1.4824719236637554,-0.5290981804481603,-0.722133002180783,-0.4768426285160224,0.6762041558667675,-1.1983702577917743,0.4821088859690885,-1.566981474247361,0.48738654371998286,1.6944785137435783,1.5989746641464553,0.43783169774448966,1.3203901805247085,-0.6017595366488918,0.4327091678431844,0.13196627197827523,-0.7799062953602262,0.004809873888435642,-0.5230835266446268,-1.1677594594254286,-1.6780168608292165,0.6827348697122418,-0.04155142813771083,-0.3442494851035607,-0.2145234063452119,-2.088732107046732,0.7153345837611623,-0.16355216390697513,1.622059974773205,-0.3695603249605767,0.4408639149359979,1.4493341875141492,-1.688145304581001,-1.2408307346140655,0.5255356611389345,-0.6651187154726885,-0.3546140475490031,0.5912144531518351,-1.8795101242282974,0.597378386871151,-0.4928580593203646,-0.12815408206739742,-0.03590225728733947,-0.08977738196786152,0.047282112912232624,0.866250998699488,1.651822491194874,0.23276236399254197,-1.9333215073753416,-0.9481286904505044,-0.916298043353477,0.6792945217933953,0.04058873445439246,1.2969831661418008,0.16158066910236765,1.0193600209261287,0.18673487339975073,0.5176671373945764,-1.1777481602333952,0.1806722403092,0.7881928851314042,1.1856747811075552,0.0263585043692963,-0.620320635424467,-1.2315093090606237,0.3126046066678163,0.18459195879763166,-1.8269253603230327,-2.767626632957734,-1.4074117283022656,-1.8235733920330603,2.0506885801141475,-0.37229795032432905,1.562001383202234,0.5106164585590958,1.5708810182768986,-0.677149087329866,0.3451791326020714,-0.6524539837383351,1.1189934795186451,0.5336348228193533,-0.6765135650847434,1.5125009800781097,0.7727793113511543,-1.453767066737095,-0.6444965104069221,-0.26259908182501046,1.5760519775566293,0.6666112461293603,-1.385100736118708,0.6587374140268646,1.0769936137233298,0.05218000213084547,-0.35918920421716494,0.4028711212872749,-1.613301767174587,1.1313220804400934,-0.16530604674683863,-1.8294801197063832,0.7386338356280879,-1.2333524840463315,1.0169116917776646,1.7741600260807269,-1.086058029808166,2.2320039327379058,1.7267106580599845,-2.0646752074071437,1.3628486582380486,-0.6047000822398299,-0.6932252636803244,1.7237087606521386,0.27292265883656136,-0.1332589096847275,-0.44606383234169317,-0.5260479374913767,-0.9534859599425474,1.3406525476156557,-1.7878240604185238,-0.29253472165928923,0.7059345802586562,-0.31623854853685185,-2.156336839387323,-0.3173550611191272,0.6175627568786629,-1.7346709527191888,1.2086072878267757,0.38724402600157093,-0.8085777990100904,1.9769731764641316,-0.9413944083406783,0.35212122437071,-1.4711935985160698,-0.36451783325196163,-0.7603225154160927],\"type\":\"histogram\",\"xaxis\":\"x\",\"yaxis\":\"y\"},{\"name\":\"Scatter Plot\",\"x\":[1,2,3,4,5],\"y\":[6,7,8,9,10],\"type\":\"scatter\",\"xaxis\":\"x2\",\"yaxis\":\"y2\"}],                        {\"template\":{\"data\":{\"histogram2dcontour\":[{\"type\":\"histogram2dcontour\",\"colorbar\":{\"outlinewidth\":0,\"ticks\":\"\"},\"colorscale\":[[0.0,\"#0d0887\"],[0.1111111111111111,\"#46039f\"],[0.2222222222222222,\"#7201a8\"],[0.3333333333333333,\"#9c179e\"],[0.4444444444444444,\"#bd3786\"],[0.5555555555555556,\"#d8576b\"],[0.6666666666666666,\"#ed7953\"],[0.7777777777777778,\"#fb9f3a\"],[0.8888888888888888,\"#fdca26\"],[1.0,\"#f0f921\"]]}],\"choropleth\":[{\"type\":\"choropleth\",\"colorbar\":{\"outlinewidth\":0,\"ticks\":\"\"}}],\"histogram2d\":[{\"type\":\"histogram2d\",\"colorbar\":{\"outlinewidth\":0,\"ticks\":\"\"},\"colorscale\":[[0.0,\"#0d0887\"],[0.1111111111111111,\"#46039f\"],[0.2222222222222222,\"#7201a8\"],[0.3333333333333333,\"#9c179e\"],[0.4444444444444444,\"#bd3786\"],[0.5555555555555556,\"#d8576b\"],[0.6666666666666666,\"#ed7953\"],[0.7777777777777778,\"#fb9f3a\"],[0.8888888888888888,\"#fdca26\"],[1.0,\"#f0f921\"]]}],\"heatmap\":[{\"type\":\"heatmap\",\"colorbar\":{\"outlinewidth\":0,\"ticks\":\"\"},\"colorscale\":[[0.0,\"#0d0887\"],[0.1111111111111111,\"#46039f\"],[0.2222222222222222,\"#7201a8\"],[0.3333333333333333,\"#9c179e\"],[0.4444444444444444,\"#bd3786\"],[0.5555555555555556,\"#d8576b\"],[0.6666666666666666,\"#ed7953\"],[0.7777777777777778,\"#fb9f3a\"],[0.8888888888888888,\"#fdca26\"],[1.0,\"#f0f921\"]]}],\"heatmapgl\":[{\"type\":\"heatmapgl\",\"colorbar\":{\"outlinewidth\":0,\"ticks\":\"\"},\"colorscale\":[[0.0,\"#0d0887\"],[0.1111111111111111,\"#46039f\"],[0.2222222222222222,\"#7201a8\"],[0.3333333333333333,\"#9c179e\"],[0.4444444444444444,\"#bd3786\"],[0.5555555555555556,\"#d8576b\"],[0.6666666666666666,\"#ed7953\"],[0.7777777777777778,\"#fb9f3a\"],[0.8888888888888888,\"#fdca26\"],[1.0,\"#f0f921\"]]}],\"contourcarpet\":[{\"type\":\"contourcarpet\",\"colorbar\":{\"outlinewidth\":0,\"ticks\":\"\"}}],\"contour\":[{\"type\":\"contour\",\"colorbar\":{\"outlinewidth\":0,\"ticks\":\"\"},\"colorscale\":[[0.0,\"#0d0887\"],[0.1111111111111111,\"#46039f\"],[0.2222222222222222,\"#7201a8\"],[0.3333333333333333,\"#9c179e\"],[0.4444444444444444,\"#bd3786\"],[0.5555555555555556,\"#d8576b\"],[0.6666666666666666,\"#ed7953\"],[0.7777777777777778,\"#fb9f3a\"],[0.8888888888888888,\"#fdca26\"],[1.0,\"#f0f921\"]]}],\"surface\":[{\"type\":\"surface\",\"colorbar\":{\"outlinewidth\":0,\"ticks\":\"\"},\"colorscale\":[[0.0,\"#0d0887\"],[0.1111111111111111,\"#46039f\"],[0.2222222222222222,\"#7201a8\"],[0.3333333333333333,\"#9c179e\"],[0.4444444444444444,\"#bd3786\"],[0.5555555555555556,\"#d8576b\"],[0.6666666666666666,\"#ed7953\"],[0.7777777777777778,\"#fb9f3a\"],[0.8888888888888888,\"#fdca26\"],[1.0,\"#f0f921\"]]}],\"mesh3d\":[{\"type\":\"mesh3d\",\"colorbar\":{\"outlinewidth\":0,\"ticks\":\"\"}}],\"scatter\":[{\"fillpattern\":{\"fillmode\":\"overlay\",\"size\":10,\"solidity\":0.2},\"type\":\"scatter\"}],\"parcoords\":[{\"type\":\"parcoords\",\"line\":{\"colorbar\":{\"outlinewidth\":0,\"ticks\":\"\"}}}],\"scatterpolargl\":[{\"type\":\"scatterpolargl\",\"marker\":{\"colorbar\":{\"outlinewidth\":0,\"ticks\":\"\"}}}],\"bar\":[{\"error_x\":{\"color\":\"#2a3f5f\"},\"error_y\":{\"color\":\"#2a3f5f\"},\"marker\":{\"line\":{\"color\":\"#E5ECF6\",\"width\":0.5},\"pattern\":{\"fillmode\":\"overlay\",\"size\":10,\"solidity\":0.2}},\"type\":\"bar\"}],\"scattergeo\":[{\"type\":\"scattergeo\",\"marker\":{\"colorbar\":{\"outlinewidth\":0,\"ticks\":\"\"}}}],\"scatterpolar\":[{\"type\":\"scatterpolar\",\"marker\":{\"colorbar\":{\"outlinewidth\":0,\"ticks\":\"\"}}}],\"histogram\":[{\"marker\":{\"pattern\":{\"fillmode\":\"overlay\",\"size\":10,\"solidity\":0.2}},\"type\":\"histogram\"}],\"scattergl\":[{\"type\":\"scattergl\",\"marker\":{\"colorbar\":{\"outlinewidth\":0,\"ticks\":\"\"}}}],\"scatter3d\":[{\"type\":\"scatter3d\",\"line\":{\"colorbar\":{\"outlinewidth\":0,\"ticks\":\"\"}},\"marker\":{\"colorbar\":{\"outlinewidth\":0,\"ticks\":\"\"}}}],\"scattermapbox\":[{\"type\":\"scattermapbox\",\"marker\":{\"colorbar\":{\"outlinewidth\":0,\"ticks\":\"\"}}}],\"scatterternary\":[{\"type\":\"scatterternary\",\"marker\":{\"colorbar\":{\"outlinewidth\":0,\"ticks\":\"\"}}}],\"scattercarpet\":[{\"type\":\"scattercarpet\",\"marker\":{\"colorbar\":{\"outlinewidth\":0,\"ticks\":\"\"}}}],\"carpet\":[{\"aaxis\":{\"endlinecolor\":\"#2a3f5f\",\"gridcolor\":\"white\",\"linecolor\":\"white\",\"minorgridcolor\":\"white\",\"startlinecolor\":\"#2a3f5f\"},\"baxis\":{\"endlinecolor\":\"#2a3f5f\",\"gridcolor\":\"white\",\"linecolor\":\"white\",\"minorgridcolor\":\"white\",\"startlinecolor\":\"#2a3f5f\"},\"type\":\"carpet\"}],\"table\":[{\"cells\":{\"fill\":{\"color\":\"#EBF0F8\"},\"line\":{\"color\":\"white\"}},\"header\":{\"fill\":{\"color\":\"#C8D4E3\"},\"line\":{\"color\":\"white\"}},\"type\":\"table\"}],\"barpolar\":[{\"marker\":{\"line\":{\"color\":\"#E5ECF6\",\"width\":0.5},\"pattern\":{\"fillmode\":\"overlay\",\"size\":10,\"solidity\":0.2}},\"type\":\"barpolar\"}],\"pie\":[{\"automargin\":true,\"type\":\"pie\"}]},\"layout\":{\"autotypenumbers\":\"strict\",\"colorway\":[\"#636efa\",\"#EF553B\",\"#00cc96\",\"#ab63fa\",\"#FFA15A\",\"#19d3f3\",\"#FF6692\",\"#B6E880\",\"#FF97FF\",\"#FECB52\"],\"font\":{\"color\":\"#2a3f5f\"},\"hovermode\":\"closest\",\"hoverlabel\":{\"align\":\"left\"},\"paper_bgcolor\":\"white\",\"plot_bgcolor\":\"#E5ECF6\",\"polar\":{\"bgcolor\":\"#E5ECF6\",\"angularaxis\":{\"gridcolor\":\"white\",\"linecolor\":\"white\",\"ticks\":\"\"},\"radialaxis\":{\"gridcolor\":\"white\",\"linecolor\":\"white\",\"ticks\":\"\"}},\"ternary\":{\"bgcolor\":\"#E5ECF6\",\"aaxis\":{\"gridcolor\":\"white\",\"linecolor\":\"white\",\"ticks\":\"\"},\"baxis\":{\"gridcolor\":\"white\",\"linecolor\":\"white\",\"ticks\":\"\"},\"caxis\":{\"gridcolor\":\"white\",\"linecolor\":\"white\",\"ticks\":\"\"}},\"coloraxis\":{\"colorbar\":{\"outlinewidth\":0,\"ticks\":\"\"}},\"colorscale\":{\"sequential\":[[0.0,\"#0d0887\"],[0.1111111111111111,\"#46039f\"],[0.2222222222222222,\"#7201a8\"],[0.3333333333333333,\"#9c179e\"],[0.4444444444444444,\"#bd3786\"],[0.5555555555555556,\"#d8576b\"],[0.6666666666666666,\"#ed7953\"],[0.7777777777777778,\"#fb9f3a\"],[0.8888888888888888,\"#fdca26\"],[1.0,\"#f0f921\"]],\"sequentialminus\":[[0.0,\"#0d0887\"],[0.1111111111111111,\"#46039f\"],[0.2222222222222222,\"#7201a8\"],[0.3333333333333333,\"#9c179e\"],[0.4444444444444444,\"#bd3786\"],[0.5555555555555556,\"#d8576b\"],[0.6666666666666666,\"#ed7953\"],[0.7777777777777778,\"#fb9f3a\"],[0.8888888888888888,\"#fdca26\"],[1.0,\"#f0f921\"]],\"diverging\":[[0,\"#8e0152\"],[0.1,\"#c51b7d\"],[0.2,\"#de77ae\"],[0.3,\"#f1b6da\"],[0.4,\"#fde0ef\"],[0.5,\"#f7f7f7\"],[0.6,\"#e6f5d0\"],[0.7,\"#b8e186\"],[0.8,\"#7fbc41\"],[0.9,\"#4d9221\"],[1,\"#276419\"]]},\"xaxis\":{\"gridcolor\":\"white\",\"linecolor\":\"white\",\"ticks\":\"\",\"title\":{\"standoff\":15},\"zerolinecolor\":\"white\",\"automargin\":true,\"zerolinewidth\":2},\"yaxis\":{\"gridcolor\":\"white\",\"linecolor\":\"white\",\"ticks\":\"\",\"title\":{\"standoff\":15},\"zerolinecolor\":\"white\",\"automargin\":true,\"zerolinewidth\":2},\"scene\":{\"xaxis\":{\"backgroundcolor\":\"#E5ECF6\",\"gridcolor\":\"white\",\"linecolor\":\"white\",\"showbackground\":true,\"ticks\":\"\",\"zerolinecolor\":\"white\",\"gridwidth\":2},\"yaxis\":{\"backgroundcolor\":\"#E5ECF6\",\"gridcolor\":\"white\",\"linecolor\":\"white\",\"showbackground\":true,\"ticks\":\"\",\"zerolinecolor\":\"white\",\"gridwidth\":2},\"zaxis\":{\"backgroundcolor\":\"#E5ECF6\",\"gridcolor\":\"white\",\"linecolor\":\"white\",\"showbackground\":true,\"ticks\":\"\",\"zerolinecolor\":\"white\",\"gridwidth\":2}},\"shapedefaults\":{\"line\":{\"color\":\"#2a3f5f\"}},\"annotationdefaults\":{\"arrowcolor\":\"#2a3f5f\",\"arrowhead\":0,\"arrowwidth\":1},\"geo\":{\"bgcolor\":\"white\",\"landcolor\":\"#E5ECF6\",\"subunitcolor\":\"white\",\"showland\":true,\"showlakes\":true,\"lakecolor\":\"white\"},\"title\":{\"x\":0.05},\"mapbox\":{\"style\":\"light\"}}},\"xaxis\":{\"anchor\":\"y\",\"domain\":[0.0,1.0],\"matches\":\"x2\",\"showticklabels\":false},\"yaxis\":{\"anchor\":\"x\",\"domain\":[0.575,1.0]},\"xaxis2\":{\"anchor\":\"y2\",\"domain\":[0.0,1.0]},\"yaxis2\":{\"anchor\":\"x2\",\"domain\":[0.0,0.425]},\"height\":600,\"title\":{\"text\":\"Combined Figure\"},\"width\":600},                        {\"responsive\": true}                    ).then(function(){\n",
       "                            \n",
       "var gd = document.getElementById('3b6cd1d8-8f43-4f67-b30e-3560d7d8ae5e');\n",
       "var x = new MutationObserver(function (mutations, observer) {{\n",
       "        var display = window.getComputedStyle(gd).display;\n",
       "        if (!display || display === 'none') {{\n",
       "            console.log([gd, 'removed!']);\n",
       "            Plotly.purge(gd);\n",
       "            observer.disconnect();\n",
       "        }}\n",
       "}});\n",
       "\n",
       "// Listen for the removal of the full notebook cells\n",
       "var notebookContainer = gd.closest('#notebook-container');\n",
       "if (notebookContainer) {{\n",
       "    x.observe(notebookContainer, {childList: true});\n",
       "}}\n",
       "\n",
       "// Listen for the clearing of the current output cell\n",
       "var outputEl = gd.closest('.output');\n",
       "if (outputEl) {{\n",
       "    x.observe(outputEl, {childList: true});\n",
       "}}\n",
       "\n",
       "                        })                };                });            </script>        </div>"
      ]
     },
     "metadata": {},
     "output_type": "display_data"
    }
   ],
   "source": [
    "import plotly.express as px\n",
    "import plotly.graph_objs as go\n",
    "from plotly.subplots import make_subplots\n",
    "\n",
    "# Create example data\n",
    "x = [1, 2, 3, 4, 5]\n",
    "y = [6, 7, 8, 9, 10]\n",
    "\n",
    "# Create the histogram using px\n",
    "fig1 = px.histogram(x=x, nbins=10, opacity=0.6, title='Histogram')\n",
    "\n",
    "# Create the scatter plot using go\n",
    "fig2 = go.Figure(data=[go.Scatter(x=x, y=y, name='Scatter Plot')])\n",
    "\n",
    "# Combine the two figures into a single figure with two subplots\n",
    "fig = make_subplots(rows=2, cols=1, shared_xaxes=True)\n",
    "\n",
    "fig.add_trace(fig_hist.data[1], row=1, col=1)\n",
    "fig.add_trace(fig_hist.data[0], row=1, col=1)\n",
    "fig.add_trace(fig2.data[0], row=2, col=1)\n",
    "\n",
    "fig.update_layout(height=600, title='Combined Figure', width=600)\n",
    "\n",
    "fig.show()\n"
   ]
  }
 ],
 "metadata": {
  "kernelspec": {
   "display_name": "clearml-task",
   "language": "python",
   "name": "python3"
  },
  "language_info": {
   "codemirror_mode": {
    "name": "ipython",
    "version": 3
   },
   "file_extension": ".py",
   "mimetype": "text/x-python",
   "name": "python",
   "nbconvert_exporter": "python",
   "pygments_lexer": "ipython3",
   "version": "3.10.4 (main, Mar 31 2022, 08:41:55) [GCC 7.5.0]"
  },
  "orig_nbformat": 4,
  "vscode": {
   "interpreter": {
    "hash": "ba36c7a2ba5f7c9b23dc5bea081108fd1ea00a103930475a90b22d037c2ff72a"
   }
  }
 },
 "nbformat": 4,
 "nbformat_minor": 2
}
