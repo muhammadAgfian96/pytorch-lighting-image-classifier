{
 "cells": [
  {
   "cell_type": "code",
   "execution_count": 3,
   "metadata": {},
   "outputs": [
    {
     "name": "stdout",
     "output_type": "stream",
     "text": [
      "The autoreload extension is already loaded. To reload it, use:\n",
      "  %reload_ext autoreload\n"
     ]
    }
   ],
   "source": [
    "%load_ext autoreload\n",
    "%autoreload 2\n",
    "import sys\n",
    "# sys.path.append('/workspace')\n",
    "from clearml import StorageManager, Dataset\n",
    "# from config.default import TrainingConfig\n",
    "# from config.list_optimizer import ListOptimizer\n",
    "# conf = TrainingConfig()\n"
   ]
  },
  {
   "cell_type": "code",
   "execution_count": 2,
   "metadata": {},
   "outputs": [
    {
     "name": "stdout",
     "output_type": "stream",
     "text": [
      "18:00:00\n",
      "18:50:34\n",
      "night/evening\n"
     ]
    }
   ],
   "source": [
    "from datetime import datetime\n",
    "\n",
    "# Define the time of day thresholds for night/evening and day\n",
    "night_threshold = datetime.strptime('18:00:00', '%H:%M:%S').time()\n",
    "day_threshold = datetime.strptime('06:00:00', '%H:%M:%S').time()\n",
    "print(night_threshold)\n",
    "# Convert the date string to a datetime object\n",
    "date_consignment = \"Sat, 04 Mar 2023 18:50:34 GMT\"\n",
    "date_strf = datetime.strptime(date_consignment.replace(' GMT', ''), '%a, %d %b %Y %H:%M:%S')\n",
    "\n",
    "# Extract the time component from the datetime object\n",
    "time = date_strf.time()\n",
    "# Categorize the date as night/evening or day based on the time of day\n",
    "if time >= night_threshold or time < day_threshold:\n",
    "    category = 'night/evening'\n",
    "else:\n",
    "    category = 'day'\n",
    "\n",
    "print(category)"
   ]
  },
  {
   "cell_type": "code",
   "execution_count": 34,
   "metadata": {},
   "outputs": [
    {
     "data": {
      "text/plain": [
       "mappingproxy"
      ]
     },
     "execution_count": 34,
     "metadata": {},
     "output_type": "execute_result"
    }
   ],
   "source": [
    "type(vars(ListOptimizer))"
   ]
  },
  {
   "cell_type": "code",
   "execution_count": 24,
   "metadata": {},
   "outputs": [
    {
     "data": {
      "text/plain": [
       "{'epoch': 10,\n",
       " 'learning_rate': 0.0001,\n",
       " 'opt_name': 'AdamW',\n",
       " 'opt_weight_decay': 0,\n",
       " 'opt_momentum': 0.9}"
      ]
     },
     "execution_count": 24,
     "metadata": {},
     "output_type": "execute_result"
    }
   ],
   "source": [
    "from dataclasses import asdict, dataclass, fields\n",
    "asdict(conf)['hyp']"
   ]
  },
  {
   "cell_type": "markdown",
   "metadata": {},
   "source": [
    "#### Manage Data"
   ]
  },
  {
   "cell_type": "code",
   "execution_count": 4,
   "metadata": {},
   "outputs": [
    {
     "ename": "ValueError",
     "evalue": "Target path \"/home/agfian/shared/hdd_2/common-project/classifier/pytorch-lighting-image-classifier/src/notebooks/app-data-workflow/dataset-dev/Bousteud/feedback-Bousteud-2023-02-26_keep-drop/keep-drop\" does not exist",
     "output_type": "error",
     "traceback": [
      "\u001b[0;31m---------------------------------------------------------------------------\u001b[0m",
      "\u001b[0;31mValueError\u001b[0m                                Traceback (most recent call last)",
      "Cell \u001b[0;32mIn [4], line 2\u001b[0m\n\u001b[1;32m      1\u001b[0m manager \u001b[39m=\u001b[39m StorageManager()\n\u001b[0;32m----> 2\u001b[0m manager\u001b[39m.\u001b[39mdownload_folder(\n\u001b[1;32m      3\u001b[0m     remote_url\u001b[39m=\u001b[39m\u001b[39m'\u001b[39m\u001b[39mapp-data-workflow/dataset-dev/Bousteud/feedback-Bousteud-2023-02-26_keep-drop/keep-drop\u001b[39m\u001b[39m'\u001b[39m,\n\u001b[1;32m      4\u001b[0m     local_folder\u001b[39m=\u001b[39m\u001b[39m'\u001b[39m\u001b[39m./dataset/\u001b[39m\u001b[39m'\u001b[39m\n\u001b[1;32m      5\u001b[0m )\n",
      "File \u001b[0;32m~/.conda/envs/clearml-task/lib/python3.10/site-packages/clearml/storage/manager.py:398\u001b[0m, in \u001b[0;36mStorageManager.download_folder\u001b[0;34m(cls, remote_url, local_folder, match_wildcard, overwrite, skip_zero_size_check, silence_errors)\u001b[0m\n\u001b[1;32m    395\u001b[0m results \u001b[39m=\u001b[39m []\n\u001b[1;32m    397\u001b[0m \u001b[39mwith\u001b[39;00m ThreadPool() \u001b[39mas\u001b[39;00m pool:\n\u001b[0;32m--> 398\u001b[0m     \u001b[39mfor\u001b[39;00m path \u001b[39min\u001b[39;00m helper\u001b[39m.\u001b[39;49mlist(prefix\u001b[39m=\u001b[39;49mremote_url):\n\u001b[1;32m    399\u001b[0m         remote_path \u001b[39m=\u001b[39m (\n\u001b[1;32m    400\u001b[0m             \u001b[39mstr\u001b[39m(Path(helper\u001b[39m.\u001b[39mbase_url) \u001b[39m/\u001b[39m Path(path))\n\u001b[1;32m    401\u001b[0m             \u001b[39mif\u001b[39;00m helper\u001b[39m.\u001b[39mget_driver_direct_access(helper\u001b[39m.\u001b[39mbase_url)\n\u001b[1;32m    402\u001b[0m             \u001b[39melse\u001b[39;00m \u001b[39m\"\u001b[39m\u001b[39m{}\u001b[39;00m\u001b[39m/\u001b[39m\u001b[39m{}\u001b[39;00m\u001b[39m\"\u001b[39m\u001b[39m.\u001b[39mformat(helper\u001b[39m.\u001b[39mbase_url\u001b[39m.\u001b[39mrstrip(\u001b[39m\"\u001b[39m\u001b[39m/\u001b[39m\u001b[39m\"\u001b[39m), path\u001b[39m.\u001b[39mlstrip(\u001b[39m\"\u001b[39m\u001b[39m/\u001b[39m\u001b[39m\"\u001b[39m))\n\u001b[1;32m    403\u001b[0m         )\n\u001b[1;32m    404\u001b[0m         \u001b[39mif\u001b[39;00m match_wildcard \u001b[39mand\u001b[39;00m \u001b[39mnot\u001b[39;00m fnmatch\u001b[39m.\u001b[39mfnmatch(remote_path, match_wildcard):\n",
      "File \u001b[0;32m~/.conda/envs/clearml-task/lib/python3.10/site-packages/clearml/storage/helper.py:796\u001b[0m, in \u001b[0;36mStorageHelper.list\u001b[0;34m(self, prefix, with_metadata)\u001b[0m\n\u001b[1;32m    794\u001b[0m     \u001b[39mif\u001b[39;00m prefix\u001b[39m.\u001b[39mstartswith(\u001b[39mstr\u001b[39m(\u001b[39mself\u001b[39m\u001b[39m.\u001b[39m_driver\u001b[39m.\u001b[39mbase_path)):\n\u001b[1;32m    795\u001b[0m         prefix \u001b[39m=\u001b[39m prefix[\u001b[39mlen\u001b[39m(\u001b[39mstr\u001b[39m(\u001b[39mself\u001b[39m\u001b[39m.\u001b[39m_driver\u001b[39m.\u001b[39mbase_path)):]\n\u001b[0;32m--> 796\u001b[0m res \u001b[39m=\u001b[39m \u001b[39mself\u001b[39;49m\u001b[39m.\u001b[39;49m_driver\u001b[39m.\u001b[39;49mlist_container_objects(\u001b[39mself\u001b[39;49m\u001b[39m.\u001b[39;49m_container, ex_prefix\u001b[39m=\u001b[39;49mprefix)\n\u001b[1;32m    797\u001b[0m result \u001b[39m=\u001b[39m [\n\u001b[1;32m    798\u001b[0m     obj\u001b[39m.\u001b[39mname \u001b[39mif\u001b[39;00m \u001b[39mnot\u001b[39;00m with_metadata \u001b[39melse\u001b[39;00m \u001b[39mself\u001b[39m\u001b[39m.\u001b[39mget_object_metadata(obj)\n\u001b[1;32m    799\u001b[0m     \u001b[39mfor\u001b[39;00m obj \u001b[39min\u001b[39;00m res\n\u001b[1;32m    800\u001b[0m ]\n\u001b[1;32m    802\u001b[0m \u001b[39mif\u001b[39;00m \u001b[39mself\u001b[39m\u001b[39m.\u001b[39m_base_url \u001b[39m==\u001b[39m \u001b[39m\"\u001b[39m\u001b[39mfile://\u001b[39m\u001b[39m\"\u001b[39m:\n",
      "File \u001b[0;32m~/.conda/envs/clearml-task/lib/python3.10/site-packages/clearml/storage/helper.py:2830\u001b[0m, in \u001b[0;36m_FileStorageDriver.list_container_objects\u001b[0;34m(self, container, ex_prefix, **kwargs)\u001b[0m\n\u001b[1;32m   2829\u001b[0m \u001b[39mdef\u001b[39;00m \u001b[39mlist_container_objects\u001b[39m(\u001b[39mself\u001b[39m, container, ex_prefix\u001b[39m=\u001b[39m\u001b[39mNone\u001b[39;00m, \u001b[39m*\u001b[39m\u001b[39m*\u001b[39mkwargs):\n\u001b[0;32m-> 2830\u001b[0m     \u001b[39mreturn\u001b[39;00m \u001b[39mlist\u001b[39;49m(\u001b[39mself\u001b[39;49m\u001b[39m.\u001b[39;49miterate_container_objects(container, prefix\u001b[39m=\u001b[39;49mex_prefix))\n",
      "File \u001b[0;32m~/.conda/envs/clearml-task/lib/python3.10/site-packages/clearml/storage/helper.py:2501\u001b[0m, in \u001b[0;36m_FileStorageDriver._get_objects\u001b[0;34m(self, container, prefix)\u001b[0m\n\u001b[1;32m   2496\u001b[0m \u001b[39mdef\u001b[39;00m \u001b[39m_get_objects\u001b[39m(\u001b[39mself\u001b[39m, container, prefix\u001b[39m=\u001b[39m\u001b[39mNone\u001b[39;00m):\n\u001b[1;32m   2497\u001b[0m     \u001b[39m\"\"\"\u001b[39;00m\n\u001b[1;32m   2498\u001b[0m \u001b[39m    Recursively iterate through the file-system and return the object names\u001b[39;00m\n\u001b[1;32m   2499\u001b[0m \u001b[39m    \"\"\"\u001b[39;00m\n\u001b[0;32m-> 2501\u001b[0m     cpath \u001b[39m=\u001b[39m \u001b[39mself\u001b[39;49m\u001b[39m.\u001b[39;49mget_container_cdn_url(container, check\u001b[39m=\u001b[39;49m\u001b[39mTrue\u001b[39;49;00m)\n\u001b[1;32m   2502\u001b[0m     \u001b[39mif\u001b[39;00m prefix:\n\u001b[1;32m   2503\u001b[0m         cpath \u001b[39m+\u001b[39m\u001b[39m=\u001b[39m \u001b[39m\"\u001b[39m\u001b[39m/\u001b[39m\u001b[39m\"\u001b[39m \u001b[39m+\u001b[39m prefix\n",
      "File \u001b[0;32m~/.conda/envs/clearml-task/lib/python3.10/site-packages/clearml/storage/helper.py:2557\u001b[0m, in \u001b[0;36m_FileStorageDriver.get_container_cdn_url\u001b[0;34m(self, container, check)\u001b[0m\n\u001b[1;32m   2554\u001b[0m path \u001b[39m=\u001b[39m os\u001b[39m.\u001b[39mpath\u001b[39m.\u001b[39mrealpath(os\u001b[39m.\u001b[39mpath\u001b[39m.\u001b[39mjoin(\u001b[39mself\u001b[39m\u001b[39m.\u001b[39mbase_path, container\u001b[39m.\u001b[39mname \u001b[39mif\u001b[39;00m container \u001b[39melse\u001b[39;00m \u001b[39m'\u001b[39m\u001b[39m.\u001b[39m\u001b[39m'\u001b[39m))\n\u001b[1;32m   2556\u001b[0m \u001b[39mif\u001b[39;00m check \u001b[39mand\u001b[39;00m \u001b[39mnot\u001b[39;00m os\u001b[39m.\u001b[39mpath\u001b[39m.\u001b[39misdir(path):\n\u001b[0;32m-> 2557\u001b[0m     \u001b[39mraise\u001b[39;00m \u001b[39mValueError\u001b[39;00m(\u001b[39m\"\u001b[39m\u001b[39mTarget path \u001b[39m\u001b[39m\\\"\u001b[39;00m\u001b[39m{}\u001b[39;00m\u001b[39m\\\"\u001b[39;00m\u001b[39m does not exist\u001b[39m\u001b[39m\"\u001b[39m\u001b[39m.\u001b[39mformat(path))\n\u001b[1;32m   2559\u001b[0m \u001b[39mreturn\u001b[39;00m path\n",
      "\u001b[0;31mValueError\u001b[0m: Target path \"/home/agfian/shared/hdd_2/common-project/classifier/pytorch-lighting-image-classifier/src/notebooks/app-data-workflow/dataset-dev/Bousteud/feedback-Bousteud-2023-02-26_keep-drop/keep-drop\" does not exist"
     ]
    }
   ],
   "source": [
    "manager = StorageManager()\n",
    "manager.download_folder(\n",
    "    remote_url='app-data-workflow/dataset-dev/Bousteud/feedback-Bousteud-2023-02-26_keep-drop/keep-drop',\n",
    "    local_folder='./dataset/',\n",
    "    overwrite=True\n",
    ")"
   ]
  },
  {
   "cell_type": "code",
   "execution_count": null,
   "metadata": {},
   "outputs": [
    {
     "name": "stdout",
     "output_type": "stream",
     "text": [
      "ClearML results page: http://10.8.0.10:7080/projects/e3ab1f2c806947eea2ea59994d35ec50/experiments/411403ce990b433aaeac743d154d52a2/output/log\n",
      "ClearML dataset page: http://10.8.0.10:7080/datasets/simple/e3ab1f2c806947eea2ea59994d35ec50/experiments/411403ce990b433aaeac743d154d52a2\n"
     ]
    }
   ],
   "source": [
    "ds = Dataset.create(\n",
    "    dataset_project='fruit-oil',\n",
    "    dataset_name='sample-data-bousteud', \n",
    "    dataset_tags=['lerning-clearml'],\n",
    "    output_uri=f'{conf.OUTPUT_URI}/dataset/sample-from-clearml'\n",
    ")"
   ]
  },
  {
   "cell_type": "code",
   "execution_count": 6,
   "metadata": {},
   "outputs": [
    {
     "name": "stdout",
     "output_type": "stream",
     "text": [
      "Generating SHA2 hash for 420 files\n"
     ]
    },
    {
     "name": "stderr",
     "output_type": "stream",
     "text": [
      "100%|██████████| 420/420 [00:00<00:00, 4999.31it/s]"
     ]
    },
    {
     "name": "stdout",
     "output_type": "stream",
     "text": [
      "Hash generation completed\n"
     ]
    },
    {
     "name": "stderr",
     "output_type": "stream",
     "text": [
      "\n"
     ]
    },
    {
     "data": {
      "text/plain": [
       "420"
      ]
     },
     "execution_count": 6,
     "metadata": {},
     "output_type": "execute_result"
    }
   ],
   "source": [
    "ds.add_files(path='/workspace/dataset/simple')"
   ]
  },
  {
   "cell_type": "code",
   "execution_count": 7,
   "metadata": {},
   "outputs": [],
   "source": [
    "import os\n",
    "root_folder = '/workspace/dataset/simple'\n",
    "counts = []\n",
    "folders = sorted(os.listdir(root_folder))\n",
    "for folder in folders:\n",
    "    count = len(os.listdir(os.path.join(root_folder, folder)))\n",
    "    counts.append([count])\n",
    "\n",
    "\n",
    "ds.get_logger().report_histogram(\n",
    "    title='Dataset Histogram',\n",
    "    series='Training Simple Dataset',\n",
    "    values=counts,\n",
    "    labels=folders,\n",
    "    xaxis='class',\n",
    "    yaxis='count of data'\n",
    ")"
   ]
  },
  {
   "cell_type": "code",
   "execution_count": 8,
   "metadata": {},
   "outputs": [
    {
     "name": "stdout",
     "output_type": "stream",
     "text": [
      "Pending uploads, starting dataset upload to s3://10.8.0.66:9000/clearml-test/dataset/sample-from-clearml\n",
      "Uploading dataset changes (420 files compressed to 69.21 MiB) to s3://10.8.0.66:9000/clearml-test/dataset/sample-from-clearml\n",
      "File compression and upload completed: total size 69.21 MiB, 1 chunk(s) stored (average size 69.21 MiB)\n"
     ]
    },
    {
     "data": {
      "text/plain": [
       "True"
      ]
     },
     "execution_count": 8,
     "metadata": {},
     "output_type": "execute_result"
    }
   ],
   "source": [
    "ds.finalize(auto_upload=True)"
   ]
  },
  {
   "cell_type": "code",
   "execution_count": 10,
   "metadata": {},
   "outputs": [
    {
     "data": {
      "text/plain": [
       "'s3://10.8.0.66:9000/clearml-test/dataset/sample-from-clearml'"
      ]
     },
     "execution_count": 10,
     "metadata": {},
     "output_type": "execute_result"
    }
   ],
   "source": [
    "ds.get_default_storage()"
   ]
  },
  {
   "cell_type": "markdown",
   "metadata": {},
   "source": [
    "# Data Preparation"
   ]
  },
  {
   "cell_type": "code",
   "execution_count": 5,
   "metadata": {},
   "outputs": [],
   "source": [
    "import glob\n",
    "import torch\n",
    "import albumentations as al\n",
    "from os.path import join\n",
    "from typing import Union\n",
    "from PIL import Image\n",
    "from torch.utils.data import Dataset, DataLoader\n",
    "import cv2\n",
    "from torchvision.datasets import ImageFolder\n",
    "import torchvision.transforms as tt\n",
    "import numpy as np\n",
    "\n"
   ]
  },
  {
   "cell_type": "markdown",
   "metadata": {},
   "source": [
    "### Prepare Data"
   ]
  },
  {
   "cell_type": "code",
   "execution_count": 2,
   "metadata": {},
   "outputs": [],
   "source": [
    "from random import shuffle\n",
    "\n",
    "def get_list_data(root_path, conf:TrainingConfig):\n",
    "\n",
    "    def check_health_img(fp):\n",
    "        try:\n",
    "            img = cv2.imread(fp)\n",
    "            h,w,c = img.shape\n",
    "            if h > 0 and w>0:\n",
    "                return True\n",
    "        except Exception as e:\n",
    "            print('[ERROR] Image Corrupt: ', fp, e)\n",
    "            return False\n",
    "\n",
    "    def split_list(ls_fp_image):\n",
    "        count_imgs = len(ls_fp_image)\n",
    "        tr_count = int(tr*count_imgs)\n",
    "        va_count = int(va*count_imgs)\n",
    "        shuffle(ls_fp_image)\n",
    "        train = ls_fp_image[:tr_count]\n",
    "        val = ls_fp_image[tr_count:tr_count+va_count]\n",
    "        test = ls_fp_image[tr_count+va_count:]\n",
    "        return train, val, test\n",
    "    \n",
    "    d_metadata = {\n",
    "        'ratio': [],\n",
    "        'counts' : {\n",
    "            'train': {},\n",
    "            'val': {},\n",
    "            'test': {},\n",
    "        }\n",
    "    }\n",
    "\n",
    "    labels = conf.data.category\n",
    "    d_data = {lbl:[] for lbl in labels}\n",
    "    ls_train = []\n",
    "    ls_val = []\n",
    "    ls_test = []\n",
    "\n",
    "    for label in labels:\n",
    "        fp_folder = join(root_path, label)\n",
    "        for file in os.listdir(fp_folder):\n",
    "            fp_image = join(fp_folder, file)\n",
    "            if check_health_img(fp_image):\n",
    "                d_data[label].append((fp_image, labels.index(label)))\n",
    "    \n",
    "    tr = conf.data.train_ratio\n",
    "    va = conf.data.val_ratio\n",
    "    te = conf.data.test_ration\n",
    "    \n",
    "    d_metadata['ratio'] = [tr, va, te]\n",
    "\n",
    "    ls_train_set, ls_val_set, ls_test_set = [], [], []\n",
    "    for key, ls_fp_image in d_data.items():\n",
    "        ls_train, ls_val, ls_test = split_list(ls_fp_image)\n",
    "        ls_train_set.extend(ls_train)\n",
    "        ls_val_set.extend(ls_val)\n",
    "        ls_test_set.extend(ls_test)\n",
    "        d_metadata['counts']['train'][key] = len(ls_train)\n",
    "        d_metadata['counts']['val'][key] = len(ls_train)\n",
    "        d_metadata['counts']['test'][key] = len(ls_train)\n",
    "\n",
    "    d_metadata['train_count'] = len(ls_train_set)\n",
    "    d_metadata['val_count'] = len(ls_val_set)\n",
    "    d_metadata['test_count'] = len(ls_test_set)\n",
    "    \n",
    "    return ls_train_set, ls_val_set, ls_test_set, d_metadata"
   ]
  },
  {
   "cell_type": "markdown",
   "metadata": {},
   "source": [
    "### Create Dataset"
   ]
  },
  {
   "cell_type": "code",
   "execution_count": 3,
   "metadata": {},
   "outputs": [],
   "source": [
    "class ImageDatasetBinsho(Dataset):\n",
    "    def __init__(self, data, transform):\n",
    "        self.data = data\n",
    "        self.transform = al.Compose(transform)\n",
    "\n",
    "    def __len__(self): return len(self.data)\n",
    "    \n",
    "    def __getitem__(self, index):\n",
    "        fp_img, y  = self.data[index]\n",
    "        y_label = torch.tensor(int(y))\n",
    "        x_image = np.array(Image.open(fp_img)) # rgb format!\n",
    "        x_image = self.transform(image=x_image)[\"image\"] \n",
    "        return x_image, y_label\n"
   ]
  },
  {
   "cell_type": "markdown",
   "metadata": {},
   "source": [
    "### Create DataLoader"
   ]
  },
  {
   "cell_type": "code",
   "execution_count": 141,
   "metadata": {},
   "outputs": [],
   "source": [
    "def meanstd(dl):\n",
    "    batch,sum_,sqr_= 0, 0, 0\n",
    "    for x,y in dl:\n",
    "        # print(type(x), x.shape, torch.min(x), torch.max(x))\n",
    "        sum_+=torch.mean(x,axis=[0,2,3])\n",
    "        sqr_+=torch.mean(x**2,axis=[0,2,3])\n",
    "        batch+=1\n",
    "    mean= sum_/batch\n",
    "    std= (sqr_/batch)-mean**2\n",
    "    print(mean,std)"
   ]
  },
  {
   "cell_type": "code",
   "execution_count": 142,
   "metadata": {},
   "outputs": [
    {
     "data": {
      "text/plain": [
       "420"
      ]
     },
     "execution_count": 142,
     "metadata": {},
     "output_type": "execute_result"
    }
   ],
   "source": [
    "imgs1 = ImageDatasetBinsho(root_path='/workspace/dataset/simple', conf=conf, transform=conf.aug.get_ls_val())\n",
    "len(imgs1)"
   ]
  },
  {
   "cell_type": "code",
   "execution_count": null,
   "metadata": {},
   "outputs": [],
   "source": [
    "import pytorch_lightning as pl\n",
    "from torch.utils.data import DataLoader\n",
    "\n",
    "# Note - you must have torchvision installed for this example\n",
    "from torchvision import transforms\n",
    "\n",
    "\n",
    "class ImageDataModule(pl.LightningDataModule):\n",
    "    def __init__(self, data_dir: str = \"./\"):\n",
    "        super().__init__()\n",
    "        self.data_dir = data_dir\n",
    "        self.transform = transforms.Compose([transforms.ToTensor(), transforms.Normalize((0.1307,), (0.3081,))])\n",
    "    \n",
    "    def setup(self, stage: str):\n",
    "        # get list of data\n",
    "        self.conf = TrainingConfig()\n",
    "        ls_train_set, ls_val_set, ls_test_set, d_metadata = get_list_data(root_path='/workspace/dataset/simple', conf=self.conf)\n",
    "        \n",
    "        # Assign train/val datasets for use in dataloaders\n",
    "        if stage == \"fit\":\n",
    "            self.data_train = ImageDatasetBinsho(ls_train_set, transform=self.conf.aug.get_ls_train())\n",
    "            self.data_val = ImageDatasetBinsho(ls_val_set, transform=self.conf.aug.get_ls_train())\n",
    "\n",
    "        # Assign test dataset for use in dataloader(s)\n",
    "        if stage == \"test\":\n",
    "            self.data_test = ImageDatasetBinsho(ls_test_set, transform=self.conf.aug.get_ls_train())\n",
    "\n",
    "    def train_dataloader(self):\n",
    "\n",
    "        return DataLoader(self.data_test, batch_size=self.conf.data.batch)\n",
    "\n",
    "    def val_dataloader(self):\n",
    "        return DataLoader(self.data_val, batch_size=self.conf.data.batch)\n",
    "\n",
    "    def test_dataloader(self):\n",
    "        return DataLoader(self.data_test, batch_size=self.conf.data.batch)"
   ]
  },
  {
   "cell_type": "code",
   "execution_count": 15,
   "metadata": {},
   "outputs": [
    {
     "name": "stdout",
     "output_type": "stream",
     "text": [
      "Total Data: 0\n"
     ]
    }
   ],
   "source": [
    "from clearml import StorageManager\n",
    "\n",
    "# link = 's3://10.8.0.66:9000/app-data-workflow/dataset-dev/IOI/feedback-IOI-2023-03-02_keep-drop/keep-drop'\n",
    "link = 's3://10.8.0.66:9000/app-data-workflow/dataset-dev/IOI/feedback-IOI-2023-03-02_keep-drop/keep-drop'\n",
    "ls_files = StorageManager.list(\n",
    "        remote_url=link,\n",
    "        return_full_path=True,\n",
    "        with_metadata=True\n",
    "    )\n",
    "print('Total Data:', len(ls_files))"
   ]
  },
  {
   "cell_type": "code",
   "execution_count": 17,
   "metadata": {},
   "outputs": [],
   "source": [
    "from minio import Minio\n",
    "\n",
    "endpoint=\"10.8.0.66:9000\"\n",
    "access_key=\"bs_server_1\"\n",
    "secret_key=\"zNAYleEDeCnlzaXJsd7MvXnQhPmZehIA\"\n",
    "bucket_name=\"app-data-workflow\"\n",
    "region = 'binsho-server-2'\n",
    "# dataset = dataset\n",
    "# download_dir = download_dir\n",
    "\n",
    "# Create a Minio client with the given credentials\n",
    "minio_client = Minio(\n",
    "    endpoint,\n",
    "    access_key=access_key,\n",
    "    secret_key=secret_key,\n",
    "    secure=False,\n",
    "    region=region\n",
    ")"
   ]
  },
  {
   "cell_type": "code",
   "execution_count": 67,
   "metadata": {},
   "outputs": [],
   "source": [
    "l = 'dataset-dev/IOI/feedback-ioi-2023-03-02_keep-drop/keep-drop'\n",
    "# l = 'dataset-dev/IOI/feedback-IOI-2023-03-02_keep-drop/keep-drop'\n",
    "the_data = minio_client.list_objects(bucket_name=bucket_name, prefix=l, recursive=True)"
   ]
  },
  {
   "cell_type": "code",
   "execution_count": 68,
   "metadata": {},
   "outputs": [
    {
     "name": "stdout",
     "output_type": "stream",
     "text": [
      "dataset-dev/IOI/feedback-ioi-2023-03-02_keep-drop/keep-drop/drop/64016b3d9b8e29c974cd580f_Ripe_ffb_11.png\n",
      "dataset-dev/IOI/feedback-ioi-2023-03-02_keep-drop/keep-drop/drop/64016b3d9b8e29c974cd580f_Ripe_ffb_15.png\n",
      "dataset-dev/IOI/feedback-ioi-2023-03-02_keep-drop/keep-drop/drop/64016b3d9b8e29c974cd580f_Ripe_ffb_4.png\n",
      "dataset-dev/IOI/feedback-ioi-2023-03-02_keep-drop/keep-drop/drop/64016b3d9b8e29c974cd580f_Underripe_ffb_19.png\n",
      "dataset-dev/IOI/feedback-ioi-2023-03-02_keep-drop/keep-drop/drop/64016b3d9b8e29c974cd580f_Underripe_ffb_20.png\n",
      "dataset-dev/IOI/feedback-ioi-2023-03-02_keep-drop/keep-drop/drop/64016b3d9b8e29c974cd580f_Underripe_ffb_27.png\n",
      "dataset-dev/IOI/feedback-ioi-2023-03-02_keep-drop/keep-drop/drop/64016b3d9b8e29c974cd580f_Underripe_ffb_3.png\n",
      "dataset-dev/IOI/feedback-ioi-2023-03-02_keep-drop/keep-drop/drop/64016b3d9b8e29c974cd580f_Underripe_ffb_40.png\n",
      "dataset-dev/IOI/feedback-ioi-2023-03-02_keep-drop/keep-drop/drop/64016b3d9b8e29c974cd580f_Underripe_ffb_41.png\n",
      "dataset-dev/IOI/feedback-ioi-2023-03-02_keep-drop/keep-drop/drop/64016b3d9b8e29c974cd580f_Underripe_ffb_42.png\n",
      "dataset-dev/IOI/feedback-ioi-2023-03-02_keep-drop/keep-drop/drop/64016b3d9b8e29c974cd580f_Underripe_ffb_43.png\n",
      "dataset-dev/IOI/feedback-ioi-2023-03-02_keep-drop/keep-drop/drop/64016b3d9b8e29c974cd580f_Underripe_ffb_48.png\n",
      "dataset-dev/IOI/feedback-ioi-2023-03-02_keep-drop/keep-drop/drop/64016b3d9b8e29c974cd580f_Underripe_ffb_51.png\n",
      "dataset-dev/IOI/feedback-ioi-2023-03-02_keep-drop/keep-drop/drop/64016b3d9b8e29c974cd580f_Underripe_ffb_52.png\n",
      "dataset-dev/IOI/feedback-ioi-2023-03-02_keep-drop/keep-drop/drop/64016b3d9b8e29c974cd580f_Underripe_ffb_54.png\n",
      "dataset-dev/IOI/feedback-ioi-2023-03-02_keep-drop/keep-drop/drop/64016b3d9b8e29c974cd580f_Unripe_ffb_12.png\n",
      "dataset-dev/IOI/feedback-ioi-2023-03-02_keep-drop/keep-drop/drop/64016b3d9b8e29c974cd580f_Unripe_ffb_25.png\n",
      "dataset-dev/IOI/feedback-ioi-2023-03-02_keep-drop/keep-drop/drop/64016c5f9b8e29c974cd5816_Ripe_ffb_11.png\n",
      "dataset-dev/IOI/feedback-ioi-2023-03-02_keep-drop/keep-drop/drop/64016c5f9b8e29c974cd5816_Ripe_ffb_39.png\n",
      "dataset-dev/IOI/feedback-ioi-2023-03-02_keep-drop/keep-drop/drop/64016c5f9b8e29c974cd5816_Underripe_ffb_10.png\n",
      "dataset-dev/IOI/feedback-ioi-2023-03-02_keep-drop/keep-drop/drop/64016c5f9b8e29c974cd5816_Underripe_ffb_13.png\n",
      "dataset-dev/IOI/feedback-ioi-2023-03-02_keep-drop/keep-drop/drop/64016c5f9b8e29c974cd5816_Underripe_ffb_19.png\n",
      "dataset-dev/IOI/feedback-ioi-2023-03-02_keep-drop/keep-drop/drop/64016c5f9b8e29c974cd5816_Underripe_ffb_24.png\n",
      "dataset-dev/IOI/feedback-ioi-2023-03-02_keep-drop/keep-drop/drop/64016c5f9b8e29c974cd5816_Underripe_ffb_29.png\n",
      "dataset-dev/IOI/feedback-ioi-2023-03-02_keep-drop/keep-drop/drop/64016c5f9b8e29c974cd5816_Underripe_ffb_34.png\n",
      "dataset-dev/IOI/feedback-ioi-2023-03-02_keep-drop/keep-drop/drop/64016c5f9b8e29c974cd5816_Underripe_ffb_37.png\n",
      "dataset-dev/IOI/feedback-ioi-2023-03-02_keep-drop/keep-drop/drop/64016c5f9b8e29c974cd5816_Underripe_ffb_4.png\n",
      "dataset-dev/IOI/feedback-ioi-2023-03-02_keep-drop/keep-drop/drop/64016c5f9b8e29c974cd5816_Underripe_ffb_40.png\n",
      "dataset-dev/IOI/feedback-ioi-2023-03-02_keep-drop/keep-drop/drop/64016c5f9b8e29c974cd5816_Underripe_ffb_45.png\n",
      "dataset-dev/IOI/feedback-ioi-2023-03-02_keep-drop/keep-drop/drop/64016c5f9b8e29c974cd5816_Underripe_ffb_46.png\n",
      "dataset-dev/IOI/feedback-ioi-2023-03-02_keep-drop/keep-drop/drop/64016c5f9b8e29c974cd5816_Underripe_ffb_59.png\n",
      "dataset-dev/IOI/feedback-ioi-2023-03-02_keep-drop/keep-drop/drop/64016c5f9b8e29c974cd5816_Unripe_ffb_20.png\n",
      "dataset-dev/IOI/feedback-ioi-2023-03-02_keep-drop/keep-drop/drop/64016c5f9b8e29c974cd5816_Unripe_ffb_3.png\n",
      "dataset-dev/IOI/feedback-ioi-2023-03-02_keep-drop/keep-drop/drop/64016c5f9b8e29c974cd5816_Unripe_ffb_41.png\n",
      "dataset-dev/IOI/feedback-ioi-2023-03-02_keep-drop/keep-drop/drop/64016c5f9b8e29c974cd5816_Unripe_ffb_56.png\n",
      "dataset-dev/IOI/feedback-ioi-2023-03-02_keep-drop/keep-drop/drop/640172009b8e29c974cd5856_Ripe_ffb_17.png\n",
      "dataset-dev/IOI/feedback-ioi-2023-03-02_keep-drop/keep-drop/drop/640172009b8e29c974cd5856_Ripe_ffb_25.png\n",
      "dataset-dev/IOI/feedback-ioi-2023-03-02_keep-drop/keep-drop/drop/640172009b8e29c974cd5856_Ripe_ffb_30.png\n",
      "dataset-dev/IOI/feedback-ioi-2023-03-02_keep-drop/keep-drop/drop/640172009b8e29c974cd5856_Ripe_ffb_33.png\n",
      "dataset-dev/IOI/feedback-ioi-2023-03-02_keep-drop/keep-drop/drop/640172009b8e29c974cd5856_Ripe_ffb_7.png\n",
      "dataset-dev/IOI/feedback-ioi-2023-03-02_keep-drop/keep-drop/drop/640172009b8e29c974cd5856_Underripe_ffb_24.png\n",
      "dataset-dev/IOI/feedback-ioi-2023-03-02_keep-drop/keep-drop/drop/640172009b8e29c974cd5856_Underripe_ffb_27.png\n",
      "dataset-dev/IOI/feedback-ioi-2023-03-02_keep-drop/keep-drop/drop/640172009b8e29c974cd5856_Underripe_ffb_29.png\n",
      "dataset-dev/IOI/feedback-ioi-2023-03-02_keep-drop/keep-drop/drop/640172009b8e29c974cd5856_Underripe_ffb_34.png\n",
      "dataset-dev/IOI/feedback-ioi-2023-03-02_keep-drop/keep-drop/drop/640172009b8e29c974cd5856_Underripe_ffb_4.png\n",
      "dataset-dev/IOI/feedback-ioi-2023-03-02_keep-drop/keep-drop/drop/640172009b8e29c974cd5856_Underripe_ffb_5.png\n",
      "dataset-dev/IOI/feedback-ioi-2023-03-02_keep-drop/keep-drop/drop/640172009b8e29c974cd5856_Underripe_ffb_8.png\n",
      "dataset-dev/IOI/feedback-ioi-2023-03-02_keep-drop/keep-drop/drop/640181c99b8e29c974cd59aa_Overripe_ffb_24.png\n",
      "dataset-dev/IOI/feedback-ioi-2023-03-02_keep-drop/keep-drop/drop/640181c99b8e29c974cd59aa_Overripe_ffb_4.png\n",
      "dataset-dev/IOI/feedback-ioi-2023-03-02_keep-drop/keep-drop/drop/640181c99b8e29c974cd59aa_Ripe_ffb_10.png\n",
      "dataset-dev/IOI/feedback-ioi-2023-03-02_keep-drop/keep-drop/drop/640181c99b8e29c974cd59aa_Ripe_ffb_16.png\n",
      "dataset-dev/IOI/feedback-ioi-2023-03-02_keep-drop/keep-drop/drop/640181c99b8e29c974cd59aa_Ripe_ffb_22.png\n",
      "dataset-dev/IOI/feedback-ioi-2023-03-02_keep-drop/keep-drop/drop/640181c99b8e29c974cd59aa_Ripe_ffb_23.png\n",
      "dataset-dev/IOI/feedback-ioi-2023-03-02_keep-drop/keep-drop/drop/640181c99b8e29c974cd59aa_Ripe_ffb_27.png\n",
      "dataset-dev/IOI/feedback-ioi-2023-03-02_keep-drop/keep-drop/drop/640181c99b8e29c974cd59aa_Ripe_ffb_3.png\n",
      "dataset-dev/IOI/feedback-ioi-2023-03-02_keep-drop/keep-drop/drop/640181c99b8e29c974cd59aa_Underripe_ffb_1.png\n",
      "dataset-dev/IOI/feedback-ioi-2023-03-02_keep-drop/keep-drop/drop/640181c99b8e29c974cd59aa_Underripe_ffb_11.png\n",
      "dataset-dev/IOI/feedback-ioi-2023-03-02_keep-drop/keep-drop/drop/640181c99b8e29c974cd59aa_Underripe_ffb_13.png\n",
      "dataset-dev/IOI/feedback-ioi-2023-03-02_keep-drop/keep-drop/drop/640181c99b8e29c974cd59aa_Underripe_ffb_25.png\n",
      "dataset-dev/IOI/feedback-ioi-2023-03-02_keep-drop/keep-drop/drop/640181c99b8e29c974cd59aa_Underripe_ffb_30.png\n",
      "dataset-dev/IOI/feedback-ioi-2023-03-02_keep-drop/keep-drop/drop/640181c99b8e29c974cd59aa_Underripe_ffb_5.png\n",
      "dataset-dev/IOI/feedback-ioi-2023-03-02_keep-drop/keep-drop/drop/640181c99b8e29c974cd59aa_Underripe_ffb_7.png\n",
      "dataset-dev/IOI/feedback-ioi-2023-03-02_keep-drop/keep-drop/drop/640181c99b8e29c974cd59aa_Underripe_ffb_8.png\n",
      "dataset-dev/IOI/feedback-ioi-2023-03-02_keep-drop/keep-drop/drop/64018eb99b8e29c974cd59d0_Overripe_ffb_69.png\n",
      "dataset-dev/IOI/feedback-ioi-2023-03-02_keep-drop/keep-drop/drop/64018eb99b8e29c974cd59d0_Overripe_ffb_8.png\n",
      "dataset-dev/IOI/feedback-ioi-2023-03-02_keep-drop/keep-drop/drop/64018eb99b8e29c974cd59d0_Ripe_ffb_22.png\n",
      "dataset-dev/IOI/feedback-ioi-2023-03-02_keep-drop/keep-drop/drop/64018eb99b8e29c974cd59d0_Ripe_ffb_32.png\n",
      "dataset-dev/IOI/feedback-ioi-2023-03-02_keep-drop/keep-drop/drop/64018eb99b8e29c974cd59d0_Ripe_ffb_47.png\n",
      "dataset-dev/IOI/feedback-ioi-2023-03-02_keep-drop/keep-drop/drop/64018eb99b8e29c974cd59d0_Ripe_ffb_5.png\n",
      "dataset-dev/IOI/feedback-ioi-2023-03-02_keep-drop/keep-drop/drop/64018eb99b8e29c974cd59d0_Ripe_ffb_50.png\n",
      "dataset-dev/IOI/feedback-ioi-2023-03-02_keep-drop/keep-drop/drop/64018eb99b8e29c974cd59d0_Ripe_ffb_63.png\n",
      "dataset-dev/IOI/feedback-ioi-2023-03-02_keep-drop/keep-drop/drop/64018eb99b8e29c974cd59d0_Underripe_ffb_0.png\n",
      "dataset-dev/IOI/feedback-ioi-2023-03-02_keep-drop/keep-drop/drop/64018eb99b8e29c974cd59d0_Underripe_ffb_20.png\n",
      "dataset-dev/IOI/feedback-ioi-2023-03-02_keep-drop/keep-drop/drop/64018eb99b8e29c974cd59d0_Underripe_ffb_21.png\n",
      "dataset-dev/IOI/feedback-ioi-2023-03-02_keep-drop/keep-drop/drop/64018eb99b8e29c974cd59d0_Underripe_ffb_24.png\n",
      "dataset-dev/IOI/feedback-ioi-2023-03-02_keep-drop/keep-drop/drop/64018eb99b8e29c974cd59d0_Underripe_ffb_39.png\n",
      "dataset-dev/IOI/feedback-ioi-2023-03-02_keep-drop/keep-drop/drop/64018eb99b8e29c974cd59d0_Underripe_ffb_4.png\n",
      "dataset-dev/IOI/feedback-ioi-2023-03-02_keep-drop/keep-drop/drop/64018eb99b8e29c974cd59d0_Underripe_ffb_44.png\n",
      "dataset-dev/IOI/feedback-ioi-2023-03-02_keep-drop/keep-drop/drop/64018eb99b8e29c974cd59d0_Underripe_ffb_56.png\n",
      "dataset-dev/IOI/feedback-ioi-2023-03-02_keep-drop/keep-drop/drop/64018eb99b8e29c974cd59d0_Underripe_ffb_59.png\n",
      "dataset-dev/IOI/feedback-ioi-2023-03-02_keep-drop/keep-drop/drop/64018eb99b8e29c974cd59d0_Underripe_ffb_61.png\n",
      "dataset-dev/IOI/feedback-ioi-2023-03-02_keep-drop/keep-drop/drop/64018eb99b8e29c974cd59d0_Underripe_ffb_64.png\n",
      "dataset-dev/IOI/feedback-ioi-2023-03-02_keep-drop/keep-drop/drop/64018eb99b8e29c974cd59d0_Underripe_ffb_66.png\n",
      "dataset-dev/IOI/feedback-ioi-2023-03-02_keep-drop/keep-drop/drop/64018eb99b8e29c974cd59d0_Underripe_ffb_7.png\n",
      "dataset-dev/IOI/feedback-ioi-2023-03-02_keep-drop/keep-drop/drop/64018eb99b8e29c974cd59d0_Underripe_ffb_70.png\n",
      "dataset-dev/IOI/feedback-ioi-2023-03-02_keep-drop/keep-drop/drop/64018eb99b8e29c974cd59d0_Underripe_ffb_71.png\n",
      "dataset-dev/IOI/feedback-ioi-2023-03-02_keep-drop/keep-drop/drop/64018eb99b8e29c974cd59d0_Underripe_ffb_9.png\n",
      "dataset-dev/IOI/feedback-ioi-2023-03-02_keep-drop/keep-drop/drop/64018eb99b8e29c974cd59d0_Unripe_ffb_11.png\n",
      "dataset-dev/IOI/feedback-ioi-2023-03-02_keep-drop/keep-drop/drop/64018eb99b8e29c974cd59d0_Unripe_ffb_16.png\n",
      "dataset-dev/IOI/feedback-ioi-2023-03-02_keep-drop/keep-drop/drop/64018eb99b8e29c974cd59d0_Unripe_ffb_30.png\n",
      "dataset-dev/IOI/feedback-ioi-2023-03-02_keep-drop/keep-drop/drop/64018eb99b8e29c974cd59d0_Unripe_ffb_42.png\n",
      "dataset-dev/IOI/feedback-ioi-2023-03-02_keep-drop/keep-drop/drop/640190079b8e29c974cd59d7_Overripe_ffb_3.png\n",
      "dataset-dev/IOI/feedback-ioi-2023-03-02_keep-drop/keep-drop/drop/640190079b8e29c974cd59d7_Ripe_ffb_16.png\n",
      "dataset-dev/IOI/feedback-ioi-2023-03-02_keep-drop/keep-drop/drop/640190079b8e29c974cd59d7_Ripe_ffb_30.png\n",
      "dataset-dev/IOI/feedback-ioi-2023-03-02_keep-drop/keep-drop/drop/640190079b8e29c974cd59d7_Underripe_ffb_22.png\n",
      "dataset-dev/IOI/feedback-ioi-2023-03-02_keep-drop/keep-drop/drop/640190079b8e29c974cd59d7_Underripe_ffb_7.png\n",
      "dataset-dev/IOI/feedback-ioi-2023-03-02_keep-drop/keep-drop/drop/640190079b8e29c974cd59d7_Unripe_ffb_10.png\n",
      "dataset-dev/IOI/feedback-ioi-2023-03-02_keep-drop/keep-drop/drop/640190079b8e29c974cd59d7_Unripe_ffb_11.png\n",
      "dataset-dev/IOI/feedback-ioi-2023-03-02_keep-drop/keep-drop/drop/640190079b8e29c974cd59d7_Unripe_ffb_17.png\n",
      "dataset-dev/IOI/feedback-ioi-2023-03-02_keep-drop/keep-drop/drop/640196879b8e29c974cd5a49_Overripe_ffb_48.png\n",
      "dataset-dev/IOI/feedback-ioi-2023-03-02_keep-drop/keep-drop/drop/640196879b8e29c974cd5a49_Ripe_ffb_25.png\n",
      "dataset-dev/IOI/feedback-ioi-2023-03-02_keep-drop/keep-drop/drop/640196879b8e29c974cd5a49_Ripe_ffb_27.png\n",
      "dataset-dev/IOI/feedback-ioi-2023-03-02_keep-drop/keep-drop/drop/640196879b8e29c974cd5a49_Ripe_ffb_44.png\n",
      "dataset-dev/IOI/feedback-ioi-2023-03-02_keep-drop/keep-drop/drop/640196879b8e29c974cd5a49_Ripe_ffb_55.png\n",
      "dataset-dev/IOI/feedback-ioi-2023-03-02_keep-drop/keep-drop/drop/640196879b8e29c974cd5a49_Underripe_ffb_0.png\n",
      "dataset-dev/IOI/feedback-ioi-2023-03-02_keep-drop/keep-drop/drop/640196879b8e29c974cd5a49_Underripe_ffb_1.png\n",
      "dataset-dev/IOI/feedback-ioi-2023-03-02_keep-drop/keep-drop/drop/640196879b8e29c974cd5a49_Underripe_ffb_10.png\n",
      "dataset-dev/IOI/feedback-ioi-2023-03-02_keep-drop/keep-drop/drop/640196879b8e29c974cd5a49_Underripe_ffb_13.png\n",
      "dataset-dev/IOI/feedback-ioi-2023-03-02_keep-drop/keep-drop/drop/640196879b8e29c974cd5a49_Underripe_ffb_15.png\n",
      "dataset-dev/IOI/feedback-ioi-2023-03-02_keep-drop/keep-drop/drop/640196879b8e29c974cd5a49_Underripe_ffb_18.png\n",
      "dataset-dev/IOI/feedback-ioi-2023-03-02_keep-drop/keep-drop/drop/640196879b8e29c974cd5a49_Underripe_ffb_24.png\n",
      "dataset-dev/IOI/feedback-ioi-2023-03-02_keep-drop/keep-drop/drop/640196879b8e29c974cd5a49_Underripe_ffb_28.png\n",
      "dataset-dev/IOI/feedback-ioi-2023-03-02_keep-drop/keep-drop/drop/640196879b8e29c974cd5a49_Underripe_ffb_29.png\n",
      "dataset-dev/IOI/feedback-ioi-2023-03-02_keep-drop/keep-drop/drop/640196879b8e29c974cd5a49_Underripe_ffb_3.png\n",
      "dataset-dev/IOI/feedback-ioi-2023-03-02_keep-drop/keep-drop/drop/640196879b8e29c974cd5a49_Underripe_ffb_37.png\n",
      "dataset-dev/IOI/feedback-ioi-2023-03-02_keep-drop/keep-drop/drop/640196879b8e29c974cd5a49_Underripe_ffb_42.png\n",
      "dataset-dev/IOI/feedback-ioi-2023-03-02_keep-drop/keep-drop/drop/640196879b8e29c974cd5a49_Underripe_ffb_47.png\n",
      "dataset-dev/IOI/feedback-ioi-2023-03-02_keep-drop/keep-drop/drop/640196879b8e29c974cd5a49_Underripe_ffb_49.png\n",
      "dataset-dev/IOI/feedback-ioi-2023-03-02_keep-drop/keep-drop/drop/640196879b8e29c974cd5a49_Underripe_ffb_51.png\n",
      "dataset-dev/IOI/feedback-ioi-2023-03-02_keep-drop/keep-drop/drop/640196879b8e29c974cd5a49_Underripe_ffb_52.png\n",
      "dataset-dev/IOI/feedback-ioi-2023-03-02_keep-drop/keep-drop/drop/640196879b8e29c974cd5a49_Underripe_ffb_57.png\n",
      "dataset-dev/IOI/feedback-ioi-2023-03-02_keep-drop/keep-drop/drop/640196879b8e29c974cd5a49_Underripe_ffb_58.png\n",
      "dataset-dev/IOI/feedback-ioi-2023-03-02_keep-drop/keep-drop/drop/640196879b8e29c974cd5a49_Underripe_ffb_6.png\n",
      "dataset-dev/IOI/feedback-ioi-2023-03-02_keep-drop/keep-drop/drop/640196879b8e29c974cd5a49_Underripe_ffb_60.png\n",
      "dataset-dev/IOI/feedback-ioi-2023-03-02_keep-drop/keep-drop/drop/640196879b8e29c974cd5a49_Underripe_ffb_61.png\n",
      "dataset-dev/IOI/feedback-ioi-2023-03-02_keep-drop/keep-drop/drop/640196879b8e29c974cd5a49_Underripe_ffb_7.png\n",
      "dataset-dev/IOI/feedback-ioi-2023-03-02_keep-drop/keep-drop/drop/640196879b8e29c974cd5a49_Underripe_ffb_9.png\n",
      "dataset-dev/IOI/feedback-ioi-2023-03-02_keep-drop/keep-drop/drop/640196879b8e29c974cd5a49_Unripe_ffb_17.png\n",
      "dataset-dev/IOI/feedback-ioi-2023-03-02_keep-drop/keep-drop/drop/640196879b8e29c974cd5a49_Unripe_ffb_36.png\n",
      "dataset-dev/IOI/feedback-ioi-2023-03-02_keep-drop/keep-drop/drop/640196879b8e29c974cd5a49_Unripe_ffb_41.png\n",
      "dataset-dev/IOI/feedback-ioi-2023-03-02_keep-drop/keep-drop/drop/640196879b8e29c974cd5a49_Unripe_ffb_5.png\n",
      "dataset-dev/IOI/feedback-ioi-2023-03-02_keep-drop/keep-drop/drop/640196879b8e29c974cd5a49_Unripe_ffb_8.png\n",
      "dataset-dev/IOI/feedback-ioi-2023-03-02_keep-drop/keep-drop/drop/64019bab9b8e29c974cd5a8e_Overripe_ffb_48.png\n",
      "dataset-dev/IOI/feedback-ioi-2023-03-02_keep-drop/keep-drop/drop/64019bab9b8e29c974cd5a8e_Overripe_ffb_64.png\n",
      "dataset-dev/IOI/feedback-ioi-2023-03-02_keep-drop/keep-drop/drop/64019bab9b8e29c974cd5a8e_Ripe_ffb_1.png\n",
      "dataset-dev/IOI/feedback-ioi-2023-03-02_keep-drop/keep-drop/drop/64019bab9b8e29c974cd5a8e_Ripe_ffb_13.png\n",
      "dataset-dev/IOI/feedback-ioi-2023-03-02_keep-drop/keep-drop/drop/64019bab9b8e29c974cd5a8e_Ripe_ffb_18.png\n",
      "dataset-dev/IOI/feedback-ioi-2023-03-02_keep-drop/keep-drop/drop/64019bab9b8e29c974cd5a8e_Ripe_ffb_2.png\n",
      "dataset-dev/IOI/feedback-ioi-2023-03-02_keep-drop/keep-drop/drop/64019bab9b8e29c974cd5a8e_Ripe_ffb_23.png\n",
      "dataset-dev/IOI/feedback-ioi-2023-03-02_keep-drop/keep-drop/drop/64019bab9b8e29c974cd5a8e_Ripe_ffb_25.png\n",
      "dataset-dev/IOI/feedback-ioi-2023-03-02_keep-drop/keep-drop/drop/64019bab9b8e29c974cd5a8e_Ripe_ffb_38.png\n",
      "dataset-dev/IOI/feedback-ioi-2023-03-02_keep-drop/keep-drop/drop/64019bab9b8e29c974cd5a8e_Ripe_ffb_40.png\n",
      "dataset-dev/IOI/feedback-ioi-2023-03-02_keep-drop/keep-drop/drop/64019bab9b8e29c974cd5a8e_Ripe_ffb_42.png\n",
      "dataset-dev/IOI/feedback-ioi-2023-03-02_keep-drop/keep-drop/drop/64019bab9b8e29c974cd5a8e_Ripe_ffb_50.png\n",
      "dataset-dev/IOI/feedback-ioi-2023-03-02_keep-drop/keep-drop/drop/64019bab9b8e29c974cd5a8e_Ripe_ffb_52.png\n",
      "dataset-dev/IOI/feedback-ioi-2023-03-02_keep-drop/keep-drop/drop/64019bab9b8e29c974cd5a8e_Ripe_ffb_58.png\n",
      "dataset-dev/IOI/feedback-ioi-2023-03-02_keep-drop/keep-drop/drop/64019bab9b8e29c974cd5a8e_Underripe_ffb_14.png\n",
      "dataset-dev/IOI/feedback-ioi-2023-03-02_keep-drop/keep-drop/drop/64019bab9b8e29c974cd5a8e_Underripe_ffb_16.png\n",
      "dataset-dev/IOI/feedback-ioi-2023-03-02_keep-drop/keep-drop/drop/64019bab9b8e29c974cd5a8e_Underripe_ffb_17.png\n",
      "dataset-dev/IOI/feedback-ioi-2023-03-02_keep-drop/keep-drop/drop/64019bab9b8e29c974cd5a8e_Underripe_ffb_27.png\n",
      "dataset-dev/IOI/feedback-ioi-2023-03-02_keep-drop/keep-drop/drop/64019bab9b8e29c974cd5a8e_Underripe_ffb_31.png\n",
      "dataset-dev/IOI/feedback-ioi-2023-03-02_keep-drop/keep-drop/drop/64019bab9b8e29c974cd5a8e_Underripe_ffb_43.png\n",
      "dataset-dev/IOI/feedback-ioi-2023-03-02_keep-drop/keep-drop/drop/64019bab9b8e29c974cd5a8e_Underripe_ffb_45.png\n",
      "dataset-dev/IOI/feedback-ioi-2023-03-02_keep-drop/keep-drop/drop/64019bab9b8e29c974cd5a8e_Underripe_ffb_47.png\n",
      "dataset-dev/IOI/feedback-ioi-2023-03-02_keep-drop/keep-drop/drop/64019bab9b8e29c974cd5a8e_Unripe_ffb_3.png\n",
      "dataset-dev/IOI/feedback-ioi-2023-03-02_keep-drop/keep-drop/drop/64019bab9b8e29c974cd5a8e_Unripe_ffb_39.png\n",
      "dataset-dev/IOI/feedback-ioi-2023-03-02_keep-drop/keep-drop/drop/64019bab9b8e29c974cd5a8e_Unripe_ffb_53.png\n",
      "dataset-dev/IOI/feedback-ioi-2023-03-02_keep-drop/keep-drop/drop/64019edc9b8e29c974cd5ad6_Overripe_ffb_14.png\n",
      "dataset-dev/IOI/feedback-ioi-2023-03-02_keep-drop/keep-drop/drop/64019edc9b8e29c974cd5ad6_Overripe_ffb_21.png\n",
      "dataset-dev/IOI/feedback-ioi-2023-03-02_keep-drop/keep-drop/drop/64019edc9b8e29c974cd5ad6_Ripe_ffb_22.png\n",
      "dataset-dev/IOI/feedback-ioi-2023-03-02_keep-drop/keep-drop/drop/64019edc9b8e29c974cd5ad6_Ripe_ffb_26.png\n",
      "dataset-dev/IOI/feedback-ioi-2023-03-02_keep-drop/keep-drop/drop/64019edc9b8e29c974cd5ad6_Ripe_ffb_35.png\n",
      "dataset-dev/IOI/feedback-ioi-2023-03-02_keep-drop/keep-drop/drop/64019edc9b8e29c974cd5ad6_Ripe_ffb_4.png\n",
      "dataset-dev/IOI/feedback-ioi-2023-03-02_keep-drop/keep-drop/drop/64019edc9b8e29c974cd5ad6_Ripe_ffb_59.png\n",
      "dataset-dev/IOI/feedback-ioi-2023-03-02_keep-drop/keep-drop/drop/64019edc9b8e29c974cd5ad6_Underripe_ffb_12.png\n",
      "dataset-dev/IOI/feedback-ioi-2023-03-02_keep-drop/keep-drop/drop/64019edc9b8e29c974cd5ad6_Underripe_ffb_19.png\n",
      "dataset-dev/IOI/feedback-ioi-2023-03-02_keep-drop/keep-drop/drop/64019edc9b8e29c974cd5ad6_Underripe_ffb_39.png\n",
      "dataset-dev/IOI/feedback-ioi-2023-03-02_keep-drop/keep-drop/drop/64019edc9b8e29c974cd5ad6_Underripe_ffb_40.png\n",
      "dataset-dev/IOI/feedback-ioi-2023-03-02_keep-drop/keep-drop/drop/64019edc9b8e29c974cd5ad6_Underripe_ffb_47.png\n",
      "dataset-dev/IOI/feedback-ioi-2023-03-02_keep-drop/keep-drop/drop/64019edc9b8e29c974cd5ad6_Underripe_ffb_50.png\n",
      "dataset-dev/IOI/feedback-ioi-2023-03-02_keep-drop/keep-drop/drop/64019edc9b8e29c974cd5ad6_Underripe_ffb_56.png\n",
      "dataset-dev/IOI/feedback-ioi-2023-03-02_keep-drop/keep-drop/drop/64019edc9b8e29c974cd5ad6_Underripe_ffb_57.png\n",
      "dataset-dev/IOI/feedback-ioi-2023-03-02_keep-drop/keep-drop/drop/64019edc9b8e29c974cd5ad6_Underripe_ffb_64.png\n",
      "dataset-dev/IOI/feedback-ioi-2023-03-02_keep-drop/keep-drop/drop/64019edc9b8e29c974cd5ad6_Underripe_ffb_65.png\n",
      "dataset-dev/IOI/feedback-ioi-2023-03-02_keep-drop/keep-drop/drop/64019edc9b8e29c974cd5ad6_Underripe_ffb_66.png\n",
      "dataset-dev/IOI/feedback-ioi-2023-03-02_keep-drop/keep-drop/drop/64019edc9b8e29c974cd5ad6_Underripe_ffb_69.png\n",
      "dataset-dev/IOI/feedback-ioi-2023-03-02_keep-drop/keep-drop/drop/64019edc9b8e29c974cd5ad6_Underripe_ffb_8.png\n",
      "dataset-dev/IOI/feedback-ioi-2023-03-02_keep-drop/keep-drop/drop/64019edc9b8e29c974cd5ad6_Unripe_ffb_11.png\n",
      "dataset-dev/IOI/feedback-ioi-2023-03-02_keep-drop/keep-drop/drop/64019edc9b8e29c974cd5ad6_Unripe_ffb_29.png\n",
      "dataset-dev/IOI/feedback-ioi-2023-03-02_keep-drop/keep-drop/drop/64019edc9b8e29c974cd5ad6_Unripe_ffb_30.png\n",
      "dataset-dev/IOI/feedback-ioi-2023-03-02_keep-drop/keep-drop/drop/6401a8bc9b8e29c974cd5b23_Overripe_ffb_57.png\n",
      "dataset-dev/IOI/feedback-ioi-2023-03-02_keep-drop/keep-drop/drop/6401a8bc9b8e29c974cd5b23_Ripe_ffb_22.png\n",
      "dataset-dev/IOI/feedback-ioi-2023-03-02_keep-drop/keep-drop/drop/6401a8bc9b8e29c974cd5b23_Ripe_ffb_48.png\n",
      "dataset-dev/IOI/feedback-ioi-2023-03-02_keep-drop/keep-drop/drop/6401a8bc9b8e29c974cd5b23_Underripe_ffb_23.png\n",
      "dataset-dev/IOI/feedback-ioi-2023-03-02_keep-drop/keep-drop/drop/6401a8bc9b8e29c974cd5b23_Underripe_ffb_24.png\n",
      "dataset-dev/IOI/feedback-ioi-2023-03-02_keep-drop/keep-drop/drop/6401a8bc9b8e29c974cd5b23_Underripe_ffb_25.png\n",
      "dataset-dev/IOI/feedback-ioi-2023-03-02_keep-drop/keep-drop/drop/6401a8bc9b8e29c974cd5b23_Underripe_ffb_30.png\n",
      "dataset-dev/IOI/feedback-ioi-2023-03-02_keep-drop/keep-drop/drop/6401a8bc9b8e29c974cd5b23_Underripe_ffb_31.png\n",
      "dataset-dev/IOI/feedback-ioi-2023-03-02_keep-drop/keep-drop/drop/6401a8bc9b8e29c974cd5b23_Underripe_ffb_36.png\n",
      "dataset-dev/IOI/feedback-ioi-2023-03-02_keep-drop/keep-drop/drop/6401a8bc9b8e29c974cd5b23_Underripe_ffb_37.png\n",
      "dataset-dev/IOI/feedback-ioi-2023-03-02_keep-drop/keep-drop/drop/6401a8bc9b8e29c974cd5b23_Underripe_ffb_44.png\n",
      "dataset-dev/IOI/feedback-ioi-2023-03-02_keep-drop/keep-drop/drop/6401a8bc9b8e29c974cd5b23_Underripe_ffb_45.png\n",
      "dataset-dev/IOI/feedback-ioi-2023-03-02_keep-drop/keep-drop/drop/6401a8bc9b8e29c974cd5b23_Underripe_ffb_46.png\n",
      "dataset-dev/IOI/feedback-ioi-2023-03-02_keep-drop/keep-drop/drop/6401a8bc9b8e29c974cd5b23_Underripe_ffb_50.png\n",
      "dataset-dev/IOI/feedback-ioi-2023-03-02_keep-drop/keep-drop/drop/6401a8bc9b8e29c974cd5b23_Underripe_ffb_58.png\n",
      "dataset-dev/IOI/feedback-ioi-2023-03-02_keep-drop/keep-drop/drop/6401a8bc9b8e29c974cd5b23_Underripe_ffb_7.png\n",
      "dataset-dev/IOI/feedback-ioi-2023-03-02_keep-drop/keep-drop/drop/6401a8bc9b8e29c974cd5b23_Unripe_ffb_12.png\n",
      "dataset-dev/IOI/feedback-ioi-2023-03-02_keep-drop/keep-drop/drop/6401a8bc9b8e29c974cd5b23_Unripe_ffb_42.png\n",
      "dataset-dev/IOI/feedback-ioi-2023-03-02_keep-drop/keep-drop/drop/6401a8bc9b8e29c974cd5b23_Unripe_ffb_67.png\n",
      "dataset-dev/IOI/feedback-ioi-2023-03-02_keep-drop/keep-drop/drop/6401bca99b8e29c974cd5bb4_Ripe_ffb_0.png\n",
      "dataset-dev/IOI/feedback-ioi-2023-03-02_keep-drop/keep-drop/drop/6401bca99b8e29c974cd5bb4_Ripe_ffb_11.png\n",
      "dataset-dev/IOI/feedback-ioi-2023-03-02_keep-drop/keep-drop/drop/6401bca99b8e29c974cd5bb4_Ripe_ffb_22.png\n",
      "dataset-dev/IOI/feedback-ioi-2023-03-02_keep-drop/keep-drop/drop/6401bca99b8e29c974cd5bb4_Ripe_ffb_24.png\n",
      "dataset-dev/IOI/feedback-ioi-2023-03-02_keep-drop/keep-drop/drop/6401bca99b8e29c974cd5bb4_Ripe_ffb_27.png\n",
      "dataset-dev/IOI/feedback-ioi-2023-03-02_keep-drop/keep-drop/drop/6401bca99b8e29c974cd5bb4_Ripe_ffb_3.png\n",
      "dataset-dev/IOI/feedback-ioi-2023-03-02_keep-drop/keep-drop/drop/6401bca99b8e29c974cd5bb4_Ripe_ffb_43.png\n",
      "dataset-dev/IOI/feedback-ioi-2023-03-02_keep-drop/keep-drop/drop/6401bca99b8e29c974cd5bb4_Ripe_ffb_45.png\n",
      "dataset-dev/IOI/feedback-ioi-2023-03-02_keep-drop/keep-drop/drop/6401bca99b8e29c974cd5bb4_Underripe_ffb_14.png\n",
      "dataset-dev/IOI/feedback-ioi-2023-03-02_keep-drop/keep-drop/drop/6401bca99b8e29c974cd5bb4_Underripe_ffb_17.png\n",
      "dataset-dev/IOI/feedback-ioi-2023-03-02_keep-drop/keep-drop/drop/6401bca99b8e29c974cd5bb4_Underripe_ffb_19.png\n",
      "dataset-dev/IOI/feedback-ioi-2023-03-02_keep-drop/keep-drop/drop/6401bca99b8e29c974cd5bb4_Underripe_ffb_2.png\n",
      "dataset-dev/IOI/feedback-ioi-2023-03-02_keep-drop/keep-drop/drop/6401bca99b8e29c974cd5bb4_Underripe_ffb_23.png\n",
      "dataset-dev/IOI/feedback-ioi-2023-03-02_keep-drop/keep-drop/drop/6401bca99b8e29c974cd5bb4_Underripe_ffb_36.png\n",
      "dataset-dev/IOI/feedback-ioi-2023-03-02_keep-drop/keep-drop/drop/6401bca99b8e29c974cd5bb4_Underripe_ffb_37.png\n",
      "dataset-dev/IOI/feedback-ioi-2023-03-02_keep-drop/keep-drop/drop/6401bca99b8e29c974cd5bb4_Underripe_ffb_41.png\n",
      "dataset-dev/IOI/feedback-ioi-2023-03-02_keep-drop/keep-drop/drop/6401bca99b8e29c974cd5bb4_Underripe_ffb_44.png\n",
      "dataset-dev/IOI/feedback-ioi-2023-03-02_keep-drop/keep-drop/drop/6401bca99b8e29c974cd5bb4_Underripe_ffb_49.png\n",
      "dataset-dev/IOI/feedback-ioi-2023-03-02_keep-drop/keep-drop/drop/6401bca99b8e29c974cd5bb4_Underripe_ffb_7.png\n",
      "dataset-dev/IOI/feedback-ioi-2023-03-02_keep-drop/keep-drop/drop/6401bca99b8e29c974cd5bb4_Unripe_ffb_18.png\n",
      "dataset-dev/IOI/feedback-ioi-2023-03-02_keep-drop/keep-drop/drop/6401bca99b8e29c974cd5bb4_Unripe_ffb_38.png\n",
      "dataset-dev/IOI/feedback-ioi-2023-03-02_keep-drop/keep-drop/drop/6401bca99b8e29c974cd5bb4_Unripe_ffb_40.png\n",
      "dataset-dev/IOI/feedback-ioi-2023-03-02_keep-drop/keep-drop/drop/6401bca99b8e29c974cd5bb4_Unripe_ffb_8.png\n",
      "dataset-dev/IOI/feedback-ioi-2023-03-02_keep-drop/keep-drop/drop/6401bdac9b8e29c974cd5bbb_Overripe_ffb_21.png\n",
      "dataset-dev/IOI/feedback-ioi-2023-03-02_keep-drop/keep-drop/drop/6401bdac9b8e29c974cd5bbb_Overripe_ffb_42.png\n",
      "dataset-dev/IOI/feedback-ioi-2023-03-02_keep-drop/keep-drop/drop/6401bdac9b8e29c974cd5bbb_Overripe_ffb_6.png\n",
      "dataset-dev/IOI/feedback-ioi-2023-03-02_keep-drop/keep-drop/drop/6401bdac9b8e29c974cd5bbb_Overripe_ffb_8.png\n",
      "dataset-dev/IOI/feedback-ioi-2023-03-02_keep-drop/keep-drop/drop/6401bdac9b8e29c974cd5bbb_Ripe_ffb_0.png\n",
      "dataset-dev/IOI/feedback-ioi-2023-03-02_keep-drop/keep-drop/drop/6401bdac9b8e29c974cd5bbb_Ripe_ffb_1.png\n",
      "dataset-dev/IOI/feedback-ioi-2023-03-02_keep-drop/keep-drop/drop/6401bdac9b8e29c974cd5bbb_Ripe_ffb_12.png\n",
      "dataset-dev/IOI/feedback-ioi-2023-03-02_keep-drop/keep-drop/drop/6401bdac9b8e29c974cd5bbb_Ripe_ffb_22.png\n",
      "dataset-dev/IOI/feedback-ioi-2023-03-02_keep-drop/keep-drop/drop/6401bdac9b8e29c974cd5bbb_Ripe_ffb_24.png\n",
      "dataset-dev/IOI/feedback-ioi-2023-03-02_keep-drop/keep-drop/drop/6401bdac9b8e29c974cd5bbb_Ripe_ffb_25.png\n",
      "dataset-dev/IOI/feedback-ioi-2023-03-02_keep-drop/keep-drop/drop/6401bdac9b8e29c974cd5bbb_Ripe_ffb_27.png\n",
      "dataset-dev/IOI/feedback-ioi-2023-03-02_keep-drop/keep-drop/drop/6401bdac9b8e29c974cd5bbb_Ripe_ffb_28.png\n",
      "dataset-dev/IOI/feedback-ioi-2023-03-02_keep-drop/keep-drop/drop/6401bdac9b8e29c974cd5bbb_Ripe_ffb_29.png\n",
      "dataset-dev/IOI/feedback-ioi-2023-03-02_keep-drop/keep-drop/drop/6401bdac9b8e29c974cd5bbb_Ripe_ffb_36.png\n",
      "dataset-dev/IOI/feedback-ioi-2023-03-02_keep-drop/keep-drop/drop/6401bdac9b8e29c974cd5bbb_Ripe_ffb_37.png\n",
      "dataset-dev/IOI/feedback-ioi-2023-03-02_keep-drop/keep-drop/drop/6401bdac9b8e29c974cd5bbb_Ripe_ffb_39.png\n",
      "dataset-dev/IOI/feedback-ioi-2023-03-02_keep-drop/keep-drop/drop/6401bdac9b8e29c974cd5bbb_Ripe_ffb_41.png\n",
      "dataset-dev/IOI/feedback-ioi-2023-03-02_keep-drop/keep-drop/drop/6401bdac9b8e29c974cd5bbb_Ripe_ffb_47.png\n",
      "dataset-dev/IOI/feedback-ioi-2023-03-02_keep-drop/keep-drop/drop/6401bdac9b8e29c974cd5bbb_Ripe_ffb_48.png\n",
      "dataset-dev/IOI/feedback-ioi-2023-03-02_keep-drop/keep-drop/drop/6401bdac9b8e29c974cd5bbb_Ripe_ffb_49.png\n",
      "dataset-dev/IOI/feedback-ioi-2023-03-02_keep-drop/keep-drop/drop/6401bdac9b8e29c974cd5bbb_Ripe_ffb_50.png\n",
      "dataset-dev/IOI/feedback-ioi-2023-03-02_keep-drop/keep-drop/drop/6401bdac9b8e29c974cd5bbb_Ripe_ffb_9.png\n",
      "dataset-dev/IOI/feedback-ioi-2023-03-02_keep-drop/keep-drop/drop/6401bdac9b8e29c974cd5bbb_Underripe_ffb_11.png\n",
      "dataset-dev/IOI/feedback-ioi-2023-03-02_keep-drop/keep-drop/drop/6401bdac9b8e29c974cd5bbb_Underripe_ffb_2.png\n",
      "dataset-dev/IOI/feedback-ioi-2023-03-02_keep-drop/keep-drop/drop/6401bdac9b8e29c974cd5bbb_Underripe_ffb_26.png\n",
      "dataset-dev/IOI/feedback-ioi-2023-03-02_keep-drop/keep-drop/drop/6401bdac9b8e29c974cd5bbb_Underripe_ffb_33.png\n",
      "dataset-dev/IOI/feedback-ioi-2023-03-02_keep-drop/keep-drop/drop/6401bdac9b8e29c974cd5bbb_Underripe_ffb_38.png\n",
      "dataset-dev/IOI/feedback-ioi-2023-03-02_keep-drop/keep-drop/drop/6401bdac9b8e29c974cd5bbb_Underripe_ffb_44.png\n",
      "dataset-dev/IOI/feedback-ioi-2023-03-02_keep-drop/keep-drop/drop/6401bdac9b8e29c974cd5bbb_Underripe_ffb_45.png\n",
      "dataset-dev/IOI/feedback-ioi-2023-03-02_keep-drop/keep-drop/drop/6401bdac9b8e29c974cd5bbb_Underripe_ffb_7.png\n",
      "dataset-dev/IOI/feedback-ioi-2023-03-02_keep-drop/keep-drop/drop/6401bdac9b8e29c974cd5bbb_Unripe_ffb_20.png\n",
      "dataset-dev/IOI/feedback-ioi-2023-03-02_keep-drop/keep-drop/keep/64016b3d9b8e29c974cd580f_Overripe_ffb_35.png\n",
      "dataset-dev/IOI/feedback-ioi-2023-03-02_keep-drop/keep-drop/keep/64016b3d9b8e29c974cd580f_Overripe_ffb_37.png\n",
      "dataset-dev/IOI/feedback-ioi-2023-03-02_keep-drop/keep-drop/keep/64016b3d9b8e29c974cd580f_Overripe_ffb_49.png\n",
      "dataset-dev/IOI/feedback-ioi-2023-03-02_keep-drop/keep-drop/keep/64016b3d9b8e29c974cd580f_Ripe_ffb_14.png\n",
      "dataset-dev/IOI/feedback-ioi-2023-03-02_keep-drop/keep-drop/keep/64016b3d9b8e29c974cd580f_Ripe_ffb_17.png\n",
      "dataset-dev/IOI/feedback-ioi-2023-03-02_keep-drop/keep-drop/keep/64016b3d9b8e29c974cd580f_Ripe_ffb_28.png\n",
      "dataset-dev/IOI/feedback-ioi-2023-03-02_keep-drop/keep-drop/keep/64016b3d9b8e29c974cd580f_Ripe_ffb_29.png\n",
      "dataset-dev/IOI/feedback-ioi-2023-03-02_keep-drop/keep-drop/keep/64016b3d9b8e29c974cd580f_Ripe_ffb_33.png\n",
      "dataset-dev/IOI/feedback-ioi-2023-03-02_keep-drop/keep-drop/keep/64016b3d9b8e29c974cd580f_Ripe_ffb_34.png\n",
      "dataset-dev/IOI/feedback-ioi-2023-03-02_keep-drop/keep-drop/keep/64016b3d9b8e29c974cd580f_Ripe_ffb_39.png\n",
      "dataset-dev/IOI/feedback-ioi-2023-03-02_keep-drop/keep-drop/keep/64016b3d9b8e29c974cd580f_Ripe_ffb_45.png\n",
      "dataset-dev/IOI/feedback-ioi-2023-03-02_keep-drop/keep-drop/keep/64016b3d9b8e29c974cd580f_Ripe_ffb_46.png\n",
      "dataset-dev/IOI/feedback-ioi-2023-03-02_keep-drop/keep-drop/keep/64016b3d9b8e29c974cd580f_Ripe_ffb_47.png\n",
      "dataset-dev/IOI/feedback-ioi-2023-03-02_keep-drop/keep-drop/keep/64016b3d9b8e29c974cd580f_Ripe_ffb_5.png\n",
      "dataset-dev/IOI/feedback-ioi-2023-03-02_keep-drop/keep-drop/keep/64016b3d9b8e29c974cd580f_Ripe_ffb_53.png\n",
      "dataset-dev/IOI/feedback-ioi-2023-03-02_keep-drop/keep-drop/keep/64016b3d9b8e29c974cd580f_Underripe_ffb_0.png\n",
      "dataset-dev/IOI/feedback-ioi-2023-03-02_keep-drop/keep-drop/keep/64016b3d9b8e29c974cd580f_Underripe_ffb_1.png\n",
      "dataset-dev/IOI/feedback-ioi-2023-03-02_keep-drop/keep-drop/keep/64016b3d9b8e29c974cd580f_Underripe_ffb_10.png\n",
      "dataset-dev/IOI/feedback-ioi-2023-03-02_keep-drop/keep-drop/keep/64016b3d9b8e29c974cd580f_Underripe_ffb_13.png\n",
      "dataset-dev/IOI/feedback-ioi-2023-03-02_keep-drop/keep-drop/keep/64016b3d9b8e29c974cd580f_Underripe_ffb_16.png\n",
      "dataset-dev/IOI/feedback-ioi-2023-03-02_keep-drop/keep-drop/keep/64016b3d9b8e29c974cd580f_Underripe_ffb_18.png\n",
      "dataset-dev/IOI/feedback-ioi-2023-03-02_keep-drop/keep-drop/keep/64016b3d9b8e29c974cd580f_Underripe_ffb_2.png\n",
      "dataset-dev/IOI/feedback-ioi-2023-03-02_keep-drop/keep-drop/keep/64016b3d9b8e29c974cd580f_Underripe_ffb_21.png\n",
      "dataset-dev/IOI/feedback-ioi-2023-03-02_keep-drop/keep-drop/keep/64016b3d9b8e29c974cd580f_Underripe_ffb_26.png\n",
      "dataset-dev/IOI/feedback-ioi-2023-03-02_keep-drop/keep-drop/keep/64016b3d9b8e29c974cd580f_Underripe_ffb_30.png\n",
      "dataset-dev/IOI/feedback-ioi-2023-03-02_keep-drop/keep-drop/keep/64016b3d9b8e29c974cd580f_Underripe_ffb_32.png\n",
      "dataset-dev/IOI/feedback-ioi-2023-03-02_keep-drop/keep-drop/keep/64016b3d9b8e29c974cd580f_Underripe_ffb_36.png\n",
      "dataset-dev/IOI/feedback-ioi-2023-03-02_keep-drop/keep-drop/keep/64016b3d9b8e29c974cd580f_Underripe_ffb_38.png\n",
      "dataset-dev/IOI/feedback-ioi-2023-03-02_keep-drop/keep-drop/keep/64016b3d9b8e29c974cd580f_Underripe_ffb_44.png\n",
      "dataset-dev/IOI/feedback-ioi-2023-03-02_keep-drop/keep-drop/keep/64016b3d9b8e29c974cd580f_Underripe_ffb_50.png\n",
      "dataset-dev/IOI/feedback-ioi-2023-03-02_keep-drop/keep-drop/keep/64016b3d9b8e29c974cd580f_Underripe_ffb_6.png\n",
      "dataset-dev/IOI/feedback-ioi-2023-03-02_keep-drop/keep-drop/keep/64016b3d9b8e29c974cd580f_Underripe_ffb_7.png\n",
      "dataset-dev/IOI/feedback-ioi-2023-03-02_keep-drop/keep-drop/keep/64016b3d9b8e29c974cd580f_Underripe_ffb_9.png\n",
      "dataset-dev/IOI/feedback-ioi-2023-03-02_keep-drop/keep-drop/keep/64016b3d9b8e29c974cd580f_Unripe_ffb_22.png\n",
      "dataset-dev/IOI/feedback-ioi-2023-03-02_keep-drop/keep-drop/keep/64016b3d9b8e29c974cd580f_Unripe_ffb_23.png\n",
      "dataset-dev/IOI/feedback-ioi-2023-03-02_keep-drop/keep-drop/keep/64016b3d9b8e29c974cd580f_Unripe_ffb_8.png\n",
      "dataset-dev/IOI/feedback-ioi-2023-03-02_keep-drop/keep-drop/keep/64016c5f9b8e29c974cd5816_Overripe_ffb_18.png\n",
      "dataset-dev/IOI/feedback-ioi-2023-03-02_keep-drop/keep-drop/keep/64016c5f9b8e29c974cd5816_Ripe_ffb_12.png\n",
      "dataset-dev/IOI/feedback-ioi-2023-03-02_keep-drop/keep-drop/keep/64016c5f9b8e29c974cd5816_Ripe_ffb_14.png\n",
      "dataset-dev/IOI/feedback-ioi-2023-03-02_keep-drop/keep-drop/keep/64016c5f9b8e29c974cd5816_Ripe_ffb_23.png\n",
      "dataset-dev/IOI/feedback-ioi-2023-03-02_keep-drop/keep-drop/keep/64016c5f9b8e29c974cd5816_Ripe_ffb_28.png\n",
      "dataset-dev/IOI/feedback-ioi-2023-03-02_keep-drop/keep-drop/keep/64016c5f9b8e29c974cd5816_Ripe_ffb_32.png\n",
      "dataset-dev/IOI/feedback-ioi-2023-03-02_keep-drop/keep-drop/keep/64016c5f9b8e29c974cd5816_Ripe_ffb_33.png\n",
      "dataset-dev/IOI/feedback-ioi-2023-03-02_keep-drop/keep-drop/keep/64016c5f9b8e29c974cd5816_Ripe_ffb_36.png\n",
      "dataset-dev/IOI/feedback-ioi-2023-03-02_keep-drop/keep-drop/keep/64016c5f9b8e29c974cd5816_Ripe_ffb_49.png\n",
      "dataset-dev/IOI/feedback-ioi-2023-03-02_keep-drop/keep-drop/keep/64016c5f9b8e29c974cd5816_Ripe_ffb_52.png\n",
      "dataset-dev/IOI/feedback-ioi-2023-03-02_keep-drop/keep-drop/keep/64016c5f9b8e29c974cd5816_Ripe_ffb_57.png\n",
      "dataset-dev/IOI/feedback-ioi-2023-03-02_keep-drop/keep-drop/keep/64016c5f9b8e29c974cd5816_Ripe_ffb_9.png\n",
      "dataset-dev/IOI/feedback-ioi-2023-03-02_keep-drop/keep-drop/keep/64016c5f9b8e29c974cd5816_Underripe_ffb_15.png\n",
      "dataset-dev/IOI/feedback-ioi-2023-03-02_keep-drop/keep-drop/keep/64016c5f9b8e29c974cd5816_Underripe_ffb_16.png\n",
      "dataset-dev/IOI/feedback-ioi-2023-03-02_keep-drop/keep-drop/keep/64016c5f9b8e29c974cd5816_Underripe_ffb_17.png\n",
      "dataset-dev/IOI/feedback-ioi-2023-03-02_keep-drop/keep-drop/keep/64016c5f9b8e29c974cd5816_Underripe_ffb_21.png\n",
      "dataset-dev/IOI/feedback-ioi-2023-03-02_keep-drop/keep-drop/keep/64016c5f9b8e29c974cd5816_Underripe_ffb_22.png\n",
      "dataset-dev/IOI/feedback-ioi-2023-03-02_keep-drop/keep-drop/keep/64016c5f9b8e29c974cd5816_Underripe_ffb_25.png\n",
      "dataset-dev/IOI/feedback-ioi-2023-03-02_keep-drop/keep-drop/keep/64016c5f9b8e29c974cd5816_Underripe_ffb_27.png\n",
      "dataset-dev/IOI/feedback-ioi-2023-03-02_keep-drop/keep-drop/keep/64016c5f9b8e29c974cd5816_Underripe_ffb_31.png\n",
      "dataset-dev/IOI/feedback-ioi-2023-03-02_keep-drop/keep-drop/keep/64016c5f9b8e29c974cd5816_Underripe_ffb_38.png\n",
      "dataset-dev/IOI/feedback-ioi-2023-03-02_keep-drop/keep-drop/keep/64016c5f9b8e29c974cd5816_Underripe_ffb_42.png\n",
      "dataset-dev/IOI/feedback-ioi-2023-03-02_keep-drop/keep-drop/keep/64016c5f9b8e29c974cd5816_Underripe_ffb_44.png\n",
      "dataset-dev/IOI/feedback-ioi-2023-03-02_keep-drop/keep-drop/keep/64016c5f9b8e29c974cd5816_Underripe_ffb_47.png\n",
      "dataset-dev/IOI/feedback-ioi-2023-03-02_keep-drop/keep-drop/keep/64016c5f9b8e29c974cd5816_Underripe_ffb_48.png\n",
      "dataset-dev/IOI/feedback-ioi-2023-03-02_keep-drop/keep-drop/keep/64016c5f9b8e29c974cd5816_Underripe_ffb_5.png\n",
      "dataset-dev/IOI/feedback-ioi-2023-03-02_keep-drop/keep-drop/keep/64016c5f9b8e29c974cd5816_Underripe_ffb_50.png\n",
      "dataset-dev/IOI/feedback-ioi-2023-03-02_keep-drop/keep-drop/keep/64016c5f9b8e29c974cd5816_Underripe_ffb_51.png\n",
      "dataset-dev/IOI/feedback-ioi-2023-03-02_keep-drop/keep-drop/keep/64016c5f9b8e29c974cd5816_Underripe_ffb_53.png\n",
      "dataset-dev/IOI/feedback-ioi-2023-03-02_keep-drop/keep-drop/keep/64016c5f9b8e29c974cd5816_Underripe_ffb_54.png\n",
      "dataset-dev/IOI/feedback-ioi-2023-03-02_keep-drop/keep-drop/keep/64016c5f9b8e29c974cd5816_Underripe_ffb_55.png\n",
      "dataset-dev/IOI/feedback-ioi-2023-03-02_keep-drop/keep-drop/keep/64016c5f9b8e29c974cd5816_Underripe_ffb_58.png\n",
      "dataset-dev/IOI/feedback-ioi-2023-03-02_keep-drop/keep-drop/keep/64016c5f9b8e29c974cd5816_Underripe_ffb_7.png\n",
      "dataset-dev/IOI/feedback-ioi-2023-03-02_keep-drop/keep-drop/keep/64016c5f9b8e29c974cd5816_Underripe_ffb_8.png\n",
      "dataset-dev/IOI/feedback-ioi-2023-03-02_keep-drop/keep-drop/keep/64016c5f9b8e29c974cd5816_Unripe_ffb_0.png\n",
      "dataset-dev/IOI/feedback-ioi-2023-03-02_keep-drop/keep-drop/keep/64016c5f9b8e29c974cd5816_Unripe_ffb_1.png\n",
      "dataset-dev/IOI/feedback-ioi-2023-03-02_keep-drop/keep-drop/keep/640172009b8e29c974cd5856_Overripe_ffb_10.png\n",
      "dataset-dev/IOI/feedback-ioi-2023-03-02_keep-drop/keep-drop/keep/640172009b8e29c974cd5856_Overripe_ffb_11.png\n",
      "dataset-dev/IOI/feedback-ioi-2023-03-02_keep-drop/keep-drop/keep/640172009b8e29c974cd5856_Overripe_ffb_18.png\n",
      "dataset-dev/IOI/feedback-ioi-2023-03-02_keep-drop/keep-drop/keep/640172009b8e29c974cd5856_Overripe_ffb_23.png\n",
      "dataset-dev/IOI/feedback-ioi-2023-03-02_keep-drop/keep-drop/keep/640172009b8e29c974cd5856_Ripe_ffb_1.png\n",
      "dataset-dev/IOI/feedback-ioi-2023-03-02_keep-drop/keep-drop/keep/640172009b8e29c974cd5856_Ripe_ffb_12.png\n",
      "dataset-dev/IOI/feedback-ioi-2023-03-02_keep-drop/keep-drop/keep/640172009b8e29c974cd5856_Ripe_ffb_13.png\n",
      "dataset-dev/IOI/feedback-ioi-2023-03-02_keep-drop/keep-drop/keep/640172009b8e29c974cd5856_Ripe_ffb_14.png\n",
      "dataset-dev/IOI/feedback-ioi-2023-03-02_keep-drop/keep-drop/keep/640172009b8e29c974cd5856_Ripe_ffb_15.png\n",
      "dataset-dev/IOI/feedback-ioi-2023-03-02_keep-drop/keep-drop/keep/640172009b8e29c974cd5856_Ripe_ffb_16.png\n",
      "dataset-dev/IOI/feedback-ioi-2023-03-02_keep-drop/keep-drop/keep/640172009b8e29c974cd5856_Ripe_ffb_2.png\n",
      "dataset-dev/IOI/feedback-ioi-2023-03-02_keep-drop/keep-drop/keep/640172009b8e29c974cd5856_Ripe_ffb_21.png\n",
      "dataset-dev/IOI/feedback-ioi-2023-03-02_keep-drop/keep-drop/keep/640172009b8e29c974cd5856_Ripe_ffb_22.png\n",
      "dataset-dev/IOI/feedback-ioi-2023-03-02_keep-drop/keep-drop/keep/640172009b8e29c974cd5856_Ripe_ffb_26.png\n",
      "dataset-dev/IOI/feedback-ioi-2023-03-02_keep-drop/keep-drop/keep/640172009b8e29c974cd5856_Ripe_ffb_28.png\n",
      "dataset-dev/IOI/feedback-ioi-2023-03-02_keep-drop/keep-drop/keep/640172009b8e29c974cd5856_Ripe_ffb_6.png\n",
      "dataset-dev/IOI/feedback-ioi-2023-03-02_keep-drop/keep-drop/keep/640172009b8e29c974cd5856_Ripe_ffb_9.png\n",
      "dataset-dev/IOI/feedback-ioi-2023-03-02_keep-drop/keep-drop/keep/640172009b8e29c974cd5856_Underripe_ffb_0.png\n",
      "dataset-dev/IOI/feedback-ioi-2023-03-02_keep-drop/keep-drop/keep/640172009b8e29c974cd5856_Underripe_ffb_19.png\n",
      "dataset-dev/IOI/feedback-ioi-2023-03-02_keep-drop/keep-drop/keep/640172009b8e29c974cd5856_Underripe_ffb_20.png\n",
      "dataset-dev/IOI/feedback-ioi-2023-03-02_keep-drop/keep-drop/keep/640172009b8e29c974cd5856_Underripe_ffb_3.png\n",
      "dataset-dev/IOI/feedback-ioi-2023-03-02_keep-drop/keep-drop/keep/640172009b8e29c974cd5856_Underripe_ffb_31.png\n",
      "dataset-dev/IOI/feedback-ioi-2023-03-02_keep-drop/keep-drop/keep/640181c99b8e29c974cd59aa_Overripe_ffb_19.png\n",
      "dataset-dev/IOI/feedback-ioi-2023-03-02_keep-drop/keep-drop/keep/640181c99b8e29c974cd59aa_Ripe_ffb_0.png\n",
      "dataset-dev/IOI/feedback-ioi-2023-03-02_keep-drop/keep-drop/keep/640181c99b8e29c974cd59aa_Ripe_ffb_17.png\n",
      "dataset-dev/IOI/feedback-ioi-2023-03-02_keep-drop/keep-drop/keep/640181c99b8e29c974cd59aa_Ripe_ffb_18.png\n",
      "dataset-dev/IOI/feedback-ioi-2023-03-02_keep-drop/keep-drop/keep/640181c99b8e29c974cd59aa_Ripe_ffb_20.png\n",
      "dataset-dev/IOI/feedback-ioi-2023-03-02_keep-drop/keep-drop/keep/640181c99b8e29c974cd59aa_Ripe_ffb_28.png\n",
      "dataset-dev/IOI/feedback-ioi-2023-03-02_keep-drop/keep-drop/keep/640181c99b8e29c974cd59aa_Ripe_ffb_6.png\n",
      "dataset-dev/IOI/feedback-ioi-2023-03-02_keep-drop/keep-drop/keep/640181c99b8e29c974cd59aa_Underripe_ffb_12.png\n",
      "dataset-dev/IOI/feedback-ioi-2023-03-02_keep-drop/keep-drop/keep/640181c99b8e29c974cd59aa_Underripe_ffb_21.png\n",
      "dataset-dev/IOI/feedback-ioi-2023-03-02_keep-drop/keep-drop/keep/640181c99b8e29c974cd59aa_Underripe_ffb_26.png\n",
      "dataset-dev/IOI/feedback-ioi-2023-03-02_keep-drop/keep-drop/keep/640181c99b8e29c974cd59aa_Underripe_ffb_29.png\n",
      "dataset-dev/IOI/feedback-ioi-2023-03-02_keep-drop/keep-drop/keep/640181c99b8e29c974cd59aa_Unripe_ffb_15.png\n",
      "dataset-dev/IOI/feedback-ioi-2023-03-02_keep-drop/keep-drop/keep/640181c99b8e29c974cd59aa_Unripe_ffb_9.png\n",
      "dataset-dev/IOI/feedback-ioi-2023-03-02_keep-drop/keep-drop/keep/64018eb99b8e29c974cd59d0_Overripe_ffb_25.png\n",
      "dataset-dev/IOI/feedback-ioi-2023-03-02_keep-drop/keep-drop/keep/64018eb99b8e29c974cd59d0_Overripe_ffb_45.png\n",
      "dataset-dev/IOI/feedback-ioi-2023-03-02_keep-drop/keep-drop/keep/64018eb99b8e29c974cd59d0_Ripe_ffb_23.png\n",
      "dataset-dev/IOI/feedback-ioi-2023-03-02_keep-drop/keep-drop/keep/64018eb99b8e29c974cd59d0_Ripe_ffb_27.png\n",
      "dataset-dev/IOI/feedback-ioi-2023-03-02_keep-drop/keep-drop/keep/64018eb99b8e29c974cd59d0_Ripe_ffb_37.png\n",
      "dataset-dev/IOI/feedback-ioi-2023-03-02_keep-drop/keep-drop/keep/64018eb99b8e29c974cd59d0_Ripe_ffb_46.png\n",
      "dataset-dev/IOI/feedback-ioi-2023-03-02_keep-drop/keep-drop/keep/64018eb99b8e29c974cd59d0_Ripe_ffb_55.png\n",
      "dataset-dev/IOI/feedback-ioi-2023-03-02_keep-drop/keep-drop/keep/64018eb99b8e29c974cd59d0_Underripe_ffb_1.png\n",
      "dataset-dev/IOI/feedback-ioi-2023-03-02_keep-drop/keep-drop/keep/64018eb99b8e29c974cd59d0_Underripe_ffb_10.png\n",
      "dataset-dev/IOI/feedback-ioi-2023-03-02_keep-drop/keep-drop/keep/64018eb99b8e29c974cd59d0_Underripe_ffb_12.png\n",
      "dataset-dev/IOI/feedback-ioi-2023-03-02_keep-drop/keep-drop/keep/64018eb99b8e29c974cd59d0_Underripe_ffb_14.png\n",
      "dataset-dev/IOI/feedback-ioi-2023-03-02_keep-drop/keep-drop/keep/64018eb99b8e29c974cd59d0_Underripe_ffb_15.png\n",
      "dataset-dev/IOI/feedback-ioi-2023-03-02_keep-drop/keep-drop/keep/64018eb99b8e29c974cd59d0_Underripe_ffb_18.png\n",
      "dataset-dev/IOI/feedback-ioi-2023-03-02_keep-drop/keep-drop/keep/64018eb99b8e29c974cd59d0_Underripe_ffb_2.png\n",
      "dataset-dev/IOI/feedback-ioi-2023-03-02_keep-drop/keep-drop/keep/64018eb99b8e29c974cd59d0_Underripe_ffb_28.png\n",
      "dataset-dev/IOI/feedback-ioi-2023-03-02_keep-drop/keep-drop/keep/64018eb99b8e29c974cd59d0_Underripe_ffb_29.png\n",
      "dataset-dev/IOI/feedback-ioi-2023-03-02_keep-drop/keep-drop/keep/64018eb99b8e29c974cd59d0_Underripe_ffb_3.png\n",
      "dataset-dev/IOI/feedback-ioi-2023-03-02_keep-drop/keep-drop/keep/64018eb99b8e29c974cd59d0_Underripe_ffb_31.png\n",
      "dataset-dev/IOI/feedback-ioi-2023-03-02_keep-drop/keep-drop/keep/64018eb99b8e29c974cd59d0_Underripe_ffb_33.png\n",
      "dataset-dev/IOI/feedback-ioi-2023-03-02_keep-drop/keep-drop/keep/64018eb99b8e29c974cd59d0_Underripe_ffb_34.png\n",
      "dataset-dev/IOI/feedback-ioi-2023-03-02_keep-drop/keep-drop/keep/64018eb99b8e29c974cd59d0_Underripe_ffb_35.png\n",
      "dataset-dev/IOI/feedback-ioi-2023-03-02_keep-drop/keep-drop/keep/64018eb99b8e29c974cd59d0_Underripe_ffb_36.png\n",
      "dataset-dev/IOI/feedback-ioi-2023-03-02_keep-drop/keep-drop/keep/64018eb99b8e29c974cd59d0_Underripe_ffb_40.png\n",
      "dataset-dev/IOI/feedback-ioi-2023-03-02_keep-drop/keep-drop/keep/64018eb99b8e29c974cd59d0_Underripe_ffb_41.png\n",
      "dataset-dev/IOI/feedback-ioi-2023-03-02_keep-drop/keep-drop/keep/64018eb99b8e29c974cd59d0_Underripe_ffb_43.png\n",
      "dataset-dev/IOI/feedback-ioi-2023-03-02_keep-drop/keep-drop/keep/64018eb99b8e29c974cd59d0_Underripe_ffb_48.png\n",
      "dataset-dev/IOI/feedback-ioi-2023-03-02_keep-drop/keep-drop/keep/64018eb99b8e29c974cd59d0_Underripe_ffb_49.png\n",
      "dataset-dev/IOI/feedback-ioi-2023-03-02_keep-drop/keep-drop/keep/64018eb99b8e29c974cd59d0_Underripe_ffb_51.png\n",
      "dataset-dev/IOI/feedback-ioi-2023-03-02_keep-drop/keep-drop/keep/64018eb99b8e29c974cd59d0_Underripe_ffb_52.png\n",
      "dataset-dev/IOI/feedback-ioi-2023-03-02_keep-drop/keep-drop/keep/64018eb99b8e29c974cd59d0_Underripe_ffb_53.png\n",
      "dataset-dev/IOI/feedback-ioi-2023-03-02_keep-drop/keep-drop/keep/64018eb99b8e29c974cd59d0_Underripe_ffb_54.png\n",
      "dataset-dev/IOI/feedback-ioi-2023-03-02_keep-drop/keep-drop/keep/64018eb99b8e29c974cd59d0_Underripe_ffb_57.png\n",
      "dataset-dev/IOI/feedback-ioi-2023-03-02_keep-drop/keep-drop/keep/64018eb99b8e29c974cd59d0_Underripe_ffb_58.png\n",
      "dataset-dev/IOI/feedback-ioi-2023-03-02_keep-drop/keep-drop/keep/64018eb99b8e29c974cd59d0_Underripe_ffb_6.png\n",
      "dataset-dev/IOI/feedback-ioi-2023-03-02_keep-drop/keep-drop/keep/64018eb99b8e29c974cd59d0_Underripe_ffb_60.png\n",
      "dataset-dev/IOI/feedback-ioi-2023-03-02_keep-drop/keep-drop/keep/64018eb99b8e29c974cd59d0_Underripe_ffb_62.png\n",
      "dataset-dev/IOI/feedback-ioi-2023-03-02_keep-drop/keep-drop/keep/64018eb99b8e29c974cd59d0_Underripe_ffb_67.png\n",
      "dataset-dev/IOI/feedback-ioi-2023-03-02_keep-drop/keep-drop/keep/64018eb99b8e29c974cd59d0_Underripe_ffb_68.png\n",
      "dataset-dev/IOI/feedback-ioi-2023-03-02_keep-drop/keep-drop/keep/64018eb99b8e29c974cd59d0_Unripe_ffb_17.png\n",
      "dataset-dev/IOI/feedback-ioi-2023-03-02_keep-drop/keep-drop/keep/64018eb99b8e29c974cd59d0_Unripe_ffb_38.png\n",
      "dataset-dev/IOI/feedback-ioi-2023-03-02_keep-drop/keep-drop/keep/64018eb99b8e29c974cd59d0_Unripe_ffb_65.png\n",
      "dataset-dev/IOI/feedback-ioi-2023-03-02_keep-drop/keep-drop/keep/640190079b8e29c974cd59d7_Overripe_ffb_19.png\n",
      "dataset-dev/IOI/feedback-ioi-2023-03-02_keep-drop/keep-drop/keep/640190079b8e29c974cd59d7_Ripe_ffb_20.png\n",
      "dataset-dev/IOI/feedback-ioi-2023-03-02_keep-drop/keep-drop/keep/640190079b8e29c974cd59d7_Ripe_ffb_21.png\n",
      "dataset-dev/IOI/feedback-ioi-2023-03-02_keep-drop/keep-drop/keep/640190079b8e29c974cd59d7_Ripe_ffb_23.png\n",
      "dataset-dev/IOI/feedback-ioi-2023-03-02_keep-drop/keep-drop/keep/640190079b8e29c974cd59d7_Ripe_ffb_25.png\n",
      "dataset-dev/IOI/feedback-ioi-2023-03-02_keep-drop/keep-drop/keep/640190079b8e29c974cd59d7_Ripe_ffb_27.png\n",
      "dataset-dev/IOI/feedback-ioi-2023-03-02_keep-drop/keep-drop/keep/640190079b8e29c974cd59d7_Ripe_ffb_29.png\n",
      "dataset-dev/IOI/feedback-ioi-2023-03-02_keep-drop/keep-drop/keep/640190079b8e29c974cd59d7_Ripe_ffb_6.png\n",
      "dataset-dev/IOI/feedback-ioi-2023-03-02_keep-drop/keep-drop/keep/640190079b8e29c974cd59d7_Ripe_ffb_8.png\n",
      "dataset-dev/IOI/feedback-ioi-2023-03-02_keep-drop/keep-drop/keep/640190079b8e29c974cd59d7_Underripe_ffb_0.png\n",
      "dataset-dev/IOI/feedback-ioi-2023-03-02_keep-drop/keep-drop/keep/640190079b8e29c974cd59d7_Underripe_ffb_13.png\n",
      "dataset-dev/IOI/feedback-ioi-2023-03-02_keep-drop/keep-drop/keep/640190079b8e29c974cd59d7_Underripe_ffb_14.png\n",
      "dataset-dev/IOI/feedback-ioi-2023-03-02_keep-drop/keep-drop/keep/640190079b8e29c974cd59d7_Underripe_ffb_15.png\n",
      "dataset-dev/IOI/feedback-ioi-2023-03-02_keep-drop/keep-drop/keep/640190079b8e29c974cd59d7_Underripe_ffb_2.png\n",
      "dataset-dev/IOI/feedback-ioi-2023-03-02_keep-drop/keep-drop/keep/640190079b8e29c974cd59d7_Underripe_ffb_24.png\n",
      "dataset-dev/IOI/feedback-ioi-2023-03-02_keep-drop/keep-drop/keep/640190079b8e29c974cd59d7_Underripe_ffb_26.png\n",
      "dataset-dev/IOI/feedback-ioi-2023-03-02_keep-drop/keep-drop/keep/640190079b8e29c974cd59d7_Underripe_ffb_28.png\n",
      "dataset-dev/IOI/feedback-ioi-2023-03-02_keep-drop/keep-drop/keep/640190079b8e29c974cd59d7_Underripe_ffb_31.png\n",
      "dataset-dev/IOI/feedback-ioi-2023-03-02_keep-drop/keep-drop/keep/640190079b8e29c974cd59d7_Underripe_ffb_32.png\n",
      "dataset-dev/IOI/feedback-ioi-2023-03-02_keep-drop/keep-drop/keep/640190079b8e29c974cd59d7_Underripe_ffb_33.png\n",
      "dataset-dev/IOI/feedback-ioi-2023-03-02_keep-drop/keep-drop/keep/640190079b8e29c974cd59d7_Underripe_ffb_34.png\n",
      "dataset-dev/IOI/feedback-ioi-2023-03-02_keep-drop/keep-drop/keep/640190079b8e29c974cd59d7_Underripe_ffb_5.png\n",
      "dataset-dev/IOI/feedback-ioi-2023-03-02_keep-drop/keep-drop/keep/640190079b8e29c974cd59d7_Underripe_ffb_9.png\n",
      "dataset-dev/IOI/feedback-ioi-2023-03-02_keep-drop/keep-drop/keep/640190079b8e29c974cd59d7_Unripe_ffb_1.png\n",
      "dataset-dev/IOI/feedback-ioi-2023-03-02_keep-drop/keep-drop/keep/640190079b8e29c974cd59d7_Unripe_ffb_12.png\n",
      "dataset-dev/IOI/feedback-ioi-2023-03-02_keep-drop/keep-drop/keep/640196879b8e29c974cd5a49_Overripe_ffb_31.png\n",
      "dataset-dev/IOI/feedback-ioi-2023-03-02_keep-drop/keep-drop/keep/640196879b8e29c974cd5a49_Ripe_ffb_4.png\n",
      "dataset-dev/IOI/feedback-ioi-2023-03-02_keep-drop/keep-drop/keep/640196879b8e29c974cd5a49_Ripe_ffb_43.png\n",
      "dataset-dev/IOI/feedback-ioi-2023-03-02_keep-drop/keep-drop/keep/640196879b8e29c974cd5a49_Ripe_ffb_54.png\n",
      "dataset-dev/IOI/feedback-ioi-2023-03-02_keep-drop/keep-drop/keep/640196879b8e29c974cd5a49_Ripe_ffb_59.png\n",
      "dataset-dev/IOI/feedback-ioi-2023-03-02_keep-drop/keep-drop/keep/640196879b8e29c974cd5a49_Underripe_ffb_11.png\n",
      "dataset-dev/IOI/feedback-ioi-2023-03-02_keep-drop/keep-drop/keep/640196879b8e29c974cd5a49_Underripe_ffb_12.png\n",
      "dataset-dev/IOI/feedback-ioi-2023-03-02_keep-drop/keep-drop/keep/640196879b8e29c974cd5a49_Underripe_ffb_2.png\n",
      "dataset-dev/IOI/feedback-ioi-2023-03-02_keep-drop/keep-drop/keep/640196879b8e29c974cd5a49_Underripe_ffb_20.png\n",
      "dataset-dev/IOI/feedback-ioi-2023-03-02_keep-drop/keep-drop/keep/640196879b8e29c974cd5a49_Underripe_ffb_21.png\n",
      "dataset-dev/IOI/feedback-ioi-2023-03-02_keep-drop/keep-drop/keep/640196879b8e29c974cd5a49_Underripe_ffb_22.png\n",
      "dataset-dev/IOI/feedback-ioi-2023-03-02_keep-drop/keep-drop/keep/640196879b8e29c974cd5a49_Underripe_ffb_23.png\n",
      "dataset-dev/IOI/feedback-ioi-2023-03-02_keep-drop/keep-drop/keep/640196879b8e29c974cd5a49_Underripe_ffb_26.png\n",
      "dataset-dev/IOI/feedback-ioi-2023-03-02_keep-drop/keep-drop/keep/640196879b8e29c974cd5a49_Underripe_ffb_30.png\n",
      "dataset-dev/IOI/feedback-ioi-2023-03-02_keep-drop/keep-drop/keep/640196879b8e29c974cd5a49_Underripe_ffb_33.png\n",
      "dataset-dev/IOI/feedback-ioi-2023-03-02_keep-drop/keep-drop/keep/640196879b8e29c974cd5a49_Underripe_ffb_45.png\n",
      "dataset-dev/IOI/feedback-ioi-2023-03-02_keep-drop/keep-drop/keep/640196879b8e29c974cd5a49_Underripe_ffb_46.png\n",
      "dataset-dev/IOI/feedback-ioi-2023-03-02_keep-drop/keep-drop/keep/640196879b8e29c974cd5a49_Underripe_ffb_50.png\n",
      "dataset-dev/IOI/feedback-ioi-2023-03-02_keep-drop/keep-drop/keep/640196879b8e29c974cd5a49_Underripe_ffb_53.png\n",
      "dataset-dev/IOI/feedback-ioi-2023-03-02_keep-drop/keep-drop/keep/640196879b8e29c974cd5a49_Underripe_ffb_56.png\n",
      "dataset-dev/IOI/feedback-ioi-2023-03-02_keep-drop/keep-drop/keep/640196879b8e29c974cd5a49_Unripe_ffb_14.png\n",
      "dataset-dev/IOI/feedback-ioi-2023-03-02_keep-drop/keep-drop/keep/640196879b8e29c974cd5a49_Unripe_ffb_19.png\n",
      "dataset-dev/IOI/feedback-ioi-2023-03-02_keep-drop/keep-drop/keep/640196879b8e29c974cd5a49_Unripe_ffb_32.png\n",
      "dataset-dev/IOI/feedback-ioi-2023-03-02_keep-drop/keep-drop/keep/640196879b8e29c974cd5a49_Unripe_ffb_34.png\n",
      "dataset-dev/IOI/feedback-ioi-2023-03-02_keep-drop/keep-drop/keep/640196879b8e29c974cd5a49_Unripe_ffb_35.png\n",
      "dataset-dev/IOI/feedback-ioi-2023-03-02_keep-drop/keep-drop/keep/640196879b8e29c974cd5a49_Unripe_ffb_38.png\n",
      "dataset-dev/IOI/feedback-ioi-2023-03-02_keep-drop/keep-drop/keep/640196879b8e29c974cd5a49_Unripe_ffb_40.png\n",
      "dataset-dev/IOI/feedback-ioi-2023-03-02_keep-drop/keep-drop/keep/64019bab9b8e29c974cd5a8e_Overripe_ffb_4.png\n",
      "dataset-dev/IOI/feedback-ioi-2023-03-02_keep-drop/keep-drop/keep/64019bab9b8e29c974cd5a8e_Overripe_ffb_55.png\n",
      "dataset-dev/IOI/feedback-ioi-2023-03-02_keep-drop/keep-drop/keep/64019bab9b8e29c974cd5a8e_Ripe_ffb_0.png\n",
      "dataset-dev/IOI/feedback-ioi-2023-03-02_keep-drop/keep-drop/keep/64019bab9b8e29c974cd5a8e_Ripe_ffb_19.png\n",
      "dataset-dev/IOI/feedback-ioi-2023-03-02_keep-drop/keep-drop/keep/64019bab9b8e29c974cd5a8e_Ripe_ffb_24.png\n",
      "dataset-dev/IOI/feedback-ioi-2023-03-02_keep-drop/keep-drop/keep/64019bab9b8e29c974cd5a8e_Ripe_ffb_28.png\n",
      "dataset-dev/IOI/feedback-ioi-2023-03-02_keep-drop/keep-drop/keep/64019bab9b8e29c974cd5a8e_Ripe_ffb_32.png\n",
      "dataset-dev/IOI/feedback-ioi-2023-03-02_keep-drop/keep-drop/keep/64019bab9b8e29c974cd5a8e_Ripe_ffb_35.png\n",
      "dataset-dev/IOI/feedback-ioi-2023-03-02_keep-drop/keep-drop/keep/64019bab9b8e29c974cd5a8e_Ripe_ffb_46.png\n",
      "dataset-dev/IOI/feedback-ioi-2023-03-02_keep-drop/keep-drop/keep/64019bab9b8e29c974cd5a8e_Ripe_ffb_49.png\n",
      "dataset-dev/IOI/feedback-ioi-2023-03-02_keep-drop/keep-drop/keep/64019bab9b8e29c974cd5a8e_Ripe_ffb_56.png\n",
      "dataset-dev/IOI/feedback-ioi-2023-03-02_keep-drop/keep-drop/keep/64019bab9b8e29c974cd5a8e_Ripe_ffb_57.png\n",
      "dataset-dev/IOI/feedback-ioi-2023-03-02_keep-drop/keep-drop/keep/64019bab9b8e29c974cd5a8e_Ripe_ffb_61.png\n",
      "dataset-dev/IOI/feedback-ioi-2023-03-02_keep-drop/keep-drop/keep/64019bab9b8e29c974cd5a8e_Ripe_ffb_62.png\n",
      "dataset-dev/IOI/feedback-ioi-2023-03-02_keep-drop/keep-drop/keep/64019bab9b8e29c974cd5a8e_Underripe_ffb_10.png\n",
      "dataset-dev/IOI/feedback-ioi-2023-03-02_keep-drop/keep-drop/keep/64019bab9b8e29c974cd5a8e_Underripe_ffb_11.png\n",
      "dataset-dev/IOI/feedback-ioi-2023-03-02_keep-drop/keep-drop/keep/64019bab9b8e29c974cd5a8e_Underripe_ffb_20.png\n",
      "dataset-dev/IOI/feedback-ioi-2023-03-02_keep-drop/keep-drop/keep/64019bab9b8e29c974cd5a8e_Underripe_ffb_21.png\n",
      "dataset-dev/IOI/feedback-ioi-2023-03-02_keep-drop/keep-drop/keep/64019bab9b8e29c974cd5a8e_Underripe_ffb_22.png\n",
      "dataset-dev/IOI/feedback-ioi-2023-03-02_keep-drop/keep-drop/keep/64019bab9b8e29c974cd5a8e_Underripe_ffb_30.png\n",
      "dataset-dev/IOI/feedback-ioi-2023-03-02_keep-drop/keep-drop/keep/64019bab9b8e29c974cd5a8e_Underripe_ffb_33.png\n",
      "dataset-dev/IOI/feedback-ioi-2023-03-02_keep-drop/keep-drop/keep/64019bab9b8e29c974cd5a8e_Underripe_ffb_34.png\n",
      "dataset-dev/IOI/feedback-ioi-2023-03-02_keep-drop/keep-drop/keep/64019bab9b8e29c974cd5a8e_Underripe_ffb_37.png\n",
      "dataset-dev/IOI/feedback-ioi-2023-03-02_keep-drop/keep-drop/keep/64019bab9b8e29c974cd5a8e_Underripe_ffb_41.png\n",
      "dataset-dev/IOI/feedback-ioi-2023-03-02_keep-drop/keep-drop/keep/64019bab9b8e29c974cd5a8e_Underripe_ffb_44.png\n",
      "dataset-dev/IOI/feedback-ioi-2023-03-02_keep-drop/keep-drop/keep/64019bab9b8e29c974cd5a8e_Underripe_ffb_51.png\n",
      "dataset-dev/IOI/feedback-ioi-2023-03-02_keep-drop/keep-drop/keep/64019bab9b8e29c974cd5a8e_Underripe_ffb_54.png\n",
      "dataset-dev/IOI/feedback-ioi-2023-03-02_keep-drop/keep-drop/keep/64019bab9b8e29c974cd5a8e_Underripe_ffb_6.png\n",
      "dataset-dev/IOI/feedback-ioi-2023-03-02_keep-drop/keep-drop/keep/64019bab9b8e29c974cd5a8e_Underripe_ffb_60.png\n",
      "dataset-dev/IOI/feedback-ioi-2023-03-02_keep-drop/keep-drop/keep/64019bab9b8e29c974cd5a8e_Underripe_ffb_63.png\n",
      "dataset-dev/IOI/feedback-ioi-2023-03-02_keep-drop/keep-drop/keep/64019bab9b8e29c974cd5a8e_Unripe_ffb_12.png\n",
      "dataset-dev/IOI/feedback-ioi-2023-03-02_keep-drop/keep-drop/keep/64019bab9b8e29c974cd5a8e_Unripe_ffb_26.png\n",
      "dataset-dev/IOI/feedback-ioi-2023-03-02_keep-drop/keep-drop/keep/64019bab9b8e29c974cd5a8e_Unripe_ffb_29.png\n",
      "dataset-dev/IOI/feedback-ioi-2023-03-02_keep-drop/keep-drop/keep/64019bab9b8e29c974cd5a8e_Unripe_ffb_5.png\n",
      "dataset-dev/IOI/feedback-ioi-2023-03-02_keep-drop/keep-drop/keep/64019bab9b8e29c974cd5a8e_Unripe_ffb_59.png\n",
      "dataset-dev/IOI/feedback-ioi-2023-03-02_keep-drop/keep-drop/keep/64019edc9b8e29c974cd5ad6_Overripe_ffb_10.png\n",
      "dataset-dev/IOI/feedback-ioi-2023-03-02_keep-drop/keep-drop/keep/64019edc9b8e29c974cd5ad6_Overripe_ffb_15.png\n",
      "dataset-dev/IOI/feedback-ioi-2023-03-02_keep-drop/keep-drop/keep/64019edc9b8e29c974cd5ad6_Overripe_ffb_2.png\n",
      "dataset-dev/IOI/feedback-ioi-2023-03-02_keep-drop/keep-drop/keep/64019edc9b8e29c974cd5ad6_Overripe_ffb_48.png\n",
      "dataset-dev/IOI/feedback-ioi-2023-03-02_keep-drop/keep-drop/keep/64019edc9b8e29c974cd5ad6_Overripe_ffb_49.png\n",
      "dataset-dev/IOI/feedback-ioi-2023-03-02_keep-drop/keep-drop/keep/64019edc9b8e29c974cd5ad6_Overripe_ffb_52.png\n",
      "dataset-dev/IOI/feedback-ioi-2023-03-02_keep-drop/keep-drop/keep/64019edc9b8e29c974cd5ad6_Overripe_ffb_53.png\n",
      "dataset-dev/IOI/feedback-ioi-2023-03-02_keep-drop/keep-drop/keep/64019edc9b8e29c974cd5ad6_Overripe_ffb_60.png\n",
      "dataset-dev/IOI/feedback-ioi-2023-03-02_keep-drop/keep-drop/keep/64019edc9b8e29c974cd5ad6_Ripe_ffb_25.png\n",
      "dataset-dev/IOI/feedback-ioi-2023-03-02_keep-drop/keep-drop/keep/64019edc9b8e29c974cd5ad6_Ripe_ffb_41.png\n",
      "dataset-dev/IOI/feedback-ioi-2023-03-02_keep-drop/keep-drop/keep/64019edc9b8e29c974cd5ad6_Ripe_ffb_54.png\n",
      "dataset-dev/IOI/feedback-ioi-2023-03-02_keep-drop/keep-drop/keep/64019edc9b8e29c974cd5ad6_Ripe_ffb_55.png\n",
      "dataset-dev/IOI/feedback-ioi-2023-03-02_keep-drop/keep-drop/keep/64019edc9b8e29c974cd5ad6_Ripe_ffb_62.png\n",
      "dataset-dev/IOI/feedback-ioi-2023-03-02_keep-drop/keep-drop/keep/64019edc9b8e29c974cd5ad6_Ripe_ffb_68.png\n",
      "dataset-dev/IOI/feedback-ioi-2023-03-02_keep-drop/keep-drop/keep/64019edc9b8e29c974cd5ad6_Underripe_ffb_1.png\n",
      "dataset-dev/IOI/feedback-ioi-2023-03-02_keep-drop/keep-drop/keep/64019edc9b8e29c974cd5ad6_Underripe_ffb_16.png\n",
      "dataset-dev/IOI/feedback-ioi-2023-03-02_keep-drop/keep-drop/keep/64019edc9b8e29c974cd5ad6_Underripe_ffb_17.png\n",
      "dataset-dev/IOI/feedback-ioi-2023-03-02_keep-drop/keep-drop/keep/64019edc9b8e29c974cd5ad6_Underripe_ffb_18.png\n",
      "dataset-dev/IOI/feedback-ioi-2023-03-02_keep-drop/keep-drop/keep/64019edc9b8e29c974cd5ad6_Underripe_ffb_20.png\n",
      "dataset-dev/IOI/feedback-ioi-2023-03-02_keep-drop/keep-drop/keep/64019edc9b8e29c974cd5ad6_Underripe_ffb_24.png\n",
      "dataset-dev/IOI/feedback-ioi-2023-03-02_keep-drop/keep-drop/keep/64019edc9b8e29c974cd5ad6_Underripe_ffb_27.png\n",
      "dataset-dev/IOI/feedback-ioi-2023-03-02_keep-drop/keep-drop/keep/64019edc9b8e29c974cd5ad6_Underripe_ffb_31.png\n",
      "dataset-dev/IOI/feedback-ioi-2023-03-02_keep-drop/keep-drop/keep/64019edc9b8e29c974cd5ad6_Underripe_ffb_32.png\n",
      "dataset-dev/IOI/feedback-ioi-2023-03-02_keep-drop/keep-drop/keep/64019edc9b8e29c974cd5ad6_Underripe_ffb_33.png\n",
      "dataset-dev/IOI/feedback-ioi-2023-03-02_keep-drop/keep-drop/keep/64019edc9b8e29c974cd5ad6_Underripe_ffb_34.png\n",
      "dataset-dev/IOI/feedback-ioi-2023-03-02_keep-drop/keep-drop/keep/64019edc9b8e29c974cd5ad6_Underripe_ffb_36.png\n",
      "dataset-dev/IOI/feedback-ioi-2023-03-02_keep-drop/keep-drop/keep/64019edc9b8e29c974cd5ad6_Underripe_ffb_37.png\n",
      "dataset-dev/IOI/feedback-ioi-2023-03-02_keep-drop/keep-drop/keep/64019edc9b8e29c974cd5ad6_Underripe_ffb_38.png\n",
      "dataset-dev/IOI/feedback-ioi-2023-03-02_keep-drop/keep-drop/keep/64019edc9b8e29c974cd5ad6_Underripe_ffb_42.png\n",
      "dataset-dev/IOI/feedback-ioi-2023-03-02_keep-drop/keep-drop/keep/64019edc9b8e29c974cd5ad6_Underripe_ffb_43.png\n",
      "dataset-dev/IOI/feedback-ioi-2023-03-02_keep-drop/keep-drop/keep/64019edc9b8e29c974cd5ad6_Underripe_ffb_44.png\n",
      "dataset-dev/IOI/feedback-ioi-2023-03-02_keep-drop/keep-drop/keep/64019edc9b8e29c974cd5ad6_Underripe_ffb_45.png\n",
      "dataset-dev/IOI/feedback-ioi-2023-03-02_keep-drop/keep-drop/keep/64019edc9b8e29c974cd5ad6_Underripe_ffb_46.png\n",
      "dataset-dev/IOI/feedback-ioi-2023-03-02_keep-drop/keep-drop/keep/64019edc9b8e29c974cd5ad6_Underripe_ffb_51.png\n",
      "dataset-dev/IOI/feedback-ioi-2023-03-02_keep-drop/keep-drop/keep/64019edc9b8e29c974cd5ad6_Underripe_ffb_58.png\n",
      "dataset-dev/IOI/feedback-ioi-2023-03-02_keep-drop/keep-drop/keep/64019edc9b8e29c974cd5ad6_Underripe_ffb_6.png\n",
      "dataset-dev/IOI/feedback-ioi-2023-03-02_keep-drop/keep-drop/keep/64019edc9b8e29c974cd5ad6_Underripe_ffb_61.png\n",
      "dataset-dev/IOI/feedback-ioi-2023-03-02_keep-drop/keep-drop/keep/64019edc9b8e29c974cd5ad6_Underripe_ffb_63.png\n",
      "dataset-dev/IOI/feedback-ioi-2023-03-02_keep-drop/keep-drop/keep/64019edc9b8e29c974cd5ad6_Underripe_ffb_67.png\n",
      "dataset-dev/IOI/feedback-ioi-2023-03-02_keep-drop/keep-drop/keep/64019edc9b8e29c974cd5ad6_Underripe_ffb_7.png\n",
      "dataset-dev/IOI/feedback-ioi-2023-03-02_keep-drop/keep-drop/keep/64019edc9b8e29c974cd5ad6_Underripe_ffb_9.png\n",
      "dataset-dev/IOI/feedback-ioi-2023-03-02_keep-drop/keep-drop/keep/64019edc9b8e29c974cd5ad6_Unripe_ffb_13.png\n",
      "dataset-dev/IOI/feedback-ioi-2023-03-02_keep-drop/keep-drop/keep/64019edc9b8e29c974cd5ad6_Unripe_ffb_23.png\n",
      "dataset-dev/IOI/feedback-ioi-2023-03-02_keep-drop/keep-drop/keep/64019edc9b8e29c974cd5ad6_Unripe_ffb_28.png\n",
      "dataset-dev/IOI/feedback-ioi-2023-03-02_keep-drop/keep-drop/keep/64019edc9b8e29c974cd5ad6_Unripe_ffb_3.png\n",
      "dataset-dev/IOI/feedback-ioi-2023-03-02_keep-drop/keep-drop/keep/64019edc9b8e29c974cd5ad6_Unripe_ffb_5.png\n",
      "dataset-dev/IOI/feedback-ioi-2023-03-02_keep-drop/keep-drop/keep/6401a8bc9b8e29c974cd5b23_Ripe_ffb_14.png\n",
      "dataset-dev/IOI/feedback-ioi-2023-03-02_keep-drop/keep-drop/keep/6401a8bc9b8e29c974cd5b23_Ripe_ffb_15.png\n",
      "dataset-dev/IOI/feedback-ioi-2023-03-02_keep-drop/keep-drop/keep/6401a8bc9b8e29c974cd5b23_Ripe_ffb_29.png\n",
      "dataset-dev/IOI/feedback-ioi-2023-03-02_keep-drop/keep-drop/keep/6401a8bc9b8e29c974cd5b23_Ripe_ffb_32.png\n",
      "dataset-dev/IOI/feedback-ioi-2023-03-02_keep-drop/keep-drop/keep/6401a8bc9b8e29c974cd5b23_Ripe_ffb_34.png\n",
      "dataset-dev/IOI/feedback-ioi-2023-03-02_keep-drop/keep-drop/keep/6401a8bc9b8e29c974cd5b23_Ripe_ffb_35.png\n",
      "dataset-dev/IOI/feedback-ioi-2023-03-02_keep-drop/keep-drop/keep/6401a8bc9b8e29c974cd5b23_Ripe_ffb_39.png\n",
      "dataset-dev/IOI/feedback-ioi-2023-03-02_keep-drop/keep-drop/keep/6401a8bc9b8e29c974cd5b23_Ripe_ffb_47.png\n",
      "dataset-dev/IOI/feedback-ioi-2023-03-02_keep-drop/keep-drop/keep/6401a8bc9b8e29c974cd5b23_Ripe_ffb_56.png\n",
      "dataset-dev/IOI/feedback-ioi-2023-03-02_keep-drop/keep-drop/keep/6401a8bc9b8e29c974cd5b23_Ripe_ffb_59.png\n",
      "dataset-dev/IOI/feedback-ioi-2023-03-02_keep-drop/keep-drop/keep/6401a8bc9b8e29c974cd5b23_Ripe_ffb_6.png\n",
      "dataset-dev/IOI/feedback-ioi-2023-03-02_keep-drop/keep-drop/keep/6401a8bc9b8e29c974cd5b23_Ripe_ffb_60.png\n",
      "dataset-dev/IOI/feedback-ioi-2023-03-02_keep-drop/keep-drop/keep/6401a8bc9b8e29c974cd5b23_Ripe_ffb_8.png\n",
      "dataset-dev/IOI/feedback-ioi-2023-03-02_keep-drop/keep-drop/keep/6401a8bc9b8e29c974cd5b23_Underripe_ffb_1.png\n",
      "dataset-dev/IOI/feedback-ioi-2023-03-02_keep-drop/keep-drop/keep/6401a8bc9b8e29c974cd5b23_Underripe_ffb_10.png\n",
      "dataset-dev/IOI/feedback-ioi-2023-03-02_keep-drop/keep-drop/keep/6401a8bc9b8e29c974cd5b23_Underripe_ffb_11.png\n",
      "dataset-dev/IOI/feedback-ioi-2023-03-02_keep-drop/keep-drop/keep/6401a8bc9b8e29c974cd5b23_Underripe_ffb_13.png\n",
      "dataset-dev/IOI/feedback-ioi-2023-03-02_keep-drop/keep-drop/keep/6401a8bc9b8e29c974cd5b23_Underripe_ffb_16.png\n",
      "dataset-dev/IOI/feedback-ioi-2023-03-02_keep-drop/keep-drop/keep/6401a8bc9b8e29c974cd5b23_Underripe_ffb_18.png\n",
      "dataset-dev/IOI/feedback-ioi-2023-03-02_keep-drop/keep-drop/keep/6401a8bc9b8e29c974cd5b23_Underripe_ffb_19.png\n",
      "dataset-dev/IOI/feedback-ioi-2023-03-02_keep-drop/keep-drop/keep/6401a8bc9b8e29c974cd5b23_Underripe_ffb_21.png\n",
      "dataset-dev/IOI/feedback-ioi-2023-03-02_keep-drop/keep-drop/keep/6401a8bc9b8e29c974cd5b23_Underripe_ffb_27.png\n",
      "dataset-dev/IOI/feedback-ioi-2023-03-02_keep-drop/keep-drop/keep/6401a8bc9b8e29c974cd5b23_Underripe_ffb_28.png\n",
      "dataset-dev/IOI/feedback-ioi-2023-03-02_keep-drop/keep-drop/keep/6401a8bc9b8e29c974cd5b23_Underripe_ffb_3.png\n",
      "dataset-dev/IOI/feedback-ioi-2023-03-02_keep-drop/keep-drop/keep/6401a8bc9b8e29c974cd5b23_Underripe_ffb_33.png\n",
      "dataset-dev/IOI/feedback-ioi-2023-03-02_keep-drop/keep-drop/keep/6401a8bc9b8e29c974cd5b23_Underripe_ffb_38.png\n",
      "dataset-dev/IOI/feedback-ioi-2023-03-02_keep-drop/keep-drop/keep/6401a8bc9b8e29c974cd5b23_Underripe_ffb_43.png\n",
      "dataset-dev/IOI/feedback-ioi-2023-03-02_keep-drop/keep-drop/keep/6401a8bc9b8e29c974cd5b23_Underripe_ffb_49.png\n",
      "dataset-dev/IOI/feedback-ioi-2023-03-02_keep-drop/keep-drop/keep/6401a8bc9b8e29c974cd5b23_Underripe_ffb_5.png\n",
      "dataset-dev/IOI/feedback-ioi-2023-03-02_keep-drop/keep-drop/keep/6401a8bc9b8e29c974cd5b23_Underripe_ffb_52.png\n",
      "dataset-dev/IOI/feedback-ioi-2023-03-02_keep-drop/keep-drop/keep/6401a8bc9b8e29c974cd5b23_Underripe_ffb_53.png\n",
      "dataset-dev/IOI/feedback-ioi-2023-03-02_keep-drop/keep-drop/keep/6401a8bc9b8e29c974cd5b23_Underripe_ffb_54.png\n",
      "dataset-dev/IOI/feedback-ioi-2023-03-02_keep-drop/keep-drop/keep/6401a8bc9b8e29c974cd5b23_Underripe_ffb_55.png\n",
      "dataset-dev/IOI/feedback-ioi-2023-03-02_keep-drop/keep-drop/keep/6401a8bc9b8e29c974cd5b23_Underripe_ffb_64.png\n",
      "dataset-dev/IOI/feedback-ioi-2023-03-02_keep-drop/keep-drop/keep/6401a8bc9b8e29c974cd5b23_Underripe_ffb_66.png\n",
      "dataset-dev/IOI/feedback-ioi-2023-03-02_keep-drop/keep-drop/keep/6401a8bc9b8e29c974cd5b23_Underripe_ffb_9.png\n",
      "dataset-dev/IOI/feedback-ioi-2023-03-02_keep-drop/keep-drop/keep/6401a8bc9b8e29c974cd5b23_Unripe_ffb_0.png\n",
      "dataset-dev/IOI/feedback-ioi-2023-03-02_keep-drop/keep-drop/keep/6401a8bc9b8e29c974cd5b23_Unripe_ffb_17.png\n",
      "dataset-dev/IOI/feedback-ioi-2023-03-02_keep-drop/keep-drop/keep/6401a8bc9b8e29c974cd5b23_Unripe_ffb_2.png\n",
      "dataset-dev/IOI/feedback-ioi-2023-03-02_keep-drop/keep-drop/keep/6401a8bc9b8e29c974cd5b23_Unripe_ffb_20.png\n",
      "dataset-dev/IOI/feedback-ioi-2023-03-02_keep-drop/keep-drop/keep/6401a8bc9b8e29c974cd5b23_Unripe_ffb_26.png\n",
      "dataset-dev/IOI/feedback-ioi-2023-03-02_keep-drop/keep-drop/keep/6401a8bc9b8e29c974cd5b23_Unripe_ffb_4.png\n",
      "dataset-dev/IOI/feedback-ioi-2023-03-02_keep-drop/keep-drop/keep/6401a8bc9b8e29c974cd5b23_Unripe_ffb_40.png\n",
      "dataset-dev/IOI/feedback-ioi-2023-03-02_keep-drop/keep-drop/keep/6401a8bc9b8e29c974cd5b23_Unripe_ffb_41.png\n",
      "dataset-dev/IOI/feedback-ioi-2023-03-02_keep-drop/keep-drop/keep/6401a8bc9b8e29c974cd5b23_Unripe_ffb_51.png\n",
      "dataset-dev/IOI/feedback-ioi-2023-03-02_keep-drop/keep-drop/keep/6401a8bc9b8e29c974cd5b23_Unripe_ffb_61.png\n",
      "dataset-dev/IOI/feedback-ioi-2023-03-02_keep-drop/keep-drop/keep/6401a8bc9b8e29c974cd5b23_Unripe_ffb_62.png\n",
      "dataset-dev/IOI/feedback-ioi-2023-03-02_keep-drop/keep-drop/keep/6401a8bc9b8e29c974cd5b23_Unripe_ffb_63.png\n",
      "dataset-dev/IOI/feedback-ioi-2023-03-02_keep-drop/keep-drop/keep/6401a8bc9b8e29c974cd5b23_Unripe_ffb_65.png\n",
      "dataset-dev/IOI/feedback-ioi-2023-03-02_keep-drop/keep-drop/keep/6401bca99b8e29c974cd5bb4_Empty_ffb_32.png\n",
      "dataset-dev/IOI/feedback-ioi-2023-03-02_keep-drop/keep-drop/keep/6401bca99b8e29c974cd5bb4_Overripe_ffb_50.png\n",
      "dataset-dev/IOI/feedback-ioi-2023-03-02_keep-drop/keep-drop/keep/6401bca99b8e29c974cd5bb4_Overripe_ffb_9.png\n",
      "dataset-dev/IOI/feedback-ioi-2023-03-02_keep-drop/keep-drop/keep/6401bca99b8e29c974cd5bb4_Ripe_ffb_1.png\n",
      "dataset-dev/IOI/feedback-ioi-2023-03-02_keep-drop/keep-drop/keep/6401bca99b8e29c974cd5bb4_Ripe_ffb_13.png\n",
      "dataset-dev/IOI/feedback-ioi-2023-03-02_keep-drop/keep-drop/keep/6401bca99b8e29c974cd5bb4_Ripe_ffb_15.png\n",
      "dataset-dev/IOI/feedback-ioi-2023-03-02_keep-drop/keep-drop/keep/6401bca99b8e29c974cd5bb4_Ripe_ffb_20.png\n",
      "dataset-dev/IOI/feedback-ioi-2023-03-02_keep-drop/keep-drop/keep/6401bca99b8e29c974cd5bb4_Ripe_ffb_21.png\n",
      "dataset-dev/IOI/feedback-ioi-2023-03-02_keep-drop/keep-drop/keep/6401bca99b8e29c974cd5bb4_Ripe_ffb_25.png\n",
      "dataset-dev/IOI/feedback-ioi-2023-03-02_keep-drop/keep-drop/keep/6401bca99b8e29c974cd5bb4_Ripe_ffb_28.png\n",
      "dataset-dev/IOI/feedback-ioi-2023-03-02_keep-drop/keep-drop/keep/6401bca99b8e29c974cd5bb4_Ripe_ffb_33.png\n",
      "dataset-dev/IOI/feedback-ioi-2023-03-02_keep-drop/keep-drop/keep/6401bca99b8e29c974cd5bb4_Ripe_ffb_34.png\n",
      "dataset-dev/IOI/feedback-ioi-2023-03-02_keep-drop/keep-drop/keep/6401bca99b8e29c974cd5bb4_Ripe_ffb_35.png\n",
      "dataset-dev/IOI/feedback-ioi-2023-03-02_keep-drop/keep-drop/keep/6401bca99b8e29c974cd5bb4_Ripe_ffb_42.png\n",
      "dataset-dev/IOI/feedback-ioi-2023-03-02_keep-drop/keep-drop/keep/6401bca99b8e29c974cd5bb4_Ripe_ffb_46.png\n",
      "dataset-dev/IOI/feedback-ioi-2023-03-02_keep-drop/keep-drop/keep/6401bca99b8e29c974cd5bb4_Ripe_ffb_47.png\n",
      "dataset-dev/IOI/feedback-ioi-2023-03-02_keep-drop/keep-drop/keep/6401bca99b8e29c974cd5bb4_Ripe_ffb_48.png\n",
      "dataset-dev/IOI/feedback-ioi-2023-03-02_keep-drop/keep-drop/keep/6401bca99b8e29c974cd5bb4_Ripe_ffb_6.png\n",
      "dataset-dev/IOI/feedback-ioi-2023-03-02_keep-drop/keep-drop/keep/6401bca99b8e29c974cd5bb4_Underripe_ffb_29.png\n",
      "dataset-dev/IOI/feedback-ioi-2023-03-02_keep-drop/keep-drop/keep/6401bca99b8e29c974cd5bb4_Underripe_ffb_5.png\n",
      "dataset-dev/IOI/feedback-ioi-2023-03-02_keep-drop/keep-drop/keep/6401bca99b8e29c974cd5bb4_Underripe_ffb_51.png\n",
      "dataset-dev/IOI/feedback-ioi-2023-03-02_keep-drop/keep-drop/keep/6401bca99b8e29c974cd5bb4_Underripe_ffb_52.png\n",
      "dataset-dev/IOI/feedback-ioi-2023-03-02_keep-drop/keep-drop/keep/6401bca99b8e29c974cd5bb4_Underripe_ffb_53.png\n",
      "dataset-dev/IOI/feedback-ioi-2023-03-02_keep-drop/keep-drop/keep/6401bca99b8e29c974cd5bb4_Underripe_ffb_54.png\n",
      "dataset-dev/IOI/feedback-ioi-2023-03-02_keep-drop/keep-drop/keep/6401bca99b8e29c974cd5bb4_Unripe_ffb_12.png\n",
      "dataset-dev/IOI/feedback-ioi-2023-03-02_keep-drop/keep-drop/keep/6401bca99b8e29c974cd5bb4_Unripe_ffb_26.png\n",
      "dataset-dev/IOI/feedback-ioi-2023-03-02_keep-drop/keep-drop/keep/6401bca99b8e29c974cd5bb4_Unripe_ffb_30.png\n",
      "dataset-dev/IOI/feedback-ioi-2023-03-02_keep-drop/keep-drop/keep/6401bca99b8e29c974cd5bb4_Unripe_ffb_31.png\n",
      "dataset-dev/IOI/feedback-ioi-2023-03-02_keep-drop/keep-drop/keep/6401bca99b8e29c974cd5bb4_Unripe_ffb_4.png\n",
      "dataset-dev/IOI/feedback-ioi-2023-03-02_keep-drop/keep-drop/keep/6401bdac9b8e29c974cd5bbb_Overripe_ffb_10.png\n",
      "dataset-dev/IOI/feedback-ioi-2023-03-02_keep-drop/keep-drop/keep/6401bdac9b8e29c974cd5bbb_Overripe_ffb_16.png\n",
      "dataset-dev/IOI/feedback-ioi-2023-03-02_keep-drop/keep-drop/keep/6401bdac9b8e29c974cd5bbb_Ripe_ffb_13.png\n",
      "dataset-dev/IOI/feedback-ioi-2023-03-02_keep-drop/keep-drop/keep/6401bdac9b8e29c974cd5bbb_Ripe_ffb_14.png\n",
      "dataset-dev/IOI/feedback-ioi-2023-03-02_keep-drop/keep-drop/keep/6401bdac9b8e29c974cd5bbb_Ripe_ffb_15.png\n",
      "dataset-dev/IOI/feedback-ioi-2023-03-02_keep-drop/keep-drop/keep/6401bdac9b8e29c974cd5bbb_Ripe_ffb_19.png\n",
      "dataset-dev/IOI/feedback-ioi-2023-03-02_keep-drop/keep-drop/keep/6401bdac9b8e29c974cd5bbb_Ripe_ffb_3.png\n",
      "dataset-dev/IOI/feedback-ioi-2023-03-02_keep-drop/keep-drop/keep/6401bdac9b8e29c974cd5bbb_Ripe_ffb_31.png\n",
      "dataset-dev/IOI/feedback-ioi-2023-03-02_keep-drop/keep-drop/keep/6401bdac9b8e29c974cd5bbb_Ripe_ffb_32.png\n",
      "dataset-dev/IOI/feedback-ioi-2023-03-02_keep-drop/keep-drop/keep/6401bdac9b8e29c974cd5bbb_Ripe_ffb_4.png\n",
      "dataset-dev/IOI/feedback-ioi-2023-03-02_keep-drop/keep-drop/keep/6401bdac9b8e29c974cd5bbb_Ripe_ffb_40.png\n",
      "dataset-dev/IOI/feedback-ioi-2023-03-02_keep-drop/keep-drop/keep/6401bdac9b8e29c974cd5bbb_Ripe_ffb_46.png\n",
      "dataset-dev/IOI/feedback-ioi-2023-03-02_keep-drop/keep-drop/keep/6401bdac9b8e29c974cd5bbb_Ripe_ffb_5.png\n",
      "dataset-dev/IOI/feedback-ioi-2023-03-02_keep-drop/keep-drop/keep/6401bdac9b8e29c974cd5bbb_Underripe_ffb_17.png\n",
      "dataset-dev/IOI/feedback-ioi-2023-03-02_keep-drop/keep-drop/keep/6401bdac9b8e29c974cd5bbb_Underripe_ffb_18.png\n",
      "dataset-dev/IOI/feedback-ioi-2023-03-02_keep-drop/keep-drop/keep/6401bdac9b8e29c974cd5bbb_Underripe_ffb_34.png\n",
      "dataset-dev/IOI/feedback-ioi-2023-03-02_keep-drop/keep-drop/keep/6401bdac9b8e29c974cd5bbb_Underripe_ffb_35.png\n",
      "dataset-dev/IOI/feedback-ioi-2023-03-02_keep-drop/keep-drop/keep/6401bdac9b8e29c974cd5bbb_Underripe_ffb_43.png\n",
      "dataset-dev/IOI/feedback-ioi-2023-03-02_keep-drop/keep-drop/keep/6401bdac9b8e29c974cd5bbb_Unripe_ffb_30.png\n"
     ]
    }
   ],
   "source": [
    "for d in the_data:\n",
    "    print(d.object_name)"
   ]
  },
  {
   "cell_type": "code",
   "execution_count": 72,
   "metadata": {},
   "outputs": [
    {
     "data": {
      "application/vnd.plotly.v1+json": {
       "config": {
        "plotlyServerURL": "https://plot.ly"
       },
       "data": [
        {
         "marker": {
          "color": "#1f77b4"
         },
         "name": "Train",
         "text": [
          "50",
          "30",
          "70",
          "90"
         ],
         "textposition": "auto",
         "type": "bar",
         "x": [
          "Empty",
          "Class 2",
          "Class 3",
          "Class 4"
         ],
         "y": [
          50,
          30,
          70,
          90
         ]
        },
        {
         "marker": {
          "color": "#ff7f0e"
         },
         "name": "Test",
         "text": [
          "20",
          "40",
          "60",
          "80"
         ],
         "textposition": "auto",
         "type": "bar",
         "x": [
          "Empty",
          "Class 2",
          "Class 3",
          "Class 4"
         ],
         "y": [
          20,
          40,
          60,
          80
         ]
        },
        {
         "marker": {
          "color": "#2ca02c"
         },
         "name": "Validation",
         "text": [
          "10",
          "20",
          "30",
          "40"
         ],
         "textposition": "auto",
         "type": "bar",
         "x": [
          "Empty",
          "Class 2",
          "Class 3",
          "Class 4"
         ],
         "y": [
          10,
          20,
          30,
          40
         ]
        }
       ],
       "layout": {
        "barmode": "group",
        "font": {
         "color": "white"
        },
        "legend": {
         "x": 0,
         "y": 1
        },
        "paper_bgcolor": "#2c3e50",
        "plot_bgcolor": "#2c3e50",
        "template": {
         "data": {
          "bar": [
           {
            "error_x": {
             "color": "#2a3f5f"
            },
            "error_y": {
             "color": "#2a3f5f"
            },
            "marker": {
             "line": {
              "color": "#E5ECF6",
              "width": 0.5
             },
             "pattern": {
              "fillmode": "overlay",
              "size": 10,
              "solidity": 0.2
             }
            },
            "type": "bar"
           }
          ],
          "barpolar": [
           {
            "marker": {
             "line": {
              "color": "#E5ECF6",
              "width": 0.5
             },
             "pattern": {
              "fillmode": "overlay",
              "size": 10,
              "solidity": 0.2
             }
            },
            "type": "barpolar"
           }
          ],
          "carpet": [
           {
            "aaxis": {
             "endlinecolor": "#2a3f5f",
             "gridcolor": "white",
             "linecolor": "white",
             "minorgridcolor": "white",
             "startlinecolor": "#2a3f5f"
            },
            "baxis": {
             "endlinecolor": "#2a3f5f",
             "gridcolor": "white",
             "linecolor": "white",
             "minorgridcolor": "white",
             "startlinecolor": "#2a3f5f"
            },
            "type": "carpet"
           }
          ],
          "choropleth": [
           {
            "colorbar": {
             "outlinewidth": 0,
             "ticks": ""
            },
            "type": "choropleth"
           }
          ],
          "contour": [
           {
            "colorbar": {
             "outlinewidth": 0,
             "ticks": ""
            },
            "colorscale": [
             [
              0,
              "#0d0887"
             ],
             [
              0.1111111111111111,
              "#46039f"
             ],
             [
              0.2222222222222222,
              "#7201a8"
             ],
             [
              0.3333333333333333,
              "#9c179e"
             ],
             [
              0.4444444444444444,
              "#bd3786"
             ],
             [
              0.5555555555555556,
              "#d8576b"
             ],
             [
              0.6666666666666666,
              "#ed7953"
             ],
             [
              0.7777777777777778,
              "#fb9f3a"
             ],
             [
              0.8888888888888888,
              "#fdca26"
             ],
             [
              1,
              "#f0f921"
             ]
            ],
            "type": "contour"
           }
          ],
          "contourcarpet": [
           {
            "colorbar": {
             "outlinewidth": 0,
             "ticks": ""
            },
            "type": "contourcarpet"
           }
          ],
          "heatmap": [
           {
            "colorbar": {
             "outlinewidth": 0,
             "ticks": ""
            },
            "colorscale": [
             [
              0,
              "#0d0887"
             ],
             [
              0.1111111111111111,
              "#46039f"
             ],
             [
              0.2222222222222222,
              "#7201a8"
             ],
             [
              0.3333333333333333,
              "#9c179e"
             ],
             [
              0.4444444444444444,
              "#bd3786"
             ],
             [
              0.5555555555555556,
              "#d8576b"
             ],
             [
              0.6666666666666666,
              "#ed7953"
             ],
             [
              0.7777777777777778,
              "#fb9f3a"
             ],
             [
              0.8888888888888888,
              "#fdca26"
             ],
             [
              1,
              "#f0f921"
             ]
            ],
            "type": "heatmap"
           }
          ],
          "heatmapgl": [
           {
            "colorbar": {
             "outlinewidth": 0,
             "ticks": ""
            },
            "colorscale": [
             [
              0,
              "#0d0887"
             ],
             [
              0.1111111111111111,
              "#46039f"
             ],
             [
              0.2222222222222222,
              "#7201a8"
             ],
             [
              0.3333333333333333,
              "#9c179e"
             ],
             [
              0.4444444444444444,
              "#bd3786"
             ],
             [
              0.5555555555555556,
              "#d8576b"
             ],
             [
              0.6666666666666666,
              "#ed7953"
             ],
             [
              0.7777777777777778,
              "#fb9f3a"
             ],
             [
              0.8888888888888888,
              "#fdca26"
             ],
             [
              1,
              "#f0f921"
             ]
            ],
            "type": "heatmapgl"
           }
          ],
          "histogram": [
           {
            "marker": {
             "pattern": {
              "fillmode": "overlay",
              "size": 10,
              "solidity": 0.2
             }
            },
            "type": "histogram"
           }
          ],
          "histogram2d": [
           {
            "colorbar": {
             "outlinewidth": 0,
             "ticks": ""
            },
            "colorscale": [
             [
              0,
              "#0d0887"
             ],
             [
              0.1111111111111111,
              "#46039f"
             ],
             [
              0.2222222222222222,
              "#7201a8"
             ],
             [
              0.3333333333333333,
              "#9c179e"
             ],
             [
              0.4444444444444444,
              "#bd3786"
             ],
             [
              0.5555555555555556,
              "#d8576b"
             ],
             [
              0.6666666666666666,
              "#ed7953"
             ],
             [
              0.7777777777777778,
              "#fb9f3a"
             ],
             [
              0.8888888888888888,
              "#fdca26"
             ],
             [
              1,
              "#f0f921"
             ]
            ],
            "type": "histogram2d"
           }
          ],
          "histogram2dcontour": [
           {
            "colorbar": {
             "outlinewidth": 0,
             "ticks": ""
            },
            "colorscale": [
             [
              0,
              "#0d0887"
             ],
             [
              0.1111111111111111,
              "#46039f"
             ],
             [
              0.2222222222222222,
              "#7201a8"
             ],
             [
              0.3333333333333333,
              "#9c179e"
             ],
             [
              0.4444444444444444,
              "#bd3786"
             ],
             [
              0.5555555555555556,
              "#d8576b"
             ],
             [
              0.6666666666666666,
              "#ed7953"
             ],
             [
              0.7777777777777778,
              "#fb9f3a"
             ],
             [
              0.8888888888888888,
              "#fdca26"
             ],
             [
              1,
              "#f0f921"
             ]
            ],
            "type": "histogram2dcontour"
           }
          ],
          "mesh3d": [
           {
            "colorbar": {
             "outlinewidth": 0,
             "ticks": ""
            },
            "type": "mesh3d"
           }
          ],
          "parcoords": [
           {
            "line": {
             "colorbar": {
              "outlinewidth": 0,
              "ticks": ""
             }
            },
            "type": "parcoords"
           }
          ],
          "pie": [
           {
            "automargin": true,
            "type": "pie"
           }
          ],
          "scatter": [
           {
            "fillpattern": {
             "fillmode": "overlay",
             "size": 10,
             "solidity": 0.2
            },
            "type": "scatter"
           }
          ],
          "scatter3d": [
           {
            "line": {
             "colorbar": {
              "outlinewidth": 0,
              "ticks": ""
             }
            },
            "marker": {
             "colorbar": {
              "outlinewidth": 0,
              "ticks": ""
             }
            },
            "type": "scatter3d"
           }
          ],
          "scattercarpet": [
           {
            "marker": {
             "colorbar": {
              "outlinewidth": 0,
              "ticks": ""
             }
            },
            "type": "scattercarpet"
           }
          ],
          "scattergeo": [
           {
            "marker": {
             "colorbar": {
              "outlinewidth": 0,
              "ticks": ""
             }
            },
            "type": "scattergeo"
           }
          ],
          "scattergl": [
           {
            "marker": {
             "colorbar": {
              "outlinewidth": 0,
              "ticks": ""
             }
            },
            "type": "scattergl"
           }
          ],
          "scattermapbox": [
           {
            "marker": {
             "colorbar": {
              "outlinewidth": 0,
              "ticks": ""
             }
            },
            "type": "scattermapbox"
           }
          ],
          "scatterpolar": [
           {
            "marker": {
             "colorbar": {
              "outlinewidth": 0,
              "ticks": ""
             }
            },
            "type": "scatterpolar"
           }
          ],
          "scatterpolargl": [
           {
            "marker": {
             "colorbar": {
              "outlinewidth": 0,
              "ticks": ""
             }
            },
            "type": "scatterpolargl"
           }
          ],
          "scatterternary": [
           {
            "marker": {
             "colorbar": {
              "outlinewidth": 0,
              "ticks": ""
             }
            },
            "type": "scatterternary"
           }
          ],
          "surface": [
           {
            "colorbar": {
             "outlinewidth": 0,
             "ticks": ""
            },
            "colorscale": [
             [
              0,
              "#0d0887"
             ],
             [
              0.1111111111111111,
              "#46039f"
             ],
             [
              0.2222222222222222,
              "#7201a8"
             ],
             [
              0.3333333333333333,
              "#9c179e"
             ],
             [
              0.4444444444444444,
              "#bd3786"
             ],
             [
              0.5555555555555556,
              "#d8576b"
             ],
             [
              0.6666666666666666,
              "#ed7953"
             ],
             [
              0.7777777777777778,
              "#fb9f3a"
             ],
             [
              0.8888888888888888,
              "#fdca26"
             ],
             [
              1,
              "#f0f921"
             ]
            ],
            "type": "surface"
           }
          ],
          "table": [
           {
            "cells": {
             "fill": {
              "color": "#EBF0F8"
             },
             "line": {
              "color": "white"
             }
            },
            "header": {
             "fill": {
              "color": "#C8D4E3"
             },
             "line": {
              "color": "white"
             }
            },
            "type": "table"
           }
          ]
         },
         "layout": {
          "annotationdefaults": {
           "arrowcolor": "#2a3f5f",
           "arrowhead": 0,
           "arrowwidth": 1
          },
          "autotypenumbers": "strict",
          "coloraxis": {
           "colorbar": {
            "outlinewidth": 0,
            "ticks": ""
           }
          },
          "colorscale": {
           "diverging": [
            [
             0,
             "#8e0152"
            ],
            [
             0.1,
             "#c51b7d"
            ],
            [
             0.2,
             "#de77ae"
            ],
            [
             0.3,
             "#f1b6da"
            ],
            [
             0.4,
             "#fde0ef"
            ],
            [
             0.5,
             "#f7f7f7"
            ],
            [
             0.6,
             "#e6f5d0"
            ],
            [
             0.7,
             "#b8e186"
            ],
            [
             0.8,
             "#7fbc41"
            ],
            [
             0.9,
             "#4d9221"
            ],
            [
             1,
             "#276419"
            ]
           ],
           "sequential": [
            [
             0,
             "#0d0887"
            ],
            [
             0.1111111111111111,
             "#46039f"
            ],
            [
             0.2222222222222222,
             "#7201a8"
            ],
            [
             0.3333333333333333,
             "#9c179e"
            ],
            [
             0.4444444444444444,
             "#bd3786"
            ],
            [
             0.5555555555555556,
             "#d8576b"
            ],
            [
             0.6666666666666666,
             "#ed7953"
            ],
            [
             0.7777777777777778,
             "#fb9f3a"
            ],
            [
             0.8888888888888888,
             "#fdca26"
            ],
            [
             1,
             "#f0f921"
            ]
           ],
           "sequentialminus": [
            [
             0,
             "#0d0887"
            ],
            [
             0.1111111111111111,
             "#46039f"
            ],
            [
             0.2222222222222222,
             "#7201a8"
            ],
            [
             0.3333333333333333,
             "#9c179e"
            ],
            [
             0.4444444444444444,
             "#bd3786"
            ],
            [
             0.5555555555555556,
             "#d8576b"
            ],
            [
             0.6666666666666666,
             "#ed7953"
            ],
            [
             0.7777777777777778,
             "#fb9f3a"
            ],
            [
             0.8888888888888888,
             "#fdca26"
            ],
            [
             1,
             "#f0f921"
            ]
           ]
          },
          "colorway": [
           "#636efa",
           "#EF553B",
           "#00cc96",
           "#ab63fa",
           "#FFA15A",
           "#19d3f3",
           "#FF6692",
           "#B6E880",
           "#FF97FF",
           "#FECB52"
          ],
          "font": {
           "color": "#2a3f5f"
          },
          "geo": {
           "bgcolor": "white",
           "lakecolor": "white",
           "landcolor": "#E5ECF6",
           "showlakes": true,
           "showland": true,
           "subunitcolor": "white"
          },
          "hoverlabel": {
           "align": "left"
          },
          "hovermode": "closest",
          "mapbox": {
           "style": "light"
          },
          "paper_bgcolor": "white",
          "plot_bgcolor": "#E5ECF6",
          "polar": {
           "angularaxis": {
            "gridcolor": "white",
            "linecolor": "white",
            "ticks": ""
           },
           "bgcolor": "#E5ECF6",
           "radialaxis": {
            "gridcolor": "white",
            "linecolor": "white",
            "ticks": ""
           }
          },
          "scene": {
           "xaxis": {
            "backgroundcolor": "#E5ECF6",
            "gridcolor": "white",
            "gridwidth": 2,
            "linecolor": "white",
            "showbackground": true,
            "ticks": "",
            "zerolinecolor": "white"
           },
           "yaxis": {
            "backgroundcolor": "#E5ECF6",
            "gridcolor": "white",
            "gridwidth": 2,
            "linecolor": "white",
            "showbackground": true,
            "ticks": "",
            "zerolinecolor": "white"
           },
           "zaxis": {
            "backgroundcolor": "#E5ECF6",
            "gridcolor": "white",
            "gridwidth": 2,
            "linecolor": "white",
            "showbackground": true,
            "ticks": "",
            "zerolinecolor": "white"
           }
          },
          "shapedefaults": {
           "line": {
            "color": "#2a3f5f"
           }
          },
          "ternary": {
           "aaxis": {
            "gridcolor": "white",
            "linecolor": "white",
            "ticks": ""
           },
           "baxis": {
            "gridcolor": "white",
            "linecolor": "white",
            "ticks": ""
           },
           "bgcolor": "#E5ECF6",
           "caxis": {
            "gridcolor": "white",
            "linecolor": "white",
            "ticks": ""
           }
          },
          "title": {
           "x": 0.05
          },
          "xaxis": {
           "automargin": true,
           "gridcolor": "white",
           "linecolor": "white",
           "ticks": "",
           "title": {
            "standoff": 15
           },
           "zerolinecolor": "white",
           "zerolinewidth": 2
          },
          "yaxis": {
           "automargin": true,
           "gridcolor": "white",
           "linecolor": "white",
           "ticks": "",
           "title": {
            "standoff": 15
           },
           "zerolinecolor": "white",
           "zerolinewidth": 2
          }
         }
        },
        "title": {
         "text": "Data Distribution"
        },
        "xaxis": {
         "showticklabels": true,
         "title": {
          "text": "Class Name"
         }
        },
        "yaxis": {
         "showticklabels": true,
         "title": {
          "text": "Counts"
         }
        }
       }
      },
      "text/html": [
       "<div>                            <div id=\"0012814a-3635-4388-a007-f4525dbc0256\" class=\"plotly-graph-div\" style=\"height:525px; width:100%;\"></div>            <script type=\"text/javascript\">                require([\"plotly\"], function(Plotly) {                    window.PLOTLYENV=window.PLOTLYENV || {};                                    if (document.getElementById(\"0012814a-3635-4388-a007-f4525dbc0256\")) {                    Plotly.newPlot(                        \"0012814a-3635-4388-a007-f4525dbc0256\",                        [{\"marker\":{\"color\":\"#1f77b4\"},\"name\":\"Train\",\"text\":[\"50\",\"30\",\"70\",\"90\"],\"textposition\":\"auto\",\"x\":[\"Empty\",\"Class 2\",\"Class 3\",\"Class 4\"],\"y\":[50,30,70,90],\"type\":\"bar\"},{\"marker\":{\"color\":\"#ff7f0e\"},\"name\":\"Test\",\"text\":[\"20\",\"40\",\"60\",\"80\"],\"textposition\":\"auto\",\"x\":[\"Empty\",\"Class 2\",\"Class 3\",\"Class 4\"],\"y\":[20,40,60,80],\"type\":\"bar\"},{\"marker\":{\"color\":\"#2ca02c\"},\"name\":\"Validation\",\"text\":[\"10\",\"20\",\"30\",\"40\"],\"textposition\":\"auto\",\"x\":[\"Empty\",\"Class 2\",\"Class 3\",\"Class 4\"],\"y\":[10,20,30,40],\"type\":\"bar\"}],                        {\"barmode\":\"group\",\"legend\":{\"x\":0,\"y\":1},\"title\":{\"text\":\"Data Distribution\"},\"xaxis\":{\"showticklabels\":true,\"title\":{\"text\":\"Class Name\"}},\"yaxis\":{\"showticklabels\":true,\"title\":{\"text\":\"Counts\"}},\"template\":{\"data\":{\"histogram2dcontour\":[{\"type\":\"histogram2dcontour\",\"colorbar\":{\"outlinewidth\":0,\"ticks\":\"\"},\"colorscale\":[[0.0,\"#0d0887\"],[0.1111111111111111,\"#46039f\"],[0.2222222222222222,\"#7201a8\"],[0.3333333333333333,\"#9c179e\"],[0.4444444444444444,\"#bd3786\"],[0.5555555555555556,\"#d8576b\"],[0.6666666666666666,\"#ed7953\"],[0.7777777777777778,\"#fb9f3a\"],[0.8888888888888888,\"#fdca26\"],[1.0,\"#f0f921\"]]}],\"choropleth\":[{\"type\":\"choropleth\",\"colorbar\":{\"outlinewidth\":0,\"ticks\":\"\"}}],\"histogram2d\":[{\"type\":\"histogram2d\",\"colorbar\":{\"outlinewidth\":0,\"ticks\":\"\"},\"colorscale\":[[0.0,\"#0d0887\"],[0.1111111111111111,\"#46039f\"],[0.2222222222222222,\"#7201a8\"],[0.3333333333333333,\"#9c179e\"],[0.4444444444444444,\"#bd3786\"],[0.5555555555555556,\"#d8576b\"],[0.6666666666666666,\"#ed7953\"],[0.7777777777777778,\"#fb9f3a\"],[0.8888888888888888,\"#fdca26\"],[1.0,\"#f0f921\"]]}],\"heatmap\":[{\"type\":\"heatmap\",\"colorbar\":{\"outlinewidth\":0,\"ticks\":\"\"},\"colorscale\":[[0.0,\"#0d0887\"],[0.1111111111111111,\"#46039f\"],[0.2222222222222222,\"#7201a8\"],[0.3333333333333333,\"#9c179e\"],[0.4444444444444444,\"#bd3786\"],[0.5555555555555556,\"#d8576b\"],[0.6666666666666666,\"#ed7953\"],[0.7777777777777778,\"#fb9f3a\"],[0.8888888888888888,\"#fdca26\"],[1.0,\"#f0f921\"]]}],\"heatmapgl\":[{\"type\":\"heatmapgl\",\"colorbar\":{\"outlinewidth\":0,\"ticks\":\"\"},\"colorscale\":[[0.0,\"#0d0887\"],[0.1111111111111111,\"#46039f\"],[0.2222222222222222,\"#7201a8\"],[0.3333333333333333,\"#9c179e\"],[0.4444444444444444,\"#bd3786\"],[0.5555555555555556,\"#d8576b\"],[0.6666666666666666,\"#ed7953\"],[0.7777777777777778,\"#fb9f3a\"],[0.8888888888888888,\"#fdca26\"],[1.0,\"#f0f921\"]]}],\"contourcarpet\":[{\"type\":\"contourcarpet\",\"colorbar\":{\"outlinewidth\":0,\"ticks\":\"\"}}],\"contour\":[{\"type\":\"contour\",\"colorbar\":{\"outlinewidth\":0,\"ticks\":\"\"},\"colorscale\":[[0.0,\"#0d0887\"],[0.1111111111111111,\"#46039f\"],[0.2222222222222222,\"#7201a8\"],[0.3333333333333333,\"#9c179e\"],[0.4444444444444444,\"#bd3786\"],[0.5555555555555556,\"#d8576b\"],[0.6666666666666666,\"#ed7953\"],[0.7777777777777778,\"#fb9f3a\"],[0.8888888888888888,\"#fdca26\"],[1.0,\"#f0f921\"]]}],\"surface\":[{\"type\":\"surface\",\"colorbar\":{\"outlinewidth\":0,\"ticks\":\"\"},\"colorscale\":[[0.0,\"#0d0887\"],[0.1111111111111111,\"#46039f\"],[0.2222222222222222,\"#7201a8\"],[0.3333333333333333,\"#9c179e\"],[0.4444444444444444,\"#bd3786\"],[0.5555555555555556,\"#d8576b\"],[0.6666666666666666,\"#ed7953\"],[0.7777777777777778,\"#fb9f3a\"],[0.8888888888888888,\"#fdca26\"],[1.0,\"#f0f921\"]]}],\"mesh3d\":[{\"type\":\"mesh3d\",\"colorbar\":{\"outlinewidth\":0,\"ticks\":\"\"}}],\"scatter\":[{\"fillpattern\":{\"fillmode\":\"overlay\",\"size\":10,\"solidity\":0.2},\"type\":\"scatter\"}],\"parcoords\":[{\"type\":\"parcoords\",\"line\":{\"colorbar\":{\"outlinewidth\":0,\"ticks\":\"\"}}}],\"scatterpolargl\":[{\"type\":\"scatterpolargl\",\"marker\":{\"colorbar\":{\"outlinewidth\":0,\"ticks\":\"\"}}}],\"bar\":[{\"error_x\":{\"color\":\"#2a3f5f\"},\"error_y\":{\"color\":\"#2a3f5f\"},\"marker\":{\"line\":{\"color\":\"#E5ECF6\",\"width\":0.5},\"pattern\":{\"fillmode\":\"overlay\",\"size\":10,\"solidity\":0.2}},\"type\":\"bar\"}],\"scattergeo\":[{\"type\":\"scattergeo\",\"marker\":{\"colorbar\":{\"outlinewidth\":0,\"ticks\":\"\"}}}],\"scatterpolar\":[{\"type\":\"scatterpolar\",\"marker\":{\"colorbar\":{\"outlinewidth\":0,\"ticks\":\"\"}}}],\"histogram\":[{\"marker\":{\"pattern\":{\"fillmode\":\"overlay\",\"size\":10,\"solidity\":0.2}},\"type\":\"histogram\"}],\"scattergl\":[{\"type\":\"scattergl\",\"marker\":{\"colorbar\":{\"outlinewidth\":0,\"ticks\":\"\"}}}],\"scatter3d\":[{\"type\":\"scatter3d\",\"line\":{\"colorbar\":{\"outlinewidth\":0,\"ticks\":\"\"}},\"marker\":{\"colorbar\":{\"outlinewidth\":0,\"ticks\":\"\"}}}],\"scattermapbox\":[{\"type\":\"scattermapbox\",\"marker\":{\"colorbar\":{\"outlinewidth\":0,\"ticks\":\"\"}}}],\"scatterternary\":[{\"type\":\"scatterternary\",\"marker\":{\"colorbar\":{\"outlinewidth\":0,\"ticks\":\"\"}}}],\"scattercarpet\":[{\"type\":\"scattercarpet\",\"marker\":{\"colorbar\":{\"outlinewidth\":0,\"ticks\":\"\"}}}],\"carpet\":[{\"aaxis\":{\"endlinecolor\":\"#2a3f5f\",\"gridcolor\":\"white\",\"linecolor\":\"white\",\"minorgridcolor\":\"white\",\"startlinecolor\":\"#2a3f5f\"},\"baxis\":{\"endlinecolor\":\"#2a3f5f\",\"gridcolor\":\"white\",\"linecolor\":\"white\",\"minorgridcolor\":\"white\",\"startlinecolor\":\"#2a3f5f\"},\"type\":\"carpet\"}],\"table\":[{\"cells\":{\"fill\":{\"color\":\"#EBF0F8\"},\"line\":{\"color\":\"white\"}},\"header\":{\"fill\":{\"color\":\"#C8D4E3\"},\"line\":{\"color\":\"white\"}},\"type\":\"table\"}],\"barpolar\":[{\"marker\":{\"line\":{\"color\":\"#E5ECF6\",\"width\":0.5},\"pattern\":{\"fillmode\":\"overlay\",\"size\":10,\"solidity\":0.2}},\"type\":\"barpolar\"}],\"pie\":[{\"automargin\":true,\"type\":\"pie\"}]},\"layout\":{\"autotypenumbers\":\"strict\",\"colorway\":[\"#636efa\",\"#EF553B\",\"#00cc96\",\"#ab63fa\",\"#FFA15A\",\"#19d3f3\",\"#FF6692\",\"#B6E880\",\"#FF97FF\",\"#FECB52\"],\"font\":{\"color\":\"#2a3f5f\"},\"hovermode\":\"closest\",\"hoverlabel\":{\"align\":\"left\"},\"paper_bgcolor\":\"white\",\"plot_bgcolor\":\"#E5ECF6\",\"polar\":{\"bgcolor\":\"#E5ECF6\",\"angularaxis\":{\"gridcolor\":\"white\",\"linecolor\":\"white\",\"ticks\":\"\"},\"radialaxis\":{\"gridcolor\":\"white\",\"linecolor\":\"white\",\"ticks\":\"\"}},\"ternary\":{\"bgcolor\":\"#E5ECF6\",\"aaxis\":{\"gridcolor\":\"white\",\"linecolor\":\"white\",\"ticks\":\"\"},\"baxis\":{\"gridcolor\":\"white\",\"linecolor\":\"white\",\"ticks\":\"\"},\"caxis\":{\"gridcolor\":\"white\",\"linecolor\":\"white\",\"ticks\":\"\"}},\"coloraxis\":{\"colorbar\":{\"outlinewidth\":0,\"ticks\":\"\"}},\"colorscale\":{\"sequential\":[[0.0,\"#0d0887\"],[0.1111111111111111,\"#46039f\"],[0.2222222222222222,\"#7201a8\"],[0.3333333333333333,\"#9c179e\"],[0.4444444444444444,\"#bd3786\"],[0.5555555555555556,\"#d8576b\"],[0.6666666666666666,\"#ed7953\"],[0.7777777777777778,\"#fb9f3a\"],[0.8888888888888888,\"#fdca26\"],[1.0,\"#f0f921\"]],\"sequentialminus\":[[0.0,\"#0d0887\"],[0.1111111111111111,\"#46039f\"],[0.2222222222222222,\"#7201a8\"],[0.3333333333333333,\"#9c179e\"],[0.4444444444444444,\"#bd3786\"],[0.5555555555555556,\"#d8576b\"],[0.6666666666666666,\"#ed7953\"],[0.7777777777777778,\"#fb9f3a\"],[0.8888888888888888,\"#fdca26\"],[1.0,\"#f0f921\"]],\"diverging\":[[0,\"#8e0152\"],[0.1,\"#c51b7d\"],[0.2,\"#de77ae\"],[0.3,\"#f1b6da\"],[0.4,\"#fde0ef\"],[0.5,\"#f7f7f7\"],[0.6,\"#e6f5d0\"],[0.7,\"#b8e186\"],[0.8,\"#7fbc41\"],[0.9,\"#4d9221\"],[1,\"#276419\"]]},\"xaxis\":{\"gridcolor\":\"white\",\"linecolor\":\"white\",\"ticks\":\"\",\"title\":{\"standoff\":15},\"zerolinecolor\":\"white\",\"automargin\":true,\"zerolinewidth\":2},\"yaxis\":{\"gridcolor\":\"white\",\"linecolor\":\"white\",\"ticks\":\"\",\"title\":{\"standoff\":15},\"zerolinecolor\":\"white\",\"automargin\":true,\"zerolinewidth\":2},\"scene\":{\"xaxis\":{\"backgroundcolor\":\"#E5ECF6\",\"gridcolor\":\"white\",\"linecolor\":\"white\",\"showbackground\":true,\"ticks\":\"\",\"zerolinecolor\":\"white\",\"gridwidth\":2},\"yaxis\":{\"backgroundcolor\":\"#E5ECF6\",\"gridcolor\":\"white\",\"linecolor\":\"white\",\"showbackground\":true,\"ticks\":\"\",\"zerolinecolor\":\"white\",\"gridwidth\":2},\"zaxis\":{\"backgroundcolor\":\"#E5ECF6\",\"gridcolor\":\"white\",\"linecolor\":\"white\",\"showbackground\":true,\"ticks\":\"\",\"zerolinecolor\":\"white\",\"gridwidth\":2}},\"shapedefaults\":{\"line\":{\"color\":\"#2a3f5f\"}},\"annotationdefaults\":{\"arrowcolor\":\"#2a3f5f\",\"arrowhead\":0,\"arrowwidth\":1},\"geo\":{\"bgcolor\":\"white\",\"landcolor\":\"#E5ECF6\",\"subunitcolor\":\"white\",\"showland\":true,\"showlakes\":true,\"lakecolor\":\"white\"},\"title\":{\"x\":0.05},\"mapbox\":{\"style\":\"light\"}}},\"font\":{\"color\":\"white\"},\"plot_bgcolor\":\"#2c3e50\",\"paper_bgcolor\":\"#2c3e50\"},                        {\"responsive\": true}                    ).then(function(){\n",
       "                            \n",
       "var gd = document.getElementById('0012814a-3635-4388-a007-f4525dbc0256');\n",
       "var x = new MutationObserver(function (mutations, observer) {{\n",
       "        var display = window.getComputedStyle(gd).display;\n",
       "        if (!display || display === 'none') {{\n",
       "            console.log([gd, 'removed!']);\n",
       "            Plotly.purge(gd);\n",
       "            observer.disconnect();\n",
       "        }}\n",
       "}});\n",
       "\n",
       "// Listen for the removal of the full notebook cells\n",
       "var notebookContainer = gd.closest('#notebook-container');\n",
       "if (notebookContainer) {{\n",
       "    x.observe(notebookContainer, {childList: true});\n",
       "}}\n",
       "\n",
       "// Listen for the clearing of the current output cell\n",
       "var outputEl = gd.closest('.output');\n",
       "if (outputEl) {{\n",
       "    x.observe(outputEl, {childList: true});\n",
       "}}\n",
       "\n",
       "                        })                };                });            </script>        </div>"
      ]
     },
     "metadata": {},
     "output_type": "display_data"
    }
   ],
   "source": [
    "import plotly.graph_objs as go\n",
    "\n",
    "# Sample data\n",
    "x_values = ['Empty', 'Class 2', 'Class 3', 'Class 4']\n",
    "y_train = [50, 30, 70, 90]\n",
    "y_test = [20, 40, 60, 80]\n",
    "y_val = [10, 20, 30, 40]\n",
    "\n",
    "# Create three bar chart traces, one for each section\n",
    "trace1 = go.Bar(x=x_values, y=y_train, name='Train', text=y_train, textposition='auto', marker=dict(color='#1f77b4'))\n",
    "trace2 = go.Bar(x=x_values, y=y_test, name='Test', text=y_test, textposition='auto', marker=dict(color='#ff7f0e'))\n",
    "trace3 = go.Bar(x=x_values, y=y_val, name='Validation', text=y_val, textposition='auto', marker=dict(color='#2ca02c'))\n",
    "\n",
    "# Create a layout for the chart\n",
    "layout = go.Layout(title='Data Distribution', xaxis=dict(title='Class Name', showticklabels=True), yaxis=dict(title='Counts', showticklabels=True), barmode='group', legend=dict(x=0, y=1))\n",
    "\n",
    "# Create a figure object that contains the traces and layout\n",
    "fig = go.Figure(data=[trace1, trace2, trace3], layout=layout)\n",
    "\n",
    "# Update the font and background colors of the chart\n",
    "fig.update_layout(font=dict(color='white'), plot_bgcolor='#2c3e50', paper_bgcolor='#2c3e50')\n",
    "\n",
    "# Show the chart\n",
    "fig.show()\n"
   ]
  },
  {
   "cell_type": "code",
   "execution_count": 74,
   "metadata": {},
   "outputs": [],
   "source": [
    "import random\n",
    "from datetime import datetime\n",
    "\n",
    "# Define a list of supplier names and a list of maturity levels\n",
    "supplier_names = ['Supplier A', 'Supplier B', 'Supplier C']\n",
    "maturity_levels = ['Early', 'Mid', 'Late']\n",
    "\n",
    "# Create a dummy d_metadata dictionary with 100 entries\n",
    "d_metadata = []\n",
    "for i in range(100):\n",
    "    c = {\n",
    "        \"date_consignment\": datetime.now(),\n",
    "        \"penalty\": random.uniform(0, 1),\n",
    "        \"suppliername\": random.choice(supplier_names),\n",
    "        \"ticketnumber\": f'Ticket-{i}',\n",
    "        \"uid_consignment\": f'UID-{i}',\n",
    "        \"weight\": round(random.uniform(1, 100), 3),\n",
    "        \"maturity\": random.choice(maturity_levels),\n",
    "        \"mills\": f'Mill-{i}'\n",
    "    }\n",
    "    d_metadata.append(c)\n"
   ]
  },
  {
   "cell_type": "code",
   "execution_count": 76,
   "metadata": {},
   "outputs": [
    {
     "data": {
      "application/vnd.plotly.v1+json": {
       "config": {
        "plotlyServerURL": "https://plot.ly"
       },
       "data": [
        {
         "alignmentgroup": "True",
         "hovertemplate": "maturity=Early<br>suppliername=%{x}<br>count=%{y}<extra></extra>",
         "legendgroup": "Early",
         "marker": {
          "color": "#636efa",
          "pattern": {
           "shape": ""
          }
         },
         "name": "Early",
         "offsetgroup": "Early",
         "orientation": "v",
         "showlegend": true,
         "textposition": "auto",
         "texttemplate": "%{y}",
         "type": "bar",
         "x": [
          "Supplier A",
          "Supplier B",
          "Supplier C"
         ],
         "xaxis": "x",
         "y": [
          12,
          8,
          14
         ],
         "yaxis": "y"
        },
        {
         "alignmentgroup": "True",
         "hovertemplate": "maturity=Late<br>suppliername=%{x}<br>count=%{y}<extra></extra>",
         "legendgroup": "Late",
         "marker": {
          "color": "#EF553B",
          "pattern": {
           "shape": ""
          }
         },
         "name": "Late",
         "offsetgroup": "Late",
         "orientation": "v",
         "showlegend": true,
         "textposition": "auto",
         "texttemplate": "%{y}",
         "type": "bar",
         "x": [
          "Supplier A",
          "Supplier B",
          "Supplier C"
         ],
         "xaxis": "x",
         "y": [
          12,
          12,
          11
         ],
         "yaxis": "y"
        },
        {
         "alignmentgroup": "True",
         "hovertemplate": "maturity=Mid<br>suppliername=%{x}<br>count=%{y}<extra></extra>",
         "legendgroup": "Mid",
         "marker": {
          "color": "#00cc96",
          "pattern": {
           "shape": ""
          }
         },
         "name": "Mid",
         "offsetgroup": "Mid",
         "orientation": "v",
         "showlegend": true,
         "textposition": "auto",
         "texttemplate": "%{y}",
         "type": "bar",
         "x": [
          "Supplier A",
          "Supplier B",
          "Supplier C"
         ],
         "xaxis": "x",
         "y": [
          12,
          8,
          11
         ],
         "yaxis": "y"
        }
       ],
       "layout": {
        "barmode": "group",
        "legend": {
         "title": {
          "text": "maturity"
         },
         "tracegroupgap": 0
        },
        "margin": {
         "t": 60
        },
        "template": {
         "data": {
          "bar": [
           {
            "error_x": {
             "color": "#2a3f5f"
            },
            "error_y": {
             "color": "#2a3f5f"
            },
            "marker": {
             "line": {
              "color": "#E5ECF6",
              "width": 0.5
             },
             "pattern": {
              "fillmode": "overlay",
              "size": 10,
              "solidity": 0.2
             }
            },
            "type": "bar"
           }
          ],
          "barpolar": [
           {
            "marker": {
             "line": {
              "color": "#E5ECF6",
              "width": 0.5
             },
             "pattern": {
              "fillmode": "overlay",
              "size": 10,
              "solidity": 0.2
             }
            },
            "type": "barpolar"
           }
          ],
          "carpet": [
           {
            "aaxis": {
             "endlinecolor": "#2a3f5f",
             "gridcolor": "white",
             "linecolor": "white",
             "minorgridcolor": "white",
             "startlinecolor": "#2a3f5f"
            },
            "baxis": {
             "endlinecolor": "#2a3f5f",
             "gridcolor": "white",
             "linecolor": "white",
             "minorgridcolor": "white",
             "startlinecolor": "#2a3f5f"
            },
            "type": "carpet"
           }
          ],
          "choropleth": [
           {
            "colorbar": {
             "outlinewidth": 0,
             "ticks": ""
            },
            "type": "choropleth"
           }
          ],
          "contour": [
           {
            "colorbar": {
             "outlinewidth": 0,
             "ticks": ""
            },
            "colorscale": [
             [
              0,
              "#0d0887"
             ],
             [
              0.1111111111111111,
              "#46039f"
             ],
             [
              0.2222222222222222,
              "#7201a8"
             ],
             [
              0.3333333333333333,
              "#9c179e"
             ],
             [
              0.4444444444444444,
              "#bd3786"
             ],
             [
              0.5555555555555556,
              "#d8576b"
             ],
             [
              0.6666666666666666,
              "#ed7953"
             ],
             [
              0.7777777777777778,
              "#fb9f3a"
             ],
             [
              0.8888888888888888,
              "#fdca26"
             ],
             [
              1,
              "#f0f921"
             ]
            ],
            "type": "contour"
           }
          ],
          "contourcarpet": [
           {
            "colorbar": {
             "outlinewidth": 0,
             "ticks": ""
            },
            "type": "contourcarpet"
           }
          ],
          "heatmap": [
           {
            "colorbar": {
             "outlinewidth": 0,
             "ticks": ""
            },
            "colorscale": [
             [
              0,
              "#0d0887"
             ],
             [
              0.1111111111111111,
              "#46039f"
             ],
             [
              0.2222222222222222,
              "#7201a8"
             ],
             [
              0.3333333333333333,
              "#9c179e"
             ],
             [
              0.4444444444444444,
              "#bd3786"
             ],
             [
              0.5555555555555556,
              "#d8576b"
             ],
             [
              0.6666666666666666,
              "#ed7953"
             ],
             [
              0.7777777777777778,
              "#fb9f3a"
             ],
             [
              0.8888888888888888,
              "#fdca26"
             ],
             [
              1,
              "#f0f921"
             ]
            ],
            "type": "heatmap"
           }
          ],
          "heatmapgl": [
           {
            "colorbar": {
             "outlinewidth": 0,
             "ticks": ""
            },
            "colorscale": [
             [
              0,
              "#0d0887"
             ],
             [
              0.1111111111111111,
              "#46039f"
             ],
             [
              0.2222222222222222,
              "#7201a8"
             ],
             [
              0.3333333333333333,
              "#9c179e"
             ],
             [
              0.4444444444444444,
              "#bd3786"
             ],
             [
              0.5555555555555556,
              "#d8576b"
             ],
             [
              0.6666666666666666,
              "#ed7953"
             ],
             [
              0.7777777777777778,
              "#fb9f3a"
             ],
             [
              0.8888888888888888,
              "#fdca26"
             ],
             [
              1,
              "#f0f921"
             ]
            ],
            "type": "heatmapgl"
           }
          ],
          "histogram": [
           {
            "marker": {
             "pattern": {
              "fillmode": "overlay",
              "size": 10,
              "solidity": 0.2
             }
            },
            "type": "histogram"
           }
          ],
          "histogram2d": [
           {
            "colorbar": {
             "outlinewidth": 0,
             "ticks": ""
            },
            "colorscale": [
             [
              0,
              "#0d0887"
             ],
             [
              0.1111111111111111,
              "#46039f"
             ],
             [
              0.2222222222222222,
              "#7201a8"
             ],
             [
              0.3333333333333333,
              "#9c179e"
             ],
             [
              0.4444444444444444,
              "#bd3786"
             ],
             [
              0.5555555555555556,
              "#d8576b"
             ],
             [
              0.6666666666666666,
              "#ed7953"
             ],
             [
              0.7777777777777778,
              "#fb9f3a"
             ],
             [
              0.8888888888888888,
              "#fdca26"
             ],
             [
              1,
              "#f0f921"
             ]
            ],
            "type": "histogram2d"
           }
          ],
          "histogram2dcontour": [
           {
            "colorbar": {
             "outlinewidth": 0,
             "ticks": ""
            },
            "colorscale": [
             [
              0,
              "#0d0887"
             ],
             [
              0.1111111111111111,
              "#46039f"
             ],
             [
              0.2222222222222222,
              "#7201a8"
             ],
             [
              0.3333333333333333,
              "#9c179e"
             ],
             [
              0.4444444444444444,
              "#bd3786"
             ],
             [
              0.5555555555555556,
              "#d8576b"
             ],
             [
              0.6666666666666666,
              "#ed7953"
             ],
             [
              0.7777777777777778,
              "#fb9f3a"
             ],
             [
              0.8888888888888888,
              "#fdca26"
             ],
             [
              1,
              "#f0f921"
             ]
            ],
            "type": "histogram2dcontour"
           }
          ],
          "mesh3d": [
           {
            "colorbar": {
             "outlinewidth": 0,
             "ticks": ""
            },
            "type": "mesh3d"
           }
          ],
          "parcoords": [
           {
            "line": {
             "colorbar": {
              "outlinewidth": 0,
              "ticks": ""
             }
            },
            "type": "parcoords"
           }
          ],
          "pie": [
           {
            "automargin": true,
            "type": "pie"
           }
          ],
          "scatter": [
           {
            "fillpattern": {
             "fillmode": "overlay",
             "size": 10,
             "solidity": 0.2
            },
            "type": "scatter"
           }
          ],
          "scatter3d": [
           {
            "line": {
             "colorbar": {
              "outlinewidth": 0,
              "ticks": ""
             }
            },
            "marker": {
             "colorbar": {
              "outlinewidth": 0,
              "ticks": ""
             }
            },
            "type": "scatter3d"
           }
          ],
          "scattercarpet": [
           {
            "marker": {
             "colorbar": {
              "outlinewidth": 0,
              "ticks": ""
             }
            },
            "type": "scattercarpet"
           }
          ],
          "scattergeo": [
           {
            "marker": {
             "colorbar": {
              "outlinewidth": 0,
              "ticks": ""
             }
            },
            "type": "scattergeo"
           }
          ],
          "scattergl": [
           {
            "marker": {
             "colorbar": {
              "outlinewidth": 0,
              "ticks": ""
             }
            },
            "type": "scattergl"
           }
          ],
          "scattermapbox": [
           {
            "marker": {
             "colorbar": {
              "outlinewidth": 0,
              "ticks": ""
             }
            },
            "type": "scattermapbox"
           }
          ],
          "scatterpolar": [
           {
            "marker": {
             "colorbar": {
              "outlinewidth": 0,
              "ticks": ""
             }
            },
            "type": "scatterpolar"
           }
          ],
          "scatterpolargl": [
           {
            "marker": {
             "colorbar": {
              "outlinewidth": 0,
              "ticks": ""
             }
            },
            "type": "scatterpolargl"
           }
          ],
          "scatterternary": [
           {
            "marker": {
             "colorbar": {
              "outlinewidth": 0,
              "ticks": ""
             }
            },
            "type": "scatterternary"
           }
          ],
          "surface": [
           {
            "colorbar": {
             "outlinewidth": 0,
             "ticks": ""
            },
            "colorscale": [
             [
              0,
              "#0d0887"
             ],
             [
              0.1111111111111111,
              "#46039f"
             ],
             [
              0.2222222222222222,
              "#7201a8"
             ],
             [
              0.3333333333333333,
              "#9c179e"
             ],
             [
              0.4444444444444444,
              "#bd3786"
             ],
             [
              0.5555555555555556,
              "#d8576b"
             ],
             [
              0.6666666666666666,
              "#ed7953"
             ],
             [
              0.7777777777777778,
              "#fb9f3a"
             ],
             [
              0.8888888888888888,
              "#fdca26"
             ],
             [
              1,
              "#f0f921"
             ]
            ],
            "type": "surface"
           }
          ],
          "table": [
           {
            "cells": {
             "fill": {
              "color": "#EBF0F8"
             },
             "line": {
              "color": "white"
             }
            },
            "header": {
             "fill": {
              "color": "#C8D4E3"
             },
             "line": {
              "color": "white"
             }
            },
            "type": "table"
           }
          ]
         },
         "layout": {
          "annotationdefaults": {
           "arrowcolor": "#2a3f5f",
           "arrowhead": 0,
           "arrowwidth": 1
          },
          "autotypenumbers": "strict",
          "coloraxis": {
           "colorbar": {
            "outlinewidth": 0,
            "ticks": ""
           }
          },
          "colorscale": {
           "diverging": [
            [
             0,
             "#8e0152"
            ],
            [
             0.1,
             "#c51b7d"
            ],
            [
             0.2,
             "#de77ae"
            ],
            [
             0.3,
             "#f1b6da"
            ],
            [
             0.4,
             "#fde0ef"
            ],
            [
             0.5,
             "#f7f7f7"
            ],
            [
             0.6,
             "#e6f5d0"
            ],
            [
             0.7,
             "#b8e186"
            ],
            [
             0.8,
             "#7fbc41"
            ],
            [
             0.9,
             "#4d9221"
            ],
            [
             1,
             "#276419"
            ]
           ],
           "sequential": [
            [
             0,
             "#0d0887"
            ],
            [
             0.1111111111111111,
             "#46039f"
            ],
            [
             0.2222222222222222,
             "#7201a8"
            ],
            [
             0.3333333333333333,
             "#9c179e"
            ],
            [
             0.4444444444444444,
             "#bd3786"
            ],
            [
             0.5555555555555556,
             "#d8576b"
            ],
            [
             0.6666666666666666,
             "#ed7953"
            ],
            [
             0.7777777777777778,
             "#fb9f3a"
            ],
            [
             0.8888888888888888,
             "#fdca26"
            ],
            [
             1,
             "#f0f921"
            ]
           ],
           "sequentialminus": [
            [
             0,
             "#0d0887"
            ],
            [
             0.1111111111111111,
             "#46039f"
            ],
            [
             0.2222222222222222,
             "#7201a8"
            ],
            [
             0.3333333333333333,
             "#9c179e"
            ],
            [
             0.4444444444444444,
             "#bd3786"
            ],
            [
             0.5555555555555556,
             "#d8576b"
            ],
            [
             0.6666666666666666,
             "#ed7953"
            ],
            [
             0.7777777777777778,
             "#fb9f3a"
            ],
            [
             0.8888888888888888,
             "#fdca26"
            ],
            [
             1,
             "#f0f921"
            ]
           ]
          },
          "colorway": [
           "#636efa",
           "#EF553B",
           "#00cc96",
           "#ab63fa",
           "#FFA15A",
           "#19d3f3",
           "#FF6692",
           "#B6E880",
           "#FF97FF",
           "#FECB52"
          ],
          "font": {
           "color": "#2a3f5f"
          },
          "geo": {
           "bgcolor": "white",
           "lakecolor": "white",
           "landcolor": "#E5ECF6",
           "showlakes": true,
           "showland": true,
           "subunitcolor": "white"
          },
          "hoverlabel": {
           "align": "left"
          },
          "hovermode": "closest",
          "mapbox": {
           "style": "light"
          },
          "paper_bgcolor": "white",
          "plot_bgcolor": "#E5ECF6",
          "polar": {
           "angularaxis": {
            "gridcolor": "white",
            "linecolor": "white",
            "ticks": ""
           },
           "bgcolor": "#E5ECF6",
           "radialaxis": {
            "gridcolor": "white",
            "linecolor": "white",
            "ticks": ""
           }
          },
          "scene": {
           "xaxis": {
            "backgroundcolor": "#E5ECF6",
            "gridcolor": "white",
            "gridwidth": 2,
            "linecolor": "white",
            "showbackground": true,
            "ticks": "",
            "zerolinecolor": "white"
           },
           "yaxis": {
            "backgroundcolor": "#E5ECF6",
            "gridcolor": "white",
            "gridwidth": 2,
            "linecolor": "white",
            "showbackground": true,
            "ticks": "",
            "zerolinecolor": "white"
           },
           "zaxis": {
            "backgroundcolor": "#E5ECF6",
            "gridcolor": "white",
            "gridwidth": 2,
            "linecolor": "white",
            "showbackground": true,
            "ticks": "",
            "zerolinecolor": "white"
           }
          },
          "shapedefaults": {
           "line": {
            "color": "#2a3f5f"
           }
          },
          "ternary": {
           "aaxis": {
            "gridcolor": "white",
            "linecolor": "white",
            "ticks": ""
           },
           "baxis": {
            "gridcolor": "white",
            "linecolor": "white",
            "ticks": ""
           },
           "bgcolor": "#E5ECF6",
           "caxis": {
            "gridcolor": "white",
            "linecolor": "white",
            "ticks": ""
           }
          },
          "title": {
           "x": 0.05
          },
          "xaxis": {
           "automargin": true,
           "gridcolor": "white",
           "linecolor": "white",
           "ticks": "",
           "title": {
            "standoff": 15
           },
           "zerolinecolor": "white",
           "zerolinewidth": 2
          },
          "yaxis": {
           "automargin": true,
           "gridcolor": "white",
           "linecolor": "white",
           "ticks": "",
           "title": {
            "standoff": 15
           },
           "zerolinecolor": "white",
           "zerolinewidth": 2
          }
         }
        },
        "xaxis": {
         "anchor": "y",
         "domain": [
          0,
          1
         ],
         "title": {
          "text": "suppliername"
         }
        },
        "yaxis": {
         "anchor": "x",
         "domain": [
          0,
          1
         ],
         "title": {
          "text": "count"
         }
        }
       }
      },
      "text/html": [
       "<div>                            <div id=\"34635afe-4757-47f0-88a2-1e8dc84e00cb\" class=\"plotly-graph-div\" style=\"height:525px; width:100%;\"></div>            <script type=\"text/javascript\">                require([\"plotly\"], function(Plotly) {                    window.PLOTLYENV=window.PLOTLYENV || {};                                    if (document.getElementById(\"34635afe-4757-47f0-88a2-1e8dc84e00cb\")) {                    Plotly.newPlot(                        \"34635afe-4757-47f0-88a2-1e8dc84e00cb\",                        [{\"alignmentgroup\":\"True\",\"hovertemplate\":\"maturity=Early<br>suppliername=%{x}<br>count=%{y}<extra></extra>\",\"legendgroup\":\"Early\",\"marker\":{\"color\":\"#636efa\",\"pattern\":{\"shape\":\"\"}},\"name\":\"Early\",\"offsetgroup\":\"Early\",\"orientation\":\"v\",\"showlegend\":true,\"textposition\":\"auto\",\"texttemplate\":\"%{y}\",\"x\":[\"Supplier A\",\"Supplier B\",\"Supplier C\"],\"xaxis\":\"x\",\"y\":[12,8,14],\"yaxis\":\"y\",\"type\":\"bar\"},{\"alignmentgroup\":\"True\",\"hovertemplate\":\"maturity=Late<br>suppliername=%{x}<br>count=%{y}<extra></extra>\",\"legendgroup\":\"Late\",\"marker\":{\"color\":\"#EF553B\",\"pattern\":{\"shape\":\"\"}},\"name\":\"Late\",\"offsetgroup\":\"Late\",\"orientation\":\"v\",\"showlegend\":true,\"textposition\":\"auto\",\"texttemplate\":\"%{y}\",\"x\":[\"Supplier A\",\"Supplier B\",\"Supplier C\"],\"xaxis\":\"x\",\"y\":[12,12,11],\"yaxis\":\"y\",\"type\":\"bar\"},{\"alignmentgroup\":\"True\",\"hovertemplate\":\"maturity=Mid<br>suppliername=%{x}<br>count=%{y}<extra></extra>\",\"legendgroup\":\"Mid\",\"marker\":{\"color\":\"#00cc96\",\"pattern\":{\"shape\":\"\"}},\"name\":\"Mid\",\"offsetgroup\":\"Mid\",\"orientation\":\"v\",\"showlegend\":true,\"textposition\":\"auto\",\"texttemplate\":\"%{y}\",\"x\":[\"Supplier A\",\"Supplier B\",\"Supplier C\"],\"xaxis\":\"x\",\"y\":[12,8,11],\"yaxis\":\"y\",\"type\":\"bar\"}],                        {\"template\":{\"data\":{\"histogram2dcontour\":[{\"type\":\"histogram2dcontour\",\"colorbar\":{\"outlinewidth\":0,\"ticks\":\"\"},\"colorscale\":[[0.0,\"#0d0887\"],[0.1111111111111111,\"#46039f\"],[0.2222222222222222,\"#7201a8\"],[0.3333333333333333,\"#9c179e\"],[0.4444444444444444,\"#bd3786\"],[0.5555555555555556,\"#d8576b\"],[0.6666666666666666,\"#ed7953\"],[0.7777777777777778,\"#fb9f3a\"],[0.8888888888888888,\"#fdca26\"],[1.0,\"#f0f921\"]]}],\"choropleth\":[{\"type\":\"choropleth\",\"colorbar\":{\"outlinewidth\":0,\"ticks\":\"\"}}],\"histogram2d\":[{\"type\":\"histogram2d\",\"colorbar\":{\"outlinewidth\":0,\"ticks\":\"\"},\"colorscale\":[[0.0,\"#0d0887\"],[0.1111111111111111,\"#46039f\"],[0.2222222222222222,\"#7201a8\"],[0.3333333333333333,\"#9c179e\"],[0.4444444444444444,\"#bd3786\"],[0.5555555555555556,\"#d8576b\"],[0.6666666666666666,\"#ed7953\"],[0.7777777777777778,\"#fb9f3a\"],[0.8888888888888888,\"#fdca26\"],[1.0,\"#f0f921\"]]}],\"heatmap\":[{\"type\":\"heatmap\",\"colorbar\":{\"outlinewidth\":0,\"ticks\":\"\"},\"colorscale\":[[0.0,\"#0d0887\"],[0.1111111111111111,\"#46039f\"],[0.2222222222222222,\"#7201a8\"],[0.3333333333333333,\"#9c179e\"],[0.4444444444444444,\"#bd3786\"],[0.5555555555555556,\"#d8576b\"],[0.6666666666666666,\"#ed7953\"],[0.7777777777777778,\"#fb9f3a\"],[0.8888888888888888,\"#fdca26\"],[1.0,\"#f0f921\"]]}],\"heatmapgl\":[{\"type\":\"heatmapgl\",\"colorbar\":{\"outlinewidth\":0,\"ticks\":\"\"},\"colorscale\":[[0.0,\"#0d0887\"],[0.1111111111111111,\"#46039f\"],[0.2222222222222222,\"#7201a8\"],[0.3333333333333333,\"#9c179e\"],[0.4444444444444444,\"#bd3786\"],[0.5555555555555556,\"#d8576b\"],[0.6666666666666666,\"#ed7953\"],[0.7777777777777778,\"#fb9f3a\"],[0.8888888888888888,\"#fdca26\"],[1.0,\"#f0f921\"]]}],\"contourcarpet\":[{\"type\":\"contourcarpet\",\"colorbar\":{\"outlinewidth\":0,\"ticks\":\"\"}}],\"contour\":[{\"type\":\"contour\",\"colorbar\":{\"outlinewidth\":0,\"ticks\":\"\"},\"colorscale\":[[0.0,\"#0d0887\"],[0.1111111111111111,\"#46039f\"],[0.2222222222222222,\"#7201a8\"],[0.3333333333333333,\"#9c179e\"],[0.4444444444444444,\"#bd3786\"],[0.5555555555555556,\"#d8576b\"],[0.6666666666666666,\"#ed7953\"],[0.7777777777777778,\"#fb9f3a\"],[0.8888888888888888,\"#fdca26\"],[1.0,\"#f0f921\"]]}],\"surface\":[{\"type\":\"surface\",\"colorbar\":{\"outlinewidth\":0,\"ticks\":\"\"},\"colorscale\":[[0.0,\"#0d0887\"],[0.1111111111111111,\"#46039f\"],[0.2222222222222222,\"#7201a8\"],[0.3333333333333333,\"#9c179e\"],[0.4444444444444444,\"#bd3786\"],[0.5555555555555556,\"#d8576b\"],[0.6666666666666666,\"#ed7953\"],[0.7777777777777778,\"#fb9f3a\"],[0.8888888888888888,\"#fdca26\"],[1.0,\"#f0f921\"]]}],\"mesh3d\":[{\"type\":\"mesh3d\",\"colorbar\":{\"outlinewidth\":0,\"ticks\":\"\"}}],\"scatter\":[{\"fillpattern\":{\"fillmode\":\"overlay\",\"size\":10,\"solidity\":0.2},\"type\":\"scatter\"}],\"parcoords\":[{\"type\":\"parcoords\",\"line\":{\"colorbar\":{\"outlinewidth\":0,\"ticks\":\"\"}}}],\"scatterpolargl\":[{\"type\":\"scatterpolargl\",\"marker\":{\"colorbar\":{\"outlinewidth\":0,\"ticks\":\"\"}}}],\"bar\":[{\"error_x\":{\"color\":\"#2a3f5f\"},\"error_y\":{\"color\":\"#2a3f5f\"},\"marker\":{\"line\":{\"color\":\"#E5ECF6\",\"width\":0.5},\"pattern\":{\"fillmode\":\"overlay\",\"size\":10,\"solidity\":0.2}},\"type\":\"bar\"}],\"scattergeo\":[{\"type\":\"scattergeo\",\"marker\":{\"colorbar\":{\"outlinewidth\":0,\"ticks\":\"\"}}}],\"scatterpolar\":[{\"type\":\"scatterpolar\",\"marker\":{\"colorbar\":{\"outlinewidth\":0,\"ticks\":\"\"}}}],\"histogram\":[{\"marker\":{\"pattern\":{\"fillmode\":\"overlay\",\"size\":10,\"solidity\":0.2}},\"type\":\"histogram\"}],\"scattergl\":[{\"type\":\"scattergl\",\"marker\":{\"colorbar\":{\"outlinewidth\":0,\"ticks\":\"\"}}}],\"scatter3d\":[{\"type\":\"scatter3d\",\"line\":{\"colorbar\":{\"outlinewidth\":0,\"ticks\":\"\"}},\"marker\":{\"colorbar\":{\"outlinewidth\":0,\"ticks\":\"\"}}}],\"scattermapbox\":[{\"type\":\"scattermapbox\",\"marker\":{\"colorbar\":{\"outlinewidth\":0,\"ticks\":\"\"}}}],\"scatterternary\":[{\"type\":\"scatterternary\",\"marker\":{\"colorbar\":{\"outlinewidth\":0,\"ticks\":\"\"}}}],\"scattercarpet\":[{\"type\":\"scattercarpet\",\"marker\":{\"colorbar\":{\"outlinewidth\":0,\"ticks\":\"\"}}}],\"carpet\":[{\"aaxis\":{\"endlinecolor\":\"#2a3f5f\",\"gridcolor\":\"white\",\"linecolor\":\"white\",\"minorgridcolor\":\"white\",\"startlinecolor\":\"#2a3f5f\"},\"baxis\":{\"endlinecolor\":\"#2a3f5f\",\"gridcolor\":\"white\",\"linecolor\":\"white\",\"minorgridcolor\":\"white\",\"startlinecolor\":\"#2a3f5f\"},\"type\":\"carpet\"}],\"table\":[{\"cells\":{\"fill\":{\"color\":\"#EBF0F8\"},\"line\":{\"color\":\"white\"}},\"header\":{\"fill\":{\"color\":\"#C8D4E3\"},\"line\":{\"color\":\"white\"}},\"type\":\"table\"}],\"barpolar\":[{\"marker\":{\"line\":{\"color\":\"#E5ECF6\",\"width\":0.5},\"pattern\":{\"fillmode\":\"overlay\",\"size\":10,\"solidity\":0.2}},\"type\":\"barpolar\"}],\"pie\":[{\"automargin\":true,\"type\":\"pie\"}]},\"layout\":{\"autotypenumbers\":\"strict\",\"colorway\":[\"#636efa\",\"#EF553B\",\"#00cc96\",\"#ab63fa\",\"#FFA15A\",\"#19d3f3\",\"#FF6692\",\"#B6E880\",\"#FF97FF\",\"#FECB52\"],\"font\":{\"color\":\"#2a3f5f\"},\"hovermode\":\"closest\",\"hoverlabel\":{\"align\":\"left\"},\"paper_bgcolor\":\"white\",\"plot_bgcolor\":\"#E5ECF6\",\"polar\":{\"bgcolor\":\"#E5ECF6\",\"angularaxis\":{\"gridcolor\":\"white\",\"linecolor\":\"white\",\"ticks\":\"\"},\"radialaxis\":{\"gridcolor\":\"white\",\"linecolor\":\"white\",\"ticks\":\"\"}},\"ternary\":{\"bgcolor\":\"#E5ECF6\",\"aaxis\":{\"gridcolor\":\"white\",\"linecolor\":\"white\",\"ticks\":\"\"},\"baxis\":{\"gridcolor\":\"white\",\"linecolor\":\"white\",\"ticks\":\"\"},\"caxis\":{\"gridcolor\":\"white\",\"linecolor\":\"white\",\"ticks\":\"\"}},\"coloraxis\":{\"colorbar\":{\"outlinewidth\":0,\"ticks\":\"\"}},\"colorscale\":{\"sequential\":[[0.0,\"#0d0887\"],[0.1111111111111111,\"#46039f\"],[0.2222222222222222,\"#7201a8\"],[0.3333333333333333,\"#9c179e\"],[0.4444444444444444,\"#bd3786\"],[0.5555555555555556,\"#d8576b\"],[0.6666666666666666,\"#ed7953\"],[0.7777777777777778,\"#fb9f3a\"],[0.8888888888888888,\"#fdca26\"],[1.0,\"#f0f921\"]],\"sequentialminus\":[[0.0,\"#0d0887\"],[0.1111111111111111,\"#46039f\"],[0.2222222222222222,\"#7201a8\"],[0.3333333333333333,\"#9c179e\"],[0.4444444444444444,\"#bd3786\"],[0.5555555555555556,\"#d8576b\"],[0.6666666666666666,\"#ed7953\"],[0.7777777777777778,\"#fb9f3a\"],[0.8888888888888888,\"#fdca26\"],[1.0,\"#f0f921\"]],\"diverging\":[[0,\"#8e0152\"],[0.1,\"#c51b7d\"],[0.2,\"#de77ae\"],[0.3,\"#f1b6da\"],[0.4,\"#fde0ef\"],[0.5,\"#f7f7f7\"],[0.6,\"#e6f5d0\"],[0.7,\"#b8e186\"],[0.8,\"#7fbc41\"],[0.9,\"#4d9221\"],[1,\"#276419\"]]},\"xaxis\":{\"gridcolor\":\"white\",\"linecolor\":\"white\",\"ticks\":\"\",\"title\":{\"standoff\":15},\"zerolinecolor\":\"white\",\"automargin\":true,\"zerolinewidth\":2},\"yaxis\":{\"gridcolor\":\"white\",\"linecolor\":\"white\",\"ticks\":\"\",\"title\":{\"standoff\":15},\"zerolinecolor\":\"white\",\"automargin\":true,\"zerolinewidth\":2},\"scene\":{\"xaxis\":{\"backgroundcolor\":\"#E5ECF6\",\"gridcolor\":\"white\",\"linecolor\":\"white\",\"showbackground\":true,\"ticks\":\"\",\"zerolinecolor\":\"white\",\"gridwidth\":2},\"yaxis\":{\"backgroundcolor\":\"#E5ECF6\",\"gridcolor\":\"white\",\"linecolor\":\"white\",\"showbackground\":true,\"ticks\":\"\",\"zerolinecolor\":\"white\",\"gridwidth\":2},\"zaxis\":{\"backgroundcolor\":\"#E5ECF6\",\"gridcolor\":\"white\",\"linecolor\":\"white\",\"showbackground\":true,\"ticks\":\"\",\"zerolinecolor\":\"white\",\"gridwidth\":2}},\"shapedefaults\":{\"line\":{\"color\":\"#2a3f5f\"}},\"annotationdefaults\":{\"arrowcolor\":\"#2a3f5f\",\"arrowhead\":0,\"arrowwidth\":1},\"geo\":{\"bgcolor\":\"white\",\"landcolor\":\"#E5ECF6\",\"subunitcolor\":\"white\",\"showland\":true,\"showlakes\":true,\"lakecolor\":\"white\"},\"title\":{\"x\":0.05},\"mapbox\":{\"style\":\"light\"}}},\"xaxis\":{\"anchor\":\"y\",\"domain\":[0.0,1.0],\"title\":{\"text\":\"suppliername\"}},\"yaxis\":{\"anchor\":\"x\",\"domain\":[0.0,1.0],\"title\":{\"text\":\"count\"}},\"legend\":{\"title\":{\"text\":\"maturity\"},\"tracegroupgap\":0},\"margin\":{\"t\":60},\"barmode\":\"group\"},                        {\"responsive\": true}                    ).then(function(){\n",
       "                            \n",
       "var gd = document.getElementById('34635afe-4757-47f0-88a2-1e8dc84e00cb');\n",
       "var x = new MutationObserver(function (mutations, observer) {{\n",
       "        var display = window.getComputedStyle(gd).display;\n",
       "        if (!display || display === 'none') {{\n",
       "            console.log([gd, 'removed!']);\n",
       "            Plotly.purge(gd);\n",
       "            observer.disconnect();\n",
       "        }}\n",
       "}});\n",
       "\n",
       "// Listen for the removal of the full notebook cells\n",
       "var notebookContainer = gd.closest('#notebook-container');\n",
       "if (notebookContainer) {{\n",
       "    x.observe(notebookContainer, {childList: true});\n",
       "}}\n",
       "\n",
       "// Listen for the clearing of the current output cell\n",
       "var outputEl = gd.closest('.output');\n",
       "if (outputEl) {{\n",
       "    x.observe(outputEl, {childList: true});\n",
       "}}\n",
       "\n",
       "                        })                };                });            </script>        </div>"
      ]
     },
     "metadata": {},
     "output_type": "display_data"
    }
   ],
   "source": [
    "import pandas as pd\n",
    "import plotly.express as px\n",
    "\n",
    "# Create a DataFrame from the d_metadata dictionary\n",
    "df = pd.DataFrame.from_dict(d_metadata)\n",
    "\n",
    "# Group the DataFrame by suppliername and maturity and count the number of entries in each group\n",
    "grouped_df = df.groupby(['suppliername', 'maturity']).size().reset_index(name='count')\n",
    "\n",
    "# Create a bar plot using Plotly\n",
    "fig = px.bar(grouped_df, x='suppliername', y='count', color='maturity', barmode='group', text_auto=True)\n",
    "\n",
    "# Show the plot\n",
    "fig.show()\n"
   ]
  },
  {
   "cell_type": "code",
   "execution_count": 80,
   "metadata": {},
   "outputs": [
    {
     "name": "stdout",
     "output_type": "stream",
     "text": [
      "20230314121340BDF50DD1545CC60F72AA\n",
      "b'{\"code\":9499,\"msg\":\"Bad Request\",\"data\":{}}'\n"
     ]
    }
   ],
   "source": [
    "import requests\n",
    "from requests_toolbelt import MultipartEncoder\n",
    "# enter pip install requests_toolbelt to install dependent libraries\n",
    "def uploadImage():\n",
    "    url = \"https://open.larksuite.com/open-apis/bot/v2/hook/e8838178-2b69-49c0-b24e-006901b4b650\"\n",
    "    form = {'image_type': 'message',\n",
    "            'image': (open('newplot.png', 'rb'))}  # 需要替换具体的path \n",
    "    multi_form = MultipartEncoder(form)\n",
    "    # headers = {\n",
    "    #     'Authorization': 'Bearer t-xxx',  ## 获取tenant_access_token, 需要替换为实际的token\n",
    "    # }\n",
    "    # headers['Content-Type'] = multi_form.content_type\n",
    "    response = requests.request(\"POST\", url,  data=multi_form)\n",
    "    print(response.headers['X-Tt-Logid'])  # for debug or oncall\n",
    "    print(response.content)  # Print Response\n",
    "\n",
    "uploadImage()"
   ]
  },
  {
   "cell_type": "code",
   "execution_count": 88,
   "metadata": {},
   "outputs": [
    {
     "name": "stdout",
     "output_type": "stream",
     "text": [
      "+--------+-------+\n",
      "|  Item  | Count |\n",
      "+--------+-------+\n",
      "| orange |   5   |\n",
      "| apple  |   3   |\n",
      "| banana |   2   |\n",
      "|  kiwi  |   1   |\n",
      "+--------+-------+\n"
     ]
    }
   ],
   "source": [
    "from collections import Counter\n",
    "from prettytable import PrettyTable\n",
    "\n",
    "my_dict = {'apple': 3, 'banana': 2, 'orange': 5, 'kiwi': 1}\n",
    "\n",
    "# Convert the dictionary to a list of tuples sorted by descending order of counts\n",
    "my_list = sorted(my_dict.items(), key=lambda x: x[1], reverse=True)\n",
    "\n",
    "# Create a pretty table with two columns: item and count\n",
    "table = PrettyTable(['Item', 'Count'])\n",
    "\n",
    "# Add the rows to the table\n",
    "for item, count in my_list:\n",
    "    table.add_row([item, count])\n",
    "\n",
    "# Print the table to the terminal\n",
    "print(table)\n"
   ]
  },
  {
   "cell_type": "code",
   "execution_count": 91,
   "metadata": {},
   "outputs": [
    {
     "name": "stdout",
     "output_type": "stream",
     "text": [
      "|:-------|:------|\n",
      "| Item   | Count |\n",
      "| orange | 5     |\n",
      "| apple  | 3     |\n",
      "| banana | 2     |\n",
      "| kiwi   | 1     |\n"
     ]
    }
   ],
   "source": [
    "from collections import Counter\n",
    "from tabulate import tabulate\n",
    "\n",
    "my_dict = {'apple': 3, 'banana': 2, 'orange': 5, 'kiwi': 1}\n",
    "\n",
    "# Convert the dictionary to a list of tuples sorted by descending order of counts\n",
    "my_list = sorted(my_dict.items(), key=lambda x: x[1], reverse=True)\n",
    "\n",
    "# Create a list of lists representing the table data\n",
    "table_data = [['Item', 'Count']]\n",
    "for item, count in my_list:\n",
    "    table_data.append([item, count])\n",
    "\n",
    "# Format the table as Markdown\n",
    "table_md = tabulate(table_data, tablefmt='pipe')\n",
    "\n",
    "# Print the table to the console\n",
    "print(table_md)\n"
   ]
  },
  {
   "cell_type": "code",
   "execution_count": 113,
   "metadata": {},
   "outputs": [
    {
     "name": "stdout",
     "output_type": "stream",
     "text": [
      "          Count\n",
      "---------------\n",
      "asd        125 ||||||||||||||||||\n",
      "MEte       423 ||||||||||||||||||||||\n",
      "asddas     227 ||||||||||||||||||||\n",
      "asdsaddas  322 |||||||||||||||||||||\n",
      "asda        51 |||||||||||||||\n",
      "asdf      1023 ||||||||||||||||||||||||||\n"
     ]
    }
   ],
   "source": [
    "import math\n",
    "\n",
    "my_data = [125, 423, 227, 322, 51, 1023]\n",
    "key = ['asd', 'MEte', 'asddas', 'asdsaddas', 'asda', 'asdf']\n",
    "\n",
    "# Calculate the maximum value in the data\n",
    "max_value = max(my_data)\n",
    "\n",
    "# Calculate the logarithmic scale factor for the diagram\n",
    "scale_factor = 25 / math.log(max_value)\n",
    "\n",
    "# Calculate the maximum label length\n",
    "max_label_len = max(len(label) for label in key)\n",
    "\n",
    "# Create a list of strings representing the diagram\n",
    "diagram = []\n",
    "for idx, value in enumerate(my_data):\n",
    "    label = key[idx].ljust(max_label_len)\n",
    "    bar_length = int(math.log(value) * scale_factor)\n",
    "    bar = \"|\" * bar_length\n",
    "    diagram.append(f\"{label} {value:>4} |{bar}\")\n",
    "    \n",
    "# Create a header for the diagram\n",
    "header = \" \" * (max_label_len + 1) + \"Count\"\n",
    "line = \"-\" * len(header)\n",
    "diagram.insert(0, header)\n",
    "diagram.insert(1, line)\n",
    "\n",
    "# Join the diagram strings into a single multi-line string\n",
    "diagram_str = \"\\n\".join(diagram)\n",
    "\n",
    "# Print the diagram to the console\n",
    "print(diagram_str)\n"
   ]
  },
  {
   "cell_type": "code",
   "execution_count": 115,
   "metadata": {},
   "outputs": [
    {
     "name": "stdout",
     "output_type": "stream",
     "text": [
      "asd  █████████████████\n",
      "MEte █████████████████████\n",
      "asdd ███████████████████\n",
      "asds ████████████████████\n",
      "asda ██████████████\n",
      "asdf █████████████████████████\n"
     ]
    }
   ],
   "source": [
    "import math\n",
    "\n",
    "my_data = [125, 423, 227, 322, 51, 1023]\n",
    "key = ['asd', 'MEte', 'asddas', 'asdsaddas', 'asda', 'asdf']\n",
    "\n",
    "# Calculate the maximum value in the data\n",
    "max_value = max(my_data)\n",
    "\n",
    "# Calculate the logarithmic scale factor for the diagram\n",
    "scale_factor = 25 / math.log(max_value)\n",
    "\n",
    "# Create a list of strings representing the diagram\n",
    "diagram = []\n",
    "for idx, value in enumerate(my_data):\n",
    "    label = key[idx][:4].ljust(4)\n",
    "    bar_length = int(math.log(value) * scale_factor)\n",
    "    bar = \"█\" * bar_length\n",
    "    diagram.append(f\"{label} {bar}\")\n",
    "    \n",
    "# Join the diagram strings into a single multi-line string\n",
    "diagram_str = \"\\n\".join(diagram)\n",
    "\n",
    "# Print the diagram to the console\n",
    "print(diagram_str)\n"
   ]
  },
  {
   "cell_type": "code",
   "execution_count": 111,
   "metadata": {},
   "outputs": [
    {
     "name": "stdout",
     "output_type": "stream",
     "text": [
      "1023 |||||||||||||||||||||||||\n",
      "  51 ||||||||||||||\n",
      " 322 ||||||||||||||||||||\n",
      " 227 |||||||||||||||||||\n",
      " 423 |||||||||||||||||||||\n",
      " 125 |||||||||||||||||\n"
     ]
    }
   ],
   "source": [
    "import math\n",
    "\n",
    "my_data = [125, 423, 227, 322, 51, 1023]\n",
    "\n",
    "# Calculate the maximum value in the data\n",
    "max_value = max(my_data)\n",
    "\n",
    "# Calculate the logarithmic scale factor for the diagram\n",
    "scale_factor = 25 / math.log(max_value)\n",
    "\n",
    "# Create a list of strings representing the diagram\n",
    "diagram = []\n",
    "for value in my_data:\n",
    "    bar_length = int(math.log(value) * scale_factor)\n",
    "    bar = \"|\" * bar_length\n",
    "    diagram.append(f\"{value:>4} {bar[::-1]}\")\n",
    "\n",
    "# Reverse the order of the strings and join them into a single multi-line string\n",
    "diagram_str = \"\\n\".join(reversed(diagram))\n",
    "\n",
    "# Print the diagram to the console\n",
    "print(diagram_str)\n"
   ]
  },
  {
   "cell_type": "code",
   "execution_count": 116,
   "metadata": {},
   "outputs": [
    {
     "data": {
      "text/plain": [
       "<Response [200]>"
      ]
     },
     "execution_count": 116,
     "metadata": {},
     "output_type": "execute_result"
    }
   ],
   "source": [
    "requests.post(\n",
    "    url=\"https://open.larksuite.com/open-apis/bot/v2/hook/e8838178-2b69-49c0-b24e-006901b4b650\",\n",
    "    json={\n",
    "    \"msg_type\": \"text\",\n",
    "    \"content\": {\n",
    "        \"text\":  f\"\"\"\n",
    "{diagram_str}\n",
    "        \"\"\"\n",
    "            }\n",
    "        } \n",
    "    )"
   ]
  },
  {
   "cell_type": "code",
   "execution_count": 82,
   "metadata": {},
   "outputs": [
    {
     "ename": "TypeError",
     "evalue": "Object of type BufferedReader is not JSON serializable",
     "output_type": "error",
     "traceback": [
      "\u001b[0;31m---------------------------------------------------------------------------\u001b[0m",
      "\u001b[0;31mTypeError\u001b[0m                                 Traceback (most recent call last)",
      "Cell \u001b[0;32mIn [82], line 1\u001b[0m\n\u001b[0;32m----> 1\u001b[0m requests\u001b[39m.\u001b[39mpost(\n\u001b[1;32m      2\u001b[0m     url\u001b[39m=\u001b[39m\u001b[39m\"\u001b[39m\u001b[39mhttps://open.larksuite.com/open-apis/bot/v2/hook/e8838178-2b69-49c0-b24e-006901b4b650\u001b[39m\u001b[39m\"\u001b[39m,\n\u001b[1;32m      3\u001b[0m     json\u001b[39m=\u001b[39m{\n\u001b[1;32m      4\u001b[0m     \u001b[39m\"\u001b[39m\u001b[39mmsg_type\u001b[39m\u001b[39m\"\u001b[39m: \u001b[39m\"\u001b[39m\u001b[39mimage\u001b[39m\u001b[39m\"\u001b[39m,\n\u001b[1;32m      5\u001b[0m     \u001b[39m\"\u001b[39m\u001b[39mcontent\u001b[39m\u001b[39m\"\u001b[39m: {\n\u001b[1;32m      6\u001b[0m         \u001b[39m\"\u001b[39m\u001b[39mimage\u001b[39m\u001b[39m\"\u001b[39m: \u001b[39mopen\u001b[39m(\u001b[39m'\u001b[39m\u001b[39mnewplot.png\u001b[39m\u001b[39m'\u001b[39m, \u001b[39m'\u001b[39m\u001b[39mrb\u001b[39m\u001b[39m'\u001b[39m)\n\u001b[1;32m      7\u001b[0m             }\n\u001b[1;32m      8\u001b[0m         } \n\u001b[1;32m      9\u001b[0m     )\n",
      "File \u001b[0;32m~/.conda/envs/clearml-task/lib/python3.10/site-packages/requests/api.py:115\u001b[0m, in \u001b[0;36mpost\u001b[0;34m(url, data, json, **kwargs)\u001b[0m\n\u001b[1;32m    103\u001b[0m \u001b[39mdef\u001b[39;00m \u001b[39mpost\u001b[39m(url, data\u001b[39m=\u001b[39m\u001b[39mNone\u001b[39;00m, json\u001b[39m=\u001b[39m\u001b[39mNone\u001b[39;00m, \u001b[39m*\u001b[39m\u001b[39m*\u001b[39mkwargs):\n\u001b[1;32m    104\u001b[0m     \u001b[39mr\u001b[39m\u001b[39m\"\"\"Sends a POST request.\u001b[39;00m\n\u001b[1;32m    105\u001b[0m \n\u001b[1;32m    106\u001b[0m \u001b[39m    :param url: URL for the new :class:`Request` object.\u001b[39;00m\n\u001b[0;32m   (...)\u001b[0m\n\u001b[1;32m    112\u001b[0m \u001b[39m    :rtype: requests.Response\u001b[39;00m\n\u001b[1;32m    113\u001b[0m \u001b[39m    \"\"\"\u001b[39;00m\n\u001b[0;32m--> 115\u001b[0m     \u001b[39mreturn\u001b[39;00m request(\u001b[39m\"\u001b[39;49m\u001b[39mpost\u001b[39;49m\u001b[39m\"\u001b[39;49m, url, data\u001b[39m=\u001b[39;49mdata, json\u001b[39m=\u001b[39;49mjson, \u001b[39m*\u001b[39;49m\u001b[39m*\u001b[39;49mkwargs)\n",
      "File \u001b[0;32m~/.conda/envs/clearml-task/lib/python3.10/site-packages/requests/api.py:59\u001b[0m, in \u001b[0;36mrequest\u001b[0;34m(method, url, **kwargs)\u001b[0m\n\u001b[1;32m     55\u001b[0m \u001b[39m# By using the 'with' statement we are sure the session is closed, thus we\u001b[39;00m\n\u001b[1;32m     56\u001b[0m \u001b[39m# avoid leaving sockets open which can trigger a ResourceWarning in some\u001b[39;00m\n\u001b[1;32m     57\u001b[0m \u001b[39m# cases, and look like a memory leak in others.\u001b[39;00m\n\u001b[1;32m     58\u001b[0m \u001b[39mwith\u001b[39;00m sessions\u001b[39m.\u001b[39mSession() \u001b[39mas\u001b[39;00m session:\n\u001b[0;32m---> 59\u001b[0m     \u001b[39mreturn\u001b[39;00m session\u001b[39m.\u001b[39;49mrequest(method\u001b[39m=\u001b[39;49mmethod, url\u001b[39m=\u001b[39;49murl, \u001b[39m*\u001b[39;49m\u001b[39m*\u001b[39;49mkwargs)\n",
      "File \u001b[0;32m~/.conda/envs/clearml-task/lib/python3.10/site-packages/requests/sessions.py:573\u001b[0m, in \u001b[0;36mSession.request\u001b[0;34m(self, method, url, params, data, headers, cookies, files, auth, timeout, allow_redirects, proxies, hooks, stream, verify, cert, json)\u001b[0m\n\u001b[1;32m    560\u001b[0m \u001b[39m# Create the Request.\u001b[39;00m\n\u001b[1;32m    561\u001b[0m req \u001b[39m=\u001b[39m Request(\n\u001b[1;32m    562\u001b[0m     method\u001b[39m=\u001b[39mmethod\u001b[39m.\u001b[39mupper(),\n\u001b[1;32m    563\u001b[0m     url\u001b[39m=\u001b[39murl,\n\u001b[0;32m   (...)\u001b[0m\n\u001b[1;32m    571\u001b[0m     hooks\u001b[39m=\u001b[39mhooks,\n\u001b[1;32m    572\u001b[0m )\n\u001b[0;32m--> 573\u001b[0m prep \u001b[39m=\u001b[39m \u001b[39mself\u001b[39;49m\u001b[39m.\u001b[39;49mprepare_request(req)\n\u001b[1;32m    575\u001b[0m proxies \u001b[39m=\u001b[39m proxies \u001b[39mor\u001b[39;00m {}\n\u001b[1;32m    577\u001b[0m settings \u001b[39m=\u001b[39m \u001b[39mself\u001b[39m\u001b[39m.\u001b[39mmerge_environment_settings(\n\u001b[1;32m    578\u001b[0m     prep\u001b[39m.\u001b[39murl, proxies, stream, verify, cert\n\u001b[1;32m    579\u001b[0m )\n",
      "File \u001b[0;32m~/.conda/envs/clearml-task/lib/python3.10/site-packages/requests/sessions.py:484\u001b[0m, in \u001b[0;36mSession.prepare_request\u001b[0;34m(self, request)\u001b[0m\n\u001b[1;32m    481\u001b[0m     auth \u001b[39m=\u001b[39m get_netrc_auth(request\u001b[39m.\u001b[39murl)\n\u001b[1;32m    483\u001b[0m p \u001b[39m=\u001b[39m PreparedRequest()\n\u001b[0;32m--> 484\u001b[0m p\u001b[39m.\u001b[39;49mprepare(\n\u001b[1;32m    485\u001b[0m     method\u001b[39m=\u001b[39;49mrequest\u001b[39m.\u001b[39;49mmethod\u001b[39m.\u001b[39;49mupper(),\n\u001b[1;32m    486\u001b[0m     url\u001b[39m=\u001b[39;49mrequest\u001b[39m.\u001b[39;49murl,\n\u001b[1;32m    487\u001b[0m     files\u001b[39m=\u001b[39;49mrequest\u001b[39m.\u001b[39;49mfiles,\n\u001b[1;32m    488\u001b[0m     data\u001b[39m=\u001b[39;49mrequest\u001b[39m.\u001b[39;49mdata,\n\u001b[1;32m    489\u001b[0m     json\u001b[39m=\u001b[39;49mrequest\u001b[39m.\u001b[39;49mjson,\n\u001b[1;32m    490\u001b[0m     headers\u001b[39m=\u001b[39;49mmerge_setting(\n\u001b[1;32m    491\u001b[0m         request\u001b[39m.\u001b[39;49mheaders, \u001b[39mself\u001b[39;49m\u001b[39m.\u001b[39;49mheaders, dict_class\u001b[39m=\u001b[39;49mCaseInsensitiveDict\n\u001b[1;32m    492\u001b[0m     ),\n\u001b[1;32m    493\u001b[0m     params\u001b[39m=\u001b[39;49mmerge_setting(request\u001b[39m.\u001b[39;49mparams, \u001b[39mself\u001b[39;49m\u001b[39m.\u001b[39;49mparams),\n\u001b[1;32m    494\u001b[0m     auth\u001b[39m=\u001b[39;49mmerge_setting(auth, \u001b[39mself\u001b[39;49m\u001b[39m.\u001b[39;49mauth),\n\u001b[1;32m    495\u001b[0m     cookies\u001b[39m=\u001b[39;49mmerged_cookies,\n\u001b[1;32m    496\u001b[0m     hooks\u001b[39m=\u001b[39;49mmerge_hooks(request\u001b[39m.\u001b[39;49mhooks, \u001b[39mself\u001b[39;49m\u001b[39m.\u001b[39;49mhooks),\n\u001b[1;32m    497\u001b[0m )\n\u001b[1;32m    498\u001b[0m \u001b[39mreturn\u001b[39;00m p\n",
      "File \u001b[0;32m~/.conda/envs/clearml-task/lib/python3.10/site-packages/requests/models.py:371\u001b[0m, in \u001b[0;36mPreparedRequest.prepare\u001b[0;34m(self, method, url, headers, files, data, params, auth, cookies, hooks, json)\u001b[0m\n\u001b[1;32m    369\u001b[0m \u001b[39mself\u001b[39m\u001b[39m.\u001b[39mprepare_headers(headers)\n\u001b[1;32m    370\u001b[0m \u001b[39mself\u001b[39m\u001b[39m.\u001b[39mprepare_cookies(cookies)\n\u001b[0;32m--> 371\u001b[0m \u001b[39mself\u001b[39;49m\u001b[39m.\u001b[39;49mprepare_body(data, files, json)\n\u001b[1;32m    372\u001b[0m \u001b[39mself\u001b[39m\u001b[39m.\u001b[39mprepare_auth(auth, url)\n\u001b[1;32m    374\u001b[0m \u001b[39m# Note that prepare_auth must be last to enable authentication schemes\u001b[39;00m\n\u001b[1;32m    375\u001b[0m \u001b[39m# such as OAuth to work on a fully prepared request.\u001b[39;00m\n\u001b[1;32m    376\u001b[0m \n\u001b[1;32m    377\u001b[0m \u001b[39m# This MUST go after prepare_auth. Authenticators could add a hook\u001b[39;00m\n",
      "File \u001b[0;32m~/.conda/envs/clearml-task/lib/python3.10/site-packages/requests/models.py:511\u001b[0m, in \u001b[0;36mPreparedRequest.prepare_body\u001b[0;34m(self, data, files, json)\u001b[0m\n\u001b[1;32m    508\u001b[0m content_type \u001b[39m=\u001b[39m \u001b[39m\"\u001b[39m\u001b[39mapplication/json\u001b[39m\u001b[39m\"\u001b[39m\n\u001b[1;32m    510\u001b[0m \u001b[39mtry\u001b[39;00m:\n\u001b[0;32m--> 511\u001b[0m     body \u001b[39m=\u001b[39m complexjson\u001b[39m.\u001b[39;49mdumps(json, allow_nan\u001b[39m=\u001b[39;49m\u001b[39mFalse\u001b[39;49;00m)\n\u001b[1;32m    512\u001b[0m \u001b[39mexcept\u001b[39;00m \u001b[39mValueError\u001b[39;00m \u001b[39mas\u001b[39;00m ve:\n\u001b[1;32m    513\u001b[0m     \u001b[39mraise\u001b[39;00m InvalidJSONError(ve, request\u001b[39m=\u001b[39m\u001b[39mself\u001b[39m)\n",
      "File \u001b[0;32m~/.conda/envs/clearml-task/lib/python3.10/json/__init__.py:238\u001b[0m, in \u001b[0;36mdumps\u001b[0;34m(obj, skipkeys, ensure_ascii, check_circular, allow_nan, cls, indent, separators, default, sort_keys, **kw)\u001b[0m\n\u001b[1;32m    232\u001b[0m \u001b[39mif\u001b[39;00m \u001b[39mcls\u001b[39m \u001b[39mis\u001b[39;00m \u001b[39mNone\u001b[39;00m:\n\u001b[1;32m    233\u001b[0m     \u001b[39mcls\u001b[39m \u001b[39m=\u001b[39m JSONEncoder\n\u001b[1;32m    234\u001b[0m \u001b[39mreturn\u001b[39;00m \u001b[39mcls\u001b[39;49m(\n\u001b[1;32m    235\u001b[0m     skipkeys\u001b[39m=\u001b[39;49mskipkeys, ensure_ascii\u001b[39m=\u001b[39;49mensure_ascii,\n\u001b[1;32m    236\u001b[0m     check_circular\u001b[39m=\u001b[39;49mcheck_circular, allow_nan\u001b[39m=\u001b[39;49mallow_nan, indent\u001b[39m=\u001b[39;49mindent,\n\u001b[1;32m    237\u001b[0m     separators\u001b[39m=\u001b[39;49mseparators, default\u001b[39m=\u001b[39;49mdefault, sort_keys\u001b[39m=\u001b[39;49msort_keys,\n\u001b[0;32m--> 238\u001b[0m     \u001b[39m*\u001b[39;49m\u001b[39m*\u001b[39;49mkw)\u001b[39m.\u001b[39;49mencode(obj)\n",
      "File \u001b[0;32m~/.conda/envs/clearml-task/lib/python3.10/json/encoder.py:199\u001b[0m, in \u001b[0;36mJSONEncoder.encode\u001b[0;34m(self, o)\u001b[0m\n\u001b[1;32m    195\u001b[0m         \u001b[39mreturn\u001b[39;00m encode_basestring(o)\n\u001b[1;32m    196\u001b[0m \u001b[39m# This doesn't pass the iterator directly to ''.join() because the\u001b[39;00m\n\u001b[1;32m    197\u001b[0m \u001b[39m# exceptions aren't as detailed.  The list call should be roughly\u001b[39;00m\n\u001b[1;32m    198\u001b[0m \u001b[39m# equivalent to the PySequence_Fast that ''.join() would do.\u001b[39;00m\n\u001b[0;32m--> 199\u001b[0m chunks \u001b[39m=\u001b[39m \u001b[39mself\u001b[39;49m\u001b[39m.\u001b[39;49miterencode(o, _one_shot\u001b[39m=\u001b[39;49m\u001b[39mTrue\u001b[39;49;00m)\n\u001b[1;32m    200\u001b[0m \u001b[39mif\u001b[39;00m \u001b[39mnot\u001b[39;00m \u001b[39misinstance\u001b[39m(chunks, (\u001b[39mlist\u001b[39m, \u001b[39mtuple\u001b[39m)):\n\u001b[1;32m    201\u001b[0m     chunks \u001b[39m=\u001b[39m \u001b[39mlist\u001b[39m(chunks)\n",
      "File \u001b[0;32m~/.conda/envs/clearml-task/lib/python3.10/json/encoder.py:257\u001b[0m, in \u001b[0;36mJSONEncoder.iterencode\u001b[0;34m(self, o, _one_shot)\u001b[0m\n\u001b[1;32m    252\u001b[0m \u001b[39melse\u001b[39;00m:\n\u001b[1;32m    253\u001b[0m     _iterencode \u001b[39m=\u001b[39m _make_iterencode(\n\u001b[1;32m    254\u001b[0m         markers, \u001b[39mself\u001b[39m\u001b[39m.\u001b[39mdefault, _encoder, \u001b[39mself\u001b[39m\u001b[39m.\u001b[39mindent, floatstr,\n\u001b[1;32m    255\u001b[0m         \u001b[39mself\u001b[39m\u001b[39m.\u001b[39mkey_separator, \u001b[39mself\u001b[39m\u001b[39m.\u001b[39mitem_separator, \u001b[39mself\u001b[39m\u001b[39m.\u001b[39msort_keys,\n\u001b[1;32m    256\u001b[0m         \u001b[39mself\u001b[39m\u001b[39m.\u001b[39mskipkeys, _one_shot)\n\u001b[0;32m--> 257\u001b[0m \u001b[39mreturn\u001b[39;00m _iterencode(o, \u001b[39m0\u001b[39;49m)\n",
      "File \u001b[0;32m~/.conda/envs/clearml-task/lib/python3.10/json/encoder.py:179\u001b[0m, in \u001b[0;36mJSONEncoder.default\u001b[0;34m(self, o)\u001b[0m\n\u001b[1;32m    160\u001b[0m \u001b[39mdef\u001b[39;00m \u001b[39mdefault\u001b[39m(\u001b[39mself\u001b[39m, o):\n\u001b[1;32m    161\u001b[0m     \u001b[39m\"\"\"Implement this method in a subclass such that it returns\u001b[39;00m\n\u001b[1;32m    162\u001b[0m \u001b[39m    a serializable object for ``o``, or calls the base implementation\u001b[39;00m\n\u001b[1;32m    163\u001b[0m \u001b[39m    (to raise a ``TypeError``).\u001b[39;00m\n\u001b[0;32m   (...)\u001b[0m\n\u001b[1;32m    177\u001b[0m \n\u001b[1;32m    178\u001b[0m \u001b[39m    \"\"\"\u001b[39;00m\n\u001b[0;32m--> 179\u001b[0m     \u001b[39mraise\u001b[39;00m \u001b[39mTypeError\u001b[39;00m(\u001b[39mf\u001b[39m\u001b[39m'\u001b[39m\u001b[39mObject of type \u001b[39m\u001b[39m{\u001b[39;00mo\u001b[39m.\u001b[39m\u001b[39m__class__\u001b[39m\u001b[39m.\u001b[39m\u001b[39m__name__\u001b[39m\u001b[39m}\u001b[39;00m\u001b[39m \u001b[39m\u001b[39m'\u001b[39m\n\u001b[1;32m    180\u001b[0m                     \u001b[39mf\u001b[39m\u001b[39m'\u001b[39m\u001b[39mis not JSON serializable\u001b[39m\u001b[39m'\u001b[39m)\n",
      "\u001b[0;31mTypeError\u001b[0m: Object of type BufferedReader is not JSON serializable"
     ]
    }
   ],
   "source": [
    "requests.post(\n",
    "    url=\"https://open.larksuite.com/open-apis/bot/v2/hook/e8838178-2b69-49c0-b24e-006901b4b650\",\n",
    "    json={\n",
    "    \"msg_type\": \"image\",\n",
    "    \"content\": {\n",
    "                \"image\": open('newplot.png', 'rb')\n",
    "            }\n",
    "        } \n",
    "    )"
   ]
  }
 ],
 "metadata": {
  "kernelspec": {
   "display_name": "clearml-task",
   "language": "python",
   "name": "python3"
  },
  "language_info": {
   "codemirror_mode": {
    "name": "ipython",
    "version": 3
   },
   "file_extension": ".py",
   "mimetype": "text/x-python",
   "name": "python",
   "nbconvert_exporter": "python",
   "pygments_lexer": "ipython3",
   "version": "3.10.4"
  },
  "orig_nbformat": 4,
  "vscode": {
   "interpreter": {
    "hash": "ba36c7a2ba5f7c9b23dc5bea081108fd1ea00a103930475a90b22d037c2ff72a"
   }
  }
 },
 "nbformat": 4,
 "nbformat_minor": 2
}
